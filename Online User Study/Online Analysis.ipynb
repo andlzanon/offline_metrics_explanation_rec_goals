{
 "cells": [
  {
   "cell_type": "markdown",
   "id": "727fd466",
   "metadata": {},
   "source": [
    "## Reading files"
   ]
  },
  {
   "cell_type": "code",
   "execution_count": 1,
   "id": "564c5b16",
   "metadata": {},
   "outputs": [],
   "source": [
    "import numpy as np\n",
    "import pandas as pd\n",
    "import seaborn as sns"
   ]
  },
  {
   "cell_type": "code",
   "execution_count": 2,
   "id": "0d8f3318",
   "metadata": {},
   "outputs": [],
   "source": [
    "results = pd.read_csv(\"./docs/selected.csv\")\n",
    "results = results.set_index(\"ID\")"
   ]
  },
  {
   "cell_type": "code",
   "execution_count": 3,
   "id": "07c40d38",
   "metadata": {},
   "outputs": [],
   "source": [
    "users = pd.read_csv(\"./docs/users.csv\")"
   ]
  },
  {
   "cell_type": "code",
   "execution_count": 4,
   "id": "06a39a3b",
   "metadata": {},
   "outputs": [],
   "source": [
    "expl1 = pd.read_csv(\"./docs/selected_expl1.csv\")\n",
    "expl2 = pd.read_csv(\"./docs/selected_expl2.csv\")\n",
    "expl = pd.concat([expl1, expl2])"
   ]
  },
  {
   "cell_type": "markdown",
   "id": "489ae7c6",
   "metadata": {},
   "source": [
    "## Analysis of user Questionnaire "
   ]
  },
  {
   "cell_type": "code",
   "execution_count": 5,
   "id": "9ce961d6",
   "metadata": {},
   "outputs": [
    {
     "data": {
      "application/vnd.microsoft.datawrangler.viewer.v0+json": {
       "columns": [
        {
         "name": "ID",
         "rawType": "object",
         "type": "string"
        },
        {
         "name": "commentjust",
         "rawType": "object",
         "type": "unknown"
        },
        {
         "name": "commentrec",
         "rawType": "object",
         "type": "unknown"
        },
        {
         "name": "convincing",
         "rawType": "object",
         "type": "string"
        },
        {
         "name": "discover",
         "rawType": "object",
         "type": "string"
        },
        {
         "name": "diverse_on_a",
         "rawType": "int64",
         "type": "integer"
        },
        {
         "name": "diversity",
         "rawType": "object",
         "type": "string"
        },
        {
         "name": "popularity",
         "rawType": "object",
         "type": "string"
        },
        {
         "name": "time",
         "rawType": "object",
         "type": "string"
        },
        {
         "name": "trust",
         "rawType": "object",
         "type": "string"
        },
        {
         "name": "understood",
         "rawType": "object",
         "type": "string"
        }
       ],
       "ref": "e4470ea9-9875-488d-88c8-9bf11cbce932",
       "rows": [
        [
         "4221f534-a566-4fe1-af3b-2e73067a521c",
         null,
         "\"I've already watched 4 of the 5 recommended movies, which means it has effectively understood my taste.\"",
         "More B",
         "Much More B",
         "0",
         "More A",
         "More B",
         "Tue Apr 18 2023 10:05:30 GMT-0300 (Brasilia Standard Time)",
         "More B",
         "More B"
        ],
        [
         "3cdae0e0-3b22-46f3-a286-f502d2115f80",
         null,
         null,
         "Much More A",
         "Much More A",
         "0",
         "Much More A",
         "Much More A",
         "Thu Apr 20 2023 16:28:55 GMT-0300 (Horário Padrão de Brasília)",
         "Much More A",
         "Much More A"
        ],
        [
         "8865717f-1ee0-4efb-a09b-e1173e28cf04",
         "\"If I consider 2 justifications, it seems it was only added some words to explain. It does not have the hability to provide a different justification.\"",
         "\"I did not like the recommendations \"",
         "Equal",
         "Equal",
         "1",
         "Equal",
         "Equal",
         "Thu Apr 13 2023 12:11:57 GMT-0300 (Horário Padrão de Brasília)",
         "Equal",
         "Equal"
        ],
        [
         "7d6d6774-c7b1-49c4-b4e4-c62bfd4588d1",
         null,
         null,
         "More B",
         "Equal",
         "0",
         "Much More B",
         "More A",
         "Sat Apr 22 2023 16:43:17 GMT-0300 (Horário Padrão de Brasília)",
         "More B",
         "More B"
        ],
        [
         "b4d1204b-42cf-4a56-b0f7-6813795a2923",
         null,
         null,
         "Equal",
         "Much More B",
         "1",
         "More A",
         "More A",
         "Sat Apr 22 2023 16:25:25 GMT-0300 (Horário Padrão de Brasília)",
         "More B",
         "More B"
        ]
       ],
       "shape": {
        "columns": 10,
        "rows": 5
       }
      },
      "text/html": [
       "<div>\n",
       "<style scoped>\n",
       "    .dataframe tbody tr th:only-of-type {\n",
       "        vertical-align: middle;\n",
       "    }\n",
       "\n",
       "    .dataframe tbody tr th {\n",
       "        vertical-align: top;\n",
       "    }\n",
       "\n",
       "    .dataframe thead th {\n",
       "        text-align: right;\n",
       "    }\n",
       "</style>\n",
       "<table border=\"1\" class=\"dataframe\">\n",
       "  <thead>\n",
       "    <tr style=\"text-align: right;\">\n",
       "      <th></th>\n",
       "      <th>commentjust</th>\n",
       "      <th>commentrec</th>\n",
       "      <th>convincing</th>\n",
       "      <th>discover</th>\n",
       "      <th>diverse_on_a</th>\n",
       "      <th>diversity</th>\n",
       "      <th>popularity</th>\n",
       "      <th>time</th>\n",
       "      <th>trust</th>\n",
       "      <th>understood</th>\n",
       "    </tr>\n",
       "    <tr>\n",
       "      <th>ID</th>\n",
       "      <th></th>\n",
       "      <th></th>\n",
       "      <th></th>\n",
       "      <th></th>\n",
       "      <th></th>\n",
       "      <th></th>\n",
       "      <th></th>\n",
       "      <th></th>\n",
       "      <th></th>\n",
       "      <th></th>\n",
       "    </tr>\n",
       "  </thead>\n",
       "  <tbody>\n",
       "    <tr>\n",
       "      <th>4221f534-a566-4fe1-af3b-2e73067a521c</th>\n",
       "      <td>NaN</td>\n",
       "      <td>\"I've already watched 4 of the 5 recommended m...</td>\n",
       "      <td>More B</td>\n",
       "      <td>Much More B</td>\n",
       "      <td>0</td>\n",
       "      <td>More A</td>\n",
       "      <td>More B</td>\n",
       "      <td>Tue Apr 18 2023 10:05:30 GMT-0300 (Brasilia St...</td>\n",
       "      <td>More B</td>\n",
       "      <td>More B</td>\n",
       "    </tr>\n",
       "    <tr>\n",
       "      <th>3cdae0e0-3b22-46f3-a286-f502d2115f80</th>\n",
       "      <td>NaN</td>\n",
       "      <td>NaN</td>\n",
       "      <td>Much More A</td>\n",
       "      <td>Much More A</td>\n",
       "      <td>0</td>\n",
       "      <td>Much More A</td>\n",
       "      <td>Much More A</td>\n",
       "      <td>Thu Apr 20 2023 16:28:55 GMT-0300 (Horário Pad...</td>\n",
       "      <td>Much More A</td>\n",
       "      <td>Much More A</td>\n",
       "    </tr>\n",
       "    <tr>\n",
       "      <th>8865717f-1ee0-4efb-a09b-e1173e28cf04</th>\n",
       "      <td>\"If I consider 2 justifications, it seems it w...</td>\n",
       "      <td>\"I did not like the recommendations \"</td>\n",
       "      <td>Equal</td>\n",
       "      <td>Equal</td>\n",
       "      <td>1</td>\n",
       "      <td>Equal</td>\n",
       "      <td>Equal</td>\n",
       "      <td>Thu Apr 13 2023 12:11:57 GMT-0300 (Horário Pad...</td>\n",
       "      <td>Equal</td>\n",
       "      <td>Equal</td>\n",
       "    </tr>\n",
       "    <tr>\n",
       "      <th>7d6d6774-c7b1-49c4-b4e4-c62bfd4588d1</th>\n",
       "      <td>NaN</td>\n",
       "      <td>NaN</td>\n",
       "      <td>More B</td>\n",
       "      <td>Equal</td>\n",
       "      <td>0</td>\n",
       "      <td>Much More B</td>\n",
       "      <td>More A</td>\n",
       "      <td>Sat Apr 22 2023 16:43:17 GMT-0300 (Horário Pad...</td>\n",
       "      <td>More B</td>\n",
       "      <td>More B</td>\n",
       "    </tr>\n",
       "    <tr>\n",
       "      <th>b4d1204b-42cf-4a56-b0f7-6813795a2923</th>\n",
       "      <td>NaN</td>\n",
       "      <td>NaN</td>\n",
       "      <td>Equal</td>\n",
       "      <td>Much More B</td>\n",
       "      <td>1</td>\n",
       "      <td>More A</td>\n",
       "      <td>More A</td>\n",
       "      <td>Sat Apr 22 2023 16:25:25 GMT-0300 (Horário Pad...</td>\n",
       "      <td>More B</td>\n",
       "      <td>More B</td>\n",
       "    </tr>\n",
       "  </tbody>\n",
       "</table>\n",
       "</div>"
      ],
      "text/plain": [
       "                                                                            commentjust  \\\n",
       "ID                                                                                        \n",
       "4221f534-a566-4fe1-af3b-2e73067a521c                                                NaN   \n",
       "3cdae0e0-3b22-46f3-a286-f502d2115f80                                                NaN   \n",
       "8865717f-1ee0-4efb-a09b-e1173e28cf04  \"If I consider 2 justifications, it seems it w...   \n",
       "7d6d6774-c7b1-49c4-b4e4-c62bfd4588d1                                                NaN   \n",
       "b4d1204b-42cf-4a56-b0f7-6813795a2923                                                NaN   \n",
       "\n",
       "                                                                             commentrec  \\\n",
       "ID                                                                                        \n",
       "4221f534-a566-4fe1-af3b-2e73067a521c  \"I've already watched 4 of the 5 recommended m...   \n",
       "3cdae0e0-3b22-46f3-a286-f502d2115f80                                                NaN   \n",
       "8865717f-1ee0-4efb-a09b-e1173e28cf04              \"I did not like the recommendations \"   \n",
       "7d6d6774-c7b1-49c4-b4e4-c62bfd4588d1                                                NaN   \n",
       "b4d1204b-42cf-4a56-b0f7-6813795a2923                                                NaN   \n",
       "\n",
       "                                       convincing     discover  diverse_on_a  \\\n",
       "ID                                                                             \n",
       "4221f534-a566-4fe1-af3b-2e73067a521c       More B  Much More B             0   \n",
       "3cdae0e0-3b22-46f3-a286-f502d2115f80  Much More A  Much More A             0   \n",
       "8865717f-1ee0-4efb-a09b-e1173e28cf04        Equal        Equal             1   \n",
       "7d6d6774-c7b1-49c4-b4e4-c62bfd4588d1       More B        Equal             0   \n",
       "b4d1204b-42cf-4a56-b0f7-6813795a2923        Equal  Much More B             1   \n",
       "\n",
       "                                        diversity   popularity  \\\n",
       "ID                                                               \n",
       "4221f534-a566-4fe1-af3b-2e73067a521c       More A       More B   \n",
       "3cdae0e0-3b22-46f3-a286-f502d2115f80  Much More A  Much More A   \n",
       "8865717f-1ee0-4efb-a09b-e1173e28cf04        Equal        Equal   \n",
       "7d6d6774-c7b1-49c4-b4e4-c62bfd4588d1  Much More B       More A   \n",
       "b4d1204b-42cf-4a56-b0f7-6813795a2923       More A       More A   \n",
       "\n",
       "                                                                                   time  \\\n",
       "ID                                                                                        \n",
       "4221f534-a566-4fe1-af3b-2e73067a521c  Tue Apr 18 2023 10:05:30 GMT-0300 (Brasilia St...   \n",
       "3cdae0e0-3b22-46f3-a286-f502d2115f80  Thu Apr 20 2023 16:28:55 GMT-0300 (Horário Pad...   \n",
       "8865717f-1ee0-4efb-a09b-e1173e28cf04  Thu Apr 13 2023 12:11:57 GMT-0300 (Horário Pad...   \n",
       "7d6d6774-c7b1-49c4-b4e4-c62bfd4588d1  Sat Apr 22 2023 16:43:17 GMT-0300 (Horário Pad...   \n",
       "b4d1204b-42cf-4a56-b0f7-6813795a2923  Sat Apr 22 2023 16:25:25 GMT-0300 (Horário Pad...   \n",
       "\n",
       "                                            trust   understood  \n",
       "ID                                                              \n",
       "4221f534-a566-4fe1-af3b-2e73067a521c       More B       More B  \n",
       "3cdae0e0-3b22-46f3-a286-f502d2115f80  Much More A  Much More A  \n",
       "8865717f-1ee0-4efb-a09b-e1173e28cf04        Equal        Equal  \n",
       "7d6d6774-c7b1-49c4-b4e4-c62bfd4588d1       More B       More B  \n",
       "b4d1204b-42cf-4a56-b0f7-6813795a2923       More B       More B  "
      ]
     },
     "execution_count": 5,
     "metadata": {},
     "output_type": "execute_result"
    }
   ],
   "source": [
    "results.head()"
   ]
  },
  {
   "cell_type": "code",
   "execution_count": 6,
   "id": "d4ec67c6",
   "metadata": {},
   "outputs": [
    {
     "data": {
      "text/plain": [
       "55"
      ]
     },
     "execution_count": 6,
     "metadata": {},
     "output_type": "execute_result"
    }
   ],
   "source": [
    "len(results.index.unique())"
   ]
  },
  {
   "cell_type": "code",
   "execution_count": 7,
   "id": "3318acfa",
   "metadata": {},
   "outputs": [],
   "source": [
    "metric_cols = [\"convincing\", \"discover\", \"diversity\", \"popularity\", \"trust\", \"understood\"]"
   ]
  },
  {
   "cell_type": "code",
   "execution_count": 8,
   "id": "487b75d9",
   "metadata": {},
   "outputs": [],
   "source": [
    "results_a = results[results['diverse_on_a'] == 1]\n",
    "results_b = results[results['diverse_on_a'] == 0]"
   ]
  },
  {
   "cell_type": "code",
   "execution_count": 9,
   "id": "0e0395f2",
   "metadata": {},
   "outputs": [],
   "source": [
    "results_a = results_a[metric_cols]\n",
    "results_b = results_b[metric_cols]"
   ]
  },
  {
   "cell_type": "code",
   "execution_count": 10,
   "id": "c9f2efd9",
   "metadata": {},
   "outputs": [
    {
     "data": {
      "text/plain": [
       "26"
      ]
     },
     "execution_count": 10,
     "metadata": {},
     "output_type": "execute_result"
    }
   ],
   "source": [
    "len(results_a.index.unique())"
   ]
  },
  {
   "cell_type": "code",
   "execution_count": 11,
   "id": "ab4c5b45",
   "metadata": {},
   "outputs": [
    {
     "data": {
      "text/plain": [
       "29"
      ]
     },
     "execution_count": 11,
     "metadata": {},
     "output_type": "execute_result"
    }
   ],
   "source": [
    "len(results_b.index.unique())"
   ]
  },
  {
   "cell_type": "code",
   "execution_count": 12,
   "id": "c2d91cc9",
   "metadata": {},
   "outputs": [
    {
     "data": {
      "application/vnd.microsoft.datawrangler.viewer.v0+json": {
       "columns": [
        {
         "name": "ID",
         "rawType": "object",
         "type": "string"
        },
        {
         "name": "convincing",
         "rawType": "object",
         "type": "string"
        },
        {
         "name": "discover",
         "rawType": "object",
         "type": "string"
        },
        {
         "name": "diversity",
         "rawType": "object",
         "type": "string"
        },
        {
         "name": "popularity",
         "rawType": "object",
         "type": "string"
        },
        {
         "name": "trust",
         "rawType": "object",
         "type": "string"
        },
        {
         "name": "understood",
         "rawType": "object",
         "type": "string"
        }
       ],
       "ref": "a329ddb3-5eaf-4ecc-8f73-98098d5b4077",
       "rows": [
        [
         "8865717f-1ee0-4efb-a09b-e1173e28cf04",
         "Equal",
         "Equal",
         "Equal",
         "Equal",
         "Equal",
         "Equal"
        ],
        [
         "b4d1204b-42cf-4a56-b0f7-6813795a2923",
         "Equal",
         "Much More B",
         "More A",
         "More A",
         "More B",
         "More B"
        ],
        [
         "277ace42-bf8e-4af7-82a2-f2a98ffdad95",
         "Equal",
         "Equal",
         "More B",
         "Equal",
         "Equal",
         "More B"
        ],
        [
         "ee8986ab-7ee0-4349-b578-710a33058958",
         "Equal",
         "More B",
         "Equal",
         "More B",
         "Equal",
         "Equal"
        ],
        [
         "42aab9b2-db24-421f-ace6-4564397942ae",
         "More B",
         "More A",
         "Equal",
         "More A",
         "More B",
         "More B"
        ]
       ],
       "shape": {
        "columns": 6,
        "rows": 5
       }
      },
      "text/html": [
       "<div>\n",
       "<style scoped>\n",
       "    .dataframe tbody tr th:only-of-type {\n",
       "        vertical-align: middle;\n",
       "    }\n",
       "\n",
       "    .dataframe tbody tr th {\n",
       "        vertical-align: top;\n",
       "    }\n",
       "\n",
       "    .dataframe thead th {\n",
       "        text-align: right;\n",
       "    }\n",
       "</style>\n",
       "<table border=\"1\" class=\"dataframe\">\n",
       "  <thead>\n",
       "    <tr style=\"text-align: right;\">\n",
       "      <th></th>\n",
       "      <th>convincing</th>\n",
       "      <th>discover</th>\n",
       "      <th>diversity</th>\n",
       "      <th>popularity</th>\n",
       "      <th>trust</th>\n",
       "      <th>understood</th>\n",
       "    </tr>\n",
       "    <tr>\n",
       "      <th>ID</th>\n",
       "      <th></th>\n",
       "      <th></th>\n",
       "      <th></th>\n",
       "      <th></th>\n",
       "      <th></th>\n",
       "      <th></th>\n",
       "    </tr>\n",
       "  </thead>\n",
       "  <tbody>\n",
       "    <tr>\n",
       "      <th>8865717f-1ee0-4efb-a09b-e1173e28cf04</th>\n",
       "      <td>Equal</td>\n",
       "      <td>Equal</td>\n",
       "      <td>Equal</td>\n",
       "      <td>Equal</td>\n",
       "      <td>Equal</td>\n",
       "      <td>Equal</td>\n",
       "    </tr>\n",
       "    <tr>\n",
       "      <th>b4d1204b-42cf-4a56-b0f7-6813795a2923</th>\n",
       "      <td>Equal</td>\n",
       "      <td>Much More B</td>\n",
       "      <td>More A</td>\n",
       "      <td>More A</td>\n",
       "      <td>More B</td>\n",
       "      <td>More B</td>\n",
       "    </tr>\n",
       "    <tr>\n",
       "      <th>277ace42-bf8e-4af7-82a2-f2a98ffdad95</th>\n",
       "      <td>Equal</td>\n",
       "      <td>Equal</td>\n",
       "      <td>More B</td>\n",
       "      <td>Equal</td>\n",
       "      <td>Equal</td>\n",
       "      <td>More B</td>\n",
       "    </tr>\n",
       "    <tr>\n",
       "      <th>ee8986ab-7ee0-4349-b578-710a33058958</th>\n",
       "      <td>Equal</td>\n",
       "      <td>More B</td>\n",
       "      <td>Equal</td>\n",
       "      <td>More B</td>\n",
       "      <td>Equal</td>\n",
       "      <td>Equal</td>\n",
       "    </tr>\n",
       "    <tr>\n",
       "      <th>42aab9b2-db24-421f-ace6-4564397942ae</th>\n",
       "      <td>More B</td>\n",
       "      <td>More A</td>\n",
       "      <td>Equal</td>\n",
       "      <td>More A</td>\n",
       "      <td>More B</td>\n",
       "      <td>More B</td>\n",
       "    </tr>\n",
       "  </tbody>\n",
       "</table>\n",
       "</div>"
      ],
      "text/plain": [
       "                                     convincing     discover diversity  \\\n",
       "ID                                                                       \n",
       "8865717f-1ee0-4efb-a09b-e1173e28cf04      Equal        Equal     Equal   \n",
       "b4d1204b-42cf-4a56-b0f7-6813795a2923      Equal  Much More B    More A   \n",
       "277ace42-bf8e-4af7-82a2-f2a98ffdad95      Equal        Equal    More B   \n",
       "ee8986ab-7ee0-4349-b578-710a33058958      Equal       More B     Equal   \n",
       "42aab9b2-db24-421f-ace6-4564397942ae     More B       More A     Equal   \n",
       "\n",
       "                                     popularity   trust understood  \n",
       "ID                                                                  \n",
       "8865717f-1ee0-4efb-a09b-e1173e28cf04      Equal   Equal      Equal  \n",
       "b4d1204b-42cf-4a56-b0f7-6813795a2923     More A  More B     More B  \n",
       "277ace42-bf8e-4af7-82a2-f2a98ffdad95      Equal   Equal     More B  \n",
       "ee8986ab-7ee0-4349-b578-710a33058958     More B   Equal      Equal  \n",
       "42aab9b2-db24-421f-ace6-4564397942ae     More A  More B     More B  "
      ]
     },
     "execution_count": 12,
     "metadata": {},
     "output_type": "execute_result"
    }
   ],
   "source": [
    "results_a.head()"
   ]
  },
  {
   "cell_type": "code",
   "execution_count": 13,
   "id": "0ad6f2c3",
   "metadata": {},
   "outputs": [
    {
     "data": {
      "application/vnd.microsoft.datawrangler.viewer.v0+json": {
       "columns": [
        {
         "name": "ID",
         "rawType": "object",
         "type": "string"
        },
        {
         "name": "convincing",
         "rawType": "object",
         "type": "string"
        },
        {
         "name": "discover",
         "rawType": "object",
         "type": "string"
        },
        {
         "name": "diversity",
         "rawType": "object",
         "type": "string"
        },
        {
         "name": "popularity",
         "rawType": "object",
         "type": "string"
        },
        {
         "name": "trust",
         "rawType": "object",
         "type": "string"
        },
        {
         "name": "understood",
         "rawType": "object",
         "type": "string"
        }
       ],
       "ref": "5ae7f745-9815-40fc-84dd-4fc8b509a2a8",
       "rows": [
        [
         "4221f534-a566-4fe1-af3b-2e73067a521c",
         "More B",
         "Much More B",
         "More A",
         "More B",
         "More B",
         "More B"
        ],
        [
         "3cdae0e0-3b22-46f3-a286-f502d2115f80",
         "Much More A",
         "Much More A",
         "Much More A",
         "Much More A",
         "Much More A",
         "Much More A"
        ],
        [
         "7d6d6774-c7b1-49c4-b4e4-c62bfd4588d1",
         "More B",
         "Equal",
         "Much More B",
         "More A",
         "More B",
         "More B"
        ],
        [
         "73154f98-a5ae-4b38-9202-e688a0a86e28",
         "More A",
         "More B",
         "More A",
         "More A",
         "More A",
         "More A"
        ],
        [
         "b7d90b39-7606-47bf-8552-d8670e7e015a",
         "More A",
         "More A",
         "Equal",
         "More B",
         "Much More A",
         "More B"
        ]
       ],
       "shape": {
        "columns": 6,
        "rows": 5
       }
      },
      "text/html": [
       "<div>\n",
       "<style scoped>\n",
       "    .dataframe tbody tr th:only-of-type {\n",
       "        vertical-align: middle;\n",
       "    }\n",
       "\n",
       "    .dataframe tbody tr th {\n",
       "        vertical-align: top;\n",
       "    }\n",
       "\n",
       "    .dataframe thead th {\n",
       "        text-align: right;\n",
       "    }\n",
       "</style>\n",
       "<table border=\"1\" class=\"dataframe\">\n",
       "  <thead>\n",
       "    <tr style=\"text-align: right;\">\n",
       "      <th></th>\n",
       "      <th>convincing</th>\n",
       "      <th>discover</th>\n",
       "      <th>diversity</th>\n",
       "      <th>popularity</th>\n",
       "      <th>trust</th>\n",
       "      <th>understood</th>\n",
       "    </tr>\n",
       "    <tr>\n",
       "      <th>ID</th>\n",
       "      <th></th>\n",
       "      <th></th>\n",
       "      <th></th>\n",
       "      <th></th>\n",
       "      <th></th>\n",
       "      <th></th>\n",
       "    </tr>\n",
       "  </thead>\n",
       "  <tbody>\n",
       "    <tr>\n",
       "      <th>4221f534-a566-4fe1-af3b-2e73067a521c</th>\n",
       "      <td>More B</td>\n",
       "      <td>Much More B</td>\n",
       "      <td>More A</td>\n",
       "      <td>More B</td>\n",
       "      <td>More B</td>\n",
       "      <td>More B</td>\n",
       "    </tr>\n",
       "    <tr>\n",
       "      <th>3cdae0e0-3b22-46f3-a286-f502d2115f80</th>\n",
       "      <td>Much More A</td>\n",
       "      <td>Much More A</td>\n",
       "      <td>Much More A</td>\n",
       "      <td>Much More A</td>\n",
       "      <td>Much More A</td>\n",
       "      <td>Much More A</td>\n",
       "    </tr>\n",
       "    <tr>\n",
       "      <th>7d6d6774-c7b1-49c4-b4e4-c62bfd4588d1</th>\n",
       "      <td>More B</td>\n",
       "      <td>Equal</td>\n",
       "      <td>Much More B</td>\n",
       "      <td>More A</td>\n",
       "      <td>More B</td>\n",
       "      <td>More B</td>\n",
       "    </tr>\n",
       "    <tr>\n",
       "      <th>73154f98-a5ae-4b38-9202-e688a0a86e28</th>\n",
       "      <td>More A</td>\n",
       "      <td>More B</td>\n",
       "      <td>More A</td>\n",
       "      <td>More A</td>\n",
       "      <td>More A</td>\n",
       "      <td>More A</td>\n",
       "    </tr>\n",
       "    <tr>\n",
       "      <th>b7d90b39-7606-47bf-8552-d8670e7e015a</th>\n",
       "      <td>More A</td>\n",
       "      <td>More A</td>\n",
       "      <td>Equal</td>\n",
       "      <td>More B</td>\n",
       "      <td>Much More A</td>\n",
       "      <td>More B</td>\n",
       "    </tr>\n",
       "  </tbody>\n",
       "</table>\n",
       "</div>"
      ],
      "text/plain": [
       "                                       convincing     discover    diversity  \\\n",
       "ID                                                                            \n",
       "4221f534-a566-4fe1-af3b-2e73067a521c       More B  Much More B       More A   \n",
       "3cdae0e0-3b22-46f3-a286-f502d2115f80  Much More A  Much More A  Much More A   \n",
       "7d6d6774-c7b1-49c4-b4e4-c62bfd4588d1       More B        Equal  Much More B   \n",
       "73154f98-a5ae-4b38-9202-e688a0a86e28       More A       More B       More A   \n",
       "b7d90b39-7606-47bf-8552-d8670e7e015a       More A       More A        Equal   \n",
       "\n",
       "                                       popularity        trust   understood  \n",
       "ID                                                                           \n",
       "4221f534-a566-4fe1-af3b-2e73067a521c       More B       More B       More B  \n",
       "3cdae0e0-3b22-46f3-a286-f502d2115f80  Much More A  Much More A  Much More A  \n",
       "7d6d6774-c7b1-49c4-b4e4-c62bfd4588d1       More A       More B       More B  \n",
       "73154f98-a5ae-4b38-9202-e688a0a86e28       More A       More A       More A  \n",
       "b7d90b39-7606-47bf-8552-d8670e7e015a       More B  Much More A       More B  "
      ]
     },
     "execution_count": 13,
     "metadata": {},
     "output_type": "execute_result"
    }
   ],
   "source": [
    "results_b.head()"
   ]
  },
  {
   "cell_type": "code",
   "execution_count": 14,
   "id": "cd11ab4b",
   "metadata": {},
   "outputs": [],
   "source": [
    "replace_a = {'More A': 'More PEM', 'Much More A': 'Much More PEM', 'More B': 'More ExpLOD', 'Much More B': 'Much More ExpLOD'}\n",
    "replace_b = {'More B': 'More PEM', 'Much More B': 'Much More PEM', 'More A': 'More ExpLOD', 'Much More A': 'Much More ExpLOD'}"
   ]
  },
  {
   "cell_type": "code",
   "execution_count": 15,
   "id": "c45c4d3a",
   "metadata": {},
   "outputs": [],
   "source": [
    "results_repla = results_a.replace(replace_a)\n",
    "results_replb = results_b.replace(replace_b)"
   ]
  },
  {
   "cell_type": "code",
   "execution_count": 16,
   "id": "f746a096",
   "metadata": {},
   "outputs": [
    {
     "data": {
      "application/vnd.microsoft.datawrangler.viewer.v0+json": {
       "columns": [
        {
         "name": "ID",
         "rawType": "object",
         "type": "string"
        },
        {
         "name": "convincing",
         "rawType": "object",
         "type": "string"
        },
        {
         "name": "discover",
         "rawType": "object",
         "type": "string"
        },
        {
         "name": "diversity",
         "rawType": "object",
         "type": "string"
        },
        {
         "name": "popularity",
         "rawType": "object",
         "type": "string"
        },
        {
         "name": "trust",
         "rawType": "object",
         "type": "string"
        },
        {
         "name": "understood",
         "rawType": "object",
         "type": "string"
        }
       ],
       "ref": "e18c03e1-0a2b-48c4-a43e-4bc04a8ae294",
       "rows": [
        [
         "8865717f-1ee0-4efb-a09b-e1173e28cf04",
         "Equal",
         "Equal",
         "Equal",
         "Equal",
         "Equal",
         "Equal"
        ],
        [
         "b4d1204b-42cf-4a56-b0f7-6813795a2923",
         "Equal",
         "Much More ExpLOD",
         "More PEM",
         "More PEM",
         "More ExpLOD",
         "More ExpLOD"
        ],
        [
         "277ace42-bf8e-4af7-82a2-f2a98ffdad95",
         "Equal",
         "Equal",
         "More ExpLOD",
         "Equal",
         "Equal",
         "More ExpLOD"
        ],
        [
         "ee8986ab-7ee0-4349-b578-710a33058958",
         "Equal",
         "More ExpLOD",
         "Equal",
         "More ExpLOD",
         "Equal",
         "Equal"
        ],
        [
         "42aab9b2-db24-421f-ace6-4564397942ae",
         "More ExpLOD",
         "More PEM",
         "Equal",
         "More PEM",
         "More ExpLOD",
         "More ExpLOD"
        ],
        [
         "1cf52f56-d06f-4f56-9b6c-3894edeb795b",
         "More PEM",
         "Equal",
         "More PEM",
         "More ExpLOD",
         "More PEM",
         "More PEM"
        ],
        [
         "26bbc9a9-86bb-4974-a1b5-6601b511ba4d",
         "More ExpLOD",
         "Equal",
         "Equal",
         "More ExpLOD",
         "More ExpLOD",
         "More ExpLOD"
        ],
        [
         "c6b8f3a6-e89d-40c7-9d65-e58bd693d299",
         "More PEM",
         "More ExpLOD",
         "Much More PEM",
         "Much More PEM",
         "More PEM",
         "More PEM"
        ],
        [
         "2d7fa883-3b29-4bd3-b592-54fc656a68bc",
         "More PEM",
         "More ExpLOD",
         "More PEM",
         "Equal",
         "Equal",
         "More ExpLOD"
        ],
        [
         "99a9b0db-5c2f-474a-b623-73b252e9ca1f",
         "More PEM",
         "Equal",
         "More PEM",
         "Equal",
         "More PEM",
         "Much More PEM"
        ],
        [
         "38cdc324-2d9a-42c4-b2f3-44448d149cc4",
         "More PEM",
         "More PEM",
         "More PEM",
         "More ExpLOD",
         "More PEM",
         "Equal"
        ],
        [
         "f3e38d6e-4c4e-4007-b66b-79db1dad2716",
         "Equal",
         "More PEM",
         "More PEM",
         "Equal",
         "Equal",
         "Equal"
        ],
        [
         "94cb0ad6-df69-4c3a-9df6-0d737a7c8add",
         "More ExpLOD",
         "More ExpLOD",
         "More ExpLOD",
         "More ExpLOD",
         "More ExpLOD",
         "More ExpLOD"
        ],
        [
         "bc9cb0c4-fd45-47d8-a975-5333691e2f9f",
         "Much More ExpLOD",
         "More PEM",
         "More PEM",
         "Much More ExpLOD",
         "More ExpLOD",
         "More ExpLOD"
        ],
        [
         "33db9956-4b5b-47ab-b3d1-6f76c42384f7",
         "More PEM",
         "Equal",
         "More PEM",
         "Equal",
         "More PEM",
         "More PEM"
        ],
        [
         "9f2a10e2-edf4-4443-9d3c-531d9030edb7",
         "More PEM",
         "More PEM",
         "Equal",
         "Equal",
         "Equal",
         "More ExpLOD"
        ],
        [
         "0903e4d7-0117-43ac-9ba1-67a34ee4f584",
         "More ExpLOD",
         "More PEM",
         "More ExpLOD",
         "Much More ExpLOD",
         "More ExpLOD",
         "More PEM"
        ],
        [
         "912f4714-a42b-4b58-ab9d-5fc5f1ab7a99",
         "Equal",
         "Much More PEM",
         "Equal",
         "More ExpLOD",
         "Equal",
         "Equal"
        ],
        [
         "16497ee9-9f63-4ac3-8cba-ca821cd434cc",
         "More PEM",
         "More ExpLOD",
         "More PEM",
         "Equal",
         "More ExpLOD",
         "Much More PEM"
        ],
        [
         "f8c3b30f-e66f-413a-83c6-9fc39c366a77",
         "More PEM",
         "Equal",
         "More ExpLOD",
         "More PEM",
         "Equal",
         "Much More PEM"
        ],
        [
         "9c0919a4-762f-44b8-9c74-fbab1bb4e609",
         "More ExpLOD",
         "Equal",
         "More ExpLOD",
         "More ExpLOD",
         "More ExpLOD",
         "Equal"
        ],
        [
         "8e5115a8-aee4-403a-a33a-81a9dc677d0c",
         "Much More PEM",
         "Equal",
         "Much More PEM",
         "Much More PEM",
         "Much More PEM",
         "Much More PEM"
        ],
        [
         "88bc749c-07dd-4c54-86dd-ba0ff6805bea",
         "More PEM",
         "Equal",
         "More ExpLOD",
         "More PEM",
         "More PEM",
         "Much More ExpLOD"
        ],
        [
         "4d1107a0-b627-4a84-a05c-f80b4132fb32",
         "More ExpLOD",
         "More ExpLOD",
         "More ExpLOD",
         "More ExpLOD",
         "More ExpLOD",
         "More ExpLOD"
        ],
        [
         "537542f2-31b4-4ab6-a6ef-25fed9d64258",
         "More ExpLOD",
         "More ExpLOD",
         "More ExpLOD",
         "Equal",
         "More ExpLOD",
         "More ExpLOD"
        ],
        [
         "2fff537b-f60f-4762-a300-e651a85c83e7",
         "Equal",
         "More PEM",
         "More PEM",
         "More PEM",
         "Equal",
         "More PEM"
        ]
       ],
       "shape": {
        "columns": 6,
        "rows": 26
       }
      },
      "text/html": [
       "<div>\n",
       "<style scoped>\n",
       "    .dataframe tbody tr th:only-of-type {\n",
       "        vertical-align: middle;\n",
       "    }\n",
       "\n",
       "    .dataframe tbody tr th {\n",
       "        vertical-align: top;\n",
       "    }\n",
       "\n",
       "    .dataframe thead th {\n",
       "        text-align: right;\n",
       "    }\n",
       "</style>\n",
       "<table border=\"1\" class=\"dataframe\">\n",
       "  <thead>\n",
       "    <tr style=\"text-align: right;\">\n",
       "      <th></th>\n",
       "      <th>convincing</th>\n",
       "      <th>discover</th>\n",
       "      <th>diversity</th>\n",
       "      <th>popularity</th>\n",
       "      <th>trust</th>\n",
       "      <th>understood</th>\n",
       "    </tr>\n",
       "    <tr>\n",
       "      <th>ID</th>\n",
       "      <th></th>\n",
       "      <th></th>\n",
       "      <th></th>\n",
       "      <th></th>\n",
       "      <th></th>\n",
       "      <th></th>\n",
       "    </tr>\n",
       "  </thead>\n",
       "  <tbody>\n",
       "    <tr>\n",
       "      <th>8865717f-1ee0-4efb-a09b-e1173e28cf04</th>\n",
       "      <td>Equal</td>\n",
       "      <td>Equal</td>\n",
       "      <td>Equal</td>\n",
       "      <td>Equal</td>\n",
       "      <td>Equal</td>\n",
       "      <td>Equal</td>\n",
       "    </tr>\n",
       "    <tr>\n",
       "      <th>b4d1204b-42cf-4a56-b0f7-6813795a2923</th>\n",
       "      <td>Equal</td>\n",
       "      <td>Much More ExpLOD</td>\n",
       "      <td>More PEM</td>\n",
       "      <td>More PEM</td>\n",
       "      <td>More ExpLOD</td>\n",
       "      <td>More ExpLOD</td>\n",
       "    </tr>\n",
       "    <tr>\n",
       "      <th>277ace42-bf8e-4af7-82a2-f2a98ffdad95</th>\n",
       "      <td>Equal</td>\n",
       "      <td>Equal</td>\n",
       "      <td>More ExpLOD</td>\n",
       "      <td>Equal</td>\n",
       "      <td>Equal</td>\n",
       "      <td>More ExpLOD</td>\n",
       "    </tr>\n",
       "    <tr>\n",
       "      <th>ee8986ab-7ee0-4349-b578-710a33058958</th>\n",
       "      <td>Equal</td>\n",
       "      <td>More ExpLOD</td>\n",
       "      <td>Equal</td>\n",
       "      <td>More ExpLOD</td>\n",
       "      <td>Equal</td>\n",
       "      <td>Equal</td>\n",
       "    </tr>\n",
       "    <tr>\n",
       "      <th>42aab9b2-db24-421f-ace6-4564397942ae</th>\n",
       "      <td>More ExpLOD</td>\n",
       "      <td>More PEM</td>\n",
       "      <td>Equal</td>\n",
       "      <td>More PEM</td>\n",
       "      <td>More ExpLOD</td>\n",
       "      <td>More ExpLOD</td>\n",
       "    </tr>\n",
       "    <tr>\n",
       "      <th>1cf52f56-d06f-4f56-9b6c-3894edeb795b</th>\n",
       "      <td>More PEM</td>\n",
       "      <td>Equal</td>\n",
       "      <td>More PEM</td>\n",
       "      <td>More ExpLOD</td>\n",
       "      <td>More PEM</td>\n",
       "      <td>More PEM</td>\n",
       "    </tr>\n",
       "    <tr>\n",
       "      <th>26bbc9a9-86bb-4974-a1b5-6601b511ba4d</th>\n",
       "      <td>More ExpLOD</td>\n",
       "      <td>Equal</td>\n",
       "      <td>Equal</td>\n",
       "      <td>More ExpLOD</td>\n",
       "      <td>More ExpLOD</td>\n",
       "      <td>More ExpLOD</td>\n",
       "    </tr>\n",
       "    <tr>\n",
       "      <th>c6b8f3a6-e89d-40c7-9d65-e58bd693d299</th>\n",
       "      <td>More PEM</td>\n",
       "      <td>More ExpLOD</td>\n",
       "      <td>Much More PEM</td>\n",
       "      <td>Much More PEM</td>\n",
       "      <td>More PEM</td>\n",
       "      <td>More PEM</td>\n",
       "    </tr>\n",
       "    <tr>\n",
       "      <th>2d7fa883-3b29-4bd3-b592-54fc656a68bc</th>\n",
       "      <td>More PEM</td>\n",
       "      <td>More ExpLOD</td>\n",
       "      <td>More PEM</td>\n",
       "      <td>Equal</td>\n",
       "      <td>Equal</td>\n",
       "      <td>More ExpLOD</td>\n",
       "    </tr>\n",
       "    <tr>\n",
       "      <th>99a9b0db-5c2f-474a-b623-73b252e9ca1f</th>\n",
       "      <td>More PEM</td>\n",
       "      <td>Equal</td>\n",
       "      <td>More PEM</td>\n",
       "      <td>Equal</td>\n",
       "      <td>More PEM</td>\n",
       "      <td>Much More PEM</td>\n",
       "    </tr>\n",
       "    <tr>\n",
       "      <th>38cdc324-2d9a-42c4-b2f3-44448d149cc4</th>\n",
       "      <td>More PEM</td>\n",
       "      <td>More PEM</td>\n",
       "      <td>More PEM</td>\n",
       "      <td>More ExpLOD</td>\n",
       "      <td>More PEM</td>\n",
       "      <td>Equal</td>\n",
       "    </tr>\n",
       "    <tr>\n",
       "      <th>f3e38d6e-4c4e-4007-b66b-79db1dad2716</th>\n",
       "      <td>Equal</td>\n",
       "      <td>More PEM</td>\n",
       "      <td>More PEM</td>\n",
       "      <td>Equal</td>\n",
       "      <td>Equal</td>\n",
       "      <td>Equal</td>\n",
       "    </tr>\n",
       "    <tr>\n",
       "      <th>94cb0ad6-df69-4c3a-9df6-0d737a7c8add</th>\n",
       "      <td>More ExpLOD</td>\n",
       "      <td>More ExpLOD</td>\n",
       "      <td>More ExpLOD</td>\n",
       "      <td>More ExpLOD</td>\n",
       "      <td>More ExpLOD</td>\n",
       "      <td>More ExpLOD</td>\n",
       "    </tr>\n",
       "    <tr>\n",
       "      <th>bc9cb0c4-fd45-47d8-a975-5333691e2f9f</th>\n",
       "      <td>Much More ExpLOD</td>\n",
       "      <td>More PEM</td>\n",
       "      <td>More PEM</td>\n",
       "      <td>Much More ExpLOD</td>\n",
       "      <td>More ExpLOD</td>\n",
       "      <td>More ExpLOD</td>\n",
       "    </tr>\n",
       "    <tr>\n",
       "      <th>33db9956-4b5b-47ab-b3d1-6f76c42384f7</th>\n",
       "      <td>More PEM</td>\n",
       "      <td>Equal</td>\n",
       "      <td>More PEM</td>\n",
       "      <td>Equal</td>\n",
       "      <td>More PEM</td>\n",
       "      <td>More PEM</td>\n",
       "    </tr>\n",
       "    <tr>\n",
       "      <th>9f2a10e2-edf4-4443-9d3c-531d9030edb7</th>\n",
       "      <td>More PEM</td>\n",
       "      <td>More PEM</td>\n",
       "      <td>Equal</td>\n",
       "      <td>Equal</td>\n",
       "      <td>Equal</td>\n",
       "      <td>More ExpLOD</td>\n",
       "    </tr>\n",
       "    <tr>\n",
       "      <th>0903e4d7-0117-43ac-9ba1-67a34ee4f584</th>\n",
       "      <td>More ExpLOD</td>\n",
       "      <td>More PEM</td>\n",
       "      <td>More ExpLOD</td>\n",
       "      <td>Much More ExpLOD</td>\n",
       "      <td>More ExpLOD</td>\n",
       "      <td>More PEM</td>\n",
       "    </tr>\n",
       "    <tr>\n",
       "      <th>912f4714-a42b-4b58-ab9d-5fc5f1ab7a99</th>\n",
       "      <td>Equal</td>\n",
       "      <td>Much More PEM</td>\n",
       "      <td>Equal</td>\n",
       "      <td>More ExpLOD</td>\n",
       "      <td>Equal</td>\n",
       "      <td>Equal</td>\n",
       "    </tr>\n",
       "    <tr>\n",
       "      <th>16497ee9-9f63-4ac3-8cba-ca821cd434cc</th>\n",
       "      <td>More PEM</td>\n",
       "      <td>More ExpLOD</td>\n",
       "      <td>More PEM</td>\n",
       "      <td>Equal</td>\n",
       "      <td>More ExpLOD</td>\n",
       "      <td>Much More PEM</td>\n",
       "    </tr>\n",
       "    <tr>\n",
       "      <th>f8c3b30f-e66f-413a-83c6-9fc39c366a77</th>\n",
       "      <td>More PEM</td>\n",
       "      <td>Equal</td>\n",
       "      <td>More ExpLOD</td>\n",
       "      <td>More PEM</td>\n",
       "      <td>Equal</td>\n",
       "      <td>Much More PEM</td>\n",
       "    </tr>\n",
       "    <tr>\n",
       "      <th>9c0919a4-762f-44b8-9c74-fbab1bb4e609</th>\n",
       "      <td>More ExpLOD</td>\n",
       "      <td>Equal</td>\n",
       "      <td>More ExpLOD</td>\n",
       "      <td>More ExpLOD</td>\n",
       "      <td>More ExpLOD</td>\n",
       "      <td>Equal</td>\n",
       "    </tr>\n",
       "    <tr>\n",
       "      <th>8e5115a8-aee4-403a-a33a-81a9dc677d0c</th>\n",
       "      <td>Much More PEM</td>\n",
       "      <td>Equal</td>\n",
       "      <td>Much More PEM</td>\n",
       "      <td>Much More PEM</td>\n",
       "      <td>Much More PEM</td>\n",
       "      <td>Much More PEM</td>\n",
       "    </tr>\n",
       "    <tr>\n",
       "      <th>88bc749c-07dd-4c54-86dd-ba0ff6805bea</th>\n",
       "      <td>More PEM</td>\n",
       "      <td>Equal</td>\n",
       "      <td>More ExpLOD</td>\n",
       "      <td>More PEM</td>\n",
       "      <td>More PEM</td>\n",
       "      <td>Much More ExpLOD</td>\n",
       "    </tr>\n",
       "    <tr>\n",
       "      <th>4d1107a0-b627-4a84-a05c-f80b4132fb32</th>\n",
       "      <td>More ExpLOD</td>\n",
       "      <td>More ExpLOD</td>\n",
       "      <td>More ExpLOD</td>\n",
       "      <td>More ExpLOD</td>\n",
       "      <td>More ExpLOD</td>\n",
       "      <td>More ExpLOD</td>\n",
       "    </tr>\n",
       "    <tr>\n",
       "      <th>537542f2-31b4-4ab6-a6ef-25fed9d64258</th>\n",
       "      <td>More ExpLOD</td>\n",
       "      <td>More ExpLOD</td>\n",
       "      <td>More ExpLOD</td>\n",
       "      <td>Equal</td>\n",
       "      <td>More ExpLOD</td>\n",
       "      <td>More ExpLOD</td>\n",
       "    </tr>\n",
       "    <tr>\n",
       "      <th>2fff537b-f60f-4762-a300-e651a85c83e7</th>\n",
       "      <td>Equal</td>\n",
       "      <td>More PEM</td>\n",
       "      <td>More PEM</td>\n",
       "      <td>More PEM</td>\n",
       "      <td>Equal</td>\n",
       "      <td>More PEM</td>\n",
       "    </tr>\n",
       "  </tbody>\n",
       "</table>\n",
       "</div>"
      ],
      "text/plain": [
       "                                            convincing          discover  \\\n",
       "ID                                                                         \n",
       "8865717f-1ee0-4efb-a09b-e1173e28cf04             Equal             Equal   \n",
       "b4d1204b-42cf-4a56-b0f7-6813795a2923             Equal  Much More ExpLOD   \n",
       "277ace42-bf8e-4af7-82a2-f2a98ffdad95             Equal             Equal   \n",
       "ee8986ab-7ee0-4349-b578-710a33058958             Equal       More ExpLOD   \n",
       "42aab9b2-db24-421f-ace6-4564397942ae       More ExpLOD          More PEM   \n",
       "1cf52f56-d06f-4f56-9b6c-3894edeb795b          More PEM             Equal   \n",
       "26bbc9a9-86bb-4974-a1b5-6601b511ba4d       More ExpLOD             Equal   \n",
       "c6b8f3a6-e89d-40c7-9d65-e58bd693d299          More PEM       More ExpLOD   \n",
       "2d7fa883-3b29-4bd3-b592-54fc656a68bc          More PEM       More ExpLOD   \n",
       "99a9b0db-5c2f-474a-b623-73b252e9ca1f          More PEM             Equal   \n",
       "38cdc324-2d9a-42c4-b2f3-44448d149cc4          More PEM          More PEM   \n",
       "f3e38d6e-4c4e-4007-b66b-79db1dad2716             Equal          More PEM   \n",
       "94cb0ad6-df69-4c3a-9df6-0d737a7c8add       More ExpLOD       More ExpLOD   \n",
       "bc9cb0c4-fd45-47d8-a975-5333691e2f9f  Much More ExpLOD          More PEM   \n",
       "33db9956-4b5b-47ab-b3d1-6f76c42384f7          More PEM             Equal   \n",
       "9f2a10e2-edf4-4443-9d3c-531d9030edb7          More PEM          More PEM   \n",
       "0903e4d7-0117-43ac-9ba1-67a34ee4f584       More ExpLOD          More PEM   \n",
       "912f4714-a42b-4b58-ab9d-5fc5f1ab7a99             Equal     Much More PEM   \n",
       "16497ee9-9f63-4ac3-8cba-ca821cd434cc          More PEM       More ExpLOD   \n",
       "f8c3b30f-e66f-413a-83c6-9fc39c366a77          More PEM             Equal   \n",
       "9c0919a4-762f-44b8-9c74-fbab1bb4e609       More ExpLOD             Equal   \n",
       "8e5115a8-aee4-403a-a33a-81a9dc677d0c     Much More PEM             Equal   \n",
       "88bc749c-07dd-4c54-86dd-ba0ff6805bea          More PEM             Equal   \n",
       "4d1107a0-b627-4a84-a05c-f80b4132fb32       More ExpLOD       More ExpLOD   \n",
       "537542f2-31b4-4ab6-a6ef-25fed9d64258       More ExpLOD       More ExpLOD   \n",
       "2fff537b-f60f-4762-a300-e651a85c83e7             Equal          More PEM   \n",
       "\n",
       "                                          diversity        popularity  \\\n",
       "ID                                                                      \n",
       "8865717f-1ee0-4efb-a09b-e1173e28cf04          Equal             Equal   \n",
       "b4d1204b-42cf-4a56-b0f7-6813795a2923       More PEM          More PEM   \n",
       "277ace42-bf8e-4af7-82a2-f2a98ffdad95    More ExpLOD             Equal   \n",
       "ee8986ab-7ee0-4349-b578-710a33058958          Equal       More ExpLOD   \n",
       "42aab9b2-db24-421f-ace6-4564397942ae          Equal          More PEM   \n",
       "1cf52f56-d06f-4f56-9b6c-3894edeb795b       More PEM       More ExpLOD   \n",
       "26bbc9a9-86bb-4974-a1b5-6601b511ba4d          Equal       More ExpLOD   \n",
       "c6b8f3a6-e89d-40c7-9d65-e58bd693d299  Much More PEM     Much More PEM   \n",
       "2d7fa883-3b29-4bd3-b592-54fc656a68bc       More PEM             Equal   \n",
       "99a9b0db-5c2f-474a-b623-73b252e9ca1f       More PEM             Equal   \n",
       "38cdc324-2d9a-42c4-b2f3-44448d149cc4       More PEM       More ExpLOD   \n",
       "f3e38d6e-4c4e-4007-b66b-79db1dad2716       More PEM             Equal   \n",
       "94cb0ad6-df69-4c3a-9df6-0d737a7c8add    More ExpLOD       More ExpLOD   \n",
       "bc9cb0c4-fd45-47d8-a975-5333691e2f9f       More PEM  Much More ExpLOD   \n",
       "33db9956-4b5b-47ab-b3d1-6f76c42384f7       More PEM             Equal   \n",
       "9f2a10e2-edf4-4443-9d3c-531d9030edb7          Equal             Equal   \n",
       "0903e4d7-0117-43ac-9ba1-67a34ee4f584    More ExpLOD  Much More ExpLOD   \n",
       "912f4714-a42b-4b58-ab9d-5fc5f1ab7a99          Equal       More ExpLOD   \n",
       "16497ee9-9f63-4ac3-8cba-ca821cd434cc       More PEM             Equal   \n",
       "f8c3b30f-e66f-413a-83c6-9fc39c366a77    More ExpLOD          More PEM   \n",
       "9c0919a4-762f-44b8-9c74-fbab1bb4e609    More ExpLOD       More ExpLOD   \n",
       "8e5115a8-aee4-403a-a33a-81a9dc677d0c  Much More PEM     Much More PEM   \n",
       "88bc749c-07dd-4c54-86dd-ba0ff6805bea    More ExpLOD          More PEM   \n",
       "4d1107a0-b627-4a84-a05c-f80b4132fb32    More ExpLOD       More ExpLOD   \n",
       "537542f2-31b4-4ab6-a6ef-25fed9d64258    More ExpLOD             Equal   \n",
       "2fff537b-f60f-4762-a300-e651a85c83e7       More PEM          More PEM   \n",
       "\n",
       "                                              trust        understood  \n",
       "ID                                                                     \n",
       "8865717f-1ee0-4efb-a09b-e1173e28cf04          Equal             Equal  \n",
       "b4d1204b-42cf-4a56-b0f7-6813795a2923    More ExpLOD       More ExpLOD  \n",
       "277ace42-bf8e-4af7-82a2-f2a98ffdad95          Equal       More ExpLOD  \n",
       "ee8986ab-7ee0-4349-b578-710a33058958          Equal             Equal  \n",
       "42aab9b2-db24-421f-ace6-4564397942ae    More ExpLOD       More ExpLOD  \n",
       "1cf52f56-d06f-4f56-9b6c-3894edeb795b       More PEM          More PEM  \n",
       "26bbc9a9-86bb-4974-a1b5-6601b511ba4d    More ExpLOD       More ExpLOD  \n",
       "c6b8f3a6-e89d-40c7-9d65-e58bd693d299       More PEM          More PEM  \n",
       "2d7fa883-3b29-4bd3-b592-54fc656a68bc          Equal       More ExpLOD  \n",
       "99a9b0db-5c2f-474a-b623-73b252e9ca1f       More PEM     Much More PEM  \n",
       "38cdc324-2d9a-42c4-b2f3-44448d149cc4       More PEM             Equal  \n",
       "f3e38d6e-4c4e-4007-b66b-79db1dad2716          Equal             Equal  \n",
       "94cb0ad6-df69-4c3a-9df6-0d737a7c8add    More ExpLOD       More ExpLOD  \n",
       "bc9cb0c4-fd45-47d8-a975-5333691e2f9f    More ExpLOD       More ExpLOD  \n",
       "33db9956-4b5b-47ab-b3d1-6f76c42384f7       More PEM          More PEM  \n",
       "9f2a10e2-edf4-4443-9d3c-531d9030edb7          Equal       More ExpLOD  \n",
       "0903e4d7-0117-43ac-9ba1-67a34ee4f584    More ExpLOD          More PEM  \n",
       "912f4714-a42b-4b58-ab9d-5fc5f1ab7a99          Equal             Equal  \n",
       "16497ee9-9f63-4ac3-8cba-ca821cd434cc    More ExpLOD     Much More PEM  \n",
       "f8c3b30f-e66f-413a-83c6-9fc39c366a77          Equal     Much More PEM  \n",
       "9c0919a4-762f-44b8-9c74-fbab1bb4e609    More ExpLOD             Equal  \n",
       "8e5115a8-aee4-403a-a33a-81a9dc677d0c  Much More PEM     Much More PEM  \n",
       "88bc749c-07dd-4c54-86dd-ba0ff6805bea       More PEM  Much More ExpLOD  \n",
       "4d1107a0-b627-4a84-a05c-f80b4132fb32    More ExpLOD       More ExpLOD  \n",
       "537542f2-31b4-4ab6-a6ef-25fed9d64258    More ExpLOD       More ExpLOD  \n",
       "2fff537b-f60f-4762-a300-e651a85c83e7          Equal          More PEM  "
      ]
     },
     "execution_count": 16,
     "metadata": {},
     "output_type": "execute_result"
    }
   ],
   "source": [
    "results_repla"
   ]
  },
  {
   "cell_type": "code",
   "execution_count": 17,
   "id": "cbb29cec",
   "metadata": {},
   "outputs": [
    {
     "data": {
      "application/vnd.microsoft.datawrangler.viewer.v0+json": {
       "columns": [
        {
         "name": "ID",
         "rawType": "object",
         "type": "string"
        },
        {
         "name": "convincing",
         "rawType": "object",
         "type": "string"
        },
        {
         "name": "discover",
         "rawType": "object",
         "type": "string"
        },
        {
         "name": "diversity",
         "rawType": "object",
         "type": "string"
        },
        {
         "name": "popularity",
         "rawType": "object",
         "type": "string"
        },
        {
         "name": "trust",
         "rawType": "object",
         "type": "string"
        },
        {
         "name": "understood",
         "rawType": "object",
         "type": "string"
        }
       ],
       "ref": "b90066fb-5dc9-4f47-a784-61f333b1c698",
       "rows": [
        [
         "4221f534-a566-4fe1-af3b-2e73067a521c",
         "More PEM",
         "Much More PEM",
         "More ExpLOD",
         "More PEM",
         "More PEM",
         "More PEM"
        ],
        [
         "3cdae0e0-3b22-46f3-a286-f502d2115f80",
         "Much More ExpLOD",
         "Much More ExpLOD",
         "Much More ExpLOD",
         "Much More ExpLOD",
         "Much More ExpLOD",
         "Much More ExpLOD"
        ],
        [
         "7d6d6774-c7b1-49c4-b4e4-c62bfd4588d1",
         "More PEM",
         "Equal",
         "Much More PEM",
         "More ExpLOD",
         "More PEM",
         "More PEM"
        ],
        [
         "73154f98-a5ae-4b38-9202-e688a0a86e28",
         "More ExpLOD",
         "More PEM",
         "More ExpLOD",
         "More ExpLOD",
         "More ExpLOD",
         "More ExpLOD"
        ],
        [
         "b7d90b39-7606-47bf-8552-d8670e7e015a",
         "More ExpLOD",
         "More ExpLOD",
         "Equal",
         "More PEM",
         "Much More ExpLOD",
         "More PEM"
        ],
        [
         "282ef334-b2de-4873-b8c0-e6e94b9777e2",
         "Equal",
         "Equal",
         "Equal",
         "Equal",
         "Equal",
         "Equal"
        ],
        [
         "d119bb66-0100-4517-8d68-0eb4a95b5a60",
         "Much More PEM",
         "Much More PEM",
         "Much More PEM",
         "More ExpLOD",
         "More PEM",
         "Much More PEM"
        ],
        [
         "e22a42d5-fd97-4040-b6ef-292b90521125",
         "Much More ExpLOD",
         "More ExpLOD",
         "More ExpLOD",
         "Much More ExpLOD",
         "More ExpLOD",
         "More ExpLOD"
        ],
        [
         "1cdedd0e-ada1-4901-9443-b9fe73ee4eaf",
         "More ExpLOD",
         "More PEM",
         "More PEM",
         "More ExpLOD",
         "More ExpLOD",
         "More ExpLOD"
        ],
        [
         "1670be4a-56a4-401b-a64a-ea8490643f1d",
         "Much More ExpLOD",
         "Much More PEM",
         "More PEM",
         "Much More ExpLOD",
         "More ExpLOD",
         "More ExpLOD"
        ],
        [
         "dc9db4df-d42a-42cd-879a-e678a69ed5c7",
         "More ExpLOD",
         "More ExpLOD",
         "More ExpLOD",
         "More ExpLOD",
         "More ExpLOD",
         "More ExpLOD"
        ],
        [
         "5efdbde1-5292-492b-b951-b97cb2c150f6",
         "More PEM",
         "Equal",
         "Equal",
         "More PEM",
         "More PEM",
         "More PEM"
        ],
        [
         "9c577360-04b1-483a-a984-a02a2a2c4689",
         "Equal",
         "More PEM",
         "More PEM",
         "More PEM",
         "More PEM",
         "More PEM"
        ],
        [
         "efc098b3-f010-4de5-8770-6e7381874f5b",
         "More PEM",
         "More PEM",
         "Equal",
         "Equal",
         "More PEM",
         "More PEM"
        ],
        [
         "d37720ea-fab8-4302-8674-808017d7bf1e",
         "Much More ExpLOD",
         "Equal",
         "More ExpLOD",
         "Much More ExpLOD",
         "Much More ExpLOD",
         "More ExpLOD"
        ],
        [
         "ce768b16-47b8-4ab1-b423-5e465434e5a5",
         "Equal",
         "Equal",
         "More ExpLOD",
         "More ExpLOD",
         "Equal",
         "More ExpLOD"
        ],
        [
         "751c5e42-c91a-4d97-994b-54c021c0accb",
         "More PEM",
         "Equal",
         "Equal",
         "More PEM",
         "More PEM",
         "Equal"
        ],
        [
         "fb63a3e6-6944-4b0c-8cd1-64513f81f0ea",
         "Equal",
         "Equal",
         "Equal",
         "Equal",
         "Equal",
         "Equal"
        ],
        [
         "37080dca-b8d4-432b-8577-ee2966dfa206",
         "More PEM",
         "More ExpLOD",
         "More PEM",
         "More ExpLOD",
         "More PEM",
         "More PEM"
        ],
        [
         "9f65a904-8847-4f78-ac85-ac54c14fd138",
         "More PEM",
         "More PEM",
         "More PEM",
         "More PEM",
         "More PEM",
         "More PEM"
        ],
        [
         "199a272e-eb22-4ae2-95fb-dd14c4fa208e",
         "Equal",
         "Equal",
         "Equal",
         "Equal",
         "Equal",
         "Equal"
        ],
        [
         "2763ffe6-f1c6-4021-b053-e1323d9d0989",
         "Equal",
         "Equal",
         "Equal",
         "Equal",
         "Equal",
         "Equal"
        ],
        [
         "eedfb2b0-6fa8-434b-90d8-43f9db8f0b5f",
         "More PEM",
         "Equal",
         "More PEM",
         "More PEM",
         "More PEM",
         "Equal"
        ],
        [
         "4d5557e0-f952-47ac-9592-ee5d08ea8ff1",
         "Equal",
         "Equal",
         "Equal",
         "Equal",
         "Equal",
         "Equal"
        ],
        [
         "6ac132c1-3b8a-4a65-bdcb-8a509c051b5e",
         "More ExpLOD",
         "More PEM",
         "More PEM",
         "More ExpLOD",
         "Equal",
         "More ExpLOD"
        ],
        [
         "e77947ce-1a03-4c88-a3b0-85067b7f6fcc",
         "More PEM",
         "More ExpLOD",
         "More PEM",
         "More PEM",
         "Equal",
         "Equal"
        ],
        [
         "b433b19b-b184-4bfa-ba9c-90c6329313ac",
         "More PEM",
         "Equal",
         "Much More PEM",
         "More PEM",
         "Much More PEM",
         "Equal"
        ],
        [
         "3887e896-3fa0-477d-be09-af967ba31f91",
         "More ExpLOD",
         "More PEM",
         "More PEM",
         "Much More ExpLOD",
         "More ExpLOD",
         "More ExpLOD"
        ],
        [
         "330036ae-330c-4fff-b455-ff819ae8adec",
         "Equal",
         "Equal",
         "More PEM",
         "More ExpLOD",
         "More ExpLOD",
         "More ExpLOD"
        ]
       ],
       "shape": {
        "columns": 6,
        "rows": 29
       }
      },
      "text/html": [
       "<div>\n",
       "<style scoped>\n",
       "    .dataframe tbody tr th:only-of-type {\n",
       "        vertical-align: middle;\n",
       "    }\n",
       "\n",
       "    .dataframe tbody tr th {\n",
       "        vertical-align: top;\n",
       "    }\n",
       "\n",
       "    .dataframe thead th {\n",
       "        text-align: right;\n",
       "    }\n",
       "</style>\n",
       "<table border=\"1\" class=\"dataframe\">\n",
       "  <thead>\n",
       "    <tr style=\"text-align: right;\">\n",
       "      <th></th>\n",
       "      <th>convincing</th>\n",
       "      <th>discover</th>\n",
       "      <th>diversity</th>\n",
       "      <th>popularity</th>\n",
       "      <th>trust</th>\n",
       "      <th>understood</th>\n",
       "    </tr>\n",
       "    <tr>\n",
       "      <th>ID</th>\n",
       "      <th></th>\n",
       "      <th></th>\n",
       "      <th></th>\n",
       "      <th></th>\n",
       "      <th></th>\n",
       "      <th></th>\n",
       "    </tr>\n",
       "  </thead>\n",
       "  <tbody>\n",
       "    <tr>\n",
       "      <th>4221f534-a566-4fe1-af3b-2e73067a521c</th>\n",
       "      <td>More PEM</td>\n",
       "      <td>Much More PEM</td>\n",
       "      <td>More ExpLOD</td>\n",
       "      <td>More PEM</td>\n",
       "      <td>More PEM</td>\n",
       "      <td>More PEM</td>\n",
       "    </tr>\n",
       "    <tr>\n",
       "      <th>3cdae0e0-3b22-46f3-a286-f502d2115f80</th>\n",
       "      <td>Much More ExpLOD</td>\n",
       "      <td>Much More ExpLOD</td>\n",
       "      <td>Much More ExpLOD</td>\n",
       "      <td>Much More ExpLOD</td>\n",
       "      <td>Much More ExpLOD</td>\n",
       "      <td>Much More ExpLOD</td>\n",
       "    </tr>\n",
       "    <tr>\n",
       "      <th>7d6d6774-c7b1-49c4-b4e4-c62bfd4588d1</th>\n",
       "      <td>More PEM</td>\n",
       "      <td>Equal</td>\n",
       "      <td>Much More PEM</td>\n",
       "      <td>More ExpLOD</td>\n",
       "      <td>More PEM</td>\n",
       "      <td>More PEM</td>\n",
       "    </tr>\n",
       "    <tr>\n",
       "      <th>73154f98-a5ae-4b38-9202-e688a0a86e28</th>\n",
       "      <td>More ExpLOD</td>\n",
       "      <td>More PEM</td>\n",
       "      <td>More ExpLOD</td>\n",
       "      <td>More ExpLOD</td>\n",
       "      <td>More ExpLOD</td>\n",
       "      <td>More ExpLOD</td>\n",
       "    </tr>\n",
       "    <tr>\n",
       "      <th>b7d90b39-7606-47bf-8552-d8670e7e015a</th>\n",
       "      <td>More ExpLOD</td>\n",
       "      <td>More ExpLOD</td>\n",
       "      <td>Equal</td>\n",
       "      <td>More PEM</td>\n",
       "      <td>Much More ExpLOD</td>\n",
       "      <td>More PEM</td>\n",
       "    </tr>\n",
       "    <tr>\n",
       "      <th>282ef334-b2de-4873-b8c0-e6e94b9777e2</th>\n",
       "      <td>Equal</td>\n",
       "      <td>Equal</td>\n",
       "      <td>Equal</td>\n",
       "      <td>Equal</td>\n",
       "      <td>Equal</td>\n",
       "      <td>Equal</td>\n",
       "    </tr>\n",
       "    <tr>\n",
       "      <th>d119bb66-0100-4517-8d68-0eb4a95b5a60</th>\n",
       "      <td>Much More PEM</td>\n",
       "      <td>Much More PEM</td>\n",
       "      <td>Much More PEM</td>\n",
       "      <td>More ExpLOD</td>\n",
       "      <td>More PEM</td>\n",
       "      <td>Much More PEM</td>\n",
       "    </tr>\n",
       "    <tr>\n",
       "      <th>e22a42d5-fd97-4040-b6ef-292b90521125</th>\n",
       "      <td>Much More ExpLOD</td>\n",
       "      <td>More ExpLOD</td>\n",
       "      <td>More ExpLOD</td>\n",
       "      <td>Much More ExpLOD</td>\n",
       "      <td>More ExpLOD</td>\n",
       "      <td>More ExpLOD</td>\n",
       "    </tr>\n",
       "    <tr>\n",
       "      <th>1cdedd0e-ada1-4901-9443-b9fe73ee4eaf</th>\n",
       "      <td>More ExpLOD</td>\n",
       "      <td>More PEM</td>\n",
       "      <td>More PEM</td>\n",
       "      <td>More ExpLOD</td>\n",
       "      <td>More ExpLOD</td>\n",
       "      <td>More ExpLOD</td>\n",
       "    </tr>\n",
       "    <tr>\n",
       "      <th>1670be4a-56a4-401b-a64a-ea8490643f1d</th>\n",
       "      <td>Much More ExpLOD</td>\n",
       "      <td>Much More PEM</td>\n",
       "      <td>More PEM</td>\n",
       "      <td>Much More ExpLOD</td>\n",
       "      <td>More ExpLOD</td>\n",
       "      <td>More ExpLOD</td>\n",
       "    </tr>\n",
       "    <tr>\n",
       "      <th>dc9db4df-d42a-42cd-879a-e678a69ed5c7</th>\n",
       "      <td>More ExpLOD</td>\n",
       "      <td>More ExpLOD</td>\n",
       "      <td>More ExpLOD</td>\n",
       "      <td>More ExpLOD</td>\n",
       "      <td>More ExpLOD</td>\n",
       "      <td>More ExpLOD</td>\n",
       "    </tr>\n",
       "    <tr>\n",
       "      <th>5efdbde1-5292-492b-b951-b97cb2c150f6</th>\n",
       "      <td>More PEM</td>\n",
       "      <td>Equal</td>\n",
       "      <td>Equal</td>\n",
       "      <td>More PEM</td>\n",
       "      <td>More PEM</td>\n",
       "      <td>More PEM</td>\n",
       "    </tr>\n",
       "    <tr>\n",
       "      <th>9c577360-04b1-483a-a984-a02a2a2c4689</th>\n",
       "      <td>Equal</td>\n",
       "      <td>More PEM</td>\n",
       "      <td>More PEM</td>\n",
       "      <td>More PEM</td>\n",
       "      <td>More PEM</td>\n",
       "      <td>More PEM</td>\n",
       "    </tr>\n",
       "    <tr>\n",
       "      <th>efc098b3-f010-4de5-8770-6e7381874f5b</th>\n",
       "      <td>More PEM</td>\n",
       "      <td>More PEM</td>\n",
       "      <td>Equal</td>\n",
       "      <td>Equal</td>\n",
       "      <td>More PEM</td>\n",
       "      <td>More PEM</td>\n",
       "    </tr>\n",
       "    <tr>\n",
       "      <th>d37720ea-fab8-4302-8674-808017d7bf1e</th>\n",
       "      <td>Much More ExpLOD</td>\n",
       "      <td>Equal</td>\n",
       "      <td>More ExpLOD</td>\n",
       "      <td>Much More ExpLOD</td>\n",
       "      <td>Much More ExpLOD</td>\n",
       "      <td>More ExpLOD</td>\n",
       "    </tr>\n",
       "    <tr>\n",
       "      <th>ce768b16-47b8-4ab1-b423-5e465434e5a5</th>\n",
       "      <td>Equal</td>\n",
       "      <td>Equal</td>\n",
       "      <td>More ExpLOD</td>\n",
       "      <td>More ExpLOD</td>\n",
       "      <td>Equal</td>\n",
       "      <td>More ExpLOD</td>\n",
       "    </tr>\n",
       "    <tr>\n",
       "      <th>751c5e42-c91a-4d97-994b-54c021c0accb</th>\n",
       "      <td>More PEM</td>\n",
       "      <td>Equal</td>\n",
       "      <td>Equal</td>\n",
       "      <td>More PEM</td>\n",
       "      <td>More PEM</td>\n",
       "      <td>Equal</td>\n",
       "    </tr>\n",
       "    <tr>\n",
       "      <th>fb63a3e6-6944-4b0c-8cd1-64513f81f0ea</th>\n",
       "      <td>Equal</td>\n",
       "      <td>Equal</td>\n",
       "      <td>Equal</td>\n",
       "      <td>Equal</td>\n",
       "      <td>Equal</td>\n",
       "      <td>Equal</td>\n",
       "    </tr>\n",
       "    <tr>\n",
       "      <th>37080dca-b8d4-432b-8577-ee2966dfa206</th>\n",
       "      <td>More PEM</td>\n",
       "      <td>More ExpLOD</td>\n",
       "      <td>More PEM</td>\n",
       "      <td>More ExpLOD</td>\n",
       "      <td>More PEM</td>\n",
       "      <td>More PEM</td>\n",
       "    </tr>\n",
       "    <tr>\n",
       "      <th>9f65a904-8847-4f78-ac85-ac54c14fd138</th>\n",
       "      <td>More PEM</td>\n",
       "      <td>More PEM</td>\n",
       "      <td>More PEM</td>\n",
       "      <td>More PEM</td>\n",
       "      <td>More PEM</td>\n",
       "      <td>More PEM</td>\n",
       "    </tr>\n",
       "    <tr>\n",
       "      <th>199a272e-eb22-4ae2-95fb-dd14c4fa208e</th>\n",
       "      <td>Equal</td>\n",
       "      <td>Equal</td>\n",
       "      <td>Equal</td>\n",
       "      <td>Equal</td>\n",
       "      <td>Equal</td>\n",
       "      <td>Equal</td>\n",
       "    </tr>\n",
       "    <tr>\n",
       "      <th>2763ffe6-f1c6-4021-b053-e1323d9d0989</th>\n",
       "      <td>Equal</td>\n",
       "      <td>Equal</td>\n",
       "      <td>Equal</td>\n",
       "      <td>Equal</td>\n",
       "      <td>Equal</td>\n",
       "      <td>Equal</td>\n",
       "    </tr>\n",
       "    <tr>\n",
       "      <th>eedfb2b0-6fa8-434b-90d8-43f9db8f0b5f</th>\n",
       "      <td>More PEM</td>\n",
       "      <td>Equal</td>\n",
       "      <td>More PEM</td>\n",
       "      <td>More PEM</td>\n",
       "      <td>More PEM</td>\n",
       "      <td>Equal</td>\n",
       "    </tr>\n",
       "    <tr>\n",
       "      <th>4d5557e0-f952-47ac-9592-ee5d08ea8ff1</th>\n",
       "      <td>Equal</td>\n",
       "      <td>Equal</td>\n",
       "      <td>Equal</td>\n",
       "      <td>Equal</td>\n",
       "      <td>Equal</td>\n",
       "      <td>Equal</td>\n",
       "    </tr>\n",
       "    <tr>\n",
       "      <th>6ac132c1-3b8a-4a65-bdcb-8a509c051b5e</th>\n",
       "      <td>More ExpLOD</td>\n",
       "      <td>More PEM</td>\n",
       "      <td>More PEM</td>\n",
       "      <td>More ExpLOD</td>\n",
       "      <td>Equal</td>\n",
       "      <td>More ExpLOD</td>\n",
       "    </tr>\n",
       "    <tr>\n",
       "      <th>e77947ce-1a03-4c88-a3b0-85067b7f6fcc</th>\n",
       "      <td>More PEM</td>\n",
       "      <td>More ExpLOD</td>\n",
       "      <td>More PEM</td>\n",
       "      <td>More PEM</td>\n",
       "      <td>Equal</td>\n",
       "      <td>Equal</td>\n",
       "    </tr>\n",
       "    <tr>\n",
       "      <th>b433b19b-b184-4bfa-ba9c-90c6329313ac</th>\n",
       "      <td>More PEM</td>\n",
       "      <td>Equal</td>\n",
       "      <td>Much More PEM</td>\n",
       "      <td>More PEM</td>\n",
       "      <td>Much More PEM</td>\n",
       "      <td>Equal</td>\n",
       "    </tr>\n",
       "    <tr>\n",
       "      <th>3887e896-3fa0-477d-be09-af967ba31f91</th>\n",
       "      <td>More ExpLOD</td>\n",
       "      <td>More PEM</td>\n",
       "      <td>More PEM</td>\n",
       "      <td>Much More ExpLOD</td>\n",
       "      <td>More ExpLOD</td>\n",
       "      <td>More ExpLOD</td>\n",
       "    </tr>\n",
       "    <tr>\n",
       "      <th>330036ae-330c-4fff-b455-ff819ae8adec</th>\n",
       "      <td>Equal</td>\n",
       "      <td>Equal</td>\n",
       "      <td>More PEM</td>\n",
       "      <td>More ExpLOD</td>\n",
       "      <td>More ExpLOD</td>\n",
       "      <td>More ExpLOD</td>\n",
       "    </tr>\n",
       "  </tbody>\n",
       "</table>\n",
       "</div>"
      ],
      "text/plain": [
       "                                            convincing          discover  \\\n",
       "ID                                                                         \n",
       "4221f534-a566-4fe1-af3b-2e73067a521c          More PEM     Much More PEM   \n",
       "3cdae0e0-3b22-46f3-a286-f502d2115f80  Much More ExpLOD  Much More ExpLOD   \n",
       "7d6d6774-c7b1-49c4-b4e4-c62bfd4588d1          More PEM             Equal   \n",
       "73154f98-a5ae-4b38-9202-e688a0a86e28       More ExpLOD          More PEM   \n",
       "b7d90b39-7606-47bf-8552-d8670e7e015a       More ExpLOD       More ExpLOD   \n",
       "282ef334-b2de-4873-b8c0-e6e94b9777e2             Equal             Equal   \n",
       "d119bb66-0100-4517-8d68-0eb4a95b5a60     Much More PEM     Much More PEM   \n",
       "e22a42d5-fd97-4040-b6ef-292b90521125  Much More ExpLOD       More ExpLOD   \n",
       "1cdedd0e-ada1-4901-9443-b9fe73ee4eaf       More ExpLOD          More PEM   \n",
       "1670be4a-56a4-401b-a64a-ea8490643f1d  Much More ExpLOD     Much More PEM   \n",
       "dc9db4df-d42a-42cd-879a-e678a69ed5c7       More ExpLOD       More ExpLOD   \n",
       "5efdbde1-5292-492b-b951-b97cb2c150f6          More PEM             Equal   \n",
       "9c577360-04b1-483a-a984-a02a2a2c4689             Equal          More PEM   \n",
       "efc098b3-f010-4de5-8770-6e7381874f5b          More PEM          More PEM   \n",
       "d37720ea-fab8-4302-8674-808017d7bf1e  Much More ExpLOD             Equal   \n",
       "ce768b16-47b8-4ab1-b423-5e465434e5a5             Equal             Equal   \n",
       "751c5e42-c91a-4d97-994b-54c021c0accb          More PEM             Equal   \n",
       "fb63a3e6-6944-4b0c-8cd1-64513f81f0ea             Equal             Equal   \n",
       "37080dca-b8d4-432b-8577-ee2966dfa206          More PEM       More ExpLOD   \n",
       "9f65a904-8847-4f78-ac85-ac54c14fd138          More PEM          More PEM   \n",
       "199a272e-eb22-4ae2-95fb-dd14c4fa208e             Equal             Equal   \n",
       "2763ffe6-f1c6-4021-b053-e1323d9d0989             Equal             Equal   \n",
       "eedfb2b0-6fa8-434b-90d8-43f9db8f0b5f          More PEM             Equal   \n",
       "4d5557e0-f952-47ac-9592-ee5d08ea8ff1             Equal             Equal   \n",
       "6ac132c1-3b8a-4a65-bdcb-8a509c051b5e       More ExpLOD          More PEM   \n",
       "e77947ce-1a03-4c88-a3b0-85067b7f6fcc          More PEM       More ExpLOD   \n",
       "b433b19b-b184-4bfa-ba9c-90c6329313ac          More PEM             Equal   \n",
       "3887e896-3fa0-477d-be09-af967ba31f91       More ExpLOD          More PEM   \n",
       "330036ae-330c-4fff-b455-ff819ae8adec             Equal             Equal   \n",
       "\n",
       "                                             diversity        popularity  \\\n",
       "ID                                                                         \n",
       "4221f534-a566-4fe1-af3b-2e73067a521c       More ExpLOD          More PEM   \n",
       "3cdae0e0-3b22-46f3-a286-f502d2115f80  Much More ExpLOD  Much More ExpLOD   \n",
       "7d6d6774-c7b1-49c4-b4e4-c62bfd4588d1     Much More PEM       More ExpLOD   \n",
       "73154f98-a5ae-4b38-9202-e688a0a86e28       More ExpLOD       More ExpLOD   \n",
       "b7d90b39-7606-47bf-8552-d8670e7e015a             Equal          More PEM   \n",
       "282ef334-b2de-4873-b8c0-e6e94b9777e2             Equal             Equal   \n",
       "d119bb66-0100-4517-8d68-0eb4a95b5a60     Much More PEM       More ExpLOD   \n",
       "e22a42d5-fd97-4040-b6ef-292b90521125       More ExpLOD  Much More ExpLOD   \n",
       "1cdedd0e-ada1-4901-9443-b9fe73ee4eaf          More PEM       More ExpLOD   \n",
       "1670be4a-56a4-401b-a64a-ea8490643f1d          More PEM  Much More ExpLOD   \n",
       "dc9db4df-d42a-42cd-879a-e678a69ed5c7       More ExpLOD       More ExpLOD   \n",
       "5efdbde1-5292-492b-b951-b97cb2c150f6             Equal          More PEM   \n",
       "9c577360-04b1-483a-a984-a02a2a2c4689          More PEM          More PEM   \n",
       "efc098b3-f010-4de5-8770-6e7381874f5b             Equal             Equal   \n",
       "d37720ea-fab8-4302-8674-808017d7bf1e       More ExpLOD  Much More ExpLOD   \n",
       "ce768b16-47b8-4ab1-b423-5e465434e5a5       More ExpLOD       More ExpLOD   \n",
       "751c5e42-c91a-4d97-994b-54c021c0accb             Equal          More PEM   \n",
       "fb63a3e6-6944-4b0c-8cd1-64513f81f0ea             Equal             Equal   \n",
       "37080dca-b8d4-432b-8577-ee2966dfa206          More PEM       More ExpLOD   \n",
       "9f65a904-8847-4f78-ac85-ac54c14fd138          More PEM          More PEM   \n",
       "199a272e-eb22-4ae2-95fb-dd14c4fa208e             Equal             Equal   \n",
       "2763ffe6-f1c6-4021-b053-e1323d9d0989             Equal             Equal   \n",
       "eedfb2b0-6fa8-434b-90d8-43f9db8f0b5f          More PEM          More PEM   \n",
       "4d5557e0-f952-47ac-9592-ee5d08ea8ff1             Equal             Equal   \n",
       "6ac132c1-3b8a-4a65-bdcb-8a509c051b5e          More PEM       More ExpLOD   \n",
       "e77947ce-1a03-4c88-a3b0-85067b7f6fcc          More PEM          More PEM   \n",
       "b433b19b-b184-4bfa-ba9c-90c6329313ac     Much More PEM          More PEM   \n",
       "3887e896-3fa0-477d-be09-af967ba31f91          More PEM  Much More ExpLOD   \n",
       "330036ae-330c-4fff-b455-ff819ae8adec          More PEM       More ExpLOD   \n",
       "\n",
       "                                                 trust        understood  \n",
       "ID                                                                        \n",
       "4221f534-a566-4fe1-af3b-2e73067a521c          More PEM          More PEM  \n",
       "3cdae0e0-3b22-46f3-a286-f502d2115f80  Much More ExpLOD  Much More ExpLOD  \n",
       "7d6d6774-c7b1-49c4-b4e4-c62bfd4588d1          More PEM          More PEM  \n",
       "73154f98-a5ae-4b38-9202-e688a0a86e28       More ExpLOD       More ExpLOD  \n",
       "b7d90b39-7606-47bf-8552-d8670e7e015a  Much More ExpLOD          More PEM  \n",
       "282ef334-b2de-4873-b8c0-e6e94b9777e2             Equal             Equal  \n",
       "d119bb66-0100-4517-8d68-0eb4a95b5a60          More PEM     Much More PEM  \n",
       "e22a42d5-fd97-4040-b6ef-292b90521125       More ExpLOD       More ExpLOD  \n",
       "1cdedd0e-ada1-4901-9443-b9fe73ee4eaf       More ExpLOD       More ExpLOD  \n",
       "1670be4a-56a4-401b-a64a-ea8490643f1d       More ExpLOD       More ExpLOD  \n",
       "dc9db4df-d42a-42cd-879a-e678a69ed5c7       More ExpLOD       More ExpLOD  \n",
       "5efdbde1-5292-492b-b951-b97cb2c150f6          More PEM          More PEM  \n",
       "9c577360-04b1-483a-a984-a02a2a2c4689          More PEM          More PEM  \n",
       "efc098b3-f010-4de5-8770-6e7381874f5b          More PEM          More PEM  \n",
       "d37720ea-fab8-4302-8674-808017d7bf1e  Much More ExpLOD       More ExpLOD  \n",
       "ce768b16-47b8-4ab1-b423-5e465434e5a5             Equal       More ExpLOD  \n",
       "751c5e42-c91a-4d97-994b-54c021c0accb          More PEM             Equal  \n",
       "fb63a3e6-6944-4b0c-8cd1-64513f81f0ea             Equal             Equal  \n",
       "37080dca-b8d4-432b-8577-ee2966dfa206          More PEM          More PEM  \n",
       "9f65a904-8847-4f78-ac85-ac54c14fd138          More PEM          More PEM  \n",
       "199a272e-eb22-4ae2-95fb-dd14c4fa208e             Equal             Equal  \n",
       "2763ffe6-f1c6-4021-b053-e1323d9d0989             Equal             Equal  \n",
       "eedfb2b0-6fa8-434b-90d8-43f9db8f0b5f          More PEM             Equal  \n",
       "4d5557e0-f952-47ac-9592-ee5d08ea8ff1             Equal             Equal  \n",
       "6ac132c1-3b8a-4a65-bdcb-8a509c051b5e             Equal       More ExpLOD  \n",
       "e77947ce-1a03-4c88-a3b0-85067b7f6fcc             Equal             Equal  \n",
       "b433b19b-b184-4bfa-ba9c-90c6329313ac     Much More PEM             Equal  \n",
       "3887e896-3fa0-477d-be09-af967ba31f91       More ExpLOD       More ExpLOD  \n",
       "330036ae-330c-4fff-b455-ff819ae8adec       More ExpLOD       More ExpLOD  "
      ]
     },
     "execution_count": 17,
     "metadata": {},
     "output_type": "execute_result"
    }
   ],
   "source": [
    "results_replb"
   ]
  },
  {
   "cell_type": "code",
   "execution_count": 18,
   "id": "5a2a2b36",
   "metadata": {},
   "outputs": [],
   "source": [
    "def quest_results(column):\n",
    "    df_a = results_repla[column].value_counts()\n",
    "    df_b = results_replb[column].value_counts()\n",
    "    df_final = pd.DataFrame(columns=['count'])\n",
    "    for c in df_a.index.union(df_b.index):\n",
    "        if c not in df_a.index:\n",
    "            df_final.loc[c] = df_b[c]\n",
    "        elif c not in df_b.index:\n",
    "            df_final.loc[c] = df_a[c]\n",
    "        elif c not in df_a.index and c not in df_b.index:\n",
    "            df_final.loc[c] = 0\n",
    "        else:\n",
    "            df_final.loc[c] = df_a[c] + df_b[c]\n",
    "    return df_final"
   ]
  },
  {
   "cell_type": "code",
   "execution_count": 19,
   "id": "88f6dda5",
   "metadata": {},
   "outputs": [
    {
     "data": {
      "application/vnd.microsoft.datawrangler.viewer.v0+json": {
       "columns": [
        {
         "name": "index",
         "rawType": "object",
         "type": "string"
        },
        {
         "name": "count",
         "rawType": "int64",
         "type": "integer"
        }
       ],
       "ref": "c716ae84-8141-4080-8bab-58e3e81dff0f",
       "rows": [
        [
         "More PEM",
         "20"
        ],
        [
         "Equal",
         "15"
        ],
        [
         "More ExpLOD",
         "13"
        ],
        [
         "Much More ExpLOD",
         "5"
        ],
        [
         "Much More PEM",
         "2"
        ]
       ],
       "shape": {
        "columns": 1,
        "rows": 5
       }
      },
      "text/html": [
       "<div>\n",
       "<style scoped>\n",
       "    .dataframe tbody tr th:only-of-type {\n",
       "        vertical-align: middle;\n",
       "    }\n",
       "\n",
       "    .dataframe tbody tr th {\n",
       "        vertical-align: top;\n",
       "    }\n",
       "\n",
       "    .dataframe thead th {\n",
       "        text-align: right;\n",
       "    }\n",
       "</style>\n",
       "<table border=\"1\" class=\"dataframe\">\n",
       "  <thead>\n",
       "    <tr style=\"text-align: right;\">\n",
       "      <th></th>\n",
       "      <th>count</th>\n",
       "    </tr>\n",
       "  </thead>\n",
       "  <tbody>\n",
       "    <tr>\n",
       "      <th>More PEM</th>\n",
       "      <td>20</td>\n",
       "    </tr>\n",
       "    <tr>\n",
       "      <th>Equal</th>\n",
       "      <td>15</td>\n",
       "    </tr>\n",
       "    <tr>\n",
       "      <th>More ExpLOD</th>\n",
       "      <td>13</td>\n",
       "    </tr>\n",
       "    <tr>\n",
       "      <th>Much More ExpLOD</th>\n",
       "      <td>5</td>\n",
       "    </tr>\n",
       "    <tr>\n",
       "      <th>Much More PEM</th>\n",
       "      <td>2</td>\n",
       "    </tr>\n",
       "  </tbody>\n",
       "</table>\n",
       "</div>"
      ],
      "text/plain": [
       "                  count\n",
       "More PEM             20\n",
       "Equal                15\n",
       "More ExpLOD          13\n",
       "Much More ExpLOD      5\n",
       "Much More PEM         2"
      ]
     },
     "execution_count": 19,
     "metadata": {},
     "output_type": "execute_result"
    }
   ],
   "source": [
    "quest_results('convincing').sort_values('count', ascending=False)"
   ]
  },
  {
   "cell_type": "code",
   "execution_count": 20,
   "id": "f915fd77",
   "metadata": {},
   "outputs": [
    {
     "data": {
      "application/vnd.microsoft.datawrangler.viewer.v0+json": {
       "columns": [
        {
         "name": "index",
         "rawType": "object",
         "type": "string"
        },
        {
         "name": "count",
         "rawType": "int64",
         "type": "integer"
        }
       ],
       "ref": "699d8309-e303-40b5-b2a9-3c00fd028ca8",
       "rows": [
        [
         "More PEM",
         "20"
        ],
        [
         "Equal",
         "15"
        ],
        [
         "More ExpLOD",
         "14"
        ],
        [
         "Much More PEM",
         "5"
        ],
        [
         "Much More ExpLOD",
         "1"
        ]
       ],
       "shape": {
        "columns": 1,
        "rows": 5
       }
      },
      "text/html": [
       "<div>\n",
       "<style scoped>\n",
       "    .dataframe tbody tr th:only-of-type {\n",
       "        vertical-align: middle;\n",
       "    }\n",
       "\n",
       "    .dataframe tbody tr th {\n",
       "        vertical-align: top;\n",
       "    }\n",
       "\n",
       "    .dataframe thead th {\n",
       "        text-align: right;\n",
       "    }\n",
       "</style>\n",
       "<table border=\"1\" class=\"dataframe\">\n",
       "  <thead>\n",
       "    <tr style=\"text-align: right;\">\n",
       "      <th></th>\n",
       "      <th>count</th>\n",
       "    </tr>\n",
       "  </thead>\n",
       "  <tbody>\n",
       "    <tr>\n",
       "      <th>More PEM</th>\n",
       "      <td>20</td>\n",
       "    </tr>\n",
       "    <tr>\n",
       "      <th>Equal</th>\n",
       "      <td>15</td>\n",
       "    </tr>\n",
       "    <tr>\n",
       "      <th>More ExpLOD</th>\n",
       "      <td>14</td>\n",
       "    </tr>\n",
       "    <tr>\n",
       "      <th>Much More PEM</th>\n",
       "      <td>5</td>\n",
       "    </tr>\n",
       "    <tr>\n",
       "      <th>Much More ExpLOD</th>\n",
       "      <td>1</td>\n",
       "    </tr>\n",
       "  </tbody>\n",
       "</table>\n",
       "</div>"
      ],
      "text/plain": [
       "                  count\n",
       "More PEM             20\n",
       "Equal                15\n",
       "More ExpLOD          14\n",
       "Much More PEM         5\n",
       "Much More ExpLOD      1"
      ]
     },
     "execution_count": 20,
     "metadata": {},
     "output_type": "execute_result"
    }
   ],
   "source": [
    "quest_results('diversity').sort_values('count', ascending=False)"
   ]
  },
  {
   "cell_type": "code",
   "execution_count": 21,
   "id": "b7416cfb",
   "metadata": {},
   "outputs": [
    {
     "data": {
      "application/vnd.microsoft.datawrangler.viewer.v0+json": {
       "columns": [
        {
         "name": "index",
         "rawType": "object",
         "type": "string"
        },
        {
         "name": "count",
         "rawType": "int64",
         "type": "integer"
        }
       ],
       "ref": "160c35f9-01cc-4d92-afa8-1b94dedbfcf6",
       "rows": [
        [
         "More ExpLOD",
         "17"
        ],
        [
         "Equal",
         "15"
        ],
        [
         "More PEM",
         "14"
        ],
        [
         "Much More ExpLOD",
         "7"
        ],
        [
         "Much More PEM",
         "2"
        ]
       ],
       "shape": {
        "columns": 1,
        "rows": 5
       }
      },
      "text/html": [
       "<div>\n",
       "<style scoped>\n",
       "    .dataframe tbody tr th:only-of-type {\n",
       "        vertical-align: middle;\n",
       "    }\n",
       "\n",
       "    .dataframe tbody tr th {\n",
       "        vertical-align: top;\n",
       "    }\n",
       "\n",
       "    .dataframe thead th {\n",
       "        text-align: right;\n",
       "    }\n",
       "</style>\n",
       "<table border=\"1\" class=\"dataframe\">\n",
       "  <thead>\n",
       "    <tr style=\"text-align: right;\">\n",
       "      <th></th>\n",
       "      <th>count</th>\n",
       "    </tr>\n",
       "  </thead>\n",
       "  <tbody>\n",
       "    <tr>\n",
       "      <th>More ExpLOD</th>\n",
       "      <td>17</td>\n",
       "    </tr>\n",
       "    <tr>\n",
       "      <th>Equal</th>\n",
       "      <td>15</td>\n",
       "    </tr>\n",
       "    <tr>\n",
       "      <th>More PEM</th>\n",
       "      <td>14</td>\n",
       "    </tr>\n",
       "    <tr>\n",
       "      <th>Much More ExpLOD</th>\n",
       "      <td>7</td>\n",
       "    </tr>\n",
       "    <tr>\n",
       "      <th>Much More PEM</th>\n",
       "      <td>2</td>\n",
       "    </tr>\n",
       "  </tbody>\n",
       "</table>\n",
       "</div>"
      ],
      "text/plain": [
       "                  count\n",
       "More ExpLOD          17\n",
       "Equal                15\n",
       "More PEM             14\n",
       "Much More ExpLOD      7\n",
       "Much More PEM         2"
      ]
     },
     "execution_count": 21,
     "metadata": {},
     "output_type": "execute_result"
    }
   ],
   "source": [
    "quest_results('popularity').sort_values('count', ascending=False)"
   ]
  },
  {
   "cell_type": "code",
   "execution_count": 22,
   "id": "52ab4c8e",
   "metadata": {},
   "outputs": [
    {
     "data": {
      "application/vnd.microsoft.datawrangler.viewer.v0+json": {
       "columns": [
        {
         "name": "index",
         "rawType": "object",
         "type": "string"
        },
        {
         "name": "count",
         "rawType": "int64",
         "type": "integer"
        }
       ],
       "ref": "02d1bddf-5bbf-4f37-820c-e0ad05818145",
       "rows": [
        [
         "Equal",
         "17"
        ],
        [
         "More ExpLOD",
         "17"
        ],
        [
         "More PEM",
         "16"
        ],
        [
         "Much More ExpLOD",
         "3"
        ],
        [
         "Much More PEM",
         "2"
        ]
       ],
       "shape": {
        "columns": 1,
        "rows": 5
       }
      },
      "text/html": [
       "<div>\n",
       "<style scoped>\n",
       "    .dataframe tbody tr th:only-of-type {\n",
       "        vertical-align: middle;\n",
       "    }\n",
       "\n",
       "    .dataframe tbody tr th {\n",
       "        vertical-align: top;\n",
       "    }\n",
       "\n",
       "    .dataframe thead th {\n",
       "        text-align: right;\n",
       "    }\n",
       "</style>\n",
       "<table border=\"1\" class=\"dataframe\">\n",
       "  <thead>\n",
       "    <tr style=\"text-align: right;\">\n",
       "      <th></th>\n",
       "      <th>count</th>\n",
       "    </tr>\n",
       "  </thead>\n",
       "  <tbody>\n",
       "    <tr>\n",
       "      <th>Equal</th>\n",
       "      <td>17</td>\n",
       "    </tr>\n",
       "    <tr>\n",
       "      <th>More ExpLOD</th>\n",
       "      <td>17</td>\n",
       "    </tr>\n",
       "    <tr>\n",
       "      <th>More PEM</th>\n",
       "      <td>16</td>\n",
       "    </tr>\n",
       "    <tr>\n",
       "      <th>Much More ExpLOD</th>\n",
       "      <td>3</td>\n",
       "    </tr>\n",
       "    <tr>\n",
       "      <th>Much More PEM</th>\n",
       "      <td>2</td>\n",
       "    </tr>\n",
       "  </tbody>\n",
       "</table>\n",
       "</div>"
      ],
      "text/plain": [
       "                  count\n",
       "Equal                17\n",
       "More ExpLOD          17\n",
       "More PEM             16\n",
       "Much More ExpLOD      3\n",
       "Much More PEM         2"
      ]
     },
     "execution_count": 22,
     "metadata": {},
     "output_type": "execute_result"
    }
   ],
   "source": [
    "quest_results('trust').sort_values('count', ascending=False)"
   ]
  },
  {
   "cell_type": "code",
   "execution_count": 23,
   "id": "4b38ea24",
   "metadata": {},
   "outputs": [
    {
     "data": {
      "application/vnd.microsoft.datawrangler.viewer.v0+json": {
       "columns": [
        {
         "name": "index",
         "rawType": "object",
         "type": "string"
        },
        {
         "name": "0",
         "rawType": "object",
         "type": "unknown"
        }
       ],
       "ref": "282d62fa-d963-4148-bfcf-856ac5c0f665",
       "rows": [
        [
         "Equal",
         "17"
        ],
        [
         "More ExpLOD",
         "17"
        ],
        [
         "More PEM",
         "16"
        ],
        [
         "Much More ExpLOD",
         "3"
        ],
        [
         "Much More PEM",
         "2"
        ],
        [
         "Category",
         "Trust"
        ]
       ],
       "shape": {
        "columns": 1,
        "rows": 6
       }
      },
      "text/plain": [
       "Equal                  17\n",
       "More ExpLOD            17\n",
       "More PEM               16\n",
       "Much More ExpLOD        3\n",
       "Much More PEM           2\n",
       "Category            Trust\n",
       "Name: 0, dtype: object"
      ]
     },
     "execution_count": 23,
     "metadata": {},
     "output_type": "execute_result"
    }
   ],
   "source": [
    "a = quest_results('trust').sort_values('count', ascending=False).T.reset_index().drop(columns=\"index\")\n",
    "a[\"Category\"] = 'Trust'\n",
    "a.iloc[0]"
   ]
  },
  {
   "cell_type": "code",
   "execution_count": 24,
   "id": "70fa7fa1",
   "metadata": {
    "scrolled": true
   },
   "outputs": [
    {
     "data": {
      "application/vnd.microsoft.datawrangler.viewer.v0+json": {
       "columns": [
        {
         "name": "index",
         "rawType": "object",
         "type": "string"
        },
        {
         "name": "count",
         "rawType": "int64",
         "type": "integer"
        }
       ],
       "ref": "382e69aa-f3be-4101-88cc-4bc7e2b82ce5",
       "rows": [
        [
         "More ExpLOD",
         "20"
        ],
        [
         "Equal",
         "15"
        ],
        [
         "More PEM",
         "13"
        ],
        [
         "Much More PEM",
         "5"
        ],
        [
         "Much More ExpLOD",
         "2"
        ]
       ],
       "shape": {
        "columns": 1,
        "rows": 5
       }
      },
      "text/html": [
       "<div>\n",
       "<style scoped>\n",
       "    .dataframe tbody tr th:only-of-type {\n",
       "        vertical-align: middle;\n",
       "    }\n",
       "\n",
       "    .dataframe tbody tr th {\n",
       "        vertical-align: top;\n",
       "    }\n",
       "\n",
       "    .dataframe thead th {\n",
       "        text-align: right;\n",
       "    }\n",
       "</style>\n",
       "<table border=\"1\" class=\"dataframe\">\n",
       "  <thead>\n",
       "    <tr style=\"text-align: right;\">\n",
       "      <th></th>\n",
       "      <th>count</th>\n",
       "    </tr>\n",
       "  </thead>\n",
       "  <tbody>\n",
       "    <tr>\n",
       "      <th>More ExpLOD</th>\n",
       "      <td>20</td>\n",
       "    </tr>\n",
       "    <tr>\n",
       "      <th>Equal</th>\n",
       "      <td>15</td>\n",
       "    </tr>\n",
       "    <tr>\n",
       "      <th>More PEM</th>\n",
       "      <td>13</td>\n",
       "    </tr>\n",
       "    <tr>\n",
       "      <th>Much More PEM</th>\n",
       "      <td>5</td>\n",
       "    </tr>\n",
       "    <tr>\n",
       "      <th>Much More ExpLOD</th>\n",
       "      <td>2</td>\n",
       "    </tr>\n",
       "  </tbody>\n",
       "</table>\n",
       "</div>"
      ],
      "text/plain": [
       "                  count\n",
       "More ExpLOD          20\n",
       "Equal                15\n",
       "More PEM             13\n",
       "Much More PEM         5\n",
       "Much More ExpLOD      2"
      ]
     },
     "execution_count": 24,
     "metadata": {},
     "output_type": "execute_result"
    }
   ],
   "source": [
    "quest_results('understood').sort_values('count', ascending=False)"
   ]
  },
  {
   "cell_type": "code",
   "execution_count": 25,
   "id": "a2ce8f61",
   "metadata": {},
   "outputs": [
    {
     "data": {
      "application/vnd.microsoft.datawrangler.viewer.v0+json": {
       "columns": [
        {
         "name": "index",
         "rawType": "object",
         "type": "string"
        },
        {
         "name": "count",
         "rawType": "int64",
         "type": "integer"
        }
       ],
       "ref": "0b077ac8-bbb9-46b6-b883-eb34c6f6d1bd",
       "rows": [
        [
         "Equal",
         "23"
        ],
        [
         "More PEM",
         "14"
        ],
        [
         "More ExpLOD",
         "12"
        ],
        [
         "Much More PEM",
         "4"
        ],
        [
         "Much More ExpLOD",
         "2"
        ]
       ],
       "shape": {
        "columns": 1,
        "rows": 5
       }
      },
      "text/html": [
       "<div>\n",
       "<style scoped>\n",
       "    .dataframe tbody tr th:only-of-type {\n",
       "        vertical-align: middle;\n",
       "    }\n",
       "\n",
       "    .dataframe tbody tr th {\n",
       "        vertical-align: top;\n",
       "    }\n",
       "\n",
       "    .dataframe thead th {\n",
       "        text-align: right;\n",
       "    }\n",
       "</style>\n",
       "<table border=\"1\" class=\"dataframe\">\n",
       "  <thead>\n",
       "    <tr style=\"text-align: right;\">\n",
       "      <th></th>\n",
       "      <th>count</th>\n",
       "    </tr>\n",
       "  </thead>\n",
       "  <tbody>\n",
       "    <tr>\n",
       "      <th>Equal</th>\n",
       "      <td>23</td>\n",
       "    </tr>\n",
       "    <tr>\n",
       "      <th>More PEM</th>\n",
       "      <td>14</td>\n",
       "    </tr>\n",
       "    <tr>\n",
       "      <th>More ExpLOD</th>\n",
       "      <td>12</td>\n",
       "    </tr>\n",
       "    <tr>\n",
       "      <th>Much More PEM</th>\n",
       "      <td>4</td>\n",
       "    </tr>\n",
       "    <tr>\n",
       "      <th>Much More ExpLOD</th>\n",
       "      <td>2</td>\n",
       "    </tr>\n",
       "  </tbody>\n",
       "</table>\n",
       "</div>"
      ],
      "text/plain": [
       "                  count\n",
       "Equal                23\n",
       "More PEM             14\n",
       "More ExpLOD          12\n",
       "Much More PEM         4\n",
       "Much More ExpLOD      2"
      ]
     },
     "execution_count": 25,
     "metadata": {},
     "output_type": "execute_result"
    }
   ],
   "source": [
    "quest_results('discover').sort_values('count', ascending=False)"
   ]
  },
  {
   "cell_type": "code",
   "execution_count": 26,
   "id": "419bf869",
   "metadata": {},
   "outputs": [
    {
     "data": {
      "application/vnd.microsoft.datawrangler.viewer.v0+json": {
       "columns": [
        {
         "name": "index",
         "rawType": "int64",
         "type": "integer"
        },
        {
         "name": "Category",
         "rawType": "object",
         "type": "string"
        },
        {
         "name": "Equal",
         "rawType": "object",
         "type": "unknown"
        },
        {
         "name": "More ExpLOD",
         "rawType": "object",
         "type": "unknown"
        },
        {
         "name": "More PEM",
         "rawType": "object",
         "type": "unknown"
        },
        {
         "name": "Much More ExpLOD",
         "rawType": "object",
         "type": "unknown"
        },
        {
         "name": "Much More PEM",
         "rawType": "object",
         "type": "unknown"
        }
       ],
       "ref": "0cb37376-f1f8-48b6-936f-45bb0c0fbe84",
       "rows": [
        [
         "0",
         "Diversity",
         "15",
         "14",
         "20",
         "1",
         "5"
        ],
        [
         "1",
         "Popularity",
         "15",
         "17",
         "14",
         "7",
         "2"
        ],
        [
         "2",
         "Transparency",
         "15",
         "20",
         "13",
         "2",
         "5"
        ],
        [
         "3",
         "Engagement",
         "23",
         "12",
         "14",
         "2",
         "4"
        ],
        [
         "4",
         "Trust",
         "17",
         "17",
         "16",
         "3",
         "2"
        ],
        [
         "5",
         "Persuasiveness",
         "15",
         "13",
         "20",
         "5",
         "2"
        ]
       ],
       "shape": {
        "columns": 6,
        "rows": 6
       }
      },
      "text/html": [
       "<div>\n",
       "<style scoped>\n",
       "    .dataframe tbody tr th:only-of-type {\n",
       "        vertical-align: middle;\n",
       "    }\n",
       "\n",
       "    .dataframe tbody tr th {\n",
       "        vertical-align: top;\n",
       "    }\n",
       "\n",
       "    .dataframe thead th {\n",
       "        text-align: right;\n",
       "    }\n",
       "</style>\n",
       "<table border=\"1\" class=\"dataframe\">\n",
       "  <thead>\n",
       "    <tr style=\"text-align: right;\">\n",
       "      <th></th>\n",
       "      <th>Category</th>\n",
       "      <th>Equal</th>\n",
       "      <th>More ExpLOD</th>\n",
       "      <th>More PEM</th>\n",
       "      <th>Much More ExpLOD</th>\n",
       "      <th>Much More PEM</th>\n",
       "    </tr>\n",
       "  </thead>\n",
       "  <tbody>\n",
       "    <tr>\n",
       "      <th>0</th>\n",
       "      <td>Diversity</td>\n",
       "      <td>15</td>\n",
       "      <td>14</td>\n",
       "      <td>20</td>\n",
       "      <td>1</td>\n",
       "      <td>5</td>\n",
       "    </tr>\n",
       "    <tr>\n",
       "      <th>1</th>\n",
       "      <td>Popularity</td>\n",
       "      <td>15</td>\n",
       "      <td>17</td>\n",
       "      <td>14</td>\n",
       "      <td>7</td>\n",
       "      <td>2</td>\n",
       "    </tr>\n",
       "    <tr>\n",
       "      <th>2</th>\n",
       "      <td>Transparency</td>\n",
       "      <td>15</td>\n",
       "      <td>20</td>\n",
       "      <td>13</td>\n",
       "      <td>2</td>\n",
       "      <td>5</td>\n",
       "    </tr>\n",
       "    <tr>\n",
       "      <th>3</th>\n",
       "      <td>Engagement</td>\n",
       "      <td>23</td>\n",
       "      <td>12</td>\n",
       "      <td>14</td>\n",
       "      <td>2</td>\n",
       "      <td>4</td>\n",
       "    </tr>\n",
       "    <tr>\n",
       "      <th>4</th>\n",
       "      <td>Trust</td>\n",
       "      <td>17</td>\n",
       "      <td>17</td>\n",
       "      <td>16</td>\n",
       "      <td>3</td>\n",
       "      <td>2</td>\n",
       "    </tr>\n",
       "    <tr>\n",
       "      <th>5</th>\n",
       "      <td>Persuasiveness</td>\n",
       "      <td>15</td>\n",
       "      <td>13</td>\n",
       "      <td>20</td>\n",
       "      <td>5</td>\n",
       "      <td>2</td>\n",
       "    </tr>\n",
       "  </tbody>\n",
       "</table>\n",
       "</div>"
      ],
      "text/plain": [
       "         Category Equal More ExpLOD More PEM Much More ExpLOD Much More PEM\n",
       "0       Diversity    15          14       20                1             5\n",
       "1      Popularity    15          17       14                7             2\n",
       "2    Transparency    15          20       13                2             5\n",
       "3      Engagement    23          12       14                2             4\n",
       "4           Trust    17          17       16                3             2\n",
       "5  Persuasiveness    15          13       20                5             2"
      ]
     },
     "execution_count": 26,
     "metadata": {},
     "output_type": "execute_result"
    }
   ],
   "source": [
    "df2 = pd.DataFrame(columns=['Category', 'Equal', 'More ExpLOD', 'More PEM', 'Much More ExpLOD',\n",
    "       'Much More PEM'])\n",
    "\n",
    "a = quest_results('diversity').sort_values('count', ascending=False).T.reset_index().drop(columns=\"index\")\n",
    "a[\"Category\"] = 'Diversity'\n",
    "df2.loc[len(df2)] = a.iloc[0]\n",
    "\n",
    "a = quest_results('popularity').sort_values('count', ascending=False).T.reset_index().drop(columns=\"index\")\n",
    "a[\"Category\"] = 'Popularity'\n",
    "df2.loc[len(df2)] = a.iloc[0]\n",
    "\n",
    "a = quest_results('understood').sort_values('count', ascending=False).T.reset_index().drop(columns=\"index\")\n",
    "a[\"Category\"] = 'Transparency'\n",
    "df2.loc[len(df2)] = a.iloc[0]\n",
    "\n",
    "a = quest_results('discover').sort_values('count', ascending=False).T.reset_index().drop(columns=\"index\")\n",
    "a[\"Category\"] = 'Engagement'\n",
    "df2.loc[len(df2)] = a.iloc[0]\n",
    "\n",
    "a = quest_results('trust').sort_values('count', ascending=False).T.reset_index().drop(columns=\"index\")\n",
    "a[\"Category\"] = 'Trust'\n",
    "df2.loc[len(df2)] = a.iloc[0]\n",
    "\n",
    "a = quest_results('convincing').sort_values('count', ascending=False).T.reset_index().drop(columns=\"index\")\n",
    "a[\"Category\"] = 'Persuasiveness'\n",
    "df2.loc[len(df2)] = a.iloc[0]\n",
    "\n",
    "df2"
   ]
  },
  {
   "cell_type": "code",
   "execution_count": 27,
   "id": "87992628",
   "metadata": {},
   "outputs": [
    {
     "data": {
      "image/png": "[encoded data removed]",
      "text/plain": [
       "<Figure size 1600x800 with 1 Axes>"
      ]
     },
     "metadata": {},
     "output_type": "display_data"
    }
   ],
   "source": [
    "import numpy as np\n",
    "import pandas as pd\n",
    "import matplotlib.pyplot as plt\n",
    "\n",
    "# Set up figure\n",
    "fig, ax = plt.subplots(figsize=(16, 8))\n",
    "plt.rcParams.update({\"font.family\": \"Arial\"}) \n",
    "plt.rcParams.update({\n",
    "    \"axes.titlesize\": 14,    # Title size\n",
    "    \"axes.labelsize\": 14,    # X & Y labels\n",
    "    \"xtick.labelsize\": 12,   # X tick labels\n",
    "    \"ytick.labelsize\": 12,   # Y tick labels\n",
    "    \"legend.title_fontsize\": 12,  # Legend title size\n",
    "    \"legend.fontsize\": 12    # Legend labels size\n",
    "})\n",
    "\n",
    "# Compute values for left (Group A) and right (Group B)\n",
    "left_Equal_values = -df2[\"Equal\"].values / 2  # Half of Equal goes on A side\n",
    "right_Equal_values = df2[\"Equal\"].values / 2  # Half of Equal goes on B side\n",
    "\n",
    "left_A_values = -df2[\"More ExpLOD\"].values\n",
    "far_left_A_values = -df2[\"Much More ExpLOD\"].values\n",
    "\n",
    "right_B_values = df2[\"More PEM\"].values\n",
    "far_right_B_values = df2[\"Much More PEM\"].values  \n",
    "\n",
    "# Sample Data: Two groups + \"Equal\" category\n",
    "maximum = round(max(max(abs(left_A_values) + left_Equal_values), max(abs(right_B_values) + right_Equal_values))) / 2 * 2\n",
    "maximum = int(maximum) + 2\n",
    "group_A = np.array([i for i in range(0, maximum, 2)])   # Group A values\n",
    "group_B = np.array([i for i in range(0, maximum, 2)])   # Group B values\n",
    "equal =  np.array([i for i in range(0, maximum, 2)])     # Equal values (split between A & B)\n",
    "\n",
    "bars_left_equal = ax.barh(df2[\"Category\"], left_Equal_values, color=\"lightgray\", label=\"Equal\")\n",
    "bars_left_A = ax.barh(df2[\"Category\"], left_A_values, color=sns.color_palette(palette='Blues').as_hex()[:][2], label=\"More ExpLOD\", left=left_Equal_values)\n",
    "far_bars_left_A = ax.barh(df2[\"Category\"], far_left_A_values, color=sns.color_palette(palette='Blues').as_hex()[:][3], label=\"Much More ExpLOD\", left=left_A_values + left_Equal_values)\n",
    "\n",
    "# Plot Equal (right side, gray) at the bottom\n",
    "bars_right_equal = ax.barh(df2[\"Category\"], right_Equal_values, color=\"lightgray\")\n",
    "bars_right_B = ax.barh(df2[\"Category\"], right_B_values, color=sns.color_palette(palette='OrRd').as_hex()[:][2], label=\"More PEM\", left=right_Equal_values)\n",
    "far_bars_right_B = ax.barh(df2[\"Category\"], far_right_B_values, color=sns.color_palette(palette='OrRd').as_hex()[:][3], label=\"Much More PEM\", left=right_B_values + right_Equal_values)\n",
    "\n",
    "# Labels and Title\n",
    "ax.set_xlabel(\"Number of Participants\", fontsize=12)\n",
    "ax.set_ylabel(\"Explanation Goals\", fontsize=12)\n",
    "ax.set_title(\"Comparison of User Choices for Explanation Goals Questionnaire \")\n",
    "\n",
    "xticks = np.arange(-maximum - 4, maximum + 6, 2)  \n",
    "ax.set_xticks(xticks)\n",
    "ax.set_xticklabels([abs(x) for x in xticks]) \n",
    "\n",
    "all_bars = [bars_left_equal, bars_right_equal, bars_left_A, bars_right_B, far_bars_left_A, far_bars_right_B]\n",
    "for i in range(0, len(all_bars)):\n",
    "    bars = all_bars[i]\n",
    "    for bar in bars:\n",
    "        if i == 0 or i ==1:\n",
    "            if i == 1:\n",
    "                continue\n",
    "            width = bar.get_width() * 2  # Get the length of the bar\n",
    "            x_position = 0  # Center label inside the bar\n",
    "            y_position = bar.get_y() + bar.get_height() / 2  # Center vertically\n",
    "\n",
    "            value = int(abs(width))  # Convert width to positive value for label\n",
    "            if value > 0:\n",
    "                ax.text(x_position, y_position, f\"{value}\", ha=\"center\", va=\"center\", \n",
    "                        color=\"white\" if \"gray\" in bar.get_facecolor() else \"black\", \n",
    "                        fontsize=12)\n",
    "                \n",
    "        else:\n",
    "            width = bar.get_width()  # Get the length of the bar\n",
    "            x_position = bar.get_x() + width / 2  # Center label inside the bar\n",
    "            y_position = bar.get_y() + bar.get_height() / 2  # Center vertically\n",
    "\n",
    "            value = int(abs(width))  # Convert width to positive value for label\n",
    "            if value > 0:\n",
    "                ax.text(x_position, y_position, f\"{value}\", ha=\"center\", va=\"center\", \n",
    "                        color=\"white\" if \"gray\" in bar.get_facecolor() else \"black\", \n",
    "                        fontsize=12)\n",
    "\n",
    "# Show Plot\n",
    "ax.legend(title=\"User Choice\", loc=\"upper center\", bbox_to_anchor=(0.5, -0.1), ncol=5)\n",
    "plt.show()\n"
   ]
  },
  {
   "cell_type": "code",
   "execution_count": 28,
   "id": "ad959b9b",
   "metadata": {},
   "outputs": [],
   "source": [
    "expl1 = pd.read_csv(\"./docs/selected_expl1.csv\")\n",
    "expl2 = pd.read_csv(\"./docs/selected_expl2.csv\")\n",
    "expl = pd.concat([expl1, expl2])\n",
    "expl = expl.set_index('ID')"
   ]
  },
  {
   "cell_type": "code",
   "execution_count": 29,
   "id": "ec64f018",
   "metadata": {},
   "outputs": [
    {
     "data": {
      "application/vnd.microsoft.datawrangler.viewer.v0+json": {
       "columns": [
        {
         "name": "ID",
         "rawType": "object",
         "type": "string"
        },
        {
         "name": "movie_id",
         "rawType": "int64",
         "type": "integer"
        },
        {
         "name": "explod_expl",
         "rawType": "object",
         "type": "string"
        },
        {
         "name": "pem_expl",
         "rawType": "object",
         "type": "string"
        },
        {
         "name": "score",
         "rawType": "float64",
         "type": "float"
        },
        {
         "name": "time",
         "rawType": "object",
         "type": "string"
        },
        {
         "name": "title",
         "rawType": "object",
         "type": "string"
        }
       ],
       "ref": "b5c733ef-dc34-4045-9ae4-0da9b31f4905",
       "rows": [
        [
         "4221f534-a566-4fe1-af3b-2e73067a521c",
         "1089",
         "\"Like the movies \"\"Kill Bill Volume 1\"\" and \"\"Kill Bill Volume 2\"\" that has the screenwriter Q3772 watch \"\"Reservoir Dogs\"\" that has the same property\"",
         "\"Like the movie \"\"Kill Bill Volume 1\"\" and \"\"Kill Bill Volume 2\"\" that has the film editor Sally Menke watch \"\"Reservoir Dogs\"\" that has the same property\"",
         "0.161456823348999",
         "Tue Apr 18 2023 09:59:03 GMT-0300 (Brasilia Standard Time)",
         "Reservoir Dogs"
        ],
        [
         "4221f534-a566-4fe1-af3b-2e73067a521c",
         "1193",
         "\"Like the movies \"\"Braveheart\"\" and \"\"Taxi Driver\"\" and \"\"A Clockwork Orange\"\" that won or was nominated to the Academy Award for Best Picture watch \"\"One Flew Over the Cuckoo's Nest\"\" that has the same property\"",
         "\"Like the movie \"\"The Godfather\"\" and \"\"Braveheart\"\" that won or was nominated to the Academy Award for Best Original Dramatic Score watch \"\"One Flew Over the Cuckoo's Nest\"\" that has the same property\"",
         "0.1695363223552703",
         "Tue Apr 18 2023 09:59:03 GMT-0300 (Brasilia Standard Time)",
         "One Flew Over the Cuckoo's Nest"
        ],
        [
         "4221f534-a566-4fe1-af3b-2e73067a521c",
         "1213",
         "\"Like the movies \"\"A Clockwork Orange\"\" and \"\"The Big Lebowski\"\" and \"\"Memento\"\" that has the genre crime film watch \"\"Goodfellas\"\" that has the same property\"",
         "\"Like the movie \"\"The Godfather\"\" that has the cast member Nick Vallelonga watch \"\"Goodfellas\"\" that has the same property\"",
         "0.1409089714288711",
         "Tue Apr 18 2023 09:59:03 GMT-0300 (Brasilia Standard Time)",
         "Goodfellas"
        ],
        [
         "4221f534-a566-4fe1-af3b-2e73067a521c",
         "1221",
         "\"Like the movies \"\"A Clockwork Orange\"\" and \"\"The Big Lebowski\"\" and \"\"Memento\"\" that has the genre crime film watch \"\"The Godfather Part II\"\" that has the same property\"",
         "\"Like the movie \"\"The Godfather\"\" that has the cast member Al Martino watch \"\"The Godfather Part II\"\" that has the same property\"",
         "0.1435654014348983",
         "Tue Apr 18 2023 09:59:03 GMT-0300 (Brasilia Standard Time)",
         "The Godfather Part II"
        ],
        [
         "4221f534-a566-4fe1-af3b-2e73067a521c",
         "1258",
         "\"Like the movies \"\"A Clockwork Orange\"\" and \"\"Dr. Strangelove\"\" that has the director Stanley Kubrick watch \"\"The Shining\"\" that has the same property\"",
         "\"Like the movie \"\"A Clockwork Orange\"\" that has the composer Wendy Carlos watch \"\"The Shining\"\" that has the same property\"",
         "0.1467960029840469",
         "Tue Apr 18 2023 09:59:03 GMT-0300 (Brasilia Standard Time)",
         "The Shining"
        ]
       ],
       "shape": {
        "columns": 6,
        "rows": 5
       }
      },
      "text/html": [
       "<div>\n",
       "<style scoped>\n",
       "    .dataframe tbody tr th:only-of-type {\n",
       "        vertical-align: middle;\n",
       "    }\n",
       "\n",
       "    .dataframe tbody tr th {\n",
       "        vertical-align: top;\n",
       "    }\n",
       "\n",
       "    .dataframe thead th {\n",
       "        text-align: right;\n",
       "    }\n",
       "</style>\n",
       "<table border=\"1\" class=\"dataframe\">\n",
       "  <thead>\n",
       "    <tr style=\"text-align: right;\">\n",
       "      <th></th>\n",
       "      <th>movie_id</th>\n",
       "      <th>explod_expl</th>\n",
       "      <th>pem_expl</th>\n",
       "      <th>score</th>\n",
       "      <th>time</th>\n",
       "      <th>title</th>\n",
       "    </tr>\n",
       "    <tr>\n",
       "      <th>ID</th>\n",
       "      <th></th>\n",
       "      <th></th>\n",
       "      <th></th>\n",
       "      <th></th>\n",
       "      <th></th>\n",
       "      <th></th>\n",
       "    </tr>\n",
       "  </thead>\n",
       "  <tbody>\n",
       "    <tr>\n",
       "      <th>4221f534-a566-4fe1-af3b-2e73067a521c</th>\n",
       "      <td>1089</td>\n",
       "      <td>\"Like the movies \"\"Kill Bill Volume 1\"\" and \"\"...</td>\n",
       "      <td>\"Like the movie \"\"Kill Bill Volume 1\"\" and \"\"K...</td>\n",
       "      <td>0.161457</td>\n",
       "      <td>Tue Apr 18 2023 09:59:03 GMT-0300 (Brasilia St...</td>\n",
       "      <td>Reservoir Dogs</td>\n",
       "    </tr>\n",
       "    <tr>\n",
       "      <th>4221f534-a566-4fe1-af3b-2e73067a521c</th>\n",
       "      <td>1193</td>\n",
       "      <td>\"Like the movies \"\"Braveheart\"\" and \"\"Taxi Dri...</td>\n",
       "      <td>\"Like the movie \"\"The Godfather\"\" and \"\"Braveh...</td>\n",
       "      <td>0.169536</td>\n",
       "      <td>Tue Apr 18 2023 09:59:03 GMT-0300 (Brasilia St...</td>\n",
       "      <td>One Flew Over the Cuckoo's Nest</td>\n",
       "    </tr>\n",
       "    <tr>\n",
       "      <th>4221f534-a566-4fe1-af3b-2e73067a521c</th>\n",
       "      <td>1213</td>\n",
       "      <td>\"Like the movies \"\"A Clockwork Orange\"\" and \"\"...</td>\n",
       "      <td>\"Like the movie \"\"The Godfather\"\" that has the...</td>\n",
       "      <td>0.140909</td>\n",
       "      <td>Tue Apr 18 2023 09:59:03 GMT-0300 (Brasilia St...</td>\n",
       "      <td>Goodfellas</td>\n",
       "    </tr>\n",
       "    <tr>\n",
       "      <th>4221f534-a566-4fe1-af3b-2e73067a521c</th>\n",
       "      <td>1221</td>\n",
       "      <td>\"Like the movies \"\"A Clockwork Orange\"\" and \"\"...</td>\n",
       "      <td>\"Like the movie \"\"The Godfather\"\" that has the...</td>\n",
       "      <td>0.143565</td>\n",
       "      <td>Tue Apr 18 2023 09:59:03 GMT-0300 (Brasilia St...</td>\n",
       "      <td>The Godfather Part II</td>\n",
       "    </tr>\n",
       "    <tr>\n",
       "      <th>4221f534-a566-4fe1-af3b-2e73067a521c</th>\n",
       "      <td>1258</td>\n",
       "      <td>\"Like the movies \"\"A Clockwork Orange\"\" and \"\"...</td>\n",
       "      <td>\"Like the movie \"\"A Clockwork Orange\"\" that ha...</td>\n",
       "      <td>0.146796</td>\n",
       "      <td>Tue Apr 18 2023 09:59:03 GMT-0300 (Brasilia St...</td>\n",
       "      <td>The Shining</td>\n",
       "    </tr>\n",
       "  </tbody>\n",
       "</table>\n",
       "</div>"
      ],
      "text/plain": [
       "                                      movie_id  \\\n",
       "ID                                               \n",
       "4221f534-a566-4fe1-af3b-2e73067a521c      1089   \n",
       "4221f534-a566-4fe1-af3b-2e73067a521c      1193   \n",
       "4221f534-a566-4fe1-af3b-2e73067a521c      1213   \n",
       "4221f534-a566-4fe1-af3b-2e73067a521c      1221   \n",
       "4221f534-a566-4fe1-af3b-2e73067a521c      1258   \n",
       "\n",
       "                                                                            explod_expl  \\\n",
       "ID                                                                                        \n",
       "4221f534-a566-4fe1-af3b-2e73067a521c  \"Like the movies \"\"Kill Bill Volume 1\"\" and \"\"...   \n",
       "4221f534-a566-4fe1-af3b-2e73067a521c  \"Like the movies \"\"Braveheart\"\" and \"\"Taxi Dri...   \n",
       "4221f534-a566-4fe1-af3b-2e73067a521c  \"Like the movies \"\"A Clockwork Orange\"\" and \"\"...   \n",
       "4221f534-a566-4fe1-af3b-2e73067a521c  \"Like the movies \"\"A Clockwork Orange\"\" and \"\"...   \n",
       "4221f534-a566-4fe1-af3b-2e73067a521c  \"Like the movies \"\"A Clockwork Orange\"\" and \"\"...   \n",
       "\n",
       "                                                                               pem_expl  \\\n",
       "ID                                                                                        \n",
       "4221f534-a566-4fe1-af3b-2e73067a521c  \"Like the movie \"\"Kill Bill Volume 1\"\" and \"\"K...   \n",
       "4221f534-a566-4fe1-af3b-2e73067a521c  \"Like the movie \"\"The Godfather\"\" and \"\"Braveh...   \n",
       "4221f534-a566-4fe1-af3b-2e73067a521c  \"Like the movie \"\"The Godfather\"\" that has the...   \n",
       "4221f534-a566-4fe1-af3b-2e73067a521c  \"Like the movie \"\"The Godfather\"\" that has the...   \n",
       "4221f534-a566-4fe1-af3b-2e73067a521c  \"Like the movie \"\"A Clockwork Orange\"\" that ha...   \n",
       "\n",
       "                                         score  \\\n",
       "ID                                               \n",
       "4221f534-a566-4fe1-af3b-2e73067a521c  0.161457   \n",
       "4221f534-a566-4fe1-af3b-2e73067a521c  0.169536   \n",
       "4221f534-a566-4fe1-af3b-2e73067a521c  0.140909   \n",
       "4221f534-a566-4fe1-af3b-2e73067a521c  0.143565   \n",
       "4221f534-a566-4fe1-af3b-2e73067a521c  0.146796   \n",
       "\n",
       "                                                                                   time  \\\n",
       "ID                                                                                        \n",
       "4221f534-a566-4fe1-af3b-2e73067a521c  Tue Apr 18 2023 09:59:03 GMT-0300 (Brasilia St...   \n",
       "4221f534-a566-4fe1-af3b-2e73067a521c  Tue Apr 18 2023 09:59:03 GMT-0300 (Brasilia St...   \n",
       "4221f534-a566-4fe1-af3b-2e73067a521c  Tue Apr 18 2023 09:59:03 GMT-0300 (Brasilia St...   \n",
       "4221f534-a566-4fe1-af3b-2e73067a521c  Tue Apr 18 2023 09:59:03 GMT-0300 (Brasilia St...   \n",
       "4221f534-a566-4fe1-af3b-2e73067a521c  Tue Apr 18 2023 09:59:03 GMT-0300 (Brasilia St...   \n",
       "\n",
       "                                                                title  \n",
       "ID                                                                     \n",
       "4221f534-a566-4fe1-af3b-2e73067a521c                   Reservoir Dogs  \n",
       "4221f534-a566-4fe1-af3b-2e73067a521c  One Flew Over the Cuckoo's Nest  \n",
       "4221f534-a566-4fe1-af3b-2e73067a521c                       Goodfellas  \n",
       "4221f534-a566-4fe1-af3b-2e73067a521c            The Godfather Part II  \n",
       "4221f534-a566-4fe1-af3b-2e73067a521c                      The Shining  "
      ]
     },
     "execution_count": 29,
     "metadata": {},
     "output_type": "execute_result"
    }
   ],
   "source": [
    "end_expl = expl.loc[results.index]\n",
    "end_expl.head()"
   ]
  },
  {
   "cell_type": "code",
   "execution_count": 30,
   "id": "837dde1c",
   "metadata": {},
   "outputs": [
    {
     "data": {
      "application/vnd.microsoft.datawrangler.viewer.v0+json": {
       "columns": [
        {
         "name": "ID",
         "rawType": "object",
         "type": "string"
        },
        {
         "name": "explod_expl",
         "rawType": "object",
         "type": "string"
        }
       ],
       "ref": "53a60464-4f42-430a-b0cd-01dd1352fde0",
       "rows": [
        [
         "4221f534-a566-4fe1-af3b-2e73067a521c",
         "\"Like the movies \"\"Kill Bill Volume 1\"\" and \"\"Kill Bill Volume 2\"\" that has the screenwriter Q3772 watch \"\"Reservoir Dogs\"\" that has the same property\""
        ],
        [
         "4221f534-a566-4fe1-af3b-2e73067a521c",
         "\"Like the movies \"\"Braveheart\"\" and \"\"Taxi Driver\"\" and \"\"A Clockwork Orange\"\" that won or was nominated to the Academy Award for Best Picture watch \"\"One Flew Over the Cuckoo's Nest\"\" that has the same property\""
        ],
        [
         "4221f534-a566-4fe1-af3b-2e73067a521c",
         "\"Like the movies \"\"A Clockwork Orange\"\" and \"\"The Big Lebowski\"\" and \"\"Memento\"\" that has the genre crime film watch \"\"Goodfellas\"\" that has the same property\""
        ],
        [
         "4221f534-a566-4fe1-af3b-2e73067a521c",
         "\"Like the movies \"\"A Clockwork Orange\"\" and \"\"The Big Lebowski\"\" and \"\"Memento\"\" that has the genre crime film watch \"\"The Godfather Part II\"\" that has the same property\""
        ],
        [
         "4221f534-a566-4fe1-af3b-2e73067a521c",
         "\"Like the movies \"\"A Clockwork Orange\"\" and \"\"Dr. Strangelove\"\" that has the director Stanley Kubrick watch \"\"The Shining\"\" that has the same property\""
        ]
       ],
       "shape": {
        "columns": 1,
        "rows": 5
       }
      },
      "text/plain": [
       "ID\n",
       "4221f534-a566-4fe1-af3b-2e73067a521c    \"Like the movies \"\"Kill Bill Volume 1\"\" and \"\"...\n",
       "4221f534-a566-4fe1-af3b-2e73067a521c    \"Like the movies \"\"Braveheart\"\" and \"\"Taxi Dri...\n",
       "4221f534-a566-4fe1-af3b-2e73067a521c    \"Like the movies \"\"A Clockwork Orange\"\" and \"\"...\n",
       "4221f534-a566-4fe1-af3b-2e73067a521c    \"Like the movies \"\"A Clockwork Orange\"\" and \"\"...\n",
       "4221f534-a566-4fe1-af3b-2e73067a521c    \"Like the movies \"\"A Clockwork Orange\"\" and \"\"...\n",
       "Name: explod_expl, dtype: object"
      ]
     },
     "execution_count": 30,
     "metadata": {},
     "output_type": "execute_result"
    }
   ],
   "source": [
    "end_expl['explod_expl'].head()"
   ]
  },
  {
   "cell_type": "code",
   "execution_count": 31,
   "id": "c120a168",
   "metadata": {},
   "outputs": [
    {
     "data": {
      "text/plain": [
       "55"
      ]
     },
     "execution_count": 31,
     "metadata": {},
     "output_type": "execute_result"
    }
   ],
   "source": [
    "len(end_expl.index.unique())"
   ]
  },
  {
   "cell_type": "code",
   "execution_count": 32,
   "id": "ef021e49",
   "metadata": {},
   "outputs": [],
   "source": [
    "end_expl['expl_prop'] = end_expl.apply(lambda row : row['explod_expl'].split(\"watch\")[0].split('that')[-1], axis = 1) "
   ]
  },
  {
   "cell_type": "code",
   "execution_count": 33,
   "id": "bcf61fab",
   "metadata": {},
   "outputs": [],
   "source": [
    "end_expl['pem_prop'] = end_expl.apply(lambda row : row['pem_expl'].split(\"watch\")[0].split('that')[-1], axis = 1) "
   ]
  },
  {
   "cell_type": "code",
   "execution_count": 34,
   "id": "95a4dc52",
   "metadata": {},
   "outputs": [],
   "source": [
    "end_expl_count = end_expl.reset_index().groupby(['ID', 'expl_prop']).count()"
   ]
  },
  {
   "cell_type": "code",
   "execution_count": 35,
   "id": "81c786ba",
   "metadata": {},
   "outputs": [
    {
     "data": {
      "application/vnd.microsoft.datawrangler.viewer.v0+json": {
       "columns": [
        {
         "name": "ID",
         "rawType": "object",
         "type": "string"
        },
        {
         "name": "movie_id",
         "rawType": "int64",
         "type": "integer"
        },
        {
         "name": "explod_expl",
         "rawType": "int64",
         "type": "integer"
        },
        {
         "name": "pem_expl",
         "rawType": "int64",
         "type": "integer"
        },
        {
         "name": "score",
         "rawType": "int64",
         "type": "integer"
        },
        {
         "name": "time",
         "rawType": "int64",
         "type": "integer"
        },
        {
         "name": "title",
         "rawType": "int64",
         "type": "integer"
        },
        {
         "name": "pem_prop",
         "rawType": "int64",
         "type": "integer"
        }
       ],
       "ref": "c1eed747-70a6-4131-bbfc-31b5c7017592",
       "rows": [
        [
         "0903e4d7-0117-43ac-9ba1-67a34ee4f584",
         "3",
         "3",
         "3",
         "3",
         "3",
         "3",
         "3"
        ],
        [
         "16497ee9-9f63-4ac3-8cba-ca821cd434cc",
         "4",
         "4",
         "4",
         "4",
         "4",
         "4",
         "4"
        ],
        [
         "1670be4a-56a4-401b-a64a-ea8490643f1d",
         "3",
         "3",
         "3",
         "3",
         "3",
         "3",
         "3"
        ],
        [
         "199a272e-eb22-4ae2-95fb-dd14c4fa208e",
         "2",
         "2",
         "2",
         "2",
         "2",
         "2",
         "2"
        ],
        [
         "1cdedd0e-ada1-4901-9443-b9fe73ee4eaf",
         "5",
         "5",
         "5",
         "5",
         "5",
         "5",
         "5"
        ],
        [
         "1cf52f56-d06f-4f56-9b6c-3894edeb795b",
         "4",
         "4",
         "4",
         "4",
         "4",
         "4",
         "4"
        ],
        [
         "26bbc9a9-86bb-4974-a1b5-6601b511ba4d",
         "4",
         "4",
         "4",
         "4",
         "4",
         "4",
         "4"
        ],
        [
         "2763ffe6-f1c6-4021-b053-e1323d9d0989",
         "2",
         "2",
         "2",
         "2",
         "2",
         "2",
         "2"
        ],
        [
         "277ace42-bf8e-4af7-82a2-f2a98ffdad95",
         "3",
         "3",
         "3",
         "3",
         "3",
         "3",
         "3"
        ],
        [
         "282ef334-b2de-4873-b8c0-e6e94b9777e2",
         "4",
         "4",
         "4",
         "4",
         "4",
         "4",
         "4"
        ],
        [
         "2d7fa883-3b29-4bd3-b592-54fc656a68bc",
         "3",
         "3",
         "3",
         "3",
         "3",
         "3",
         "3"
        ],
        [
         "2fff537b-f60f-4762-a300-e651a85c83e7",
         "3",
         "3",
         "3",
         "3",
         "3",
         "3",
         "3"
        ],
        [
         "330036ae-330c-4fff-b455-ff819ae8adec",
         "1",
         "1",
         "1",
         "1",
         "1",
         "1",
         "1"
        ],
        [
         "33db9956-4b5b-47ab-b3d1-6f76c42384f7",
         "2",
         "2",
         "2",
         "2",
         "2",
         "2",
         "2"
        ],
        [
         "37080dca-b8d4-432b-8577-ee2966dfa206",
         "3",
         "3",
         "3",
         "3",
         "3",
         "3",
         "3"
        ],
        [
         "3887e896-3fa0-477d-be09-af967ba31f91",
         "2",
         "2",
         "2",
         "2",
         "2",
         "2",
         "2"
        ],
        [
         "38cdc324-2d9a-42c4-b2f3-44448d149cc4",
         "1",
         "1",
         "1",
         "1",
         "1",
         "1",
         "1"
        ],
        [
         "3cdae0e0-3b22-46f3-a286-f502d2115f80",
         "3",
         "3",
         "3",
         "3",
         "3",
         "3",
         "3"
        ],
        [
         "4221f534-a566-4fe1-af3b-2e73067a521c",
         "4",
         "4",
         "4",
         "4",
         "4",
         "4",
         "4"
        ],
        [
         "42aab9b2-db24-421f-ace6-4564397942ae",
         "4",
         "4",
         "4",
         "4",
         "4",
         "4",
         "4"
        ],
        [
         "4d1107a0-b627-4a84-a05c-f80b4132fb32",
         "5",
         "5",
         "5",
         "5",
         "5",
         "5",
         "5"
        ],
        [
         "4d5557e0-f952-47ac-9592-ee5d08ea8ff1",
         "3",
         "3",
         "3",
         "3",
         "3",
         "3",
         "3"
        ],
        [
         "537542f2-31b4-4ab6-a6ef-25fed9d64258",
         "3",
         "3",
         "3",
         "3",
         "3",
         "3",
         "3"
        ],
        [
         "5efdbde1-5292-492b-b951-b97cb2c150f6",
         "3",
         "3",
         "3",
         "3",
         "3",
         "3",
         "3"
        ],
        [
         "6ac132c1-3b8a-4a65-bdcb-8a509c051b5e",
         "3",
         "3",
         "3",
         "3",
         "3",
         "3",
         "3"
        ],
        [
         "73154f98-a5ae-4b38-9202-e688a0a86e28",
         "4",
         "4",
         "4",
         "4",
         "4",
         "4",
         "4"
        ],
        [
         "751c5e42-c91a-4d97-994b-54c021c0accb",
         "3",
         "3",
         "3",
         "3",
         "3",
         "3",
         "3"
        ],
        [
         "7d6d6774-c7b1-49c4-b4e4-c62bfd4588d1",
         "3",
         "3",
         "3",
         "3",
         "3",
         "3",
         "3"
        ],
        [
         "8865717f-1ee0-4efb-a09b-e1173e28cf04",
         "4",
         "4",
         "4",
         "4",
         "4",
         "4",
         "4"
        ],
        [
         "88bc749c-07dd-4c54-86dd-ba0ff6805bea",
         "2",
         "2",
         "2",
         "2",
         "2",
         "2",
         "2"
        ],
        [
         "8e5115a8-aee4-403a-a33a-81a9dc677d0c",
         "4",
         "4",
         "4",
         "4",
         "4",
         "4",
         "4"
        ],
        [
         "912f4714-a42b-4b58-ab9d-5fc5f1ab7a99",
         "2",
         "2",
         "2",
         "2",
         "2",
         "2",
         "2"
        ],
        [
         "94cb0ad6-df69-4c3a-9df6-0d737a7c8add",
         "4",
         "4",
         "4",
         "4",
         "4",
         "4",
         "4"
        ],
        [
         "99a9b0db-5c2f-474a-b623-73b252e9ca1f",
         "4",
         "4",
         "4",
         "4",
         "4",
         "4",
         "4"
        ],
        [
         "9c0919a4-762f-44b8-9c74-fbab1bb4e609",
         "3",
         "3",
         "3",
         "3",
         "3",
         "3",
         "3"
        ],
        [
         "9c577360-04b1-483a-a984-a02a2a2c4689",
         "5",
         "5",
         "5",
         "5",
         "5",
         "5",
         "5"
        ],
        [
         "9f2a10e2-edf4-4443-9d3c-531d9030edb7",
         "2",
         "2",
         "2",
         "2",
         "2",
         "2",
         "2"
        ],
        [
         "9f65a904-8847-4f78-ac85-ac54c14fd138",
         "2",
         "2",
         "2",
         "2",
         "2",
         "2",
         "2"
        ],
        [
         "b433b19b-b184-4bfa-ba9c-90c6329313ac",
         "2",
         "2",
         "2",
         "2",
         "2",
         "2",
         "2"
        ],
        [
         "b4d1204b-42cf-4a56-b0f7-6813795a2923",
         "4",
         "4",
         "4",
         "4",
         "4",
         "4",
         "4"
        ],
        [
         "b7d90b39-7606-47bf-8552-d8670e7e015a",
         "3",
         "3",
         "3",
         "3",
         "3",
         "3",
         "3"
        ],
        [
         "bc9cb0c4-fd45-47d8-a975-5333691e2f9f",
         "4",
         "4",
         "4",
         "4",
         "4",
         "4",
         "4"
        ],
        [
         "c6b8f3a6-e89d-40c7-9d65-e58bd693d299",
         "2",
         "2",
         "2",
         "2",
         "2",
         "2",
         "2"
        ],
        [
         "ce768b16-47b8-4ab1-b423-5e465434e5a5",
         "3",
         "3",
         "3",
         "3",
         "3",
         "3",
         "3"
        ],
        [
         "d119bb66-0100-4517-8d68-0eb4a95b5a60",
         "2",
         "2",
         "2",
         "2",
         "2",
         "2",
         "2"
        ],
        [
         "d37720ea-fab8-4302-8674-808017d7bf1e",
         "4",
         "4",
         "4",
         "4",
         "4",
         "4",
         "4"
        ],
        [
         "dc9db4df-d42a-42cd-879a-e678a69ed5c7",
         "4",
         "4",
         "4",
         "4",
         "4",
         "4",
         "4"
        ],
        [
         "e22a42d5-fd97-4040-b6ef-292b90521125",
         "3",
         "3",
         "3",
         "3",
         "3",
         "3",
         "3"
        ],
        [
         "e77947ce-1a03-4c88-a3b0-85067b7f6fcc",
         "3",
         "3",
         "3",
         "3",
         "3",
         "3",
         "3"
        ],
        [
         "ee8986ab-7ee0-4349-b578-710a33058958",
         "2",
         "2",
         "2",
         "2",
         "2",
         "2",
         "2"
        ]
       ],
       "shape": {
        "columns": 7,
        "rows": 55
       }
      },
      "text/html": [
       "<div>\n",
       "<style scoped>\n",
       "    .dataframe tbody tr th:only-of-type {\n",
       "        vertical-align: middle;\n",
       "    }\n",
       "\n",
       "    .dataframe tbody tr th {\n",
       "        vertical-align: top;\n",
       "    }\n",
       "\n",
       "    .dataframe thead th {\n",
       "        text-align: right;\n",
       "    }\n",
       "</style>\n",
       "<table border=\"1\" class=\"dataframe\">\n",
       "  <thead>\n",
       "    <tr style=\"text-align: right;\">\n",
       "      <th></th>\n",
       "      <th>movie_id</th>\n",
       "      <th>explod_expl</th>\n",
       "      <th>pem_expl</th>\n",
       "      <th>score</th>\n",
       "      <th>time</th>\n",
       "      <th>title</th>\n",
       "      <th>pem_prop</th>\n",
       "    </tr>\n",
       "    <tr>\n",
       "      <th>ID</th>\n",
       "      <th></th>\n",
       "      <th></th>\n",
       "      <th></th>\n",
       "      <th></th>\n",
       "      <th></th>\n",
       "      <th></th>\n",
       "      <th></th>\n",
       "    </tr>\n",
       "  </thead>\n",
       "  <tbody>\n",
       "    <tr>\n",
       "      <th>0903e4d7-0117-43ac-9ba1-67a34ee4f584</th>\n",
       "      <td>3</td>\n",
       "      <td>3</td>\n",
       "      <td>3</td>\n",
       "      <td>3</td>\n",
       "      <td>3</td>\n",
       "      <td>3</td>\n",
       "      <td>3</td>\n",
       "    </tr>\n",
       "    <tr>\n",
       "      <th>16497ee9-9f63-4ac3-8cba-ca821cd434cc</th>\n",
       "      <td>4</td>\n",
       "      <td>4</td>\n",
       "      <td>4</td>\n",
       "      <td>4</td>\n",
       "      <td>4</td>\n",
       "      <td>4</td>\n",
       "      <td>4</td>\n",
       "    </tr>\n",
       "    <tr>\n",
       "      <th>1670be4a-56a4-401b-a64a-ea8490643f1d</th>\n",
       "      <td>3</td>\n",
       "      <td>3</td>\n",
       "      <td>3</td>\n",
       "      <td>3</td>\n",
       "      <td>3</td>\n",
       "      <td>3</td>\n",
       "      <td>3</td>\n",
       "    </tr>\n",
       "    <tr>\n",
       "      <th>199a272e-eb22-4ae2-95fb-dd14c4fa208e</th>\n",
       "      <td>2</td>\n",
       "      <td>2</td>\n",
       "      <td>2</td>\n",
       "      <td>2</td>\n",
       "      <td>2</td>\n",
       "      <td>2</td>\n",
       "      <td>2</td>\n",
       "    </tr>\n",
       "    <tr>\n",
       "      <th>1cdedd0e-ada1-4901-9443-b9fe73ee4eaf</th>\n",
       "      <td>5</td>\n",
       "      <td>5</td>\n",
       "      <td>5</td>\n",
       "      <td>5</td>\n",
       "      <td>5</td>\n",
       "      <td>5</td>\n",
       "      <td>5</td>\n",
       "    </tr>\n",
       "    <tr>\n",
       "      <th>1cf52f56-d06f-4f56-9b6c-3894edeb795b</th>\n",
       "      <td>4</td>\n",
       "      <td>4</td>\n",
       "      <td>4</td>\n",
       "      <td>4</td>\n",
       "      <td>4</td>\n",
       "      <td>4</td>\n",
       "      <td>4</td>\n",
       "    </tr>\n",
       "    <tr>\n",
       "      <th>26bbc9a9-86bb-4974-a1b5-6601b511ba4d</th>\n",
       "      <td>4</td>\n",
       "      <td>4</td>\n",
       "      <td>4</td>\n",
       "      <td>4</td>\n",
       "      <td>4</td>\n",
       "      <td>4</td>\n",
       "      <td>4</td>\n",
       "    </tr>\n",
       "    <tr>\n",
       "      <th>2763ffe6-f1c6-4021-b053-e1323d9d0989</th>\n",
       "      <td>2</td>\n",
       "      <td>2</td>\n",
       "      <td>2</td>\n",
       "      <td>2</td>\n",
       "      <td>2</td>\n",
       "      <td>2</td>\n",
       "      <td>2</td>\n",
       "    </tr>\n",
       "    <tr>\n",
       "      <th>277ace42-bf8e-4af7-82a2-f2a98ffdad95</th>\n",
       "      <td>3</td>\n",
       "      <td>3</td>\n",
       "      <td>3</td>\n",
       "      <td>3</td>\n",
       "      <td>3</td>\n",
       "      <td>3</td>\n",
       "      <td>3</td>\n",
       "    </tr>\n",
       "    <tr>\n",
       "      <th>282ef334-b2de-4873-b8c0-e6e94b9777e2</th>\n",
       "      <td>4</td>\n",
       "      <td>4</td>\n",
       "      <td>4</td>\n",
       "      <td>4</td>\n",
       "      <td>4</td>\n",
       "      <td>4</td>\n",
       "      <td>4</td>\n",
       "    </tr>\n",
       "    <tr>\n",
       "      <th>2d7fa883-3b29-4bd3-b592-54fc656a68bc</th>\n",
       "      <td>3</td>\n",
       "      <td>3</td>\n",
       "      <td>3</td>\n",
       "      <td>3</td>\n",
       "      <td>3</td>\n",
       "      <td>3</td>\n",
       "      <td>3</td>\n",
       "    </tr>\n",
       "    <tr>\n",
       "      <th>2fff537b-f60f-4762-a300-e651a85c83e7</th>\n",
       "      <td>3</td>\n",
       "      <td>3</td>\n",
       "      <td>3</td>\n",
       "      <td>3</td>\n",
       "      <td>3</td>\n",
       "      <td>3</td>\n",
       "      <td>3</td>\n",
       "    </tr>\n",
       "    <tr>\n",
       "      <th>330036ae-330c-4fff-b455-ff819ae8adec</th>\n",
       "      <td>1</td>\n",
       "      <td>1</td>\n",
       "      <td>1</td>\n",
       "      <td>1</td>\n",
       "      <td>1</td>\n",
       "      <td>1</td>\n",
       "      <td>1</td>\n",
       "    </tr>\n",
       "    <tr>\n",
       "      <th>33db9956-4b5b-47ab-b3d1-6f76c42384f7</th>\n",
       "      <td>2</td>\n",
       "      <td>2</td>\n",
       "      <td>2</td>\n",
       "      <td>2</td>\n",
       "      <td>2</td>\n",
       "      <td>2</td>\n",
       "      <td>2</td>\n",
       "    </tr>\n",
       "    <tr>\n",
       "      <th>37080dca-b8d4-432b-8577-ee2966dfa206</th>\n",
       "      <td>3</td>\n",
       "      <td>3</td>\n",
       "      <td>3</td>\n",
       "      <td>3</td>\n",
       "      <td>3</td>\n",
       "      <td>3</td>\n",
       "      <td>3</td>\n",
       "    </tr>\n",
       "    <tr>\n",
       "      <th>3887e896-3fa0-477d-be09-af967ba31f91</th>\n",
       "      <td>2</td>\n",
       "      <td>2</td>\n",
       "      <td>2</td>\n",
       "      <td>2</td>\n",
       "      <td>2</td>\n",
       "      <td>2</td>\n",
       "      <td>2</td>\n",
       "    </tr>\n",
       "    <tr>\n",
       "      <th>38cdc324-2d9a-42c4-b2f3-44448d149cc4</th>\n",
       "      <td>1</td>\n",
       "      <td>1</td>\n",
       "      <td>1</td>\n",
       "      <td>1</td>\n",
       "      <td>1</td>\n",
       "      <td>1</td>\n",
       "      <td>1</td>\n",
       "    </tr>\n",
       "    <tr>\n",
       "      <th>3cdae0e0-3b22-46f3-a286-f502d2115f80</th>\n",
       "      <td>3</td>\n",
       "      <td>3</td>\n",
       "      <td>3</td>\n",
       "      <td>3</td>\n",
       "      <td>3</td>\n",
       "      <td>3</td>\n",
       "      <td>3</td>\n",
       "    </tr>\n",
       "    <tr>\n",
       "      <th>4221f534-a566-4fe1-af3b-2e73067a521c</th>\n",
       "      <td>4</td>\n",
       "      <td>4</td>\n",
       "      <td>4</td>\n",
       "      <td>4</td>\n",
       "      <td>4</td>\n",
       "      <td>4</td>\n",
       "      <td>4</td>\n",
       "    </tr>\n",
       "    <tr>\n",
       "      <th>42aab9b2-db24-421f-ace6-4564397942ae</th>\n",
       "      <td>4</td>\n",
       "      <td>4</td>\n",
       "      <td>4</td>\n",
       "      <td>4</td>\n",
       "      <td>4</td>\n",
       "      <td>4</td>\n",
       "      <td>4</td>\n",
       "    </tr>\n",
       "    <tr>\n",
       "      <th>4d1107a0-b627-4a84-a05c-f80b4132fb32</th>\n",
       "      <td>5</td>\n",
       "      <td>5</td>\n",
       "      <td>5</td>\n",
       "      <td>5</td>\n",
       "      <td>5</td>\n",
       "      <td>5</td>\n",
       "      <td>5</td>\n",
       "    </tr>\n",
       "    <tr>\n",
       "      <th>4d5557e0-f952-47ac-9592-ee5d08ea8ff1</th>\n",
       "      <td>3</td>\n",
       "      <td>3</td>\n",
       "      <td>3</td>\n",
       "      <td>3</td>\n",
       "      <td>3</td>\n",
       "      <td>3</td>\n",
       "      <td>3</td>\n",
       "    </tr>\n",
       "    <tr>\n",
       "      <th>537542f2-31b4-4ab6-a6ef-25fed9d64258</th>\n",
       "      <td>3</td>\n",
       "      <td>3</td>\n",
       "      <td>3</td>\n",
       "      <td>3</td>\n",
       "      <td>3</td>\n",
       "      <td>3</td>\n",
       "      <td>3</td>\n",
       "    </tr>\n",
       "    <tr>\n",
       "      <th>5efdbde1-5292-492b-b951-b97cb2c150f6</th>\n",
       "      <td>3</td>\n",
       "      <td>3</td>\n",
       "      <td>3</td>\n",
       "      <td>3</td>\n",
       "      <td>3</td>\n",
       "      <td>3</td>\n",
       "      <td>3</td>\n",
       "    </tr>\n",
       "    <tr>\n",
       "      <th>6ac132c1-3b8a-4a65-bdcb-8a509c051b5e</th>\n",
       "      <td>3</td>\n",
       "      <td>3</td>\n",
       "      <td>3</td>\n",
       "      <td>3</td>\n",
       "      <td>3</td>\n",
       "      <td>3</td>\n",
       "      <td>3</td>\n",
       "    </tr>\n",
       "    <tr>\n",
       "      <th>73154f98-a5ae-4b38-9202-e688a0a86e28</th>\n",
       "      <td>4</td>\n",
       "      <td>4</td>\n",
       "      <td>4</td>\n",
       "      <td>4</td>\n",
       "      <td>4</td>\n",
       "      <td>4</td>\n",
       "      <td>4</td>\n",
       "    </tr>\n",
       "    <tr>\n",
       "      <th>751c5e42-c91a-4d97-994b-54c021c0accb</th>\n",
       "      <td>3</td>\n",
       "      <td>3</td>\n",
       "      <td>3</td>\n",
       "      <td>3</td>\n",
       "      <td>3</td>\n",
       "      <td>3</td>\n",
       "      <td>3</td>\n",
       "    </tr>\n",
       "    <tr>\n",
       "      <th>7d6d6774-c7b1-49c4-b4e4-c62bfd4588d1</th>\n",
       "      <td>3</td>\n",
       "      <td>3</td>\n",
       "      <td>3</td>\n",
       "      <td>3</td>\n",
       "      <td>3</td>\n",
       "      <td>3</td>\n",
       "      <td>3</td>\n",
       "    </tr>\n",
       "    <tr>\n",
       "      <th>8865717f-1ee0-4efb-a09b-e1173e28cf04</th>\n",
       "      <td>4</td>\n",
       "      <td>4</td>\n",
       "      <td>4</td>\n",
       "      <td>4</td>\n",
       "      <td>4</td>\n",
       "      <td>4</td>\n",
       "      <td>4</td>\n",
       "    </tr>\n",
       "    <tr>\n",
       "      <th>88bc749c-07dd-4c54-86dd-ba0ff6805bea</th>\n",
       "      <td>2</td>\n",
       "      <td>2</td>\n",
       "      <td>2</td>\n",
       "      <td>2</td>\n",
       "      <td>2</td>\n",
       "      <td>2</td>\n",
       "      <td>2</td>\n",
       "    </tr>\n",
       "    <tr>\n",
       "      <th>8e5115a8-aee4-403a-a33a-81a9dc677d0c</th>\n",
       "      <td>4</td>\n",
       "      <td>4</td>\n",
       "      <td>4</td>\n",
       "      <td>4</td>\n",
       "      <td>4</td>\n",
       "      <td>4</td>\n",
       "      <td>4</td>\n",
       "    </tr>\n",
       "    <tr>\n",
       "      <th>912f4714-a42b-4b58-ab9d-5fc5f1ab7a99</th>\n",
       "      <td>2</td>\n",
       "      <td>2</td>\n",
       "      <td>2</td>\n",
       "      <td>2</td>\n",
       "      <td>2</td>\n",
       "      <td>2</td>\n",
       "      <td>2</td>\n",
       "    </tr>\n",
       "    <tr>\n",
       "      <th>94cb0ad6-df69-4c3a-9df6-0d737a7c8add</th>\n",
       "      <td>4</td>\n",
       "      <td>4</td>\n",
       "      <td>4</td>\n",
       "      <td>4</td>\n",
       "      <td>4</td>\n",
       "      <td>4</td>\n",
       "      <td>4</td>\n",
       "    </tr>\n",
       "    <tr>\n",
       "      <th>99a9b0db-5c2f-474a-b623-73b252e9ca1f</th>\n",
       "      <td>4</td>\n",
       "      <td>4</td>\n",
       "      <td>4</td>\n",
       "      <td>4</td>\n",
       "      <td>4</td>\n",
       "      <td>4</td>\n",
       "      <td>4</td>\n",
       "    </tr>\n",
       "    <tr>\n",
       "      <th>9c0919a4-762f-44b8-9c74-fbab1bb4e609</th>\n",
       "      <td>3</td>\n",
       "      <td>3</td>\n",
       "      <td>3</td>\n",
       "      <td>3</td>\n",
       "      <td>3</td>\n",
       "      <td>3</td>\n",
       "      <td>3</td>\n",
       "    </tr>\n",
       "    <tr>\n",
       "      <th>9c577360-04b1-483a-a984-a02a2a2c4689</th>\n",
       "      <td>5</td>\n",
       "      <td>5</td>\n",
       "      <td>5</td>\n",
       "      <td>5</td>\n",
       "      <td>5</td>\n",
       "      <td>5</td>\n",
       "      <td>5</td>\n",
       "    </tr>\n",
       "    <tr>\n",
       "      <th>9f2a10e2-edf4-4443-9d3c-531d9030edb7</th>\n",
       "      <td>2</td>\n",
       "      <td>2</td>\n",
       "      <td>2</td>\n",
       "      <td>2</td>\n",
       "      <td>2</td>\n",
       "      <td>2</td>\n",
       "      <td>2</td>\n",
       "    </tr>\n",
       "    <tr>\n",
       "      <th>9f65a904-8847-4f78-ac85-ac54c14fd138</th>\n",
       "      <td>2</td>\n",
       "      <td>2</td>\n",
       "      <td>2</td>\n",
       "      <td>2</td>\n",
       "      <td>2</td>\n",
       "      <td>2</td>\n",
       "      <td>2</td>\n",
       "    </tr>\n",
       "    <tr>\n",
       "      <th>b433b19b-b184-4bfa-ba9c-90c6329313ac</th>\n",
       "      <td>2</td>\n",
       "      <td>2</td>\n",
       "      <td>2</td>\n",
       "      <td>2</td>\n",
       "      <td>2</td>\n",
       "      <td>2</td>\n",
       "      <td>2</td>\n",
       "    </tr>\n",
       "    <tr>\n",
       "      <th>b4d1204b-42cf-4a56-b0f7-6813795a2923</th>\n",
       "      <td>4</td>\n",
       "      <td>4</td>\n",
       "      <td>4</td>\n",
       "      <td>4</td>\n",
       "      <td>4</td>\n",
       "      <td>4</td>\n",
       "      <td>4</td>\n",
       "    </tr>\n",
       "    <tr>\n",
       "      <th>b7d90b39-7606-47bf-8552-d8670e7e015a</th>\n",
       "      <td>3</td>\n",
       "      <td>3</td>\n",
       "      <td>3</td>\n",
       "      <td>3</td>\n",
       "      <td>3</td>\n",
       "      <td>3</td>\n",
       "      <td>3</td>\n",
       "    </tr>\n",
       "    <tr>\n",
       "      <th>bc9cb0c4-fd45-47d8-a975-5333691e2f9f</th>\n",
       "      <td>4</td>\n",
       "      <td>4</td>\n",
       "      <td>4</td>\n",
       "      <td>4</td>\n",
       "      <td>4</td>\n",
       "      <td>4</td>\n",
       "      <td>4</td>\n",
       "    </tr>\n",
       "    <tr>\n",
       "      <th>c6b8f3a6-e89d-40c7-9d65-e58bd693d299</th>\n",
       "      <td>2</td>\n",
       "      <td>2</td>\n",
       "      <td>2</td>\n",
       "      <td>2</td>\n",
       "      <td>2</td>\n",
       "      <td>2</td>\n",
       "      <td>2</td>\n",
       "    </tr>\n",
       "    <tr>\n",
       "      <th>ce768b16-47b8-4ab1-b423-5e465434e5a5</th>\n",
       "      <td>3</td>\n",
       "      <td>3</td>\n",
       "      <td>3</td>\n",
       "      <td>3</td>\n",
       "      <td>3</td>\n",
       "      <td>3</td>\n",
       "      <td>3</td>\n",
       "    </tr>\n",
       "    <tr>\n",
       "      <th>d119bb66-0100-4517-8d68-0eb4a95b5a60</th>\n",
       "      <td>2</td>\n",
       "      <td>2</td>\n",
       "      <td>2</td>\n",
       "      <td>2</td>\n",
       "      <td>2</td>\n",
       "      <td>2</td>\n",
       "      <td>2</td>\n",
       "    </tr>\n",
       "    <tr>\n",
       "      <th>d37720ea-fab8-4302-8674-808017d7bf1e</th>\n",
       "      <td>4</td>\n",
       "      <td>4</td>\n",
       "      <td>4</td>\n",
       "      <td>4</td>\n",
       "      <td>4</td>\n",
       "      <td>4</td>\n",
       "      <td>4</td>\n",
       "    </tr>\n",
       "    <tr>\n",
       "      <th>dc9db4df-d42a-42cd-879a-e678a69ed5c7</th>\n",
       "      <td>4</td>\n",
       "      <td>4</td>\n",
       "      <td>4</td>\n",
       "      <td>4</td>\n",
       "      <td>4</td>\n",
       "      <td>4</td>\n",
       "      <td>4</td>\n",
       "    </tr>\n",
       "    <tr>\n",
       "      <th>e22a42d5-fd97-4040-b6ef-292b90521125</th>\n",
       "      <td>3</td>\n",
       "      <td>3</td>\n",
       "      <td>3</td>\n",
       "      <td>3</td>\n",
       "      <td>3</td>\n",
       "      <td>3</td>\n",
       "      <td>3</td>\n",
       "    </tr>\n",
       "    <tr>\n",
       "      <th>e77947ce-1a03-4c88-a3b0-85067b7f6fcc</th>\n",
       "      <td>3</td>\n",
       "      <td>3</td>\n",
       "      <td>3</td>\n",
       "      <td>3</td>\n",
       "      <td>3</td>\n",
       "      <td>3</td>\n",
       "      <td>3</td>\n",
       "    </tr>\n",
       "    <tr>\n",
       "      <th>ee8986ab-7ee0-4349-b578-710a33058958</th>\n",
       "      <td>2</td>\n",
       "      <td>2</td>\n",
       "      <td>2</td>\n",
       "      <td>2</td>\n",
       "      <td>2</td>\n",
       "      <td>2</td>\n",
       "      <td>2</td>\n",
       "    </tr>\n",
       "    <tr>\n",
       "      <th>eedfb2b0-6fa8-434b-90d8-43f9db8f0b5f</th>\n",
       "      <td>2</td>\n",
       "      <td>2</td>\n",
       "      <td>2</td>\n",
       "      <td>2</td>\n",
       "      <td>2</td>\n",
       "      <td>2</td>\n",
       "      <td>2</td>\n",
       "    </tr>\n",
       "    <tr>\n",
       "      <th>efc098b3-f010-4de5-8770-6e7381874f5b</th>\n",
       "      <td>3</td>\n",
       "      <td>3</td>\n",
       "      <td>3</td>\n",
       "      <td>3</td>\n",
       "      <td>3</td>\n",
       "      <td>3</td>\n",
       "      <td>3</td>\n",
       "    </tr>\n",
       "    <tr>\n",
       "      <th>f3e38d6e-4c4e-4007-b66b-79db1dad2716</th>\n",
       "      <td>3</td>\n",
       "      <td>3</td>\n",
       "      <td>3</td>\n",
       "      <td>3</td>\n",
       "      <td>3</td>\n",
       "      <td>3</td>\n",
       "      <td>3</td>\n",
       "    </tr>\n",
       "    <tr>\n",
       "      <th>f8c3b30f-e66f-413a-83c6-9fc39c366a77</th>\n",
       "      <td>3</td>\n",
       "      <td>3</td>\n",
       "      <td>3</td>\n",
       "      <td>3</td>\n",
       "      <td>3</td>\n",
       "      <td>3</td>\n",
       "      <td>3</td>\n",
       "    </tr>\n",
       "    <tr>\n",
       "      <th>fb63a3e6-6944-4b0c-8cd1-64513f81f0ea</th>\n",
       "      <td>4</td>\n",
       "      <td>4</td>\n",
       "      <td>4</td>\n",
       "      <td>4</td>\n",
       "      <td>4</td>\n",
       "      <td>4</td>\n",
       "      <td>4</td>\n",
       "    </tr>\n",
       "  </tbody>\n",
       "</table>\n",
       "</div>"
      ],
      "text/plain": [
       "                                      movie_id  explod_expl  pem_expl  score  \\\n",
       "ID                                                                             \n",
       "0903e4d7-0117-43ac-9ba1-67a34ee4f584         3            3         3      3   \n",
       "16497ee9-9f63-4ac3-8cba-ca821cd434cc         4            4         4      4   \n",
       "1670be4a-56a4-401b-a64a-ea8490643f1d         3            3         3      3   \n",
       "199a272e-eb22-4ae2-95fb-dd14c4fa208e         2            2         2      2   \n",
       "1cdedd0e-ada1-4901-9443-b9fe73ee4eaf         5            5         5      5   \n",
       "1cf52f56-d06f-4f56-9b6c-3894edeb795b         4            4         4      4   \n",
       "26bbc9a9-86bb-4974-a1b5-6601b511ba4d         4            4         4      4   \n",
       "2763ffe6-f1c6-4021-b053-e1323d9d0989         2            2         2      2   \n",
       "277ace42-bf8e-4af7-82a2-f2a98ffdad95         3            3         3      3   \n",
       "282ef334-b2de-4873-b8c0-e6e94b9777e2         4            4         4      4   \n",
       "2d7fa883-3b29-4bd3-b592-54fc656a68bc         3            3         3      3   \n",
       "2fff537b-f60f-4762-a300-e651a85c83e7         3            3         3      3   \n",
       "330036ae-330c-4fff-b455-ff819ae8adec         1            1         1      1   \n",
       "33db9956-4b5b-47ab-b3d1-6f76c42384f7         2            2         2      2   \n",
       "37080dca-b8d4-432b-8577-ee2966dfa206         3            3         3      3   \n",
       "3887e896-3fa0-477d-be09-af967ba31f91         2            2         2      2   \n",
       "38cdc324-2d9a-42c4-b2f3-44448d149cc4         1            1         1      1   \n",
       "3cdae0e0-3b22-46f3-a286-f502d2115f80         3            3         3      3   \n",
       "4221f534-a566-4fe1-af3b-2e73067a521c         4            4         4      4   \n",
       "42aab9b2-db24-421f-ace6-4564397942ae         4            4         4      4   \n",
       "4d1107a0-b627-4a84-a05c-f80b4132fb32         5            5         5      5   \n",
       "4d5557e0-f952-47ac-9592-ee5d08ea8ff1         3            3         3      3   \n",
       "537542f2-31b4-4ab6-a6ef-25fed9d64258         3            3         3      3   \n",
       "5efdbde1-5292-492b-b951-b97cb2c150f6         3            3         3      3   \n",
       "6ac132c1-3b8a-4a65-bdcb-8a509c051b5e         3            3         3      3   \n",
       "73154f98-a5ae-4b38-9202-e688a0a86e28         4            4         4      4   \n",
       "751c5e42-c91a-4d97-994b-54c021c0accb         3            3         3      3   \n",
       "7d6d6774-c7b1-49c4-b4e4-c62bfd4588d1         3            3         3      3   \n",
       "8865717f-1ee0-4efb-a09b-e1173e28cf04         4            4         4      4   \n",
       "88bc749c-07dd-4c54-86dd-ba0ff6805bea         2            2         2      2   \n",
       "8e5115a8-aee4-403a-a33a-81a9dc677d0c         4            4         4      4   \n",
       "912f4714-a42b-4b58-ab9d-5fc5f1ab7a99         2            2         2      2   \n",
       "94cb0ad6-df69-4c3a-9df6-0d737a7c8add         4            4         4      4   \n",
       "99a9b0db-5c2f-474a-b623-73b252e9ca1f         4            4         4      4   \n",
       "9c0919a4-762f-44b8-9c74-fbab1bb4e609         3            3         3      3   \n",
       "9c577360-04b1-483a-a984-a02a2a2c4689         5            5         5      5   \n",
       "9f2a10e2-edf4-4443-9d3c-531d9030edb7         2            2         2      2   \n",
       "9f65a904-8847-4f78-ac85-ac54c14fd138         2            2         2      2   \n",
       "b433b19b-b184-4bfa-ba9c-90c6329313ac         2            2         2      2   \n",
       "b4d1204b-42cf-4a56-b0f7-6813795a2923         4            4         4      4   \n",
       "b7d90b39-7606-47bf-8552-d8670e7e015a         3            3         3      3   \n",
       "bc9cb0c4-fd45-47d8-a975-5333691e2f9f         4            4         4      4   \n",
       "c6b8f3a6-e89d-40c7-9d65-e58bd693d299         2            2         2      2   \n",
       "ce768b16-47b8-4ab1-b423-5e465434e5a5         3            3         3      3   \n",
       "d119bb66-0100-4517-8d68-0eb4a95b5a60         2            2         2      2   \n",
       "d37720ea-fab8-4302-8674-808017d7bf1e         4            4         4      4   \n",
       "dc9db4df-d42a-42cd-879a-e678a69ed5c7         4            4         4      4   \n",
       "e22a42d5-fd97-4040-b6ef-292b90521125         3            3         3      3   \n",
       "e77947ce-1a03-4c88-a3b0-85067b7f6fcc         3            3         3      3   \n",
       "ee8986ab-7ee0-4349-b578-710a33058958         2            2         2      2   \n",
       "eedfb2b0-6fa8-434b-90d8-43f9db8f0b5f         2            2         2      2   \n",
       "efc098b3-f010-4de5-8770-6e7381874f5b         3            3         3      3   \n",
       "f3e38d6e-4c4e-4007-b66b-79db1dad2716         3            3         3      3   \n",
       "f8c3b30f-e66f-413a-83c6-9fc39c366a77         3            3         3      3   \n",
       "fb63a3e6-6944-4b0c-8cd1-64513f81f0ea         4            4         4      4   \n",
       "\n",
       "                                      time  title  pem_prop  \n",
       "ID                                                           \n",
       "0903e4d7-0117-43ac-9ba1-67a34ee4f584     3      3         3  \n",
       "16497ee9-9f63-4ac3-8cba-ca821cd434cc     4      4         4  \n",
       "1670be4a-56a4-401b-a64a-ea8490643f1d     3      3         3  \n",
       "199a272e-eb22-4ae2-95fb-dd14c4fa208e     2      2         2  \n",
       "1cdedd0e-ada1-4901-9443-b9fe73ee4eaf     5      5         5  \n",
       "1cf52f56-d06f-4f56-9b6c-3894edeb795b     4      4         4  \n",
       "26bbc9a9-86bb-4974-a1b5-6601b511ba4d     4      4         4  \n",
       "2763ffe6-f1c6-4021-b053-e1323d9d0989     2      2         2  \n",
       "277ace42-bf8e-4af7-82a2-f2a98ffdad95     3      3         3  \n",
       "282ef334-b2de-4873-b8c0-e6e94b9777e2     4      4         4  \n",
       "2d7fa883-3b29-4bd3-b592-54fc656a68bc     3      3         3  \n",
       "2fff537b-f60f-4762-a300-e651a85c83e7     3      3         3  \n",
       "330036ae-330c-4fff-b455-ff819ae8adec     1      1         1  \n",
       "33db9956-4b5b-47ab-b3d1-6f76c42384f7     2      2         2  \n",
       "37080dca-b8d4-432b-8577-ee2966dfa206     3      3         3  \n",
       "3887e896-3fa0-477d-be09-af967ba31f91     2      2         2  \n",
       "38cdc324-2d9a-42c4-b2f3-44448d149cc4     1      1         1  \n",
       "3cdae0e0-3b22-46f3-a286-f502d2115f80     3      3         3  \n",
       "4221f534-a566-4fe1-af3b-2e73067a521c     4      4         4  \n",
       "42aab9b2-db24-421f-ace6-4564397942ae     4      4         4  \n",
       "4d1107a0-b627-4a84-a05c-f80b4132fb32     5      5         5  \n",
       "4d5557e0-f952-47ac-9592-ee5d08ea8ff1     3      3         3  \n",
       "537542f2-31b4-4ab6-a6ef-25fed9d64258     3      3         3  \n",
       "5efdbde1-5292-492b-b951-b97cb2c150f6     3      3         3  \n",
       "6ac132c1-3b8a-4a65-bdcb-8a509c051b5e     3      3         3  \n",
       "73154f98-a5ae-4b38-9202-e688a0a86e28     4      4         4  \n",
       "751c5e42-c91a-4d97-994b-54c021c0accb     3      3         3  \n",
       "7d6d6774-c7b1-49c4-b4e4-c62bfd4588d1     3      3         3  \n",
       "8865717f-1ee0-4efb-a09b-e1173e28cf04     4      4         4  \n",
       "88bc749c-07dd-4c54-86dd-ba0ff6805bea     2      2         2  \n",
       "8e5115a8-aee4-403a-a33a-81a9dc677d0c     4      4         4  \n",
       "912f4714-a42b-4b58-ab9d-5fc5f1ab7a99     2      2         2  \n",
       "94cb0ad6-df69-4c3a-9df6-0d737a7c8add     4      4         4  \n",
       "99a9b0db-5c2f-474a-b623-73b252e9ca1f     4      4         4  \n",
       "9c0919a4-762f-44b8-9c74-fbab1bb4e609     3      3         3  \n",
       "9c577360-04b1-483a-a984-a02a2a2c4689     5      5         5  \n",
       "9f2a10e2-edf4-4443-9d3c-531d9030edb7     2      2         2  \n",
       "9f65a904-8847-4f78-ac85-ac54c14fd138     2      2         2  \n",
       "b433b19b-b184-4bfa-ba9c-90c6329313ac     2      2         2  \n",
       "b4d1204b-42cf-4a56-b0f7-6813795a2923     4      4         4  \n",
       "b7d90b39-7606-47bf-8552-d8670e7e015a     3      3         3  \n",
       "bc9cb0c4-fd45-47d8-a975-5333691e2f9f     4      4         4  \n",
       "c6b8f3a6-e89d-40c7-9d65-e58bd693d299     2      2         2  \n",
       "ce768b16-47b8-4ab1-b423-5e465434e5a5     3      3         3  \n",
       "d119bb66-0100-4517-8d68-0eb4a95b5a60     2      2         2  \n",
       "d37720ea-fab8-4302-8674-808017d7bf1e     4      4         4  \n",
       "dc9db4df-d42a-42cd-879a-e678a69ed5c7     4      4         4  \n",
       "e22a42d5-fd97-4040-b6ef-292b90521125     3      3         3  \n",
       "e77947ce-1a03-4c88-a3b0-85067b7f6fcc     3      3         3  \n",
       "ee8986ab-7ee0-4349-b578-710a33058958     2      2         2  \n",
       "eedfb2b0-6fa8-434b-90d8-43f9db8f0b5f     2      2         2  \n",
       "efc098b3-f010-4de5-8770-6e7381874f5b     3      3         3  \n",
       "f3e38d6e-4c4e-4007-b66b-79db1dad2716     3      3         3  \n",
       "f8c3b30f-e66f-413a-83c6-9fc39c366a77     3      3         3  \n",
       "fb63a3e6-6944-4b0c-8cd1-64513f81f0ea     4      4         4  "
      ]
     },
     "execution_count": 35,
     "metadata": {},
     "output_type": "execute_result"
    }
   ],
   "source": [
    "end_expl_count_final = end_expl_count.groupby('ID').count()\n",
    "end_expl_count_final"
   ]
  },
  {
   "cell_type": "code",
   "execution_count": 36,
   "id": "ac3e4bc9",
   "metadata": {},
   "outputs": [
    {
     "data": {
      "application/vnd.microsoft.datawrangler.viewer.v0+json": {
       "columns": [
        {
         "name": "ID",
         "rawType": "object",
         "type": "string"
        },
        {
         "name": "movie_id",
         "rawType": "int64",
         "type": "integer"
        }
       ],
       "ref": "01472e42-9992-4913-8471-460862bc6fe0",
       "rows": [
        [
         "0903e4d7-0117-43ac-9ba1-67a34ee4f584",
         "3"
        ],
        [
         "16497ee9-9f63-4ac3-8cba-ca821cd434cc",
         "4"
        ],
        [
         "1670be4a-56a4-401b-a64a-ea8490643f1d",
         "3"
        ],
        [
         "199a272e-eb22-4ae2-95fb-dd14c4fa208e",
         "2"
        ],
        [
         "1cdedd0e-ada1-4901-9443-b9fe73ee4eaf",
         "5"
        ],
        [
         "1cf52f56-d06f-4f56-9b6c-3894edeb795b",
         "4"
        ],
        [
         "26bbc9a9-86bb-4974-a1b5-6601b511ba4d",
         "4"
        ],
        [
         "2763ffe6-f1c6-4021-b053-e1323d9d0989",
         "2"
        ],
        [
         "277ace42-bf8e-4af7-82a2-f2a98ffdad95",
         "3"
        ],
        [
         "282ef334-b2de-4873-b8c0-e6e94b9777e2",
         "4"
        ],
        [
         "2d7fa883-3b29-4bd3-b592-54fc656a68bc",
         "3"
        ],
        [
         "2fff537b-f60f-4762-a300-e651a85c83e7",
         "3"
        ],
        [
         "330036ae-330c-4fff-b455-ff819ae8adec",
         "1"
        ],
        [
         "33db9956-4b5b-47ab-b3d1-6f76c42384f7",
         "2"
        ],
        [
         "37080dca-b8d4-432b-8577-ee2966dfa206",
         "3"
        ],
        [
         "3887e896-3fa0-477d-be09-af967ba31f91",
         "2"
        ],
        [
         "38cdc324-2d9a-42c4-b2f3-44448d149cc4",
         "1"
        ],
        [
         "3cdae0e0-3b22-46f3-a286-f502d2115f80",
         "3"
        ],
        [
         "4221f534-a566-4fe1-af3b-2e73067a521c",
         "4"
        ],
        [
         "42aab9b2-db24-421f-ace6-4564397942ae",
         "4"
        ],
        [
         "4d1107a0-b627-4a84-a05c-f80b4132fb32",
         "5"
        ],
        [
         "4d5557e0-f952-47ac-9592-ee5d08ea8ff1",
         "3"
        ],
        [
         "537542f2-31b4-4ab6-a6ef-25fed9d64258",
         "3"
        ],
        [
         "5efdbde1-5292-492b-b951-b97cb2c150f6",
         "3"
        ],
        [
         "6ac132c1-3b8a-4a65-bdcb-8a509c051b5e",
         "3"
        ],
        [
         "73154f98-a5ae-4b38-9202-e688a0a86e28",
         "4"
        ],
        [
         "751c5e42-c91a-4d97-994b-54c021c0accb",
         "3"
        ],
        [
         "7d6d6774-c7b1-49c4-b4e4-c62bfd4588d1",
         "3"
        ],
        [
         "8865717f-1ee0-4efb-a09b-e1173e28cf04",
         "4"
        ],
        [
         "88bc749c-07dd-4c54-86dd-ba0ff6805bea",
         "2"
        ],
        [
         "8e5115a8-aee4-403a-a33a-81a9dc677d0c",
         "4"
        ],
        [
         "912f4714-a42b-4b58-ab9d-5fc5f1ab7a99",
         "2"
        ],
        [
         "94cb0ad6-df69-4c3a-9df6-0d737a7c8add",
         "4"
        ],
        [
         "99a9b0db-5c2f-474a-b623-73b252e9ca1f",
         "4"
        ],
        [
         "9c0919a4-762f-44b8-9c74-fbab1bb4e609",
         "3"
        ],
        [
         "9c577360-04b1-483a-a984-a02a2a2c4689",
         "5"
        ],
        [
         "9f2a10e2-edf4-4443-9d3c-531d9030edb7",
         "2"
        ],
        [
         "9f65a904-8847-4f78-ac85-ac54c14fd138",
         "2"
        ],
        [
         "b433b19b-b184-4bfa-ba9c-90c6329313ac",
         "2"
        ],
        [
         "b4d1204b-42cf-4a56-b0f7-6813795a2923",
         "4"
        ],
        [
         "b7d90b39-7606-47bf-8552-d8670e7e015a",
         "3"
        ],
        [
         "bc9cb0c4-fd45-47d8-a975-5333691e2f9f",
         "4"
        ],
        [
         "c6b8f3a6-e89d-40c7-9d65-e58bd693d299",
         "2"
        ],
        [
         "ce768b16-47b8-4ab1-b423-5e465434e5a5",
         "3"
        ],
        [
         "d119bb66-0100-4517-8d68-0eb4a95b5a60",
         "2"
        ],
        [
         "d37720ea-fab8-4302-8674-808017d7bf1e",
         "4"
        ],
        [
         "dc9db4df-d42a-42cd-879a-e678a69ed5c7",
         "4"
        ],
        [
         "e22a42d5-fd97-4040-b6ef-292b90521125",
         "3"
        ],
        [
         "e77947ce-1a03-4c88-a3b0-85067b7f6fcc",
         "3"
        ],
        [
         "ee8986ab-7ee0-4349-b578-710a33058958",
         "2"
        ]
       ],
       "shape": {
        "columns": 1,
        "rows": 55
       }
      },
      "text/plain": [
       "ID\n",
       "0903e4d7-0117-43ac-9ba1-67a34ee4f584    3\n",
       "16497ee9-9f63-4ac3-8cba-ca821cd434cc    4\n",
       "1670be4a-56a4-401b-a64a-ea8490643f1d    3\n",
       "199a272e-eb22-4ae2-95fb-dd14c4fa208e    2\n",
       "1cdedd0e-ada1-4901-9443-b9fe73ee4eaf    5\n",
       "1cf52f56-d06f-4f56-9b6c-3894edeb795b    4\n",
       "26bbc9a9-86bb-4974-a1b5-6601b511ba4d    4\n",
       "2763ffe6-f1c6-4021-b053-e1323d9d0989    2\n",
       "277ace42-bf8e-4af7-82a2-f2a98ffdad95    3\n",
       "282ef334-b2de-4873-b8c0-e6e94b9777e2    4\n",
       "2d7fa883-3b29-4bd3-b592-54fc656a68bc    3\n",
       "2fff537b-f60f-4762-a300-e651a85c83e7    3\n",
       "330036ae-330c-4fff-b455-ff819ae8adec    1\n",
       "33db9956-4b5b-47ab-b3d1-6f76c42384f7    2\n",
       "37080dca-b8d4-432b-8577-ee2966dfa206    3\n",
       "3887e896-3fa0-477d-be09-af967ba31f91    2\n",
       "38cdc324-2d9a-42c4-b2f3-44448d149cc4    1\n",
       "3cdae0e0-3b22-46f3-a286-f502d2115f80    3\n",
       "4221f534-a566-4fe1-af3b-2e73067a521c    4\n",
       "42aab9b2-db24-421f-ace6-4564397942ae    4\n",
       "4d1107a0-b627-4a84-a05c-f80b4132fb32    5\n",
       "4d5557e0-f952-47ac-9592-ee5d08ea8ff1    3\n",
       "537542f2-31b4-4ab6-a6ef-25fed9d64258    3\n",
       "5efdbde1-5292-492b-b951-b97cb2c150f6    3\n",
       "6ac132c1-3b8a-4a65-bdcb-8a509c051b5e    3\n",
       "73154f98-a5ae-4b38-9202-e688a0a86e28    4\n",
       "751c5e42-c91a-4d97-994b-54c021c0accb    3\n",
       "7d6d6774-c7b1-49c4-b4e4-c62bfd4588d1    3\n",
       "8865717f-1ee0-4efb-a09b-e1173e28cf04    4\n",
       "88bc749c-07dd-4c54-86dd-ba0ff6805bea    2\n",
       "8e5115a8-aee4-403a-a33a-81a9dc677d0c    4\n",
       "912f4714-a42b-4b58-ab9d-5fc5f1ab7a99    2\n",
       "94cb0ad6-df69-4c3a-9df6-0d737a7c8add    4\n",
       "99a9b0db-5c2f-474a-b623-73b252e9ca1f    4\n",
       "9c0919a4-762f-44b8-9c74-fbab1bb4e609    3\n",
       "9c577360-04b1-483a-a984-a02a2a2c4689    5\n",
       "9f2a10e2-edf4-4443-9d3c-531d9030edb7    2\n",
       "9f65a904-8847-4f78-ac85-ac54c14fd138    2\n",
       "b433b19b-b184-4bfa-ba9c-90c6329313ac    2\n",
       "b4d1204b-42cf-4a56-b0f7-6813795a2923    4\n",
       "b7d90b39-7606-47bf-8552-d8670e7e015a    3\n",
       "bc9cb0c4-fd45-47d8-a975-5333691e2f9f    4\n",
       "c6b8f3a6-e89d-40c7-9d65-e58bd693d299    2\n",
       "ce768b16-47b8-4ab1-b423-5e465434e5a5    3\n",
       "d119bb66-0100-4517-8d68-0eb4a95b5a60    2\n",
       "d37720ea-fab8-4302-8674-808017d7bf1e    4\n",
       "dc9db4df-d42a-42cd-879a-e678a69ed5c7    4\n",
       "e22a42d5-fd97-4040-b6ef-292b90521125    3\n",
       "e77947ce-1a03-4c88-a3b0-85067b7f6fcc    3\n",
       "ee8986ab-7ee0-4349-b578-710a33058958    2\n",
       "eedfb2b0-6fa8-434b-90d8-43f9db8f0b5f    2\n",
       "efc098b3-f010-4de5-8770-6e7381874f5b    3\n",
       "f3e38d6e-4c4e-4007-b66b-79db1dad2716    3\n",
       "f8c3b30f-e66f-413a-83c6-9fc39c366a77    3\n",
       "fb63a3e6-6944-4b0c-8cd1-64513f81f0ea    4\n",
       "Name: movie_id, dtype: int64"
      ]
     },
     "execution_count": 36,
     "metadata": {},
     "output_type": "execute_result"
    }
   ],
   "source": [
    "end_expl_count_final = end_expl_count_final['movie_id']\n",
    "end_expl_count_final"
   ]
  },
  {
   "cell_type": "code",
   "execution_count": 37,
   "id": "644d17f2",
   "metadata": {},
   "outputs": [
    {
     "data": {
      "text/plain": [
       "Index(['16497ee9-9f63-4ac3-8cba-ca821cd434cc',\n",
       "       '1cdedd0e-ada1-4901-9443-b9fe73ee4eaf',\n",
       "       '1cf52f56-d06f-4f56-9b6c-3894edeb795b',\n",
       "       '26bbc9a9-86bb-4974-a1b5-6601b511ba4d',\n",
       "       '282ef334-b2de-4873-b8c0-e6e94b9777e2',\n",
       "       '4221f534-a566-4fe1-af3b-2e73067a521c',\n",
       "       '42aab9b2-db24-421f-ace6-4564397942ae',\n",
       "       '4d1107a0-b627-4a84-a05c-f80b4132fb32',\n",
       "       '73154f98-a5ae-4b38-9202-e688a0a86e28',\n",
       "       '8865717f-1ee0-4efb-a09b-e1173e28cf04',\n",
       "       '8e5115a8-aee4-403a-a33a-81a9dc677d0c',\n",
       "       '94cb0ad6-df69-4c3a-9df6-0d737a7c8add',\n",
       "       '99a9b0db-5c2f-474a-b623-73b252e9ca1f',\n",
       "       '9c577360-04b1-483a-a984-a02a2a2c4689',\n",
       "       'b4d1204b-42cf-4a56-b0f7-6813795a2923',\n",
       "       'bc9cb0c4-fd45-47d8-a975-5333691e2f9f',\n",
       "       'd37720ea-fab8-4302-8674-808017d7bf1e',\n",
       "       'dc9db4df-d42a-42cd-879a-e678a69ed5c7',\n",
       "       'fb63a3e6-6944-4b0c-8cd1-64513f81f0ea'],\n",
       "      dtype='object', name='ID')"
      ]
     },
     "execution_count": 37,
     "metadata": {},
     "output_type": "execute_result"
    }
   ],
   "source": [
    "ids = end_expl_count_final[end_expl_count_final >= 4].index\n",
    "ids"
   ]
  },
  {
   "cell_type": "code",
   "execution_count": 38,
   "id": "fea3ccc6",
   "metadata": {},
   "outputs": [
    {
     "data": {
      "text/plain": [
       "19"
      ]
     },
     "execution_count": 38,
     "metadata": {},
     "output_type": "execute_result"
    }
   ],
   "source": [
    "len(ids)"
   ]
  },
  {
   "cell_type": "code",
   "execution_count": 39,
   "id": "23a1aa0e",
   "metadata": {},
   "outputs": [],
   "source": [
    "results_repla = results_repla[results_repla.index.isin(ids)]\n",
    "results_replb = results_replb.loc[results_replb.index.isin(ids)]"
   ]
  },
  {
   "cell_type": "code",
   "execution_count": 40,
   "id": "69afaf12",
   "metadata": {},
   "outputs": [
    {
     "data": {
      "application/vnd.microsoft.datawrangler.viewer.v0+json": {
       "columns": [
        {
         "name": "index",
         "rawType": "int64",
         "type": "integer"
        },
        {
         "name": "Category",
         "rawType": "object",
         "type": "string"
        },
        {
         "name": "Equal",
         "rawType": "object",
         "type": "unknown"
        },
        {
         "name": "More ExpLOD",
         "rawType": "object",
         "type": "unknown"
        },
        {
         "name": "More PEM",
         "rawType": "object",
         "type": "unknown"
        },
        {
         "name": "Much More ExpLOD",
         "rawType": "object",
         "type": "unknown"
        },
        {
         "name": "Much More PEM",
         "rawType": "object",
         "type": "unknown"
        }
       ],
       "ref": "32680c7c-4914-46ae-aed7-af0671c4ba20",
       "rows": [
        [
         "0",
         "Diversity",
         "5",
         "6",
         "7",
         null,
         "1"
        ],
        [
         "1",
         "Popularity",
         "5",
         "7",
         "4",
         "2",
         "1"
        ],
        [
         "2",
         "Transparency",
         "3",
         "10",
         "3",
         null,
         "3"
        ],
        [
         "3",
         "Engagement",
         "8",
         "4",
         "5",
         "1",
         "1"
        ],
        [
         "4",
         "Trust",
         "3",
         "10",
         "4",
         "1",
         "1"
        ],
        [
         "5",
         "Persuasiveness",
         "5",
         "7",
         "4",
         "2",
         "1"
        ]
       ],
       "shape": {
        "columns": 6,
        "rows": 6
       }
      },
      "text/html": [
       "<div>\n",
       "<style scoped>\n",
       "    .dataframe tbody tr th:only-of-type {\n",
       "        vertical-align: middle;\n",
       "    }\n",
       "\n",
       "    .dataframe tbody tr th {\n",
       "        vertical-align: top;\n",
       "    }\n",
       "\n",
       "    .dataframe thead th {\n",
       "        text-align: right;\n",
       "    }\n",
       "</style>\n",
       "<table border=\"1\" class=\"dataframe\">\n",
       "  <thead>\n",
       "    <tr style=\"text-align: right;\">\n",
       "      <th></th>\n",
       "      <th>Category</th>\n",
       "      <th>Equal</th>\n",
       "      <th>More ExpLOD</th>\n",
       "      <th>More PEM</th>\n",
       "      <th>Much More ExpLOD</th>\n",
       "      <th>Much More PEM</th>\n",
       "    </tr>\n",
       "  </thead>\n",
       "  <tbody>\n",
       "    <tr>\n",
       "      <th>0</th>\n",
       "      <td>Diversity</td>\n",
       "      <td>5</td>\n",
       "      <td>6</td>\n",
       "      <td>7</td>\n",
       "      <td>NaN</td>\n",
       "      <td>1</td>\n",
       "    </tr>\n",
       "    <tr>\n",
       "      <th>1</th>\n",
       "      <td>Popularity</td>\n",
       "      <td>5</td>\n",
       "      <td>7</td>\n",
       "      <td>4</td>\n",
       "      <td>2</td>\n",
       "      <td>1</td>\n",
       "    </tr>\n",
       "    <tr>\n",
       "      <th>2</th>\n",
       "      <td>Transparency</td>\n",
       "      <td>3</td>\n",
       "      <td>10</td>\n",
       "      <td>3</td>\n",
       "      <td>NaN</td>\n",
       "      <td>3</td>\n",
       "    </tr>\n",
       "    <tr>\n",
       "      <th>3</th>\n",
       "      <td>Engagement</td>\n",
       "      <td>8</td>\n",
       "      <td>4</td>\n",
       "      <td>5</td>\n",
       "      <td>1</td>\n",
       "      <td>1</td>\n",
       "    </tr>\n",
       "    <tr>\n",
       "      <th>4</th>\n",
       "      <td>Trust</td>\n",
       "      <td>3</td>\n",
       "      <td>10</td>\n",
       "      <td>4</td>\n",
       "      <td>1</td>\n",
       "      <td>1</td>\n",
       "    </tr>\n",
       "    <tr>\n",
       "      <th>5</th>\n",
       "      <td>Persuasiveness</td>\n",
       "      <td>5</td>\n",
       "      <td>7</td>\n",
       "      <td>4</td>\n",
       "      <td>2</td>\n",
       "      <td>1</td>\n",
       "    </tr>\n",
       "  </tbody>\n",
       "</table>\n",
       "</div>"
      ],
      "text/plain": [
       "         Category Equal More ExpLOD More PEM Much More ExpLOD Much More PEM\n",
       "0       Diversity     5           6        7              NaN             1\n",
       "1      Popularity     5           7        4                2             1\n",
       "2    Transparency     3          10        3              NaN             3\n",
       "3      Engagement     8           4        5                1             1\n",
       "4           Trust     3          10        4                1             1\n",
       "5  Persuasiveness     5           7        4                2             1"
      ]
     },
     "execution_count": 40,
     "metadata": {},
     "output_type": "execute_result"
    }
   ],
   "source": [
    "df2 = pd.DataFrame(columns=['Category', 'Equal', 'More ExpLOD', 'More PEM', 'Much More ExpLOD',\n",
    "       'Much More PEM'])\n",
    "\n",
    "a = quest_results('diversity').sort_values('count', ascending=False).T.reset_index().drop(columns=\"index\")\n",
    "a[\"Category\"] = 'Diversity'\n",
    "df2.loc[len(df2)] = a.iloc[0]\n",
    "\n",
    "a = quest_results('popularity').sort_values('count', ascending=False).T.reset_index().drop(columns=\"index\")\n",
    "a[\"Category\"] = 'Popularity'\n",
    "df2.loc[len(df2)] = a.iloc[0]\n",
    "\n",
    "a = quest_results('understood').sort_values('count', ascending=False).T.reset_index().drop(columns=\"index\")\n",
    "a[\"Category\"] = 'Transparency'\n",
    "df2.loc[len(df2)] = a.iloc[0]\n",
    "\n",
    "a = quest_results('discover').sort_values('count', ascending=False).T.reset_index().drop(columns=\"index\")\n",
    "a[\"Category\"] = 'Engagement'\n",
    "df2.loc[len(df2)] = a.iloc[0]\n",
    "\n",
    "a = quest_results('trust').sort_values('count', ascending=False).T.reset_index().drop(columns=\"index\")\n",
    "a[\"Category\"] = 'Trust'\n",
    "df2.loc[len(df2)] = a.iloc[0]\n",
    "\n",
    "a = quest_results('convincing').sort_values('count', ascending=False).T.reset_index().drop(columns=\"index\")\n",
    "a[\"Category\"] = 'Persuasiveness'\n",
    "df2.loc[len(df2)] = a.iloc[0]\n",
    "\n",
    "df2"
   ]
  },
  {
   "cell_type": "code",
   "execution_count": 41,
   "id": "66391209",
   "metadata": {},
   "outputs": [
    {
     "data": {
      "application/vnd.microsoft.datawrangler.viewer.v0+json": {
       "columns": [
        {
         "name": "index",
         "rawType": "int64",
         "type": "integer"
        },
        {
         "name": "Category",
         "rawType": "object",
         "type": "string"
        },
        {
         "name": "Equal",
         "rawType": "object",
         "type": "unknown"
        },
        {
         "name": "More ExpLOD",
         "rawType": "object",
         "type": "unknown"
        },
        {
         "name": "More PEM",
         "rawType": "object",
         "type": "unknown"
        },
        {
         "name": "Much More ExpLOD",
         "rawType": "object",
         "type": "unknown"
        },
        {
         "name": "Much More PEM",
         "rawType": "object",
         "type": "unknown"
        }
       ],
       "ref": "3d582b23-2b9c-416e-bad7-332cc83517a1",
       "rows": [
        [
         "0",
         "Diversity",
         "5",
         "6",
         "7",
         "0",
         "1"
        ],
        [
         "1",
         "Popularity",
         "5",
         "7",
         "4",
         "2",
         "1"
        ],
        [
         "2",
         "Transparency",
         "3",
         "10",
         "3",
         "0",
         "3"
        ],
        [
         "3",
         "Engagement",
         "8",
         "4",
         "5",
         "1",
         "1"
        ],
        [
         "4",
         "Trust",
         "3",
         "10",
         "4",
         "1",
         "1"
        ],
        [
         "5",
         "Persuasiveness",
         "5",
         "7",
         "4",
         "2",
         "1"
        ]
       ],
       "shape": {
        "columns": 6,
        "rows": 6
       }
      },
      "text/html": [
       "<div>\n",
       "<style scoped>\n",
       "    .dataframe tbody tr th:only-of-type {\n",
       "        vertical-align: middle;\n",
       "    }\n",
       "\n",
       "    .dataframe tbody tr th {\n",
       "        vertical-align: top;\n",
       "    }\n",
       "\n",
       "    .dataframe thead th {\n",
       "        text-align: right;\n",
       "    }\n",
       "</style>\n",
       "<table border=\"1\" class=\"dataframe\">\n",
       "  <thead>\n",
       "    <tr style=\"text-align: right;\">\n",
       "      <th></th>\n",
       "      <th>Category</th>\n",
       "      <th>Equal</th>\n",
       "      <th>More ExpLOD</th>\n",
       "      <th>More PEM</th>\n",
       "      <th>Much More ExpLOD</th>\n",
       "      <th>Much More PEM</th>\n",
       "    </tr>\n",
       "  </thead>\n",
       "  <tbody>\n",
       "    <tr>\n",
       "      <th>0</th>\n",
       "      <td>Diversity</td>\n",
       "      <td>5</td>\n",
       "      <td>6</td>\n",
       "      <td>7</td>\n",
       "      <td>0</td>\n",
       "      <td>1</td>\n",
       "    </tr>\n",
       "    <tr>\n",
       "      <th>1</th>\n",
       "      <td>Popularity</td>\n",
       "      <td>5</td>\n",
       "      <td>7</td>\n",
       "      <td>4</td>\n",
       "      <td>2</td>\n",
       "      <td>1</td>\n",
       "    </tr>\n",
       "    <tr>\n",
       "      <th>2</th>\n",
       "      <td>Transparency</td>\n",
       "      <td>3</td>\n",
       "      <td>10</td>\n",
       "      <td>3</td>\n",
       "      <td>0</td>\n",
       "      <td>3</td>\n",
       "    </tr>\n",
       "    <tr>\n",
       "      <th>3</th>\n",
       "      <td>Engagement</td>\n",
       "      <td>8</td>\n",
       "      <td>4</td>\n",
       "      <td>5</td>\n",
       "      <td>1</td>\n",
       "      <td>1</td>\n",
       "    </tr>\n",
       "    <tr>\n",
       "      <th>4</th>\n",
       "      <td>Trust</td>\n",
       "      <td>3</td>\n",
       "      <td>10</td>\n",
       "      <td>4</td>\n",
       "      <td>1</td>\n",
       "      <td>1</td>\n",
       "    </tr>\n",
       "    <tr>\n",
       "      <th>5</th>\n",
       "      <td>Persuasiveness</td>\n",
       "      <td>5</td>\n",
       "      <td>7</td>\n",
       "      <td>4</td>\n",
       "      <td>2</td>\n",
       "      <td>1</td>\n",
       "    </tr>\n",
       "  </tbody>\n",
       "</table>\n",
       "</div>"
      ],
      "text/plain": [
       "         Category Equal More ExpLOD More PEM Much More ExpLOD Much More PEM\n",
       "0       Diversity     5           6        7                0             1\n",
       "1      Popularity     5           7        4                2             1\n",
       "2    Transparency     3          10        3                0             3\n",
       "3      Engagement     8           4        5                1             1\n",
       "4           Trust     3          10        4                1             1\n",
       "5  Persuasiveness     5           7        4                2             1"
      ]
     },
     "execution_count": 41,
     "metadata": {},
     "output_type": "execute_result"
    }
   ],
   "source": [
    "with pd.option_context(\"future.no_silent_downcasting\", True):\n",
    "    df2 = df2.fillna(0)\n",
    "df2"
   ]
  },
  {
   "cell_type": "code",
   "execution_count": 42,
   "id": "0947c2d8",
   "metadata": {},
   "outputs": [
    {
     "data": {
      "image/png": "[encoded data removed]",
      "text/plain": [
       "<Figure size 1600x800 with 1 Axes>"
      ]
     },
     "metadata": {},
     "output_type": "display_data"
    }
   ],
   "source": [
    "import numpy as np\n",
    "import pandas as pd\n",
    "import matplotlib.pyplot as plt\n",
    "\n",
    "# Set up figure\n",
    "fig, ax = plt.subplots(figsize=(16, 8))\n",
    "plt.rcParams.update({\"font.family\": \"Arial\"}) \n",
    "plt.rcParams.update({\n",
    "    \"axes.titlesize\": 14,    # Title size\n",
    "    \"axes.labelsize\": 14,    # X & Y labels\n",
    "    \"xtick.labelsize\": 12,   # X tick labels\n",
    "    \"ytick.labelsize\": 12,   # Y tick labels\n",
    "    \"legend.title_fontsize\": 12,  # Legend title size\n",
    "    \"legend.fontsize\": 12    # Legend labels size\n",
    "})\n",
    "\n",
    "# Compute values for left (Group A) and right (Group B)\n",
    "left_Equal_values = -df2[\"Equal\"].values / 2  # Half of Equal goes on A side\n",
    "right_Equal_values = df2[\"Equal\"].values / 2  # Half of Equal goes on B side\n",
    "\n",
    "left_A_values = -df2[\"More ExpLOD\"].values\n",
    "far_left_A_values = -df2[\"Much More ExpLOD\"].values\n",
    "\n",
    "right_B_values = df2[\"More PEM\"].values\n",
    "far_right_B_values = df2[\"Much More PEM\"].values  \n",
    "\n",
    "# Sample Data: Two groups + \"Equal\" category\n",
    "maximum = round(max(max(abs(left_A_values) + left_Equal_values), max(abs(right_B_values) + right_Equal_values))) / 2 * 2\n",
    "maximum = int(maximum) + 2\n",
    "group_A = np.array([i for i in range(0, maximum, 2)])   # Group A values\n",
    "group_B = np.array([i for i in range(0, maximum, 2)])   # Group B values\n",
    "equal =  np.array([i for i in range(0, maximum, 2)])     # Equal values (split between A & B)\n",
    "\n",
    "bars_left_equal = ax.barh(df2[\"Category\"], left_Equal_values, color=\"lightgray\", label=\"Equal\")\n",
    "bars_left_A = ax.barh(df2[\"Category\"], left_A_values, color=sns.color_palette(palette='Blues').as_hex()[:][2], label=\"More ExpLOD\", left=left_Equal_values)\n",
    "far_bars_left_A = ax.barh(df2[\"Category\"], far_left_A_values, color=sns.color_palette(palette='Blues').as_hex()[:][3], label=\"Much More ExpLOD\", left=left_A_values + left_Equal_values)\n",
    "\n",
    "# Plot Equal (right side, gray) at the bottom\n",
    "bars_right_equal = ax.barh(df2[\"Category\"], right_Equal_values, color=\"lightgray\")\n",
    "bars_right_B = ax.barh(df2[\"Category\"], right_B_values, color=sns.color_palette(palette='OrRd').as_hex()[:][2], label=\"More PEM\", left=right_Equal_values)\n",
    "far_bars_right_B = ax.barh(df2[\"Category\"], far_right_B_values, color=sns.color_palette(palette='OrRd').as_hex()[:][3], label=\"Much More PEM\", left=right_B_values + right_Equal_values)\n",
    "\n",
    "# Labels and Title\n",
    "ax.set_xlabel(\"Number of Participants\", fontsize=12)\n",
    "ax.set_ylabel(\"Explanation Goals\", fontsize=12)\n",
    "ax.set_title(\"Comparison of User Choices for Explanation Goals Questionnaire  When ExpLOD and PEM are diverse\")\n",
    "\n",
    "xticks = np.arange(-maximum - 4, maximum + 6, 2)  \n",
    "ax.set_xticks(xticks)\n",
    "ax.set_xticklabels([abs(x) for x in xticks]) \n",
    "\n",
    "all_bars = [bars_left_equal, bars_right_equal, bars_left_A, bars_right_B, far_bars_left_A, far_bars_right_B]\n",
    "for i in range(0, len(all_bars)):\n",
    "    bars = all_bars[i]\n",
    "    for bar in bars:\n",
    "        if i == 0 or i ==1:\n",
    "            if i == 1:\n",
    "                continue\n",
    "            width = bar.get_width() * 2  # Get the length of the bar\n",
    "            x_position = 0  # Center label inside the bar\n",
    "            y_position = bar.get_y() + bar.get_height() / 2  # Center vertically\n",
    "\n",
    "            value = int(abs(width))  # Convert width to positive value for label\n",
    "            if value > 0:\n",
    "                ax.text(x_position, y_position, f\"{value}\", ha=\"center\", va=\"center\", \n",
    "                        color=\"white\" if \"gray\" in bar.get_facecolor() else \"black\", \n",
    "                        fontsize=12)\n",
    "                \n",
    "        else:\n",
    "            width = bar.get_width()  # Get the length of the bar\n",
    "            x_position = bar.get_x() + width / 2  # Center label inside the bar\n",
    "            y_position = bar.get_y() + bar.get_height() / 2  # Center vertically\n",
    "\n",
    "            value = int(abs(width))  # Convert width to positive value for label\n",
    "            if value > 0:\n",
    "                ax.text(x_position, y_position, f\"{value}\", ha=\"center\", va=\"center\", \n",
    "                        color=\"white\" if \"gray\" in bar.get_facecolor() else \"black\", \n",
    "                        fontsize=12)\n",
    "\n",
    "# Show Plot\n",
    "ax.legend(title=\"User Choice\", loc=\"upper center\", bbox_to_anchor=(0.5, -0.1), ncol=5)\n",
    "plt.show()\n"
   ]
  },
  {
   "cell_type": "markdown",
   "id": "41cd52e1",
   "metadata": {},
   "source": [
    "## Explanation Analysis"
   ]
  },
  {
   "cell_type": "code",
   "execution_count": 43,
   "id": "ff2d9de7",
   "metadata": {},
   "outputs": [],
   "source": [
    "expl1 = pd.read_csv(\"./docs/selected_expl1.csv\")\n",
    "expl2 = pd.read_csv(\"./docs/selected_expl2.csv\")\n",
    "expl = pd.concat([expl1, expl2])\n",
    "expl = expl.set_index('ID')"
   ]
  },
  {
   "cell_type": "code",
   "execution_count": 44,
   "id": "d1b4fff8",
   "metadata": {},
   "outputs": [],
   "source": [
    "end_expl = expl.loc[results.index]"
   ]
  },
  {
   "cell_type": "code",
   "execution_count": 45,
   "id": "3fb5ebb6",
   "metadata": {},
   "outputs": [
    {
     "data": {
      "application/vnd.microsoft.datawrangler.viewer.v0+json": {
       "columns": [
        {
         "name": "ID",
         "rawType": "object",
         "type": "string"
        },
        {
         "name": "movie_id",
         "rawType": "int64",
         "type": "integer"
        },
        {
         "name": "explod_expl",
         "rawType": "object",
         "type": "string"
        },
        {
         "name": "pem_expl",
         "rawType": "object",
         "type": "string"
        },
        {
         "name": "score",
         "rawType": "float64",
         "type": "float"
        },
        {
         "name": "time",
         "rawType": "object",
         "type": "string"
        },
        {
         "name": "title",
         "rawType": "object",
         "type": "string"
        }
       ],
       "ref": "3cc40392-d247-484d-a577-785163dbf046",
       "rows": [
        [
         "4221f534-a566-4fe1-af3b-2e73067a521c",
         "1089",
         "\"Like the movies \"\"Kill Bill Volume 1\"\" and \"\"Kill Bill Volume 2\"\" that has the screenwriter Q3772 watch \"\"Reservoir Dogs\"\" that has the same property\"",
         "\"Like the movie \"\"Kill Bill Volume 1\"\" and \"\"Kill Bill Volume 2\"\" that has the film editor Sally Menke watch \"\"Reservoir Dogs\"\" that has the same property\"",
         "0.161456823348999",
         "Tue Apr 18 2023 09:59:03 GMT-0300 (Brasilia Standard Time)",
         "Reservoir Dogs"
        ],
        [
         "4221f534-a566-4fe1-af3b-2e73067a521c",
         "1193",
         "\"Like the movies \"\"Braveheart\"\" and \"\"Taxi Driver\"\" and \"\"A Clockwork Orange\"\" that won or was nominated to the Academy Award for Best Picture watch \"\"One Flew Over the Cuckoo's Nest\"\" that has the same property\"",
         "\"Like the movie \"\"The Godfather\"\" and \"\"Braveheart\"\" that won or was nominated to the Academy Award for Best Original Dramatic Score watch \"\"One Flew Over the Cuckoo's Nest\"\" that has the same property\"",
         "0.1695363223552703",
         "Tue Apr 18 2023 09:59:03 GMT-0300 (Brasilia Standard Time)",
         "One Flew Over the Cuckoo's Nest"
        ],
        [
         "4221f534-a566-4fe1-af3b-2e73067a521c",
         "1213",
         "\"Like the movies \"\"A Clockwork Orange\"\" and \"\"The Big Lebowski\"\" and \"\"Memento\"\" that has the genre crime film watch \"\"Goodfellas\"\" that has the same property\"",
         "\"Like the movie \"\"The Godfather\"\" that has the cast member Nick Vallelonga watch \"\"Goodfellas\"\" that has the same property\"",
         "0.1409089714288711",
         "Tue Apr 18 2023 09:59:03 GMT-0300 (Brasilia Standard Time)",
         "Goodfellas"
        ],
        [
         "4221f534-a566-4fe1-af3b-2e73067a521c",
         "1221",
         "\"Like the movies \"\"A Clockwork Orange\"\" and \"\"The Big Lebowski\"\" and \"\"Memento\"\" that has the genre crime film watch \"\"The Godfather Part II\"\" that has the same property\"",
         "\"Like the movie \"\"The Godfather\"\" that has the cast member Al Martino watch \"\"The Godfather Part II\"\" that has the same property\"",
         "0.1435654014348983",
         "Tue Apr 18 2023 09:59:03 GMT-0300 (Brasilia Standard Time)",
         "The Godfather Part II"
        ],
        [
         "4221f534-a566-4fe1-af3b-2e73067a521c",
         "1258",
         "\"Like the movies \"\"A Clockwork Orange\"\" and \"\"Dr. Strangelove\"\" that has the director Stanley Kubrick watch \"\"The Shining\"\" that has the same property\"",
         "\"Like the movie \"\"A Clockwork Orange\"\" that has the composer Wendy Carlos watch \"\"The Shining\"\" that has the same property\"",
         "0.1467960029840469",
         "Tue Apr 18 2023 09:59:03 GMT-0300 (Brasilia Standard Time)",
         "The Shining"
        ]
       ],
       "shape": {
        "columns": 6,
        "rows": 5
       }
      },
      "text/html": [
       "<div>\n",
       "<style scoped>\n",
       "    .dataframe tbody tr th:only-of-type {\n",
       "        vertical-align: middle;\n",
       "    }\n",
       "\n",
       "    .dataframe tbody tr th {\n",
       "        vertical-align: top;\n",
       "    }\n",
       "\n",
       "    .dataframe thead th {\n",
       "        text-align: right;\n",
       "    }\n",
       "</style>\n",
       "<table border=\"1\" class=\"dataframe\">\n",
       "  <thead>\n",
       "    <tr style=\"text-align: right;\">\n",
       "      <th></th>\n",
       "      <th>movie_id</th>\n",
       "      <th>explod_expl</th>\n",
       "      <th>pem_expl</th>\n",
       "      <th>score</th>\n",
       "      <th>time</th>\n",
       "      <th>title</th>\n",
       "    </tr>\n",
       "    <tr>\n",
       "      <th>ID</th>\n",
       "      <th></th>\n",
       "      <th></th>\n",
       "      <th></th>\n",
       "      <th></th>\n",
       "      <th></th>\n",
       "      <th></th>\n",
       "    </tr>\n",
       "  </thead>\n",
       "  <tbody>\n",
       "    <tr>\n",
       "      <th>4221f534-a566-4fe1-af3b-2e73067a521c</th>\n",
       "      <td>1089</td>\n",
       "      <td>\"Like the movies \"\"Kill Bill Volume 1\"\" and \"\"...</td>\n",
       "      <td>\"Like the movie \"\"Kill Bill Volume 1\"\" and \"\"K...</td>\n",
       "      <td>0.161457</td>\n",
       "      <td>Tue Apr 18 2023 09:59:03 GMT-0300 (Brasilia St...</td>\n",
       "      <td>Reservoir Dogs</td>\n",
       "    </tr>\n",
       "    <tr>\n",
       "      <th>4221f534-a566-4fe1-af3b-2e73067a521c</th>\n",
       "      <td>1193</td>\n",
       "      <td>\"Like the movies \"\"Braveheart\"\" and \"\"Taxi Dri...</td>\n",
       "      <td>\"Like the movie \"\"The Godfather\"\" and \"\"Braveh...</td>\n",
       "      <td>0.169536</td>\n",
       "      <td>Tue Apr 18 2023 09:59:03 GMT-0300 (Brasilia St...</td>\n",
       "      <td>One Flew Over the Cuckoo's Nest</td>\n",
       "    </tr>\n",
       "    <tr>\n",
       "      <th>4221f534-a566-4fe1-af3b-2e73067a521c</th>\n",
       "      <td>1213</td>\n",
       "      <td>\"Like the movies \"\"A Clockwork Orange\"\" and \"\"...</td>\n",
       "      <td>\"Like the movie \"\"The Godfather\"\" that has the...</td>\n",
       "      <td>0.140909</td>\n",
       "      <td>Tue Apr 18 2023 09:59:03 GMT-0300 (Brasilia St...</td>\n",
       "      <td>Goodfellas</td>\n",
       "    </tr>\n",
       "    <tr>\n",
       "      <th>4221f534-a566-4fe1-af3b-2e73067a521c</th>\n",
       "      <td>1221</td>\n",
       "      <td>\"Like the movies \"\"A Clockwork Orange\"\" and \"\"...</td>\n",
       "      <td>\"Like the movie \"\"The Godfather\"\" that has the...</td>\n",
       "      <td>0.143565</td>\n",
       "      <td>Tue Apr 18 2023 09:59:03 GMT-0300 (Brasilia St...</td>\n",
       "      <td>The Godfather Part II</td>\n",
       "    </tr>\n",
       "    <tr>\n",
       "      <th>4221f534-a566-4fe1-af3b-2e73067a521c</th>\n",
       "      <td>1258</td>\n",
       "      <td>\"Like the movies \"\"A Clockwork Orange\"\" and \"\"...</td>\n",
       "      <td>\"Like the movie \"\"A Clockwork Orange\"\" that ha...</td>\n",
       "      <td>0.146796</td>\n",
       "      <td>Tue Apr 18 2023 09:59:03 GMT-0300 (Brasilia St...</td>\n",
       "      <td>The Shining</td>\n",
       "    </tr>\n",
       "  </tbody>\n",
       "</table>\n",
       "</div>"
      ],
      "text/plain": [
       "                                      movie_id  \\\n",
       "ID                                               \n",
       "4221f534-a566-4fe1-af3b-2e73067a521c      1089   \n",
       "4221f534-a566-4fe1-af3b-2e73067a521c      1193   \n",
       "4221f534-a566-4fe1-af3b-2e73067a521c      1213   \n",
       "4221f534-a566-4fe1-af3b-2e73067a521c      1221   \n",
       "4221f534-a566-4fe1-af3b-2e73067a521c      1258   \n",
       "\n",
       "                                                                            explod_expl  \\\n",
       "ID                                                                                        \n",
       "4221f534-a566-4fe1-af3b-2e73067a521c  \"Like the movies \"\"Kill Bill Volume 1\"\" and \"\"...   \n",
       "4221f534-a566-4fe1-af3b-2e73067a521c  \"Like the movies \"\"Braveheart\"\" and \"\"Taxi Dri...   \n",
       "4221f534-a566-4fe1-af3b-2e73067a521c  \"Like the movies \"\"A Clockwork Orange\"\" and \"\"...   \n",
       "4221f534-a566-4fe1-af3b-2e73067a521c  \"Like the movies \"\"A Clockwork Orange\"\" and \"\"...   \n",
       "4221f534-a566-4fe1-af3b-2e73067a521c  \"Like the movies \"\"A Clockwork Orange\"\" and \"\"...   \n",
       "\n",
       "                                                                               pem_expl  \\\n",
       "ID                                                                                        \n",
       "4221f534-a566-4fe1-af3b-2e73067a521c  \"Like the movie \"\"Kill Bill Volume 1\"\" and \"\"K...   \n",
       "4221f534-a566-4fe1-af3b-2e73067a521c  \"Like the movie \"\"The Godfather\"\" and \"\"Braveh...   \n",
       "4221f534-a566-4fe1-af3b-2e73067a521c  \"Like the movie \"\"The Godfather\"\" that has the...   \n",
       "4221f534-a566-4fe1-af3b-2e73067a521c  \"Like the movie \"\"The Godfather\"\" that has the...   \n",
       "4221f534-a566-4fe1-af3b-2e73067a521c  \"Like the movie \"\"A Clockwork Orange\"\" that ha...   \n",
       "\n",
       "                                         score  \\\n",
       "ID                                               \n",
       "4221f534-a566-4fe1-af3b-2e73067a521c  0.161457   \n",
       "4221f534-a566-4fe1-af3b-2e73067a521c  0.169536   \n",
       "4221f534-a566-4fe1-af3b-2e73067a521c  0.140909   \n",
       "4221f534-a566-4fe1-af3b-2e73067a521c  0.143565   \n",
       "4221f534-a566-4fe1-af3b-2e73067a521c  0.146796   \n",
       "\n",
       "                                                                                   time  \\\n",
       "ID                                                                                        \n",
       "4221f534-a566-4fe1-af3b-2e73067a521c  Tue Apr 18 2023 09:59:03 GMT-0300 (Brasilia St...   \n",
       "4221f534-a566-4fe1-af3b-2e73067a521c  Tue Apr 18 2023 09:59:03 GMT-0300 (Brasilia St...   \n",
       "4221f534-a566-4fe1-af3b-2e73067a521c  Tue Apr 18 2023 09:59:03 GMT-0300 (Brasilia St...   \n",
       "4221f534-a566-4fe1-af3b-2e73067a521c  Tue Apr 18 2023 09:59:03 GMT-0300 (Brasilia St...   \n",
       "4221f534-a566-4fe1-af3b-2e73067a521c  Tue Apr 18 2023 09:59:03 GMT-0300 (Brasilia St...   \n",
       "\n",
       "                                                                title  \n",
       "ID                                                                     \n",
       "4221f534-a566-4fe1-af3b-2e73067a521c                   Reservoir Dogs  \n",
       "4221f534-a566-4fe1-af3b-2e73067a521c  One Flew Over the Cuckoo's Nest  \n",
       "4221f534-a566-4fe1-af3b-2e73067a521c                       Goodfellas  \n",
       "4221f534-a566-4fe1-af3b-2e73067a521c            The Godfather Part II  \n",
       "4221f534-a566-4fe1-af3b-2e73067a521c                      The Shining  "
      ]
     },
     "execution_count": 45,
     "metadata": {},
     "output_type": "execute_result"
    }
   ],
   "source": [
    "end_expl.head()"
   ]
  },
  {
   "cell_type": "code",
   "execution_count": 46,
   "id": "5e78ee27",
   "metadata": {},
   "outputs": [
    {
     "data": {
      "application/vnd.microsoft.datawrangler.viewer.v0+json": {
       "columns": [
        {
         "name": "ID",
         "rawType": "object",
         "type": "string"
        },
        {
         "name": "explod_expl",
         "rawType": "object",
         "type": "string"
        }
       ],
       "ref": "c4ff4f07-39e6-4ef5-9ec7-c702ac2f7cdc",
       "rows": [
        [
         "4221f534-a566-4fe1-af3b-2e73067a521c",
         "\"Like the movies \"\"Kill Bill Volume 1\"\" and \"\"Kill Bill Volume 2\"\" that has the screenwriter Q3772 watch \"\"Reservoir Dogs\"\" that has the same property\""
        ],
        [
         "4221f534-a566-4fe1-af3b-2e73067a521c",
         "\"Like the movies \"\"Braveheart\"\" and \"\"Taxi Driver\"\" and \"\"A Clockwork Orange\"\" that won or was nominated to the Academy Award for Best Picture watch \"\"One Flew Over the Cuckoo's Nest\"\" that has the same property\""
        ],
        [
         "4221f534-a566-4fe1-af3b-2e73067a521c",
         "\"Like the movies \"\"A Clockwork Orange\"\" and \"\"The Big Lebowski\"\" and \"\"Memento\"\" that has the genre crime film watch \"\"Goodfellas\"\" that has the same property\""
        ],
        [
         "4221f534-a566-4fe1-af3b-2e73067a521c",
         "\"Like the movies \"\"A Clockwork Orange\"\" and \"\"The Big Lebowski\"\" and \"\"Memento\"\" that has the genre crime film watch \"\"The Godfather Part II\"\" that has the same property\""
        ],
        [
         "4221f534-a566-4fe1-af3b-2e73067a521c",
         "\"Like the movies \"\"A Clockwork Orange\"\" and \"\"Dr. Strangelove\"\" that has the director Stanley Kubrick watch \"\"The Shining\"\" that has the same property\""
        ]
       ],
       "shape": {
        "columns": 1,
        "rows": 5
       }
      },
      "text/plain": [
       "ID\n",
       "4221f534-a566-4fe1-af3b-2e73067a521c    \"Like the movies \"\"Kill Bill Volume 1\"\" and \"\"...\n",
       "4221f534-a566-4fe1-af3b-2e73067a521c    \"Like the movies \"\"Braveheart\"\" and \"\"Taxi Dri...\n",
       "4221f534-a566-4fe1-af3b-2e73067a521c    \"Like the movies \"\"A Clockwork Orange\"\" and \"\"...\n",
       "4221f534-a566-4fe1-af3b-2e73067a521c    \"Like the movies \"\"A Clockwork Orange\"\" and \"\"...\n",
       "4221f534-a566-4fe1-af3b-2e73067a521c    \"Like the movies \"\"A Clockwork Orange\"\" and \"\"...\n",
       "Name: explod_expl, dtype: object"
      ]
     },
     "execution_count": 46,
     "metadata": {},
     "output_type": "execute_result"
    }
   ],
   "source": [
    "end_expl['explod_expl'].head()"
   ]
  },
  {
   "cell_type": "code",
   "execution_count": 47,
   "id": "afd36ff5",
   "metadata": {},
   "outputs": [
    {
     "data": {
      "text/plain": [
       "55"
      ]
     },
     "execution_count": 47,
     "metadata": {},
     "output_type": "execute_result"
    }
   ],
   "source": [
    "len(end_expl.index.unique())"
   ]
  },
  {
   "cell_type": "code",
   "execution_count": 48,
   "id": "7bef0f12",
   "metadata": {},
   "outputs": [
    {
     "data": {
      "application/vnd.microsoft.datawrangler.viewer.v0+json": {
       "columns": [
        {
         "name": "ID",
         "rawType": "object",
         "type": "string"
        },
        {
         "name": "movie_id",
         "rawType": "int64",
         "type": "integer"
        },
        {
         "name": "explod_expl",
         "rawType": "object",
         "type": "string"
        },
        {
         "name": "pem_expl",
         "rawType": "object",
         "type": "string"
        },
        {
         "name": "score",
         "rawType": "float64",
         "type": "float"
        },
        {
         "name": "time",
         "rawType": "object",
         "type": "string"
        },
        {
         "name": "title",
         "rawType": "object",
         "type": "string"
        }
       ],
       "ref": "8223f8b2-9594-4bf2-b259-edcf84a21426",
       "rows": [
        [
         "4221f534-a566-4fe1-af3b-2e73067a521c",
         "1089",
         "\"Like the movies \"\"Kill Bill Volume 1\"\" and \"\"Kill Bill Volume 2\"\" that has the screenwriter Q3772 watch \"\"Reservoir Dogs\"\" that has the same property\"",
         "\"Like the movie \"\"Kill Bill Volume 1\"\" and \"\"Kill Bill Volume 2\"\" that has the film editor Sally Menke watch \"\"Reservoir Dogs\"\" that has the same property\"",
         "0.161456823348999",
         "Tue Apr 18 2023 09:59:03 GMT-0300 (Brasilia Standard Time)",
         "Reservoir Dogs"
        ],
        [
         "4221f534-a566-4fe1-af3b-2e73067a521c",
         "1193",
         "\"Like the movies \"\"Braveheart\"\" and \"\"Taxi Driver\"\" and \"\"A Clockwork Orange\"\" that won or was nominated to the Academy Award for Best Picture watch \"\"One Flew Over the Cuckoo's Nest\"\" that has the same property\"",
         "\"Like the movie \"\"The Godfather\"\" and \"\"Braveheart\"\" that won or was nominated to the Academy Award for Best Original Dramatic Score watch \"\"One Flew Over the Cuckoo's Nest\"\" that has the same property\"",
         "0.1695363223552703",
         "Tue Apr 18 2023 09:59:03 GMT-0300 (Brasilia Standard Time)",
         "One Flew Over the Cuckoo's Nest"
        ],
        [
         "4221f534-a566-4fe1-af3b-2e73067a521c",
         "1213",
         "\"Like the movies \"\"A Clockwork Orange\"\" and \"\"The Big Lebowski\"\" and \"\"Memento\"\" that has the genre crime film watch \"\"Goodfellas\"\" that has the same property\"",
         "\"Like the movie \"\"The Godfather\"\" that has the cast member Nick Vallelonga watch \"\"Goodfellas\"\" that has the same property\"",
         "0.1409089714288711",
         "Tue Apr 18 2023 09:59:03 GMT-0300 (Brasilia Standard Time)",
         "Goodfellas"
        ],
        [
         "4221f534-a566-4fe1-af3b-2e73067a521c",
         "1221",
         "\"Like the movies \"\"A Clockwork Orange\"\" and \"\"The Big Lebowski\"\" and \"\"Memento\"\" that has the genre crime film watch \"\"The Godfather Part II\"\" that has the same property\"",
         "\"Like the movie \"\"The Godfather\"\" that has the cast member Al Martino watch \"\"The Godfather Part II\"\" that has the same property\"",
         "0.1435654014348983",
         "Tue Apr 18 2023 09:59:03 GMT-0300 (Brasilia Standard Time)",
         "The Godfather Part II"
        ],
        [
         "4221f534-a566-4fe1-af3b-2e73067a521c",
         "1258",
         "\"Like the movies \"\"A Clockwork Orange\"\" and \"\"Dr. Strangelove\"\" that has the director Stanley Kubrick watch \"\"The Shining\"\" that has the same property\"",
         "\"Like the movie \"\"A Clockwork Orange\"\" that has the composer Wendy Carlos watch \"\"The Shining\"\" that has the same property\"",
         "0.1467960029840469",
         "Tue Apr 18 2023 09:59:03 GMT-0300 (Brasilia Standard Time)",
         "The Shining"
        ],
        [
         "3cdae0e0-3b22-46f3-a286-f502d2115f80",
         "110",
         "\"Like the movies \"\"E.T. the Extra-Terrestrial\"\" and \"\"Star Wars: Episode V – The Empire Strikes Back\"\" and \"\"Star Wars: Episode VI – Return of the Jedi\"\" that won or was nominated to the Academy Award for Best Sound Mixing watch \"\"Braveheart\"\" that has the same property\"",
         "\"Like the movie \"\"Gladiator\"\" that has the cast member Tommy Flanagan watch \"\"Braveheart\"\" that has the same property\"",
         "0.2135026156902313",
         "Thu Apr 20 2023 16:25:13 GMT-0300 (Horário Padrão de Brasília)",
         "Braveheart"
        ],
        [
         "3cdae0e0-3b22-46f3-a286-f502d2115f80",
         "1197",
         "\"Like the movies \"\"E.T. the Extra-Terrestrial\"\" and \"\"Star Wars: Episode V – The Empire Strikes Back\"\" and \"\"The Godfather Part II\"\" that won or was nominated to the National Film Registry watch \"\"The Princess Bride\"\" that has the same property\"",
         "\"Like the movie \"\"Star Wars: Episode IV – A New Hope\"\" and \"\"The Godfather Part II\"\" and \"\"E.T. the Extra-Terrestrial\"\" and \"\"The Matrix\"\" and \"\"Star Wars: Episode V – The Empire Strikes Back\"\" and \"\"Saving Private Ryan\"\" and \"\"The Silence of the Lambs\"\" and \"\"Back to the Future\"\" and \"\"The Godfather\"\" that won or was nominated to the National Film Registry watch \"\"The Princess Bride\"\" that has the same property\"",
         "0.1582423150539398",
         "Thu Apr 20 2023 16:25:13 GMT-0300 (Horário Padrão de Brasília)",
         "The Princess Bride"
        ],
        [
         "3cdae0e0-3b22-46f3-a286-f502d2115f80",
         "1198",
         "\"Like the movies \"\"Star Wars: Episode V – The Empire Strikes Back\"\" and \"\"Star Wars: Episode VI – Return of the Jedi\"\" and \"\"Star Wars: Episode IV – A New Hope\"\" that has the director George Lucas watch \"\"Raiders of the Lost Ark\"\" that has the same property\"",
         "\"Like the movie \"\"Star Wars: Episode II – Attack of the Clones\"\" and \"\"Star Wars: Episode IV – A New Hope\"\" and \"\"Star Wars: Episode I – The Phantom Menace\"\" and \"\"Star Wars Episode VII: The Force Awakens\"\" and \"\"Star Wars: Episode VIII – The Last Jedi\"\" and \"\"Star Wars: Episode V – The Empire Strikes Back\"\" and \"\"Star Wars: Episode III – Revenge of the Sith\"\" and \"\"Star Wars: Episode VI – Return of the Jedi\"\" that has the production company Lucasfilm watch \"\"Raiders of the Lost Ark\"\" that has the same property\"",
         "0.2870869934558868",
         "Thu Apr 20 2023 16:25:13 GMT-0300 (Horário Padrão de Brasília)",
         "Raiders of the Lost Ark"
        ],
        [
         "3cdae0e0-3b22-46f3-a286-f502d2115f80",
         "1291",
         "\"Like the movies \"\"Star Wars: Episode V – The Empire Strikes Back\"\" and \"\"Star Wars: Episode VI – Return of the Jedi\"\" and \"\"Star Wars: Episode IV – A New Hope\"\" that has the director George Lucas watch \"\"Indiana Jones and the Last Crusade\"\" that has the same property\"",
         "\"Like the movie \"\"Star Wars: Episode II – Attack of the Clones\"\" and \"\"Star Wars: Episode IV – A New Hope\"\" and \"\"Star Wars: Episode I – The Phantom Menace\"\" and \"\"Star Wars Episode VII: The Force Awakens\"\" and \"\"Star Wars: Episode VIII – The Last Jedi\"\" and \"\"Star Wars: Episode V – The Empire Strikes Back\"\" and \"\"Star Wars: Episode III – Revenge of the Sith\"\" and \"\"Star Wars: Episode VI – Return of the Jedi\"\" that has the production company Lucasfilm watch \"\"Indiana Jones and the Last Crusade\"\" that has the same property\"",
         "0.1596047282218933",
         "Thu Apr 20 2023 16:25:13 GMT-0300 (Horário Padrão de Brasília)",
         "Indiana Jones and the Last Crusade"
        ],
        [
         "3cdae0e0-3b22-46f3-a286-f502d2115f80",
         "1580",
         "\"Like the movies \"\"Star Wars: Episode V – The Empire Strikes Back\"\" and \"\"Star Wars: Episode VI – Return of the Jedi\"\" and \"\"Star Wars: Episode IV – A New Hope\"\" that has the director George Lucas watch \"\"Men in Black\"\" that has the same property\"",
         "\"Like the movie \"\"Star Wars: Episode II – Attack of the Clones\"\" and \"\"Star Wars: Episode IV – A New Hope\"\" and \"\"Star Wars: Episode I – The Phantom Menace\"\" and \"\"Star Wars: Episode V – The Empire Strikes Back\"\" and \"\"Star Wars: Episode III – Revenge of the Sith\"\" and \"\"Star Wars: Episode VI – Return of the Jedi\"\" that has the director George Lucas watch \"\"Men in Black\"\" that has the same property\"",
         "0.1607623249292373",
         "Thu Apr 20 2023 16:25:13 GMT-0300 (Horário Padrão de Brasília)",
         "Men in Black"
        ],
        [
         "8865717f-1ee0-4efb-a09b-e1173e28cf04",
         "1",
         "\"Like the movie \"\"The Incredibles\"\" that has the director John Lasseter watch \"\"Toy Story\"\" that has the same property\"",
         "\"Like the movie \"\"The Incredibles\"\" that has the voice actor John Ratzenberger watch \"\"Toy Story\"\" that has the same property\"",
         "0.0812605991959571",
         "Thu Apr 13 2023 12:01:35 GMT-0300 (Horário Padrão de Brasília)",
         "Toy Story"
        ],
        [
         "8865717f-1ee0-4efb-a09b-e1173e28cf04",
         "110",
         "\"Like the movies \"\"Batman Forever\"\" and \"\"Jurassic Park\"\" and \"\"The Incredibles\"\" that won or was nominated to the Academy Award for Best Sound Editing watch \"\"Braveheart\"\" that has the same property\"",
         "\"Like the movie \"\"Jurassic Park\"\" and \"\"Batman Forever\"\" and \"\"The Incredibles\"\" that won or was nominated to the Academy Award for Best Sound Editing watch \"\"Braveheart\"\" that has the same property\"",
         "0.1060073524713516",
         "Thu Apr 13 2023 12:01:35 GMT-0300 (Horário Padrão de Brasília)",
         "Braveheart"
        ],
        [
         "8865717f-1ee0-4efb-a09b-e1173e28cf04",
         "231",
         "\"Like the movie \"\"Batman Forever\"\" that has the screenwriter Jim Carrey watch \"\"Dumb and Dumber\"\" that has the same property\"",
         "\"Like the movie \"\"Batman Forever\"\" that has the screenwriter Jim Carrey watch \"\"Dumb and Dumber\"\" that has the same property\"",
         "0.0865682810544967",
         "Thu Apr 13 2023 12:01:35 GMT-0300 (Horário Padrão de Brasília)",
         "Dumb and Dumber"
        ],
        [
         "8865717f-1ee0-4efb-a09b-e1173e28cf04",
         "296",
         "\"Like the movie \"\"Harry Potter and the Philosopher's Stone\"\" that won or was nominated to the BAFTA Award for Best Actor in a Supporting Role watch \"\"Pulp Fiction\"\" that has the same property\"",
         "\"Like the movie \"\"Harry Potter and the Philosopher's Stone\"\" and \"\"Harry Potter and the Chamber of Secrets\"\" that won or was nominated to the Japan Academy Prize for Outstanding Foreign Language Film watch \"\"Pulp Fiction\"\" that has the same property\"",
         "0.0999852642416954",
         "Thu Apr 13 2023 12:01:35 GMT-0300 (Horário Padrão de Brasília)",
         "Pulp Fiction"
        ],
        [
         "8865717f-1ee0-4efb-a09b-e1173e28cf04",
         "344",
         "\"Like the movie \"\"Batman Forever\"\" that has the screenwriter Jim Carrey watch \"\"Ace Ventura: Pet Detective\"\" that has the same property\"",
         "\"Like the movie \"\"Batman Forever\"\" that has the screenwriter Jim Carrey watch \"\"Ace Ventura: Pet Detective\"\" that has the same property\"",
         "0.0923709273338317",
         "Thu Apr 13 2023 12:01:35 GMT-0300 (Horário Padrão de Brasília)",
         "Ace Ventura: Pet Detective"
        ],
        [
         "7d6d6774-c7b1-49c4-b4e4-c62bfd4588d1",
         "1089",
         "\"Like the movies \"\"American Beauty\"\" and \"\"Fight Club\"\" and \"\"The Green Mile\"\" that has the genre flashback film watch \"\"Reservoir Dogs\"\" that has the same property\"",
         "\"Like the movie \"\"American Beauty\"\" and \"\"The Green Mile\"\" and \"\"Fight Club\"\" that has the genre flashback film watch \"\"Reservoir Dogs\"\" that has the same property\"",
         "0.0838154479861259",
         "Sat Apr 22 2023 16:25:39 GMT-0300 (Horário Padrão de Brasília)",
         "Reservoir Dogs"
        ],
        [
         "7d6d6774-c7b1-49c4-b4e4-c62bfd4588d1",
         "110",
         "\"Like the movies \"\"The Matrix\"\" and \"\"Fight Club\"\" that won or was nominated to the Academy Award for Best Sound Editing watch \"\"Braveheart\"\" that has the same property\"",
         "\"Like the movie \"\"The Matrix\"\" and \"\"Fight Club\"\" that won or was nominated to the Academy Award for Best Sound Editing watch \"\"Braveheart\"\" that has the same property\"",
         "0.0791938081383705",
         "Sat Apr 22 2023 16:25:39 GMT-0300 (Horário Padrão de Brasília)",
         "Braveheart"
        ],
        [
         "7d6d6774-c7b1-49c4-b4e4-c62bfd4588d1",
         "2028",
         "\"Like the movies \"\"The Matrix\"\" and \"\"Fight Club\"\" that won or was nominated to the Academy Award for Best Sound Editing watch \"\"Saving Private Ryan\"\" that has the same property\"",
         "\"Like the movie \"\"The Green Mile\"\" that has the cast member Barry Pepper watch \"\"Saving Private Ryan\"\" that has the same property\"",
         "0.1040946319699287",
         "Sat Apr 22 2023 16:25:39 GMT-0300 (Horário Padrão de Brasília)",
         "Saving Private Ryan"
        ],
        [
         "7d6d6774-c7b1-49c4-b4e4-c62bfd4588d1",
         "2762",
         "\"Like the movies \"\"The Matrix\"\" and \"\"American Beauty\"\" that won or was nominated to the Academy Award for Best Film Editing watch \"\"The Sixth Sense\"\" that has the same property\"",
         "\"Like the movie \"\"Requiem for a Dream\"\" that has the cast member Samia Shoaib watch \"\"The Sixth Sense\"\" that has the same property\"",
         "0.1198354065418243",
         "Sat Apr 22 2023 16:25:39 GMT-0300 (Horário Padrão de Brasília)",
         "The Sixth Sense"
        ],
        [
         "7d6d6774-c7b1-49c4-b4e4-c62bfd4588d1",
         "296",
         "\"Like the movies \"\"The Matrix\"\" and \"\"American Beauty\"\" that won or was nominated to the Academy Award for Best Film Editing watch \"\"Pulp Fiction\"\" that has the same property\"",
         "\"Like the movie \"\"The Matrix\"\" that won or was nominated to the BAFTA Award for Best Sound watch \"\"Pulp Fiction\"\" that has the same property\"",
         "0.123231828212738",
         "Sat Apr 22 2023 16:25:39 GMT-0300 (Horário Padrão de Brasília)",
         "Pulp Fiction"
        ],
        [
         "b4d1204b-42cf-4a56-b0f7-6813795a2923",
         "1",
         "\"Like the movies \"\"Toy Story 2\"\" and \"\"Monsters, Inc.\"\" that has the composer Randy Newman watch \"\"Toy Story\"\" that has the same property\"",
         "\"Like the movie \"\"Toy Story 2\"\" and \"\"Monsters, Inc.\"\" that has the film editor Lee Unkrich watch \"\"Toy Story\"\" that has the same property\"",
         "0.0847110897302627",
         "Sat Apr 22 2023 16:23:33 GMT-0300 (Horário Padrão de Brasília)",
         "Toy Story"
        ],
        [
         "b4d1204b-42cf-4a56-b0f7-6813795a2923",
         "1580",
         "\"Like the movies \"\"Pirates of the Caribbean: At World's End\"\" and \"\"Pirates of the Caribbean: The Curse of the Black Pearl\"\" that won or was nominated to the Academy Award for Best Makeup and Hairstyling watch \"\"Men in Black\"\" that has the same property\"",
         "\"Like the movie \"\"Independence Day\"\" that has the cast member Will Smith watch \"\"Men in Black\"\" that has the same property\"",
         "0.0693440958857536",
         "Sat Apr 22 2023 16:23:33 GMT-0300 (Horário Padrão de Brasília)",
         "Men in Black"
        ],
        [
         "b4d1204b-42cf-4a56-b0f7-6813795a2923",
         "260",
         "\"Like the movies \"\"Pirates of the Caribbean: Dead Man's Chest\"\" and \"\"Pirates of the Caribbean: At World's End\"\" and \"\"Pirates of the Caribbean: The Curse of the Black Pearl\"\" that won or was nominated to the Academy Award for Best Visual Effects watch \"\"Star Wars: Episode IV – A New Hope\"\" that has the same property\"",
         "\"Like the movie \"\"Independence Day\"\" that won or was nominated to the Saturn Award for Best Director watch \"\"Star Wars: Episode IV – A New Hope\"\" that has the same property\"",
         "0.0507207550108432",
         "Sat Apr 22 2023 16:23:33 GMT-0300 (Horário Padrão de Brasília)",
         "Star Wars: Episode IV – A New Hope"
        ],
        [
         "b4d1204b-42cf-4a56-b0f7-6813795a2923",
         "2683",
         "\"Like the movies \"\"Pirates of the Caribbean: At World's End\"\" and \"\"Pirates of the Caribbean: The Curse of the Black Pearl\"\" that won or was nominated to the Academy Award for Best Makeup and Hairstyling watch \"\"Austin Powers: The Spy Who Shagged Me\"\" that has the same property\"",
         "\"Like the movie \"\"Independence Day\"\" that has the cast member Kevin Cooney watch \"\"Austin Powers: The Spy Who Shagged Me\"\" that has the same property\"",
         "0.0723027735948562",
         "Sat Apr 22 2023 16:23:33 GMT-0300 (Horário Padrão de Brasília)",
         "Austin Powers: The Spy Who Shagged Me"
        ],
        [
         "b4d1204b-42cf-4a56-b0f7-6813795a2923",
         "30793",
         "\"Like the movies \"\"Pirates of the Caribbean: Dead Men Tell No Tales\"\" and \"\"Pirates of the Caribbean: Dead Man's Chest\"\" and \"\"Pirates of the Caribbean: At World's End\"\" that has the cast member Johnny Depp watch \"\"Charlie and the Chocolate Factory\"\" that has the same property\"",
         "\"Like the movie \"\"Pirates of the Caribbean: On Stranger Tides\"\" and \"\"Pirates of the Caribbean: At World's End\"\" and \"\"Pirates of the Caribbean: The Curse of the Black Pearl\"\" and \"\"Pirates of the Caribbean: Dead Men Tell No Tales\"\" and \"\"Pirates of the Caribbean: Dead Man's Chest\"\" that has the cast member Johnny Depp watch \"\"Charlie and the Chocolate Factory\"\" that has the same property\"",
         "0.0485399067401886",
         "Sat Apr 22 2023 16:23:33 GMT-0300 (Horário Padrão de Brasília)",
         "Charlie and the Chocolate Factory"
        ],
        [
         "73154f98-a5ae-4b38-9202-e688a0a86e28",
         "1",
         "\"Like the movies \"\"WALL·E\"\" and \"\"Up\"\" that has the screenwriter Pete Docter watch \"\"Toy Story\"\" that has the same property\"",
         "\"Like the movie \"\"Up\"\" and \"\"WALL·E\"\" that has the screenwriter Pete Docter watch \"\"Toy Story\"\" that has the same property\"",
         "0.0964657887816429",
         "Thu Apr 20 2023 20:13:01 GMT-0300 (Horário Padrão de Brasília)",
         "Toy Story"
        ],
        [
         "73154f98-a5ae-4b38-9202-e688a0a86e28",
         "1196",
         "\"Like the movies \"\"Raiders of the Lost Ark\"\" and \"\"Indiana Jones and the Last Crusade\"\" that has the director George Lucas watch \"\"Star Wars: Episode V – The Empire Strikes Back\"\" that has the same property\"",
         "\"Like the movie \"\"Indiana Jones and the Last Crusade\"\" that has the cast member Michael Sheard watch \"\"Star Wars: Episode V – The Empire Strikes Back\"\" that has the same property\"",
         "0.1035233736038208",
         "Thu Apr 20 2023 20:13:01 GMT-0300 (Horário Padrão de Brasília)",
         "Star Wars: Episode V – The Empire Strikes Back"
        ],
        [
         "73154f98-a5ae-4b38-9202-e688a0a86e28",
         "1197",
         "\"Like the movies \"\"Willy Wonka & the Chocolate Factory\"\" and \"\"Raiders of the Lost Ark\"\" and \"\"Back to the Future\"\" that won or was nominated to the National Film Registry watch \"\"The Princess Bride\"\" that has the same property\"",
         "\"Like the movie \"\"Twister\"\" that has the cast member Cary Elwes watch \"\"The Princess Bride\"\" that has the same property\"",
         "0.1067980453372001",
         "Thu Apr 20 2023 20:13:01 GMT-0300 (Horário Padrão de Brasília)",
         "The Princess Bride"
        ],
        [
         "73154f98-a5ae-4b38-9202-e688a0a86e28",
         "1210",
         "\"Like the movies \"\"Raiders of the Lost Ark\"\" and \"\"Indiana Jones and the Last Crusade\"\" that has the director George Lucas watch \"\"Star Wars: Episode VI – Return of the Jedi\"\" that has the same property\"",
         "\"Like the movie \"\"Raiders of the Lost Ark\"\" that has the producer Howard Kazanjian watch \"\"Star Wars: Episode VI – Return of the Jedi\"\" that has the same property\"",
         "0.1238663122057914",
         "Thu Apr 20 2023 20:13:01 GMT-0300 (Horário Padrão de Brasília)",
         "Star Wars: Episode VI – Return of the Jedi"
        ],
        [
         "73154f98-a5ae-4b38-9202-e688a0a86e28",
         "2571",
         "\"Like the movies \"\"Back to the Future\"\" and \"\"Indiana Jones and the Last Crusade\"\" and \"\"WALL·E\"\" that won or was nominated to the Academy Award for Best Sound Editing watch \"\"The Matrix\"\" that has the same property\"",
         "\"Like the movie \"\"Babe\"\" that has the cast member Paul Goddard watch \"\"The Matrix\"\" that has the same property\"",
         "0.0943621024489402",
         "Thu Apr 20 2023 20:13:01 GMT-0300 (Horário Padrão de Brasília)",
         "The Matrix"
        ],
        [
         "277ace42-bf8e-4af7-82a2-f2a98ffdad95",
         "110",
         "\"Like the movies \"\"The Sixth Sense\"\" and \"\"Memento\"\" and \"\"The Lord of the Rings: The Fellowship of the Ring\"\" that won or was nominated to the Academy Award for Best Film Editing watch \"\"Braveheart\"\" that has the same property\"",
         "\"Like the movie \"\"The Lord of the Rings: The Fellowship of the Ring\"\" and \"\"The Lord of the Rings: The Return of the King\"\" that won or was nominated to the Academy Award for Best Makeup and Hairstyling watch \"\"Braveheart\"\" that has the same property\"",
         "0.0808760151267051",
         "Thu Apr 20 2023 13:26:12 GMT-0300 (Horário Padrão de Brasília)",
         "Braveheart"
        ],
        [
         "277ace42-bf8e-4af7-82a2-f2a98ffdad95",
         "2571",
         "\"Like the movies \"\"The Sixth Sense\"\" and \"\"Memento\"\" and \"\"The Lord of the Rings: The Fellowship of the Ring\"\" that won or was nominated to the Academy Award for Best Film Editing watch \"\"The Matrix\"\" that has the same property\"",
         "\"Like the movie \"\"The Lord of the Rings: The Fellowship of the Ring\"\" and \"\"The Lord of the Rings: The Return of the King\"\" that has the cast member Hugo Weaving watch \"\"The Matrix\"\" that has the same property\"",
         "0.121636688709259",
         "Thu Apr 20 2023 13:26:12 GMT-0300 (Horário Padrão de Brasília)",
         "The Matrix"
        ],
        [
         "277ace42-bf8e-4af7-82a2-f2a98ffdad95",
         "2959",
         "\"Like the movie \"\"Up\"\" that won or was nominated to the Academy Award for Best Sound Editing watch \"\"Fight Club\"\" that has the same property\"",
         "\"Like the movie \"\"Interview with the Vampire\"\" that has the cast member Brad Pitt watch \"\"Fight Club\"\" that has the same property\"",
         "0.1328551173210144",
         "Thu Apr 20 2023 13:26:12 GMT-0300 (Horário Padrão de Brasília)",
         "Fight Club"
        ],
        [
         "277ace42-bf8e-4af7-82a2-f2a98ffdad95",
         "296",
         "\"Like the movies \"\"The Sixth Sense\"\" and \"\"Memento\"\" and \"\"The Lord of the Rings: The Fellowship of the Ring\"\" that won or was nominated to the Academy Award for Best Film Editing watch \"\"Pulp Fiction\"\" that has the same property\"",
         "\"Like the movie \"\"The Silence of the Lambs\"\" that won or was nominated to the New York Film Critics Circle Award for Best Director watch \"\"Pulp Fiction\"\" that has the same property\"",
         "0.0934604108333587",
         "Thu Apr 20 2023 13:26:12 GMT-0300 (Horário Padrão de Brasília)",
         "Pulp Fiction"
        ],
        [
         "277ace42-bf8e-4af7-82a2-f2a98ffdad95",
         "318",
         "\"Like the movie \"\"Memento\"\" that has the genre film based on literature watch \"\"The Shawshank Redemption\"\" that has the same property\"",
         "\"Like the movie \"\"The Lord of the Rings: The Fellowship of the Ring\"\" and \"\"Home Alone\"\" and \"\"The Lion King\"\" and \"\"The Lord of the Rings: The Return of the King\"\" and \"\"Up\"\" and \"\"Interview with the Vampire\"\" that won or was nominated to the Academy Award for Best Original Score watch \"\"The Shawshank Redemption\"\" that has the same property\"",
         "0.1409623026847839",
         "Thu Apr 20 2023 13:26:12 GMT-0300 (Horário Padrão de Brasília)",
         "The Shawshank Redemption"
        ],
        [
         "ee8986ab-7ee0-4349-b578-710a33058958",
         "111759",
         "\"Like the movies \"\"Interstellar\"\" and \"\"X-Men: Days of Future Past\"\" and \"\"Guardians of the Galaxy\"\" that has the genre science fiction film watch \"\"Edge of Tomorrow\"\" that has the same property\"",
         "\"Like the movie \"\"Inception\"\" that has the genre science fiction action film watch \"\"Edge of Tomorrow\"\" that has the same property\"",
         "0.0607280172407627",
         "Sat Apr 22 2023 19:21:40 GMT-0300 (Horário Padrão de Brasília)",
         "Edge of Tomorrow"
        ],
        [
         "ee8986ab-7ee0-4349-b578-710a33058958",
         "112552",
         "\"Like the movies \"\"The Big Short\"\" and \"\"Logan\"\" and \"\"Brokeback Mountain\"\" that won or was nominated to the Academy Award for Best Writing, Adapted Screenplay watch \"\"Whiplash\"\" that has the same property\"",
         "\"Like the movie \"\"The Big Short\"\" that has the composer Nicholas Britell watch \"\"Whiplash\"\" that has the same property\"",
         "0.0496770776808261",
         "Sat Apr 22 2023 19:21:40 GMT-0300 (Horário Padrão de Brasília)",
         "Whiplash"
        ],
        [
         "ee8986ab-7ee0-4349-b578-710a33058958",
         "115617",
         "\"Like the movies \"\"Interstellar\"\" and \"\"X-Men: Days of Future Past\"\" and \"\"Guardians of the Galaxy\"\" that has the genre science fiction film watch \"\"Big Hero 6\"\" that has the same property\"",
         "\"Like the movie \"\"Avengers: Infinity War\"\" and \"\"Guardians of the Galaxy\"\" and \"\"Logan\"\" and \"\"X-Men: First Class\"\" that has the cast member Stan Lee watch \"\"Big Hero 6\"\" that has the same property\"",
         "0.0515503622591495",
         "Sat Apr 22 2023 19:21:40 GMT-0300 (Horário Padrão de Brasília)",
         "Big Hero 6"
        ],
        [
         "ee8986ab-7ee0-4349-b578-710a33058958",
         "116797",
         "\"Like the movies \"\"The Big Short\"\" and \"\"Logan\"\" and \"\"Brokeback Mountain\"\" that won or was nominated to the Academy Award for Best Writing, Adapted Screenplay watch \"\"The Imitation Game\"\" that has the same property\"",
         "\"Like the movie \"\"Avengers: Infinity War\"\" that has the cast member Benedict Cumberbatch watch \"\"The Imitation Game\"\" that has the same property\"",
         "0.0769899263978004",
         "Sat Apr 22 2023 19:21:40 GMT-0300 (Horário Padrão de Brasília)",
         "The Imitation Game"
        ],
        [
         "ee8986ab-7ee0-4349-b578-710a33058958",
         "122904",
         "\"Like the movies \"\"Interstellar\"\" and \"\"X-Men: Days of Future Past\"\" and \"\"Guardians of the Galaxy\"\" that has the genre science fiction film watch \"\"Deadpool\"\" that has the same property\"",
         "\"Like the movie \"\"X-Men: First Class\"\" and \"\"X-Men: Days of Future Past\"\" and \"\"Logan\"\" that is part of the series X-Men watch \"\"Deadpool\"\" that has the same property\"",
         "0.0540987737476825",
         "Sat Apr 22 2023 19:21:40 GMT-0300 (Horário Padrão de Brasília)",
         "Deadpool"
        ],
        [
         "b7d90b39-7606-47bf-8552-d8670e7e015a",
         "110",
         "\"Like the movies \"\"The Matrix\"\" and \"\"Fight Club\"\" and \"\"The Lord of the Rings: The Two Towers\"\" that won or was nominated to the Academy Award for Best Sound Editing watch \"\"Braveheart\"\" that has the same property\"",
         "\"Like the movie \"\"X-Men\"\" that has the film editor Steven Rosenblum watch \"\"Braveheart\"\" that has the same property\"",
         "0.2149486988782882",
         "Sat Apr 22 2023 18:02:02 GMT-0300 (Brasilia Standard Time)",
         "Braveheart"
        ],
        [
         "b7d90b39-7606-47bf-8552-d8670e7e015a",
         "1198",
         "\"Like the movies \"\"Alien\"\" and \"\"The Matrix\"\" and \"\"The Mask\"\" that won or was nominated to the Academy Award for Best Visual Effects watch \"\"Raiders of the Lost Ark\"\" that has the same property\"",
         "\"Like the movie \"\"Star Wars: Episode V – The Empire Strikes Back\"\" that has the production designer Norman Reynolds watch \"\"Raiders of the Lost Ark\"\" that has the same property\"",
         "0.1968491375446319",
         "Sat Apr 22 2023 18:02:02 GMT-0300 (Brasilia Standard Time)",
         "Raiders of the Lost Ark"
        ],
        [
         "b7d90b39-7606-47bf-8552-d8670e7e015a",
         "1210",
         "\"Like the movies \"\"The Matrix\"\" and \"\"Fight Club\"\" and \"\"The Lord of the Rings: The Two Towers\"\" that won or was nominated to the Academy Award for Best Sound Editing watch \"\"Star Wars: Episode VI – Return of the Jedi\"\" that has the same property\"",
         "\"Like the movie \"\"Star Wars: Episode V – The Empire Strikes Back\"\" that has the narrative location Dagobah watch \"\"Star Wars: Episode VI – Return of the Jedi\"\" that has the same property\"",
         "0.1981615722179412",
         "Sat Apr 22 2023 18:02:02 GMT-0300 (Brasilia Standard Time)",
         "Star Wars: Episode VI – Return of the Jedi"
        ],
        [
         "b7d90b39-7606-47bf-8552-d8670e7e015a",
         "1721",
         "\"Like the movies \"\"Alien\"\" and \"\"The Matrix\"\" and \"\"The Mask\"\" that won or was nominated to the Academy Award for Best Visual Effects watch \"\"Titanic\"\" that has the same property\"",
         "\"Like the movie \"\"Pulp Fiction\"\" and \"\"Harry Potter and the Philosopher's Stone\"\" and \"\"Independence Day\"\" and \"\"Harry Potter and the Chamber of Secrets\"\" that won or was nominated to the Japan Academy Prize for Outstanding Foreign Language Film watch \"\"Titanic\"\" that has the same property\"",
         "0.2265316396951675",
         "Sat Apr 22 2023 18:02:02 GMT-0300 (Brasilia Standard Time)",
         "Titanic"
        ],
        [
         "b7d90b39-7606-47bf-8552-d8670e7e015a",
         "2329",
         "\"Like the movies \"\"The Truman Show\"\" and \"\"Fight Club\"\" and \"\"Pulp Fiction\"\" that has the narrative location Los Angeles watch \"\"American History X\"\" that has the same property\"",
         "\"Like the movie \"\"Independence Day\"\" that has the cast member Giuseppe Andrews watch \"\"American History X\"\" that has the same property\"",
         "0.2068988978862762",
         "Sat Apr 22 2023 18:02:02 GMT-0300 (Brasilia Standard Time)",
         "American History X"
        ],
        [
         "282ef334-b2de-4873-b8c0-e6e94b9777e2",
         "1",
         "\"Like the movies \"\"Toy Story 2\"\" and \"\"WALL·E\"\" that has the screenwriter Andrew Stanton watch \"\"Toy Story\"\" that has the same property\"",
         "\"Like the movie \"\"Toy Story 2\"\" that is part of the series Toy Story watch \"\"Toy Story\"\" that has the same property\"",
         "0.1042074188590049",
         "Wed Apr 19 2023 21:27:42 GMT-0300 (Horário Padrão de Brasília)",
         "Toy Story"
        ],
        [
         "282ef334-b2de-4873-b8c0-e6e94b9777e2",
         "1210",
         "\"Like the movies \"\"Forrest Gump\"\" and \"\"WALL·E\"\" and \"\"Pirates of the Caribbean: The Curse of the Black Pearl\"\" that won or was nominated to the Academy Award for Best Sound Mixing watch \"\"Star Wars: Episode VI – Return of the Jedi\"\" that has the same property\"",
         "\"Like the movie \"\"Mission: Impossible\"\" that has the production designer Norman Reynolds watch \"\"Star Wars: Episode VI – Return of the Jedi\"\" that has the same property\"",
         "0.0888414829969406",
         "Wed Apr 19 2023 21:27:42 GMT-0300 (Horário Padrão de Brasília)",
         "Star Wars: Episode VI – Return of the Jedi"
        ],
        [
         "282ef334-b2de-4873-b8c0-e6e94b9777e2",
         "1270",
         "\"Like the movies \"\"Forrest Gump\"\" and \"\"WALL·E\"\" and \"\"Pirates of the Caribbean: The Curse of the Black Pearl\"\" that won or was nominated to the Academy Award for Best Sound Mixing watch \"\"Back to the Future\"\" that has the same property\"",
         "\"Like the movie \"\"X-Men\"\" that won or was nominated to the Saturn Award for the Best Actor watch \"\"Back to the Future\"\" that has the same property\"",
         "0.0778317674994468",
         "Wed Apr 19 2023 21:27:42 GMT-0300 (Horário Padrão de Brasília)",
         "Back to the Future"
        ],
        [
         "282ef334-b2de-4873-b8c0-e6e94b9777e2",
         "150",
         "\"Like the movies \"\"Toy Story 2\"\" and \"\"Forrest Gump\"\" and \"\"Catch Me If You Can\"\" that has the cast member Tom Hanks watch \"\"Apollo 13\"\" that has the same property\"",
         "\"Like the movie \"\"Forrest Gump\"\" and \"\"Catch Me If You Can\"\" that has the filming location Ambassador Hotel watch \"\"Apollo 13\"\" that has the same property\"",
         "0.0819964632391929",
         "Wed Apr 19 2023 21:27:42 GMT-0300 (Horário Padrão de Brasília)",
         "Apollo 13"
        ],
        [
         "282ef334-b2de-4873-b8c0-e6e94b9777e2",
         "1580",
         "\"Like the movie \"\"Catch Me If You Can\"\" that has the executive producer Steven Spielberg watch \"\"Men in Black\"\" that has the same property\"",
         "\"Like the movie \"\"Catch Me If You Can\"\" that has the producer Laurie MacDonald watch \"\"Men in Black\"\" that has the same property\"",
         "0.0735803171992302",
         "Wed Apr 19 2023 21:27:42 GMT-0300 (Horário Padrão de Brasília)",
         "Men in Black"
        ]
       ],
       "shape": {
        "columns": 6,
        "rows": 275
       }
      },
      "text/html": [
       "<div>\n",
       "<style scoped>\n",
       "    .dataframe tbody tr th:only-of-type {\n",
       "        vertical-align: middle;\n",
       "    }\n",
       "\n",
       "    .dataframe tbody tr th {\n",
       "        vertical-align: top;\n",
       "    }\n",
       "\n",
       "    .dataframe thead th {\n",
       "        text-align: right;\n",
       "    }\n",
       "</style>\n",
       "<table border=\"1\" class=\"dataframe\">\n",
       "  <thead>\n",
       "    <tr style=\"text-align: right;\">\n",
       "      <th></th>\n",
       "      <th>movie_id</th>\n",
       "      <th>explod_expl</th>\n",
       "      <th>pem_expl</th>\n",
       "      <th>score</th>\n",
       "      <th>time</th>\n",
       "      <th>title</th>\n",
       "    </tr>\n",
       "    <tr>\n",
       "      <th>ID</th>\n",
       "      <th></th>\n",
       "      <th></th>\n",
       "      <th></th>\n",
       "      <th></th>\n",
       "      <th></th>\n",
       "      <th></th>\n",
       "    </tr>\n",
       "  </thead>\n",
       "  <tbody>\n",
       "    <tr>\n",
       "      <th>4221f534-a566-4fe1-af3b-2e73067a521c</th>\n",
       "      <td>1089</td>\n",
       "      <td>\"Like the movies \"\"Kill Bill Volume 1\"\" and \"\"...</td>\n",
       "      <td>\"Like the movie \"\"Kill Bill Volume 1\"\" and \"\"K...</td>\n",
       "      <td>0.161457</td>\n",
       "      <td>Tue Apr 18 2023 09:59:03 GMT-0300 (Brasilia St...</td>\n",
       "      <td>Reservoir Dogs</td>\n",
       "    </tr>\n",
       "    <tr>\n",
       "      <th>4221f534-a566-4fe1-af3b-2e73067a521c</th>\n",
       "      <td>1193</td>\n",
       "      <td>\"Like the movies \"\"Braveheart\"\" and \"\"Taxi Dri...</td>\n",
       "      <td>\"Like the movie \"\"The Godfather\"\" and \"\"Braveh...</td>\n",
       "      <td>0.169536</td>\n",
       "      <td>Tue Apr 18 2023 09:59:03 GMT-0300 (Brasilia St...</td>\n",
       "      <td>One Flew Over the Cuckoo's Nest</td>\n",
       "    </tr>\n",
       "    <tr>\n",
       "      <th>4221f534-a566-4fe1-af3b-2e73067a521c</th>\n",
       "      <td>1213</td>\n",
       "      <td>\"Like the movies \"\"A Clockwork Orange\"\" and \"\"...</td>\n",
       "      <td>\"Like the movie \"\"The Godfather\"\" that has the...</td>\n",
       "      <td>0.140909</td>\n",
       "      <td>Tue Apr 18 2023 09:59:03 GMT-0300 (Brasilia St...</td>\n",
       "      <td>Goodfellas</td>\n",
       "    </tr>\n",
       "    <tr>\n",
       "      <th>4221f534-a566-4fe1-af3b-2e73067a521c</th>\n",
       "      <td>1221</td>\n",
       "      <td>\"Like the movies \"\"A Clockwork Orange\"\" and \"\"...</td>\n",
       "      <td>\"Like the movie \"\"The Godfather\"\" that has the...</td>\n",
       "      <td>0.143565</td>\n",
       "      <td>Tue Apr 18 2023 09:59:03 GMT-0300 (Brasilia St...</td>\n",
       "      <td>The Godfather Part II</td>\n",
       "    </tr>\n",
       "    <tr>\n",
       "      <th>4221f534-a566-4fe1-af3b-2e73067a521c</th>\n",
       "      <td>1258</td>\n",
       "      <td>\"Like the movies \"\"A Clockwork Orange\"\" and \"\"...</td>\n",
       "      <td>\"Like the movie \"\"A Clockwork Orange\"\" that ha...</td>\n",
       "      <td>0.146796</td>\n",
       "      <td>Tue Apr 18 2023 09:59:03 GMT-0300 (Brasilia St...</td>\n",
       "      <td>The Shining</td>\n",
       "    </tr>\n",
       "    <tr>\n",
       "      <th>...</th>\n",
       "      <td>...</td>\n",
       "      <td>...</td>\n",
       "      <td>...</td>\n",
       "      <td>...</td>\n",
       "      <td>...</td>\n",
       "      <td>...</td>\n",
       "    </tr>\n",
       "    <tr>\n",
       "      <th>330036ae-330c-4fff-b455-ff819ae8adec</th>\n",
       "      <td>1196</td>\n",
       "      <td>\"Like the movies \"\"Braveheart\"\" and \"\"Contact\"...</td>\n",
       "      <td>\"Like the movie \"\"The Lion King\"\" that has the...</td>\n",
       "      <td>0.114506</td>\n",
       "      <td>Sun Apr 23 2023 23:09:14 GMT-0300 (Brasilia St...</td>\n",
       "      <td>Star Wars: Episode V – The Empire Strikes Back</td>\n",
       "    </tr>\n",
       "    <tr>\n",
       "      <th>330036ae-330c-4fff-b455-ff819ae8adec</th>\n",
       "      <td>1198</td>\n",
       "      <td>\"Like the movies \"\"Braveheart\"\" and \"\"Contact\"...</td>\n",
       "      <td>\"Like the movie \"\"Good Will Hunting\"\" and \"\"Th...</td>\n",
       "      <td>0.097080</td>\n",
       "      <td>Sun Apr 23 2023 23:09:14 GMT-0300 (Brasilia St...</td>\n",
       "      <td>Raiders of the Lost Ark</td>\n",
       "    </tr>\n",
       "    <tr>\n",
       "      <th>330036ae-330c-4fff-b455-ff819ae8adec</th>\n",
       "      <td>1210</td>\n",
       "      <td>\"Like the movies \"\"Braveheart\"\" and \"\"Contact\"...</td>\n",
       "      <td>\"Like the movie \"\"The Lion King\"\" that has the...</td>\n",
       "      <td>0.092526</td>\n",
       "      <td>Sun Apr 23 2023 23:09:14 GMT-0300 (Brasilia St...</td>\n",
       "      <td>Star Wars: Episode VI – Return of the Jedi</td>\n",
       "    </tr>\n",
       "    <tr>\n",
       "      <th>330036ae-330c-4fff-b455-ff819ae8adec</th>\n",
       "      <td>150</td>\n",
       "      <td>\"Like the movies \"\"Braveheart\"\" and \"\"Contact\"...</td>\n",
       "      <td>\"Like the movie \"\"Contact\"\" that has the cast ...</td>\n",
       "      <td>0.090280</td>\n",
       "      <td>Sun Apr 23 2023 23:09:14 GMT-0300 (Brasilia St...</td>\n",
       "      <td>Apollo 13</td>\n",
       "    </tr>\n",
       "    <tr>\n",
       "      <th>330036ae-330c-4fff-b455-ff819ae8adec</th>\n",
       "      <td>2028</td>\n",
       "      <td>\"Like the movies \"\"Braveheart\"\" and \"\"Contact\"...</td>\n",
       "      <td>\"Like the movie \"\"Contact\"\" that has the cast ...</td>\n",
       "      <td>0.140743</td>\n",
       "      <td>Sun Apr 23 2023 23:09:14 GMT-0300 (Brasilia St...</td>\n",
       "      <td>Saving Private Ryan</td>\n",
       "    </tr>\n",
       "  </tbody>\n",
       "</table>\n",
       "<p>275 rows × 6 columns</p>\n",
       "</div>"
      ],
      "text/plain": [
       "                                      movie_id  \\\n",
       "ID                                               \n",
       "4221f534-a566-4fe1-af3b-2e73067a521c      1089   \n",
       "4221f534-a566-4fe1-af3b-2e73067a521c      1193   \n",
       "4221f534-a566-4fe1-af3b-2e73067a521c      1213   \n",
       "4221f534-a566-4fe1-af3b-2e73067a521c      1221   \n",
       "4221f534-a566-4fe1-af3b-2e73067a521c      1258   \n",
       "...                                        ...   \n",
       "330036ae-330c-4fff-b455-ff819ae8adec      1196   \n",
       "330036ae-330c-4fff-b455-ff819ae8adec      1198   \n",
       "330036ae-330c-4fff-b455-ff819ae8adec      1210   \n",
       "330036ae-330c-4fff-b455-ff819ae8adec       150   \n",
       "330036ae-330c-4fff-b455-ff819ae8adec      2028   \n",
       "\n",
       "                                                                            explod_expl  \\\n",
       "ID                                                                                        \n",
       "4221f534-a566-4fe1-af3b-2e73067a521c  \"Like the movies \"\"Kill Bill Volume 1\"\" and \"\"...   \n",
       "4221f534-a566-4fe1-af3b-2e73067a521c  \"Like the movies \"\"Braveheart\"\" and \"\"Taxi Dri...   \n",
       "4221f534-a566-4fe1-af3b-2e73067a521c  \"Like the movies \"\"A Clockwork Orange\"\" and \"\"...   \n",
       "4221f534-a566-4fe1-af3b-2e73067a521c  \"Like the movies \"\"A Clockwork Orange\"\" and \"\"...   \n",
       "4221f534-a566-4fe1-af3b-2e73067a521c  \"Like the movies \"\"A Clockwork Orange\"\" and \"\"...   \n",
       "...                                                                                 ...   \n",
       "330036ae-330c-4fff-b455-ff819ae8adec  \"Like the movies \"\"Braveheart\"\" and \"\"Contact\"...   \n",
       "330036ae-330c-4fff-b455-ff819ae8adec  \"Like the movies \"\"Braveheart\"\" and \"\"Contact\"...   \n",
       "330036ae-330c-4fff-b455-ff819ae8adec  \"Like the movies \"\"Braveheart\"\" and \"\"Contact\"...   \n",
       "330036ae-330c-4fff-b455-ff819ae8adec  \"Like the movies \"\"Braveheart\"\" and \"\"Contact\"...   \n",
       "330036ae-330c-4fff-b455-ff819ae8adec  \"Like the movies \"\"Braveheart\"\" and \"\"Contact\"...   \n",
       "\n",
       "                                                                               pem_expl  \\\n",
       "ID                                                                                        \n",
       "4221f534-a566-4fe1-af3b-2e73067a521c  \"Like the movie \"\"Kill Bill Volume 1\"\" and \"\"K...   \n",
       "4221f534-a566-4fe1-af3b-2e73067a521c  \"Like the movie \"\"The Godfather\"\" and \"\"Braveh...   \n",
       "4221f534-a566-4fe1-af3b-2e73067a521c  \"Like the movie \"\"The Godfather\"\" that has the...   \n",
       "4221f534-a566-4fe1-af3b-2e73067a521c  \"Like the movie \"\"The Godfather\"\" that has the...   \n",
       "4221f534-a566-4fe1-af3b-2e73067a521c  \"Like the movie \"\"A Clockwork Orange\"\" that ha...   \n",
       "...                                                                                 ...   \n",
       "330036ae-330c-4fff-b455-ff819ae8adec  \"Like the movie \"\"The Lion King\"\" that has the...   \n",
       "330036ae-330c-4fff-b455-ff819ae8adec  \"Like the movie \"\"Good Will Hunting\"\" and \"\"Th...   \n",
       "330036ae-330c-4fff-b455-ff819ae8adec  \"Like the movie \"\"The Lion King\"\" that has the...   \n",
       "330036ae-330c-4fff-b455-ff819ae8adec  \"Like the movie \"\"Contact\"\" that has the cast ...   \n",
       "330036ae-330c-4fff-b455-ff819ae8adec  \"Like the movie \"\"Contact\"\" that has the cast ...   \n",
       "\n",
       "                                         score  \\\n",
       "ID                                               \n",
       "4221f534-a566-4fe1-af3b-2e73067a521c  0.161457   \n",
       "4221f534-a566-4fe1-af3b-2e73067a521c  0.169536   \n",
       "4221f534-a566-4fe1-af3b-2e73067a521c  0.140909   \n",
       "4221f534-a566-4fe1-af3b-2e73067a521c  0.143565   \n",
       "4221f534-a566-4fe1-af3b-2e73067a521c  0.146796   \n",
       "...                                        ...   \n",
       "330036ae-330c-4fff-b455-ff819ae8adec  0.114506   \n",
       "330036ae-330c-4fff-b455-ff819ae8adec  0.097080   \n",
       "330036ae-330c-4fff-b455-ff819ae8adec  0.092526   \n",
       "330036ae-330c-4fff-b455-ff819ae8adec  0.090280   \n",
       "330036ae-330c-4fff-b455-ff819ae8adec  0.140743   \n",
       "\n",
       "                                                                                   time  \\\n",
       "ID                                                                                        \n",
       "4221f534-a566-4fe1-af3b-2e73067a521c  Tue Apr 18 2023 09:59:03 GMT-0300 (Brasilia St...   \n",
       "4221f534-a566-4fe1-af3b-2e73067a521c  Tue Apr 18 2023 09:59:03 GMT-0300 (Brasilia St...   \n",
       "4221f534-a566-4fe1-af3b-2e73067a521c  Tue Apr 18 2023 09:59:03 GMT-0300 (Brasilia St...   \n",
       "4221f534-a566-4fe1-af3b-2e73067a521c  Tue Apr 18 2023 09:59:03 GMT-0300 (Brasilia St...   \n",
       "4221f534-a566-4fe1-af3b-2e73067a521c  Tue Apr 18 2023 09:59:03 GMT-0300 (Brasilia St...   \n",
       "...                                                                                 ...   \n",
       "330036ae-330c-4fff-b455-ff819ae8adec  Sun Apr 23 2023 23:09:14 GMT-0300 (Brasilia St...   \n",
       "330036ae-330c-4fff-b455-ff819ae8adec  Sun Apr 23 2023 23:09:14 GMT-0300 (Brasilia St...   \n",
       "330036ae-330c-4fff-b455-ff819ae8adec  Sun Apr 23 2023 23:09:14 GMT-0300 (Brasilia St...   \n",
       "330036ae-330c-4fff-b455-ff819ae8adec  Sun Apr 23 2023 23:09:14 GMT-0300 (Brasilia St...   \n",
       "330036ae-330c-4fff-b455-ff819ae8adec  Sun Apr 23 2023 23:09:14 GMT-0300 (Brasilia St...   \n",
       "\n",
       "                                                                               title  \n",
       "ID                                                                                    \n",
       "4221f534-a566-4fe1-af3b-2e73067a521c                                  Reservoir Dogs  \n",
       "4221f534-a566-4fe1-af3b-2e73067a521c                 One Flew Over the Cuckoo's Nest  \n",
       "4221f534-a566-4fe1-af3b-2e73067a521c                                      Goodfellas  \n",
       "4221f534-a566-4fe1-af3b-2e73067a521c                           The Godfather Part II  \n",
       "4221f534-a566-4fe1-af3b-2e73067a521c                                     The Shining  \n",
       "...                                                                              ...  \n",
       "330036ae-330c-4fff-b455-ff819ae8adec  Star Wars: Episode V – The Empire Strikes Back  \n",
       "330036ae-330c-4fff-b455-ff819ae8adec                         Raiders of the Lost Ark  \n",
       "330036ae-330c-4fff-b455-ff819ae8adec      Star Wars: Episode VI – Return of the Jedi  \n",
       "330036ae-330c-4fff-b455-ff819ae8adec                                       Apollo 13  \n",
       "330036ae-330c-4fff-b455-ff819ae8adec                             Saving Private Ryan  \n",
       "\n",
       "[275 rows x 6 columns]"
      ]
     },
     "execution_count": 48,
     "metadata": {},
     "output_type": "execute_result"
    }
   ],
   "source": [
    "end_expl"
   ]
  },
  {
   "cell_type": "code",
   "execution_count": 49,
   "id": "562c153e",
   "metadata": {},
   "outputs": [],
   "source": [
    "end_expl['expl_prop'] = end_expl.apply(lambda row : row['explod_expl'].split(\"watch\")[0].split('that')[-1], axis = 1) "
   ]
  },
  {
   "cell_type": "code",
   "execution_count": 50,
   "id": "a95ed367",
   "metadata": {},
   "outputs": [],
   "source": [
    "end_expl['pem_prop'] = end_expl.apply(lambda row : row['pem_expl'].split(\"watch\")[0].split('that')[-1], axis = 1) "
   ]
  },
  {
   "cell_type": "code",
   "execution_count": 51,
   "id": "a6c21ba3",
   "metadata": {},
   "outputs": [],
   "source": [
    "end_expl_count = end_expl.reset_index().groupby(['ID', 'expl_prop']).count()"
   ]
  },
  {
   "cell_type": "code",
   "execution_count": 52,
   "id": "d379de5b",
   "metadata": {},
   "outputs": [
    {
     "data": {
      "application/vnd.microsoft.datawrangler.viewer.v0+json": {
       "columns": [
        {
         "name": "('ID', 'expl_prop')",
         "rawType": "object",
         "type": "unknown"
        },
        {
         "name": "movie_id",
         "rawType": "int64",
         "type": "integer"
        },
        {
         "name": "explod_expl",
         "rawType": "int64",
         "type": "integer"
        },
        {
         "name": "pem_expl",
         "rawType": "int64",
         "type": "integer"
        },
        {
         "name": "score",
         "rawType": "int64",
         "type": "integer"
        },
        {
         "name": "time",
         "rawType": "int64",
         "type": "integer"
        },
        {
         "name": "title",
         "rawType": "int64",
         "type": "integer"
        },
        {
         "name": "pem_prop",
         "rawType": "int64",
         "type": "integer"
        }
       ],
       "ref": "e306ba5a-040b-42ba-9812-aebd19d27416",
       "rows": [
        [
         "('0903e4d7-0117-43ac-9ba1-67a34ee4f584', ' has the screenwriter Andrew Stanton ')",
         "1",
         "1",
         "1",
         "1",
         "1",
         "1",
         "1"
        ],
        [
         "('0903e4d7-0117-43ac-9ba1-67a34ee4f584', ' won or was nominated to the Academy Award for Best Film Editing ')",
         "1",
         "1",
         "1",
         "1",
         "1",
         "1",
         "1"
        ],
        [
         "('0903e4d7-0117-43ac-9ba1-67a34ee4f584', ' won or was nominated to the Academy Award for Best Sound Editing ')",
         "3",
         "3",
         "3",
         "3",
         "3",
         "3",
         "3"
        ],
        [
         "('16497ee9-9f63-4ac3-8cba-ca821cd434cc', ' has the director M. Night Shyamalan ')",
         "1",
         "1",
         "1",
         "1",
         "1",
         "1",
         "1"
        ],
        [
         "('16497ee9-9f63-4ac3-8cba-ca821cd434cc', ' won or was nominated to the Academy Award for Best Animated Feature ')",
         "1",
         "1",
         "1",
         "1",
         "1",
         "1",
         "1"
        ],
        [
         "('16497ee9-9f63-4ac3-8cba-ca821cd434cc', ' won or was nominated to the Academy Award for Best Original Score ')",
         "2",
         "2",
         "2",
         "2",
         "2",
         "2",
         "2"
        ],
        [
         "('16497ee9-9f63-4ac3-8cba-ca821cd434cc', ' won or was nominated to the Academy Award for Best Visual Effects ')",
         "1",
         "1",
         "1",
         "1",
         "1",
         "1",
         "1"
        ],
        [
         "('1670be4a-56a4-401b-a64a-ea8490643f1d', ' has the director George Lucas ')",
         "1",
         "1",
         "1",
         "1",
         "1",
         "1",
         "1"
        ],
        [
         "('1670be4a-56a4-401b-a64a-ea8490643f1d', ' has the genre adventure film ')",
         "2",
         "2",
         "2",
         "2",
         "2",
         "2",
         "2"
        ],
        [
         "('1670be4a-56a4-401b-a64a-ea8490643f1d', ' won or was nominated to the Academy Award for Best Sound Editing ')",
         "2",
         "2",
         "2",
         "2",
         "2",
         "2",
         "2"
        ],
        [
         "('199a272e-eb22-4ae2-95fb-dd14c4fa208e', ' won or was nominated to the Academy Award for Best Original Dramatic Score ')",
         "1",
         "1",
         "1",
         "1",
         "1",
         "1",
         "1"
        ],
        [
         "('199a272e-eb22-4ae2-95fb-dd14c4fa208e', ' won or was nominated to the Academy Award for Best Sound Mixing ')",
         "4",
         "4",
         "4",
         "4",
         "4",
         "4",
         "4"
        ],
        [
         "('1cdedd0e-ada1-4901-9443-b9fe73ee4eaf', ' has the director George Lucas ')",
         "1",
         "1",
         "1",
         "1",
         "1",
         "1",
         "1"
        ],
        [
         "('1cdedd0e-ada1-4901-9443-b9fe73ee4eaf', ' has the genre adventure film ')",
         "1",
         "1",
         "1",
         "1",
         "1",
         "1",
         "1"
        ],
        [
         "('1cdedd0e-ada1-4901-9443-b9fe73ee4eaf', ' won or was nominated to the Academy Award for Best Film Editing ')",
         "1",
         "1",
         "1",
         "1",
         "1",
         "1",
         "1"
        ],
        [
         "('1cdedd0e-ada1-4901-9443-b9fe73ee4eaf', ' won or was nominated to the Academy Award for Best Sound Editing ')",
         "1",
         "1",
         "1",
         "1",
         "1",
         "1",
         "1"
        ],
        [
         "('1cdedd0e-ada1-4901-9443-b9fe73ee4eaf', ' won or was nominated to the Academy Award for Best Visual Effects ')",
         "1",
         "1",
         "1",
         "1",
         "1",
         "1",
         "1"
        ],
        [
         "('1cf52f56-d06f-4f56-9b6c-3894edeb795b', ' has the director Christopher Nolan ')",
         "1",
         "1",
         "1",
         "1",
         "1",
         "1",
         "1"
        ],
        [
         "('1cf52f56-d06f-4f56-9b6c-3894edeb795b', ' won or was nominated to the Academy Award for Best Sound Editing ')",
         "1",
         "1",
         "1",
         "1",
         "1",
         "1",
         "1"
        ],
        [
         "('1cf52f56-d06f-4f56-9b6c-3894edeb795b', ' won or was nominated to the Academy Award for Best Visual Effects ')",
         "2",
         "2",
         "2",
         "2",
         "2",
         "2",
         "2"
        ],
        [
         "('1cf52f56-d06f-4f56-9b6c-3894edeb795b', ' won or was nominated to the Saturn Award for Best Costume ')",
         "1",
         "1",
         "1",
         "1",
         "1",
         "1",
         "1"
        ],
        [
         "('26bbc9a9-86bb-4974-a1b5-6601b511ba4d', ' has the genre film based on literature ')",
         "1",
         "1",
         "1",
         "1",
         "1",
         "1",
         "1"
        ],
        [
         "('26bbc9a9-86bb-4974-a1b5-6601b511ba4d', ' has the screenwriter Andrew Stanton ')",
         "1",
         "1",
         "1",
         "1",
         "1",
         "1",
         "1"
        ],
        [
         "('26bbc9a9-86bb-4974-a1b5-6601b511ba4d', ' won or was nominated to the Academy Award for Best Film Editing ')",
         "1",
         "1",
         "1",
         "1",
         "1",
         "1",
         "1"
        ],
        [
         "('26bbc9a9-86bb-4974-a1b5-6601b511ba4d', ' won or was nominated to the Academy Award for Best Sound Editing ')",
         "2",
         "2",
         "2",
         "2",
         "2",
         "2",
         "2"
        ],
        [
         "('2763ffe6-f1c6-4021-b053-e1323d9d0989', ' won or was nominated to the Academy Award for Best Visual Effects ')",
         "3",
         "3",
         "3",
         "3",
         "3",
         "3",
         "3"
        ],
        [
         "('2763ffe6-f1c6-4021-b053-e1323d9d0989', ' won or was nominated to the National Film Registry ')",
         "2",
         "2",
         "2",
         "2",
         "2",
         "2",
         "2"
        ],
        [
         "('277ace42-bf8e-4af7-82a2-f2a98ffdad95', ' has the genre film based on literature ')",
         "1",
         "1",
         "1",
         "1",
         "1",
         "1",
         "1"
        ],
        [
         "('277ace42-bf8e-4af7-82a2-f2a98ffdad95', ' won or was nominated to the Academy Award for Best Film Editing ')",
         "3",
         "3",
         "3",
         "3",
         "3",
         "3",
         "3"
        ],
        [
         "('277ace42-bf8e-4af7-82a2-f2a98ffdad95', ' won or was nominated to the Academy Award for Best Sound Editing ')",
         "1",
         "1",
         "1",
         "1",
         "1",
         "1",
         "1"
        ],
        [
         "('282ef334-b2de-4873-b8c0-e6e94b9777e2', ' has the cast member Tom Hanks ')",
         "1",
         "1",
         "1",
         "1",
         "1",
         "1",
         "1"
        ],
        [
         "('282ef334-b2de-4873-b8c0-e6e94b9777e2', ' has the executive producer Steven Spielberg ')",
         "1",
         "1",
         "1",
         "1",
         "1",
         "1",
         "1"
        ],
        [
         "('282ef334-b2de-4873-b8c0-e6e94b9777e2', ' has the screenwriter Andrew Stanton ')",
         "1",
         "1",
         "1",
         "1",
         "1",
         "1",
         "1"
        ],
        [
         "('282ef334-b2de-4873-b8c0-e6e94b9777e2', ' won or was nominated to the Academy Award for Best Sound Mixing ')",
         "2",
         "2",
         "2",
         "2",
         "2",
         "2",
         "2"
        ],
        [
         "('2d7fa883-3b29-4bd3-b592-54fc656a68bc', ' has the director George Lucas ')",
         "3",
         "3",
         "3",
         "3",
         "3",
         "3",
         "3"
        ],
        [
         "('2d7fa883-3b29-4bd3-b592-54fc656a68bc', ' has the genre melodrama ')",
         "1",
         "1",
         "1",
         "1",
         "1",
         "1",
         "1"
        ],
        [
         "('2d7fa883-3b29-4bd3-b592-54fc656a68bc', ' won or was nominated to the Academy Award for Best Visual Effects ')",
         "1",
         "1",
         "1",
         "1",
         "1",
         "1",
         "1"
        ],
        [
         "('2fff537b-f60f-4762-a300-e651a85c83e7', ' has the narrative location Los Angeles ')",
         "1",
         "1",
         "1",
         "1",
         "1",
         "1",
         "1"
        ],
        [
         "('2fff537b-f60f-4762-a300-e651a85c83e7', ' won or was nominated to the Academy Award for Best Director ')",
         "3",
         "3",
         "3",
         "3",
         "3",
         "3",
         "3"
        ],
        [
         "('2fff537b-f60f-4762-a300-e651a85c83e7', ' won or was nominated to the Academy Award for Best Writing, Adapted Screenplay ')",
         "1",
         "1",
         "1",
         "1",
         "1",
         "1",
         "1"
        ],
        [
         "('330036ae-330c-4fff-b455-ff819ae8adec', ' won or was nominated to the Academy Award for Best Sound Mixing ')",
         "5",
         "5",
         "5",
         "5",
         "5",
         "5",
         "5"
        ],
        [
         "('33db9956-4b5b-47ab-b3d1-6f76c42384f7', ' has the genre crime film ')",
         "2",
         "2",
         "2",
         "2",
         "2",
         "2",
         "2"
        ],
        [
         "('33db9956-4b5b-47ab-b3d1-6f76c42384f7', ' won or was nominated to the Academy Award for Best Picture ')",
         "3",
         "3",
         "3",
         "3",
         "3",
         "3",
         "3"
        ],
        [
         "('37080dca-b8d4-432b-8577-ee2966dfa206', ' has the director George Lucas ')",
         "1",
         "1",
         "1",
         "1",
         "1",
         "1",
         "1"
        ],
        [
         "('37080dca-b8d4-432b-8577-ee2966dfa206', ' has the genre adventure film ')",
         "3",
         "3",
         "3",
         "3",
         "3",
         "3",
         "3"
        ],
        [
         "('37080dca-b8d4-432b-8577-ee2966dfa206', ' won or was nominated to the National Film Registry ')",
         "1",
         "1",
         "1",
         "1",
         "1",
         "1",
         "1"
        ],
        [
         "('3887e896-3fa0-477d-be09-af967ba31f91', ' has the genre action film ')",
         "4",
         "4",
         "4",
         "4",
         "4",
         "4",
         "4"
        ],
        [
         "('3887e896-3fa0-477d-be09-af967ba31f91', ' won or was nominated to the Academy Award for Best Sound Mixing ')",
         "1",
         "1",
         "1",
         "1",
         "1",
         "1",
         "1"
        ],
        [
         "('38cdc324-2d9a-42c4-b2f3-44448d149cc4', ' won or was nominated to the Academy Award for Best Sound Mixing ')",
         "5",
         "5",
         "5",
         "5",
         "5",
         "5",
         "5"
        ],
        [
         "('3cdae0e0-3b22-46f3-a286-f502d2115f80', ' has the director George Lucas ')",
         "3",
         "3",
         "3",
         "3",
         "3",
         "3",
         "3"
        ]
       ],
       "shape": {
        "columns": 7,
        "rows": 170
       }
      },
      "text/html": [
       "<div>\n",
       "<style scoped>\n",
       "    .dataframe tbody tr th:only-of-type {\n",
       "        vertical-align: middle;\n",
       "    }\n",
       "\n",
       "    .dataframe tbody tr th {\n",
       "        vertical-align: top;\n",
       "    }\n",
       "\n",
       "    .dataframe thead th {\n",
       "        text-align: right;\n",
       "    }\n",
       "</style>\n",
       "<table border=\"1\" class=\"dataframe\">\n",
       "  <thead>\n",
       "    <tr style=\"text-align: right;\">\n",
       "      <th></th>\n",
       "      <th></th>\n",
       "      <th>movie_id</th>\n",
       "      <th>explod_expl</th>\n",
       "      <th>pem_expl</th>\n",
       "      <th>score</th>\n",
       "      <th>time</th>\n",
       "      <th>title</th>\n",
       "      <th>pem_prop</th>\n",
       "    </tr>\n",
       "    <tr>\n",
       "      <th>ID</th>\n",
       "      <th>expl_prop</th>\n",
       "      <th></th>\n",
       "      <th></th>\n",
       "      <th></th>\n",
       "      <th></th>\n",
       "      <th></th>\n",
       "      <th></th>\n",
       "      <th></th>\n",
       "    </tr>\n",
       "  </thead>\n",
       "  <tbody>\n",
       "    <tr>\n",
       "      <th rowspan=\"3\" valign=\"top\">0903e4d7-0117-43ac-9ba1-67a34ee4f584</th>\n",
       "      <th>has the screenwriter Andrew Stanton</th>\n",
       "      <td>1</td>\n",
       "      <td>1</td>\n",
       "      <td>1</td>\n",
       "      <td>1</td>\n",
       "      <td>1</td>\n",
       "      <td>1</td>\n",
       "      <td>1</td>\n",
       "    </tr>\n",
       "    <tr>\n",
       "      <th>won or was nominated to the Academy Award for Best Film Editing</th>\n",
       "      <td>1</td>\n",
       "      <td>1</td>\n",
       "      <td>1</td>\n",
       "      <td>1</td>\n",
       "      <td>1</td>\n",
       "      <td>1</td>\n",
       "      <td>1</td>\n",
       "    </tr>\n",
       "    <tr>\n",
       "      <th>won or was nominated to the Academy Award for Best Sound Editing</th>\n",
       "      <td>3</td>\n",
       "      <td>3</td>\n",
       "      <td>3</td>\n",
       "      <td>3</td>\n",
       "      <td>3</td>\n",
       "      <td>3</td>\n",
       "      <td>3</td>\n",
       "    </tr>\n",
       "    <tr>\n",
       "      <th rowspan=\"2\" valign=\"top\">16497ee9-9f63-4ac3-8cba-ca821cd434cc</th>\n",
       "      <th>has the director M. Night Shyamalan</th>\n",
       "      <td>1</td>\n",
       "      <td>1</td>\n",
       "      <td>1</td>\n",
       "      <td>1</td>\n",
       "      <td>1</td>\n",
       "      <td>1</td>\n",
       "      <td>1</td>\n",
       "    </tr>\n",
       "    <tr>\n",
       "      <th>won or was nominated to the Academy Award for Best Animated Feature</th>\n",
       "      <td>1</td>\n",
       "      <td>1</td>\n",
       "      <td>1</td>\n",
       "      <td>1</td>\n",
       "      <td>1</td>\n",
       "      <td>1</td>\n",
       "      <td>1</td>\n",
       "    </tr>\n",
       "    <tr>\n",
       "      <th>...</th>\n",
       "      <th>...</th>\n",
       "      <td>...</td>\n",
       "      <td>...</td>\n",
       "      <td>...</td>\n",
       "      <td>...</td>\n",
       "      <td>...</td>\n",
       "      <td>...</td>\n",
       "      <td>...</td>\n",
       "    </tr>\n",
       "    <tr>\n",
       "      <th>f8c3b30f-e66f-413a-83c6-9fc39c366a77</th>\n",
       "      <th>won or was nominated to the National Film Registry</th>\n",
       "      <td>1</td>\n",
       "      <td>1</td>\n",
       "      <td>1</td>\n",
       "      <td>1</td>\n",
       "      <td>1</td>\n",
       "      <td>1</td>\n",
       "      <td>1</td>\n",
       "    </tr>\n",
       "    <tr>\n",
       "      <th rowspan=\"4\" valign=\"top\">fb63a3e6-6944-4b0c-8cd1-64513f81f0ea</th>\n",
       "      <th>has the genre buddy film</th>\n",
       "      <td>1</td>\n",
       "      <td>1</td>\n",
       "      <td>1</td>\n",
       "      <td>1</td>\n",
       "      <td>1</td>\n",
       "      <td>1</td>\n",
       "      <td>1</td>\n",
       "    </tr>\n",
       "    <tr>\n",
       "      <th>won or was nominated to the Academy Award for Best Film Editing</th>\n",
       "      <td>1</td>\n",
       "      <td>1</td>\n",
       "      <td>1</td>\n",
       "      <td>1</td>\n",
       "      <td>1</td>\n",
       "      <td>1</td>\n",
       "      <td>1</td>\n",
       "    </tr>\n",
       "    <tr>\n",
       "      <th>won or was nominated to the Academy Award for Best Sound Mixing</th>\n",
       "      <td>1</td>\n",
       "      <td>1</td>\n",
       "      <td>1</td>\n",
       "      <td>1</td>\n",
       "      <td>1</td>\n",
       "      <td>1</td>\n",
       "      <td>1</td>\n",
       "    </tr>\n",
       "    <tr>\n",
       "      <th>won or was nominated to the National Film Registry</th>\n",
       "      <td>2</td>\n",
       "      <td>2</td>\n",
       "      <td>2</td>\n",
       "      <td>2</td>\n",
       "      <td>2</td>\n",
       "      <td>2</td>\n",
       "      <td>2</td>\n",
       "    </tr>\n",
       "  </tbody>\n",
       "</table>\n",
       "<p>170 rows × 7 columns</p>\n",
       "</div>"
      ],
      "text/plain": [
       "                                                                                         movie_id  \\\n",
       "ID                                   expl_prop                                                      \n",
       "0903e4d7-0117-43ac-9ba1-67a34ee4f584 has the screenwriter Andrew Stanton                        1   \n",
       "                                     won or was nominated to the Academy Award for B...         1   \n",
       "                                     won or was nominated to the Academy Award for B...         3   \n",
       "16497ee9-9f63-4ac3-8cba-ca821cd434cc has the director M. Night Shyamalan                        1   \n",
       "                                     won or was nominated to the Academy Award for B...         1   \n",
       "...                                                                                           ...   \n",
       "f8c3b30f-e66f-413a-83c6-9fc39c366a77 won or was nominated to the National Film Regis...         1   \n",
       "fb63a3e6-6944-4b0c-8cd1-64513f81f0ea has the genre buddy film                                   1   \n",
       "                                     won or was nominated to the Academy Award for B...         1   \n",
       "                                     won or was nominated to the Academy Award for B...         1   \n",
       "                                     won or was nominated to the National Film Regis...         2   \n",
       "\n",
       "                                                                                         explod_expl  \\\n",
       "ID                                   expl_prop                                                         \n",
       "0903e4d7-0117-43ac-9ba1-67a34ee4f584 has the screenwriter Andrew Stanton                           1   \n",
       "                                     won or was nominated to the Academy Award for B...            1   \n",
       "                                     won or was nominated to the Academy Award for B...            3   \n",
       "16497ee9-9f63-4ac3-8cba-ca821cd434cc has the director M. Night Shyamalan                           1   \n",
       "                                     won or was nominated to the Academy Award for B...            1   \n",
       "...                                                                                              ...   \n",
       "f8c3b30f-e66f-413a-83c6-9fc39c366a77 won or was nominated to the National Film Regis...            1   \n",
       "fb63a3e6-6944-4b0c-8cd1-64513f81f0ea has the genre buddy film                                      1   \n",
       "                                     won or was nominated to the Academy Award for B...            1   \n",
       "                                     won or was nominated to the Academy Award for B...            1   \n",
       "                                     won or was nominated to the National Film Regis...            2   \n",
       "\n",
       "                                                                                         pem_expl  \\\n",
       "ID                                   expl_prop                                                      \n",
       "0903e4d7-0117-43ac-9ba1-67a34ee4f584 has the screenwriter Andrew Stanton                        1   \n",
       "                                     won or was nominated to the Academy Award for B...         1   \n",
       "                                     won or was nominated to the Academy Award for B...         3   \n",
       "16497ee9-9f63-4ac3-8cba-ca821cd434cc has the director M. Night Shyamalan                        1   \n",
       "                                     won or was nominated to the Academy Award for B...         1   \n",
       "...                                                                                           ...   \n",
       "f8c3b30f-e66f-413a-83c6-9fc39c366a77 won or was nominated to the National Film Regis...         1   \n",
       "fb63a3e6-6944-4b0c-8cd1-64513f81f0ea has the genre buddy film                                   1   \n",
       "                                     won or was nominated to the Academy Award for B...         1   \n",
       "                                     won or was nominated to the Academy Award for B...         1   \n",
       "                                     won or was nominated to the National Film Regis...         2   \n",
       "\n",
       "                                                                                         score  \\\n",
       "ID                                   expl_prop                                                   \n",
       "0903e4d7-0117-43ac-9ba1-67a34ee4f584 has the screenwriter Andrew Stanton                     1   \n",
       "                                     won or was nominated to the Academy Award for B...      1   \n",
       "                                     won or was nominated to the Academy Award for B...      3   \n",
       "16497ee9-9f63-4ac3-8cba-ca821cd434cc has the director M. Night Shyamalan                     1   \n",
       "                                     won or was nominated to the Academy Award for B...      1   \n",
       "...                                                                                        ...   \n",
       "f8c3b30f-e66f-413a-83c6-9fc39c366a77 won or was nominated to the National Film Regis...      1   \n",
       "fb63a3e6-6944-4b0c-8cd1-64513f81f0ea has the genre buddy film                                1   \n",
       "                                     won or was nominated to the Academy Award for B...      1   \n",
       "                                     won or was nominated to the Academy Award for B...      1   \n",
       "                                     won or was nominated to the National Film Regis...      2   \n",
       "\n",
       "                                                                                         time  \\\n",
       "ID                                   expl_prop                                                  \n",
       "0903e4d7-0117-43ac-9ba1-67a34ee4f584 has the screenwriter Andrew Stanton                    1   \n",
       "                                     won or was nominated to the Academy Award for B...     1   \n",
       "                                     won or was nominated to the Academy Award for B...     3   \n",
       "16497ee9-9f63-4ac3-8cba-ca821cd434cc has the director M. Night Shyamalan                    1   \n",
       "                                     won or was nominated to the Academy Award for B...     1   \n",
       "...                                                                                       ...   \n",
       "f8c3b30f-e66f-413a-83c6-9fc39c366a77 won or was nominated to the National Film Regis...     1   \n",
       "fb63a3e6-6944-4b0c-8cd1-64513f81f0ea has the genre buddy film                               1   \n",
       "                                     won or was nominated to the Academy Award for B...     1   \n",
       "                                     won or was nominated to the Academy Award for B...     1   \n",
       "                                     won or was nominated to the National Film Regis...     2   \n",
       "\n",
       "                                                                                         title  \\\n",
       "ID                                   expl_prop                                                   \n",
       "0903e4d7-0117-43ac-9ba1-67a34ee4f584 has the screenwriter Andrew Stanton                     1   \n",
       "                                     won or was nominated to the Academy Award for B...      1   \n",
       "                                     won or was nominated to the Academy Award for B...      3   \n",
       "16497ee9-9f63-4ac3-8cba-ca821cd434cc has the director M. Night Shyamalan                     1   \n",
       "                                     won or was nominated to the Academy Award for B...      1   \n",
       "...                                                                                        ...   \n",
       "f8c3b30f-e66f-413a-83c6-9fc39c366a77 won or was nominated to the National Film Regis...      1   \n",
       "fb63a3e6-6944-4b0c-8cd1-64513f81f0ea has the genre buddy film                                1   \n",
       "                                     won or was nominated to the Academy Award for B...      1   \n",
       "                                     won or was nominated to the Academy Award for B...      1   \n",
       "                                     won or was nominated to the National Film Regis...      2   \n",
       "\n",
       "                                                                                         pem_prop  \n",
       "ID                                   expl_prop                                                     \n",
       "0903e4d7-0117-43ac-9ba1-67a34ee4f584 has the screenwriter Andrew Stanton                        1  \n",
       "                                     won or was nominated to the Academy Award for B...         1  \n",
       "                                     won or was nominated to the Academy Award for B...         3  \n",
       "16497ee9-9f63-4ac3-8cba-ca821cd434cc has the director M. Night Shyamalan                        1  \n",
       "                                     won or was nominated to the Academy Award for B...         1  \n",
       "...                                                                                           ...  \n",
       "f8c3b30f-e66f-413a-83c6-9fc39c366a77 won or was nominated to the National Film Regis...         1  \n",
       "fb63a3e6-6944-4b0c-8cd1-64513f81f0ea has the genre buddy film                                   1  \n",
       "                                     won or was nominated to the Academy Award for B...         1  \n",
       "                                     won or was nominated to the Academy Award for B...         1  \n",
       "                                     won or was nominated to the National Film Regis...         2  \n",
       "\n",
       "[170 rows x 7 columns]"
      ]
     },
     "execution_count": 52,
     "metadata": {},
     "output_type": "execute_result"
    }
   ],
   "source": [
    "end_expl_count"
   ]
  },
  {
   "cell_type": "code",
   "execution_count": 53,
   "id": "3d8ecb31",
   "metadata": {},
   "outputs": [],
   "source": [
    "end_expl_count_final = end_expl_count.groupby('ID').count()"
   ]
  },
  {
   "cell_type": "code",
   "execution_count": 54,
   "id": "3ec10415",
   "metadata": {},
   "outputs": [
    {
     "data": {
      "application/vnd.microsoft.datawrangler.viewer.v0+json": {
       "columns": [
        {
         "name": "ID",
         "rawType": "object",
         "type": "string"
        },
        {
         "name": "movie_id",
         "rawType": "int64",
         "type": "integer"
        },
        {
         "name": "explod_expl",
         "rawType": "int64",
         "type": "integer"
        },
        {
         "name": "pem_expl",
         "rawType": "int64",
         "type": "integer"
        },
        {
         "name": "score",
         "rawType": "int64",
         "type": "integer"
        },
        {
         "name": "time",
         "rawType": "int64",
         "type": "integer"
        },
        {
         "name": "title",
         "rawType": "int64",
         "type": "integer"
        },
        {
         "name": "pem_prop",
         "rawType": "int64",
         "type": "integer"
        }
       ],
       "ref": "7b2e9a5a-e9ae-4010-97b4-2d09e01993b1",
       "rows": [
        [
         "0903e4d7-0117-43ac-9ba1-67a34ee4f584",
         "3",
         "3",
         "3",
         "3",
         "3",
         "3",
         "3"
        ],
        [
         "16497ee9-9f63-4ac3-8cba-ca821cd434cc",
         "4",
         "4",
         "4",
         "4",
         "4",
         "4",
         "4"
        ],
        [
         "1670be4a-56a4-401b-a64a-ea8490643f1d",
         "3",
         "3",
         "3",
         "3",
         "3",
         "3",
         "3"
        ],
        [
         "199a272e-eb22-4ae2-95fb-dd14c4fa208e",
         "2",
         "2",
         "2",
         "2",
         "2",
         "2",
         "2"
        ],
        [
         "1cdedd0e-ada1-4901-9443-b9fe73ee4eaf",
         "5",
         "5",
         "5",
         "5",
         "5",
         "5",
         "5"
        ],
        [
         "1cf52f56-d06f-4f56-9b6c-3894edeb795b",
         "4",
         "4",
         "4",
         "4",
         "4",
         "4",
         "4"
        ],
        [
         "26bbc9a9-86bb-4974-a1b5-6601b511ba4d",
         "4",
         "4",
         "4",
         "4",
         "4",
         "4",
         "4"
        ],
        [
         "2763ffe6-f1c6-4021-b053-e1323d9d0989",
         "2",
         "2",
         "2",
         "2",
         "2",
         "2",
         "2"
        ],
        [
         "277ace42-bf8e-4af7-82a2-f2a98ffdad95",
         "3",
         "3",
         "3",
         "3",
         "3",
         "3",
         "3"
        ],
        [
         "282ef334-b2de-4873-b8c0-e6e94b9777e2",
         "4",
         "4",
         "4",
         "4",
         "4",
         "4",
         "4"
        ],
        [
         "2d7fa883-3b29-4bd3-b592-54fc656a68bc",
         "3",
         "3",
         "3",
         "3",
         "3",
         "3",
         "3"
        ],
        [
         "2fff537b-f60f-4762-a300-e651a85c83e7",
         "3",
         "3",
         "3",
         "3",
         "3",
         "3",
         "3"
        ],
        [
         "330036ae-330c-4fff-b455-ff819ae8adec",
         "1",
         "1",
         "1",
         "1",
         "1",
         "1",
         "1"
        ],
        [
         "33db9956-4b5b-47ab-b3d1-6f76c42384f7",
         "2",
         "2",
         "2",
         "2",
         "2",
         "2",
         "2"
        ],
        [
         "37080dca-b8d4-432b-8577-ee2966dfa206",
         "3",
         "3",
         "3",
         "3",
         "3",
         "3",
         "3"
        ],
        [
         "3887e896-3fa0-477d-be09-af967ba31f91",
         "2",
         "2",
         "2",
         "2",
         "2",
         "2",
         "2"
        ],
        [
         "38cdc324-2d9a-42c4-b2f3-44448d149cc4",
         "1",
         "1",
         "1",
         "1",
         "1",
         "1",
         "1"
        ],
        [
         "3cdae0e0-3b22-46f3-a286-f502d2115f80",
         "3",
         "3",
         "3",
         "3",
         "3",
         "3",
         "3"
        ],
        [
         "4221f534-a566-4fe1-af3b-2e73067a521c",
         "4",
         "4",
         "4",
         "4",
         "4",
         "4",
         "4"
        ],
        [
         "42aab9b2-db24-421f-ace6-4564397942ae",
         "4",
         "4",
         "4",
         "4",
         "4",
         "4",
         "4"
        ],
        [
         "4d1107a0-b627-4a84-a05c-f80b4132fb32",
         "5",
         "5",
         "5",
         "5",
         "5",
         "5",
         "5"
        ],
        [
         "4d5557e0-f952-47ac-9592-ee5d08ea8ff1",
         "3",
         "3",
         "3",
         "3",
         "3",
         "3",
         "3"
        ],
        [
         "537542f2-31b4-4ab6-a6ef-25fed9d64258",
         "3",
         "3",
         "3",
         "3",
         "3",
         "3",
         "3"
        ],
        [
         "5efdbde1-5292-492b-b951-b97cb2c150f6",
         "3",
         "3",
         "3",
         "3",
         "3",
         "3",
         "3"
        ],
        [
         "6ac132c1-3b8a-4a65-bdcb-8a509c051b5e",
         "3",
         "3",
         "3",
         "3",
         "3",
         "3",
         "3"
        ],
        [
         "73154f98-a5ae-4b38-9202-e688a0a86e28",
         "4",
         "4",
         "4",
         "4",
         "4",
         "4",
         "4"
        ],
        [
         "751c5e42-c91a-4d97-994b-54c021c0accb",
         "3",
         "3",
         "3",
         "3",
         "3",
         "3",
         "3"
        ],
        [
         "7d6d6774-c7b1-49c4-b4e4-c62bfd4588d1",
         "3",
         "3",
         "3",
         "3",
         "3",
         "3",
         "3"
        ],
        [
         "8865717f-1ee0-4efb-a09b-e1173e28cf04",
         "4",
         "4",
         "4",
         "4",
         "4",
         "4",
         "4"
        ],
        [
         "88bc749c-07dd-4c54-86dd-ba0ff6805bea",
         "2",
         "2",
         "2",
         "2",
         "2",
         "2",
         "2"
        ],
        [
         "8e5115a8-aee4-403a-a33a-81a9dc677d0c",
         "4",
         "4",
         "4",
         "4",
         "4",
         "4",
         "4"
        ],
        [
         "912f4714-a42b-4b58-ab9d-5fc5f1ab7a99",
         "2",
         "2",
         "2",
         "2",
         "2",
         "2",
         "2"
        ],
        [
         "94cb0ad6-df69-4c3a-9df6-0d737a7c8add",
         "4",
         "4",
         "4",
         "4",
         "4",
         "4",
         "4"
        ],
        [
         "99a9b0db-5c2f-474a-b623-73b252e9ca1f",
         "4",
         "4",
         "4",
         "4",
         "4",
         "4",
         "4"
        ],
        [
         "9c0919a4-762f-44b8-9c74-fbab1bb4e609",
         "3",
         "3",
         "3",
         "3",
         "3",
         "3",
         "3"
        ],
        [
         "9c577360-04b1-483a-a984-a02a2a2c4689",
         "5",
         "5",
         "5",
         "5",
         "5",
         "5",
         "5"
        ],
        [
         "9f2a10e2-edf4-4443-9d3c-531d9030edb7",
         "2",
         "2",
         "2",
         "2",
         "2",
         "2",
         "2"
        ],
        [
         "9f65a904-8847-4f78-ac85-ac54c14fd138",
         "2",
         "2",
         "2",
         "2",
         "2",
         "2",
         "2"
        ],
        [
         "b433b19b-b184-4bfa-ba9c-90c6329313ac",
         "2",
         "2",
         "2",
         "2",
         "2",
         "2",
         "2"
        ],
        [
         "b4d1204b-42cf-4a56-b0f7-6813795a2923",
         "4",
         "4",
         "4",
         "4",
         "4",
         "4",
         "4"
        ],
        [
         "b7d90b39-7606-47bf-8552-d8670e7e015a",
         "3",
         "3",
         "3",
         "3",
         "3",
         "3",
         "3"
        ],
        [
         "bc9cb0c4-fd45-47d8-a975-5333691e2f9f",
         "4",
         "4",
         "4",
         "4",
         "4",
         "4",
         "4"
        ],
        [
         "c6b8f3a6-e89d-40c7-9d65-e58bd693d299",
         "2",
         "2",
         "2",
         "2",
         "2",
         "2",
         "2"
        ],
        [
         "ce768b16-47b8-4ab1-b423-5e465434e5a5",
         "3",
         "3",
         "3",
         "3",
         "3",
         "3",
         "3"
        ],
        [
         "d119bb66-0100-4517-8d68-0eb4a95b5a60",
         "2",
         "2",
         "2",
         "2",
         "2",
         "2",
         "2"
        ],
        [
         "d37720ea-fab8-4302-8674-808017d7bf1e",
         "4",
         "4",
         "4",
         "4",
         "4",
         "4",
         "4"
        ],
        [
         "dc9db4df-d42a-42cd-879a-e678a69ed5c7",
         "4",
         "4",
         "4",
         "4",
         "4",
         "4",
         "4"
        ],
        [
         "e22a42d5-fd97-4040-b6ef-292b90521125",
         "3",
         "3",
         "3",
         "3",
         "3",
         "3",
         "3"
        ],
        [
         "e77947ce-1a03-4c88-a3b0-85067b7f6fcc",
         "3",
         "3",
         "3",
         "3",
         "3",
         "3",
         "3"
        ],
        [
         "ee8986ab-7ee0-4349-b578-710a33058958",
         "2",
         "2",
         "2",
         "2",
         "2",
         "2",
         "2"
        ]
       ],
       "shape": {
        "columns": 7,
        "rows": 55
       }
      },
      "text/html": [
       "<div>\n",
       "<style scoped>\n",
       "    .dataframe tbody tr th:only-of-type {\n",
       "        vertical-align: middle;\n",
       "    }\n",
       "\n",
       "    .dataframe tbody tr th {\n",
       "        vertical-align: top;\n",
       "    }\n",
       "\n",
       "    .dataframe thead th {\n",
       "        text-align: right;\n",
       "    }\n",
       "</style>\n",
       "<table border=\"1\" class=\"dataframe\">\n",
       "  <thead>\n",
       "    <tr style=\"text-align: right;\">\n",
       "      <th></th>\n",
       "      <th>movie_id</th>\n",
       "      <th>explod_expl</th>\n",
       "      <th>pem_expl</th>\n",
       "      <th>score</th>\n",
       "      <th>time</th>\n",
       "      <th>title</th>\n",
       "      <th>pem_prop</th>\n",
       "    </tr>\n",
       "    <tr>\n",
       "      <th>ID</th>\n",
       "      <th></th>\n",
       "      <th></th>\n",
       "      <th></th>\n",
       "      <th></th>\n",
       "      <th></th>\n",
       "      <th></th>\n",
       "      <th></th>\n",
       "    </tr>\n",
       "  </thead>\n",
       "  <tbody>\n",
       "    <tr>\n",
       "      <th>0903e4d7-0117-43ac-9ba1-67a34ee4f584</th>\n",
       "      <td>3</td>\n",
       "      <td>3</td>\n",
       "      <td>3</td>\n",
       "      <td>3</td>\n",
       "      <td>3</td>\n",
       "      <td>3</td>\n",
       "      <td>3</td>\n",
       "    </tr>\n",
       "    <tr>\n",
       "      <th>16497ee9-9f63-4ac3-8cba-ca821cd434cc</th>\n",
       "      <td>4</td>\n",
       "      <td>4</td>\n",
       "      <td>4</td>\n",
       "      <td>4</td>\n",
       "      <td>4</td>\n",
       "      <td>4</td>\n",
       "      <td>4</td>\n",
       "    </tr>\n",
       "    <tr>\n",
       "      <th>1670be4a-56a4-401b-a64a-ea8490643f1d</th>\n",
       "      <td>3</td>\n",
       "      <td>3</td>\n",
       "      <td>3</td>\n",
       "      <td>3</td>\n",
       "      <td>3</td>\n",
       "      <td>3</td>\n",
       "      <td>3</td>\n",
       "    </tr>\n",
       "    <tr>\n",
       "      <th>199a272e-eb22-4ae2-95fb-dd14c4fa208e</th>\n",
       "      <td>2</td>\n",
       "      <td>2</td>\n",
       "      <td>2</td>\n",
       "      <td>2</td>\n",
       "      <td>2</td>\n",
       "      <td>2</td>\n",
       "      <td>2</td>\n",
       "    </tr>\n",
       "    <tr>\n",
       "      <th>1cdedd0e-ada1-4901-9443-b9fe73ee4eaf</th>\n",
       "      <td>5</td>\n",
       "      <td>5</td>\n",
       "      <td>5</td>\n",
       "      <td>5</td>\n",
       "      <td>5</td>\n",
       "      <td>5</td>\n",
       "      <td>5</td>\n",
       "    </tr>\n",
       "    <tr>\n",
       "      <th>1cf52f56-d06f-4f56-9b6c-3894edeb795b</th>\n",
       "      <td>4</td>\n",
       "      <td>4</td>\n",
       "      <td>4</td>\n",
       "      <td>4</td>\n",
       "      <td>4</td>\n",
       "      <td>4</td>\n",
       "      <td>4</td>\n",
       "    </tr>\n",
       "    <tr>\n",
       "      <th>26bbc9a9-86bb-4974-a1b5-6601b511ba4d</th>\n",
       "      <td>4</td>\n",
       "      <td>4</td>\n",
       "      <td>4</td>\n",
       "      <td>4</td>\n",
       "      <td>4</td>\n",
       "      <td>4</td>\n",
       "      <td>4</td>\n",
       "    </tr>\n",
       "    <tr>\n",
       "      <th>2763ffe6-f1c6-4021-b053-e1323d9d0989</th>\n",
       "      <td>2</td>\n",
       "      <td>2</td>\n",
       "      <td>2</td>\n",
       "      <td>2</td>\n",
       "      <td>2</td>\n",
       "      <td>2</td>\n",
       "      <td>2</td>\n",
       "    </tr>\n",
       "    <tr>\n",
       "      <th>277ace42-bf8e-4af7-82a2-f2a98ffdad95</th>\n",
       "      <td>3</td>\n",
       "      <td>3</td>\n",
       "      <td>3</td>\n",
       "      <td>3</td>\n",
       "      <td>3</td>\n",
       "      <td>3</td>\n",
       "      <td>3</td>\n",
       "    </tr>\n",
       "    <tr>\n",
       "      <th>282ef334-b2de-4873-b8c0-e6e94b9777e2</th>\n",
       "      <td>4</td>\n",
       "      <td>4</td>\n",
       "      <td>4</td>\n",
       "      <td>4</td>\n",
       "      <td>4</td>\n",
       "      <td>4</td>\n",
       "      <td>4</td>\n",
       "    </tr>\n",
       "    <tr>\n",
       "      <th>2d7fa883-3b29-4bd3-b592-54fc656a68bc</th>\n",
       "      <td>3</td>\n",
       "      <td>3</td>\n",
       "      <td>3</td>\n",
       "      <td>3</td>\n",
       "      <td>3</td>\n",
       "      <td>3</td>\n",
       "      <td>3</td>\n",
       "    </tr>\n",
       "    <tr>\n",
       "      <th>2fff537b-f60f-4762-a300-e651a85c83e7</th>\n",
       "      <td>3</td>\n",
       "      <td>3</td>\n",
       "      <td>3</td>\n",
       "      <td>3</td>\n",
       "      <td>3</td>\n",
       "      <td>3</td>\n",
       "      <td>3</td>\n",
       "    </tr>\n",
       "    <tr>\n",
       "      <th>330036ae-330c-4fff-b455-ff819ae8adec</th>\n",
       "      <td>1</td>\n",
       "      <td>1</td>\n",
       "      <td>1</td>\n",
       "      <td>1</td>\n",
       "      <td>1</td>\n",
       "      <td>1</td>\n",
       "      <td>1</td>\n",
       "    </tr>\n",
       "    <tr>\n",
       "      <th>33db9956-4b5b-47ab-b3d1-6f76c42384f7</th>\n",
       "      <td>2</td>\n",
       "      <td>2</td>\n",
       "      <td>2</td>\n",
       "      <td>2</td>\n",
       "      <td>2</td>\n",
       "      <td>2</td>\n",
       "      <td>2</td>\n",
       "    </tr>\n",
       "    <tr>\n",
       "      <th>37080dca-b8d4-432b-8577-ee2966dfa206</th>\n",
       "      <td>3</td>\n",
       "      <td>3</td>\n",
       "      <td>3</td>\n",
       "      <td>3</td>\n",
       "      <td>3</td>\n",
       "      <td>3</td>\n",
       "      <td>3</td>\n",
       "    </tr>\n",
       "    <tr>\n",
       "      <th>3887e896-3fa0-477d-be09-af967ba31f91</th>\n",
       "      <td>2</td>\n",
       "      <td>2</td>\n",
       "      <td>2</td>\n",
       "      <td>2</td>\n",
       "      <td>2</td>\n",
       "      <td>2</td>\n",
       "      <td>2</td>\n",
       "    </tr>\n",
       "    <tr>\n",
       "      <th>38cdc324-2d9a-42c4-b2f3-44448d149cc4</th>\n",
       "      <td>1</td>\n",
       "      <td>1</td>\n",
       "      <td>1</td>\n",
       "      <td>1</td>\n",
       "      <td>1</td>\n",
       "      <td>1</td>\n",
       "      <td>1</td>\n",
       "    </tr>\n",
       "    <tr>\n",
       "      <th>3cdae0e0-3b22-46f3-a286-f502d2115f80</th>\n",
       "      <td>3</td>\n",
       "      <td>3</td>\n",
       "      <td>3</td>\n",
       "      <td>3</td>\n",
       "      <td>3</td>\n",
       "      <td>3</td>\n",
       "      <td>3</td>\n",
       "    </tr>\n",
       "    <tr>\n",
       "      <th>4221f534-a566-4fe1-af3b-2e73067a521c</th>\n",
       "      <td>4</td>\n",
       "      <td>4</td>\n",
       "      <td>4</td>\n",
       "      <td>4</td>\n",
       "      <td>4</td>\n",
       "      <td>4</td>\n",
       "      <td>4</td>\n",
       "    </tr>\n",
       "    <tr>\n",
       "      <th>42aab9b2-db24-421f-ace6-4564397942ae</th>\n",
       "      <td>4</td>\n",
       "      <td>4</td>\n",
       "      <td>4</td>\n",
       "      <td>4</td>\n",
       "      <td>4</td>\n",
       "      <td>4</td>\n",
       "      <td>4</td>\n",
       "    </tr>\n",
       "    <tr>\n",
       "      <th>4d1107a0-b627-4a84-a05c-f80b4132fb32</th>\n",
       "      <td>5</td>\n",
       "      <td>5</td>\n",
       "      <td>5</td>\n",
       "      <td>5</td>\n",
       "      <td>5</td>\n",
       "      <td>5</td>\n",
       "      <td>5</td>\n",
       "    </tr>\n",
       "    <tr>\n",
       "      <th>4d5557e0-f952-47ac-9592-ee5d08ea8ff1</th>\n",
       "      <td>3</td>\n",
       "      <td>3</td>\n",
       "      <td>3</td>\n",
       "      <td>3</td>\n",
       "      <td>3</td>\n",
       "      <td>3</td>\n",
       "      <td>3</td>\n",
       "    </tr>\n",
       "    <tr>\n",
       "      <th>537542f2-31b4-4ab6-a6ef-25fed9d64258</th>\n",
       "      <td>3</td>\n",
       "      <td>3</td>\n",
       "      <td>3</td>\n",
       "      <td>3</td>\n",
       "      <td>3</td>\n",
       "      <td>3</td>\n",
       "      <td>3</td>\n",
       "    </tr>\n",
       "    <tr>\n",
       "      <th>5efdbde1-5292-492b-b951-b97cb2c150f6</th>\n",
       "      <td>3</td>\n",
       "      <td>3</td>\n",
       "      <td>3</td>\n",
       "      <td>3</td>\n",
       "      <td>3</td>\n",
       "      <td>3</td>\n",
       "      <td>3</td>\n",
       "    </tr>\n",
       "    <tr>\n",
       "      <th>6ac132c1-3b8a-4a65-bdcb-8a509c051b5e</th>\n",
       "      <td>3</td>\n",
       "      <td>3</td>\n",
       "      <td>3</td>\n",
       "      <td>3</td>\n",
       "      <td>3</td>\n",
       "      <td>3</td>\n",
       "      <td>3</td>\n",
       "    </tr>\n",
       "    <tr>\n",
       "      <th>73154f98-a5ae-4b38-9202-e688a0a86e28</th>\n",
       "      <td>4</td>\n",
       "      <td>4</td>\n",
       "      <td>4</td>\n",
       "      <td>4</td>\n",
       "      <td>4</td>\n",
       "      <td>4</td>\n",
       "      <td>4</td>\n",
       "    </tr>\n",
       "    <tr>\n",
       "      <th>751c5e42-c91a-4d97-994b-54c021c0accb</th>\n",
       "      <td>3</td>\n",
       "      <td>3</td>\n",
       "      <td>3</td>\n",
       "      <td>3</td>\n",
       "      <td>3</td>\n",
       "      <td>3</td>\n",
       "      <td>3</td>\n",
       "    </tr>\n",
       "    <tr>\n",
       "      <th>7d6d6774-c7b1-49c4-b4e4-c62bfd4588d1</th>\n",
       "      <td>3</td>\n",
       "      <td>3</td>\n",
       "      <td>3</td>\n",
       "      <td>3</td>\n",
       "      <td>3</td>\n",
       "      <td>3</td>\n",
       "      <td>3</td>\n",
       "    </tr>\n",
       "    <tr>\n",
       "      <th>8865717f-1ee0-4efb-a09b-e1173e28cf04</th>\n",
       "      <td>4</td>\n",
       "      <td>4</td>\n",
       "      <td>4</td>\n",
       "      <td>4</td>\n",
       "      <td>4</td>\n",
       "      <td>4</td>\n",
       "      <td>4</td>\n",
       "    </tr>\n",
       "    <tr>\n",
       "      <th>88bc749c-07dd-4c54-86dd-ba0ff6805bea</th>\n",
       "      <td>2</td>\n",
       "      <td>2</td>\n",
       "      <td>2</td>\n",
       "      <td>2</td>\n",
       "      <td>2</td>\n",
       "      <td>2</td>\n",
       "      <td>2</td>\n",
       "    </tr>\n",
       "    <tr>\n",
       "      <th>8e5115a8-aee4-403a-a33a-81a9dc677d0c</th>\n",
       "      <td>4</td>\n",
       "      <td>4</td>\n",
       "      <td>4</td>\n",
       "      <td>4</td>\n",
       "      <td>4</td>\n",
       "      <td>4</td>\n",
       "      <td>4</td>\n",
       "    </tr>\n",
       "    <tr>\n",
       "      <th>912f4714-a42b-4b58-ab9d-5fc5f1ab7a99</th>\n",
       "      <td>2</td>\n",
       "      <td>2</td>\n",
       "      <td>2</td>\n",
       "      <td>2</td>\n",
       "      <td>2</td>\n",
       "      <td>2</td>\n",
       "      <td>2</td>\n",
       "    </tr>\n",
       "    <tr>\n",
       "      <th>94cb0ad6-df69-4c3a-9df6-0d737a7c8add</th>\n",
       "      <td>4</td>\n",
       "      <td>4</td>\n",
       "      <td>4</td>\n",
       "      <td>4</td>\n",
       "      <td>4</td>\n",
       "      <td>4</td>\n",
       "      <td>4</td>\n",
       "    </tr>\n",
       "    <tr>\n",
       "      <th>99a9b0db-5c2f-474a-b623-73b252e9ca1f</th>\n",
       "      <td>4</td>\n",
       "      <td>4</td>\n",
       "      <td>4</td>\n",
       "      <td>4</td>\n",
       "      <td>4</td>\n",
       "      <td>4</td>\n",
       "      <td>4</td>\n",
       "    </tr>\n",
       "    <tr>\n",
       "      <th>9c0919a4-762f-44b8-9c74-fbab1bb4e609</th>\n",
       "      <td>3</td>\n",
       "      <td>3</td>\n",
       "      <td>3</td>\n",
       "      <td>3</td>\n",
       "      <td>3</td>\n",
       "      <td>3</td>\n",
       "      <td>3</td>\n",
       "    </tr>\n",
       "    <tr>\n",
       "      <th>9c577360-04b1-483a-a984-a02a2a2c4689</th>\n",
       "      <td>5</td>\n",
       "      <td>5</td>\n",
       "      <td>5</td>\n",
       "      <td>5</td>\n",
       "      <td>5</td>\n",
       "      <td>5</td>\n",
       "      <td>5</td>\n",
       "    </tr>\n",
       "    <tr>\n",
       "      <th>9f2a10e2-edf4-4443-9d3c-531d9030edb7</th>\n",
       "      <td>2</td>\n",
       "      <td>2</td>\n",
       "      <td>2</td>\n",
       "      <td>2</td>\n",
       "      <td>2</td>\n",
       "      <td>2</td>\n",
       "      <td>2</td>\n",
       "    </tr>\n",
       "    <tr>\n",
       "      <th>9f65a904-8847-4f78-ac85-ac54c14fd138</th>\n",
       "      <td>2</td>\n",
       "      <td>2</td>\n",
       "      <td>2</td>\n",
       "      <td>2</td>\n",
       "      <td>2</td>\n",
       "      <td>2</td>\n",
       "      <td>2</td>\n",
       "    </tr>\n",
       "    <tr>\n",
       "      <th>b433b19b-b184-4bfa-ba9c-90c6329313ac</th>\n",
       "      <td>2</td>\n",
       "      <td>2</td>\n",
       "      <td>2</td>\n",
       "      <td>2</td>\n",
       "      <td>2</td>\n",
       "      <td>2</td>\n",
       "      <td>2</td>\n",
       "    </tr>\n",
       "    <tr>\n",
       "      <th>b4d1204b-42cf-4a56-b0f7-6813795a2923</th>\n",
       "      <td>4</td>\n",
       "      <td>4</td>\n",
       "      <td>4</td>\n",
       "      <td>4</td>\n",
       "      <td>4</td>\n",
       "      <td>4</td>\n",
       "      <td>4</td>\n",
       "    </tr>\n",
       "    <tr>\n",
       "      <th>b7d90b39-7606-47bf-8552-d8670e7e015a</th>\n",
       "      <td>3</td>\n",
       "      <td>3</td>\n",
       "      <td>3</td>\n",
       "      <td>3</td>\n",
       "      <td>3</td>\n",
       "      <td>3</td>\n",
       "      <td>3</td>\n",
       "    </tr>\n",
       "    <tr>\n",
       "      <th>bc9cb0c4-fd45-47d8-a975-5333691e2f9f</th>\n",
       "      <td>4</td>\n",
       "      <td>4</td>\n",
       "      <td>4</td>\n",
       "      <td>4</td>\n",
       "      <td>4</td>\n",
       "      <td>4</td>\n",
       "      <td>4</td>\n",
       "    </tr>\n",
       "    <tr>\n",
       "      <th>c6b8f3a6-e89d-40c7-9d65-e58bd693d299</th>\n",
       "      <td>2</td>\n",
       "      <td>2</td>\n",
       "      <td>2</td>\n",
       "      <td>2</td>\n",
       "      <td>2</td>\n",
       "      <td>2</td>\n",
       "      <td>2</td>\n",
       "    </tr>\n",
       "    <tr>\n",
       "      <th>ce768b16-47b8-4ab1-b423-5e465434e5a5</th>\n",
       "      <td>3</td>\n",
       "      <td>3</td>\n",
       "      <td>3</td>\n",
       "      <td>3</td>\n",
       "      <td>3</td>\n",
       "      <td>3</td>\n",
       "      <td>3</td>\n",
       "    </tr>\n",
       "    <tr>\n",
       "      <th>d119bb66-0100-4517-8d68-0eb4a95b5a60</th>\n",
       "      <td>2</td>\n",
       "      <td>2</td>\n",
       "      <td>2</td>\n",
       "      <td>2</td>\n",
       "      <td>2</td>\n",
       "      <td>2</td>\n",
       "      <td>2</td>\n",
       "    </tr>\n",
       "    <tr>\n",
       "      <th>d37720ea-fab8-4302-8674-808017d7bf1e</th>\n",
       "      <td>4</td>\n",
       "      <td>4</td>\n",
       "      <td>4</td>\n",
       "      <td>4</td>\n",
       "      <td>4</td>\n",
       "      <td>4</td>\n",
       "      <td>4</td>\n",
       "    </tr>\n",
       "    <tr>\n",
       "      <th>dc9db4df-d42a-42cd-879a-e678a69ed5c7</th>\n",
       "      <td>4</td>\n",
       "      <td>4</td>\n",
       "      <td>4</td>\n",
       "      <td>4</td>\n",
       "      <td>4</td>\n",
       "      <td>4</td>\n",
       "      <td>4</td>\n",
       "    </tr>\n",
       "    <tr>\n",
       "      <th>e22a42d5-fd97-4040-b6ef-292b90521125</th>\n",
       "      <td>3</td>\n",
       "      <td>3</td>\n",
       "      <td>3</td>\n",
       "      <td>3</td>\n",
       "      <td>3</td>\n",
       "      <td>3</td>\n",
       "      <td>3</td>\n",
       "    </tr>\n",
       "    <tr>\n",
       "      <th>e77947ce-1a03-4c88-a3b0-85067b7f6fcc</th>\n",
       "      <td>3</td>\n",
       "      <td>3</td>\n",
       "      <td>3</td>\n",
       "      <td>3</td>\n",
       "      <td>3</td>\n",
       "      <td>3</td>\n",
       "      <td>3</td>\n",
       "    </tr>\n",
       "    <tr>\n",
       "      <th>ee8986ab-7ee0-4349-b578-710a33058958</th>\n",
       "      <td>2</td>\n",
       "      <td>2</td>\n",
       "      <td>2</td>\n",
       "      <td>2</td>\n",
       "      <td>2</td>\n",
       "      <td>2</td>\n",
       "      <td>2</td>\n",
       "    </tr>\n",
       "    <tr>\n",
       "      <th>eedfb2b0-6fa8-434b-90d8-43f9db8f0b5f</th>\n",
       "      <td>2</td>\n",
       "      <td>2</td>\n",
       "      <td>2</td>\n",
       "      <td>2</td>\n",
       "      <td>2</td>\n",
       "      <td>2</td>\n",
       "      <td>2</td>\n",
       "    </tr>\n",
       "    <tr>\n",
       "      <th>efc098b3-f010-4de5-8770-6e7381874f5b</th>\n",
       "      <td>3</td>\n",
       "      <td>3</td>\n",
       "      <td>3</td>\n",
       "      <td>3</td>\n",
       "      <td>3</td>\n",
       "      <td>3</td>\n",
       "      <td>3</td>\n",
       "    </tr>\n",
       "    <tr>\n",
       "      <th>f3e38d6e-4c4e-4007-b66b-79db1dad2716</th>\n",
       "      <td>3</td>\n",
       "      <td>3</td>\n",
       "      <td>3</td>\n",
       "      <td>3</td>\n",
       "      <td>3</td>\n",
       "      <td>3</td>\n",
       "      <td>3</td>\n",
       "    </tr>\n",
       "    <tr>\n",
       "      <th>f8c3b30f-e66f-413a-83c6-9fc39c366a77</th>\n",
       "      <td>3</td>\n",
       "      <td>3</td>\n",
       "      <td>3</td>\n",
       "      <td>3</td>\n",
       "      <td>3</td>\n",
       "      <td>3</td>\n",
       "      <td>3</td>\n",
       "    </tr>\n",
       "    <tr>\n",
       "      <th>fb63a3e6-6944-4b0c-8cd1-64513f81f0ea</th>\n",
       "      <td>4</td>\n",
       "      <td>4</td>\n",
       "      <td>4</td>\n",
       "      <td>4</td>\n",
       "      <td>4</td>\n",
       "      <td>4</td>\n",
       "      <td>4</td>\n",
       "    </tr>\n",
       "  </tbody>\n",
       "</table>\n",
       "</div>"
      ],
      "text/plain": [
       "                                      movie_id  explod_expl  pem_expl  score  \\\n",
       "ID                                                                             \n",
       "0903e4d7-0117-43ac-9ba1-67a34ee4f584         3            3         3      3   \n",
       "16497ee9-9f63-4ac3-8cba-ca821cd434cc         4            4         4      4   \n",
       "1670be4a-56a4-401b-a64a-ea8490643f1d         3            3         3      3   \n",
       "199a272e-eb22-4ae2-95fb-dd14c4fa208e         2            2         2      2   \n",
       "1cdedd0e-ada1-4901-9443-b9fe73ee4eaf         5            5         5      5   \n",
       "1cf52f56-d06f-4f56-9b6c-3894edeb795b         4            4         4      4   \n",
       "26bbc9a9-86bb-4974-a1b5-6601b511ba4d         4            4         4      4   \n",
       "2763ffe6-f1c6-4021-b053-e1323d9d0989         2            2         2      2   \n",
       "277ace42-bf8e-4af7-82a2-f2a98ffdad95         3            3         3      3   \n",
       "282ef334-b2de-4873-b8c0-e6e94b9777e2         4            4         4      4   \n",
       "2d7fa883-3b29-4bd3-b592-54fc656a68bc         3            3         3      3   \n",
       "2fff537b-f60f-4762-a300-e651a85c83e7         3            3         3      3   \n",
       "330036ae-330c-4fff-b455-ff819ae8adec         1            1         1      1   \n",
       "33db9956-4b5b-47ab-b3d1-6f76c42384f7         2            2         2      2   \n",
       "37080dca-b8d4-432b-8577-ee2966dfa206         3            3         3      3   \n",
       "3887e896-3fa0-477d-be09-af967ba31f91         2            2         2      2   \n",
       "38cdc324-2d9a-42c4-b2f3-44448d149cc4         1            1         1      1   \n",
       "3cdae0e0-3b22-46f3-a286-f502d2115f80         3            3         3      3   \n",
       "4221f534-a566-4fe1-af3b-2e73067a521c         4            4         4      4   \n",
       "42aab9b2-db24-421f-ace6-4564397942ae         4            4         4      4   \n",
       "4d1107a0-b627-4a84-a05c-f80b4132fb32         5            5         5      5   \n",
       "4d5557e0-f952-47ac-9592-ee5d08ea8ff1         3            3         3      3   \n",
       "537542f2-31b4-4ab6-a6ef-25fed9d64258         3            3         3      3   \n",
       "5efdbde1-5292-492b-b951-b97cb2c150f6         3            3         3      3   \n",
       "6ac132c1-3b8a-4a65-bdcb-8a509c051b5e         3            3         3      3   \n",
       "73154f98-a5ae-4b38-9202-e688a0a86e28         4            4         4      4   \n",
       "751c5e42-c91a-4d97-994b-54c021c0accb         3            3         3      3   \n",
       "7d6d6774-c7b1-49c4-b4e4-c62bfd4588d1         3            3         3      3   \n",
       "8865717f-1ee0-4efb-a09b-e1173e28cf04         4            4         4      4   \n",
       "88bc749c-07dd-4c54-86dd-ba0ff6805bea         2            2         2      2   \n",
       "8e5115a8-aee4-403a-a33a-81a9dc677d0c         4            4         4      4   \n",
       "912f4714-a42b-4b58-ab9d-5fc5f1ab7a99         2            2         2      2   \n",
       "94cb0ad6-df69-4c3a-9df6-0d737a7c8add         4            4         4      4   \n",
       "99a9b0db-5c2f-474a-b623-73b252e9ca1f         4            4         4      4   \n",
       "9c0919a4-762f-44b8-9c74-fbab1bb4e609         3            3         3      3   \n",
       "9c577360-04b1-483a-a984-a02a2a2c4689         5            5         5      5   \n",
       "9f2a10e2-edf4-4443-9d3c-531d9030edb7         2            2         2      2   \n",
       "9f65a904-8847-4f78-ac85-ac54c14fd138         2            2         2      2   \n",
       "b433b19b-b184-4bfa-ba9c-90c6329313ac         2            2         2      2   \n",
       "b4d1204b-42cf-4a56-b0f7-6813795a2923         4            4         4      4   \n",
       "b7d90b39-7606-47bf-8552-d8670e7e015a         3            3         3      3   \n",
       "bc9cb0c4-fd45-47d8-a975-5333691e2f9f         4            4         4      4   \n",
       "c6b8f3a6-e89d-40c7-9d65-e58bd693d299         2            2         2      2   \n",
       "ce768b16-47b8-4ab1-b423-5e465434e5a5         3            3         3      3   \n",
       "d119bb66-0100-4517-8d68-0eb4a95b5a60         2            2         2      2   \n",
       "d37720ea-fab8-4302-8674-808017d7bf1e         4            4         4      4   \n",
       "dc9db4df-d42a-42cd-879a-e678a69ed5c7         4            4         4      4   \n",
       "e22a42d5-fd97-4040-b6ef-292b90521125         3            3         3      3   \n",
       "e77947ce-1a03-4c88-a3b0-85067b7f6fcc         3            3         3      3   \n",
       "ee8986ab-7ee0-4349-b578-710a33058958         2            2         2      2   \n",
       "eedfb2b0-6fa8-434b-90d8-43f9db8f0b5f         2            2         2      2   \n",
       "efc098b3-f010-4de5-8770-6e7381874f5b         3            3         3      3   \n",
       "f3e38d6e-4c4e-4007-b66b-79db1dad2716         3            3         3      3   \n",
       "f8c3b30f-e66f-413a-83c6-9fc39c366a77         3            3         3      3   \n",
       "fb63a3e6-6944-4b0c-8cd1-64513f81f0ea         4            4         4      4   \n",
       "\n",
       "                                      time  title  pem_prop  \n",
       "ID                                                           \n",
       "0903e4d7-0117-43ac-9ba1-67a34ee4f584     3      3         3  \n",
       "16497ee9-9f63-4ac3-8cba-ca821cd434cc     4      4         4  \n",
       "1670be4a-56a4-401b-a64a-ea8490643f1d     3      3         3  \n",
       "199a272e-eb22-4ae2-95fb-dd14c4fa208e     2      2         2  \n",
       "1cdedd0e-ada1-4901-9443-b9fe73ee4eaf     5      5         5  \n",
       "1cf52f56-d06f-4f56-9b6c-3894edeb795b     4      4         4  \n",
       "26bbc9a9-86bb-4974-a1b5-6601b511ba4d     4      4         4  \n",
       "2763ffe6-f1c6-4021-b053-e1323d9d0989     2      2         2  \n",
       "277ace42-bf8e-4af7-82a2-f2a98ffdad95     3      3         3  \n",
       "282ef334-b2de-4873-b8c0-e6e94b9777e2     4      4         4  \n",
       "2d7fa883-3b29-4bd3-b592-54fc656a68bc     3      3         3  \n",
       "2fff537b-f60f-4762-a300-e651a85c83e7     3      3         3  \n",
       "330036ae-330c-4fff-b455-ff819ae8adec     1      1         1  \n",
       "33db9956-4b5b-47ab-b3d1-6f76c42384f7     2      2         2  \n",
       "37080dca-b8d4-432b-8577-ee2966dfa206     3      3         3  \n",
       "3887e896-3fa0-477d-be09-af967ba31f91     2      2         2  \n",
       "38cdc324-2d9a-42c4-b2f3-44448d149cc4     1      1         1  \n",
       "3cdae0e0-3b22-46f3-a286-f502d2115f80     3      3         3  \n",
       "4221f534-a566-4fe1-af3b-2e73067a521c     4      4         4  \n",
       "42aab9b2-db24-421f-ace6-4564397942ae     4      4         4  \n",
       "4d1107a0-b627-4a84-a05c-f80b4132fb32     5      5         5  \n",
       "4d5557e0-f952-47ac-9592-ee5d08ea8ff1     3      3         3  \n",
       "537542f2-31b4-4ab6-a6ef-25fed9d64258     3      3         3  \n",
       "5efdbde1-5292-492b-b951-b97cb2c150f6     3      3         3  \n",
       "6ac132c1-3b8a-4a65-bdcb-8a509c051b5e     3      3         3  \n",
       "73154f98-a5ae-4b38-9202-e688a0a86e28     4      4         4  \n",
       "751c5e42-c91a-4d97-994b-54c021c0accb     3      3         3  \n",
       "7d6d6774-c7b1-49c4-b4e4-c62bfd4588d1     3      3         3  \n",
       "8865717f-1ee0-4efb-a09b-e1173e28cf04     4      4         4  \n",
       "88bc749c-07dd-4c54-86dd-ba0ff6805bea     2      2         2  \n",
       "8e5115a8-aee4-403a-a33a-81a9dc677d0c     4      4         4  \n",
       "912f4714-a42b-4b58-ab9d-5fc5f1ab7a99     2      2         2  \n",
       "94cb0ad6-df69-4c3a-9df6-0d737a7c8add     4      4         4  \n",
       "99a9b0db-5c2f-474a-b623-73b252e9ca1f     4      4         4  \n",
       "9c0919a4-762f-44b8-9c74-fbab1bb4e609     3      3         3  \n",
       "9c577360-04b1-483a-a984-a02a2a2c4689     5      5         5  \n",
       "9f2a10e2-edf4-4443-9d3c-531d9030edb7     2      2         2  \n",
       "9f65a904-8847-4f78-ac85-ac54c14fd138     2      2         2  \n",
       "b433b19b-b184-4bfa-ba9c-90c6329313ac     2      2         2  \n",
       "b4d1204b-42cf-4a56-b0f7-6813795a2923     4      4         4  \n",
       "b7d90b39-7606-47bf-8552-d8670e7e015a     3      3         3  \n",
       "bc9cb0c4-fd45-47d8-a975-5333691e2f9f     4      4         4  \n",
       "c6b8f3a6-e89d-40c7-9d65-e58bd693d299     2      2         2  \n",
       "ce768b16-47b8-4ab1-b423-5e465434e5a5     3      3         3  \n",
       "d119bb66-0100-4517-8d68-0eb4a95b5a60     2      2         2  \n",
       "d37720ea-fab8-4302-8674-808017d7bf1e     4      4         4  \n",
       "dc9db4df-d42a-42cd-879a-e678a69ed5c7     4      4         4  \n",
       "e22a42d5-fd97-4040-b6ef-292b90521125     3      3         3  \n",
       "e77947ce-1a03-4c88-a3b0-85067b7f6fcc     3      3         3  \n",
       "ee8986ab-7ee0-4349-b578-710a33058958     2      2         2  \n",
       "eedfb2b0-6fa8-434b-90d8-43f9db8f0b5f     2      2         2  \n",
       "efc098b3-f010-4de5-8770-6e7381874f5b     3      3         3  \n",
       "f3e38d6e-4c4e-4007-b66b-79db1dad2716     3      3         3  \n",
       "f8c3b30f-e66f-413a-83c6-9fc39c366a77     3      3         3  \n",
       "fb63a3e6-6944-4b0c-8cd1-64513f81f0ea     4      4         4  "
      ]
     },
     "execution_count": 54,
     "metadata": {},
     "output_type": "execute_result"
    }
   ],
   "source": [
    "end_expl_count_final"
   ]
  },
  {
   "cell_type": "code",
   "execution_count": 55,
   "id": "0730448d",
   "metadata": {},
   "outputs": [
    {
     "data": {
      "application/vnd.microsoft.datawrangler.viewer.v0+json": {
       "columns": [
        {
         "name": "ID",
         "rawType": "object",
         "type": "string"
        },
        {
         "name": "movie_id",
         "rawType": "int64",
         "type": "integer"
        }
       ],
       "ref": "f6f41b14-2897-4966-a1a4-e27a0fdc0880",
       "rows": [
        [
         "0903e4d7-0117-43ac-9ba1-67a34ee4f584",
         "3"
        ],
        [
         "16497ee9-9f63-4ac3-8cba-ca821cd434cc",
         "4"
        ],
        [
         "1670be4a-56a4-401b-a64a-ea8490643f1d",
         "3"
        ],
        [
         "199a272e-eb22-4ae2-95fb-dd14c4fa208e",
         "2"
        ],
        [
         "1cdedd0e-ada1-4901-9443-b9fe73ee4eaf",
         "5"
        ],
        [
         "1cf52f56-d06f-4f56-9b6c-3894edeb795b",
         "4"
        ],
        [
         "26bbc9a9-86bb-4974-a1b5-6601b511ba4d",
         "4"
        ],
        [
         "2763ffe6-f1c6-4021-b053-e1323d9d0989",
         "2"
        ],
        [
         "277ace42-bf8e-4af7-82a2-f2a98ffdad95",
         "3"
        ],
        [
         "282ef334-b2de-4873-b8c0-e6e94b9777e2",
         "4"
        ],
        [
         "2d7fa883-3b29-4bd3-b592-54fc656a68bc",
         "3"
        ],
        [
         "2fff537b-f60f-4762-a300-e651a85c83e7",
         "3"
        ],
        [
         "330036ae-330c-4fff-b455-ff819ae8adec",
         "1"
        ],
        [
         "33db9956-4b5b-47ab-b3d1-6f76c42384f7",
         "2"
        ],
        [
         "37080dca-b8d4-432b-8577-ee2966dfa206",
         "3"
        ],
        [
         "3887e896-3fa0-477d-be09-af967ba31f91",
         "2"
        ],
        [
         "38cdc324-2d9a-42c4-b2f3-44448d149cc4",
         "1"
        ],
        [
         "3cdae0e0-3b22-46f3-a286-f502d2115f80",
         "3"
        ],
        [
         "4221f534-a566-4fe1-af3b-2e73067a521c",
         "4"
        ],
        [
         "42aab9b2-db24-421f-ace6-4564397942ae",
         "4"
        ],
        [
         "4d1107a0-b627-4a84-a05c-f80b4132fb32",
         "5"
        ],
        [
         "4d5557e0-f952-47ac-9592-ee5d08ea8ff1",
         "3"
        ],
        [
         "537542f2-31b4-4ab6-a6ef-25fed9d64258",
         "3"
        ],
        [
         "5efdbde1-5292-492b-b951-b97cb2c150f6",
         "3"
        ],
        [
         "6ac132c1-3b8a-4a65-bdcb-8a509c051b5e",
         "3"
        ],
        [
         "73154f98-a5ae-4b38-9202-e688a0a86e28",
         "4"
        ],
        [
         "751c5e42-c91a-4d97-994b-54c021c0accb",
         "3"
        ],
        [
         "7d6d6774-c7b1-49c4-b4e4-c62bfd4588d1",
         "3"
        ],
        [
         "8865717f-1ee0-4efb-a09b-e1173e28cf04",
         "4"
        ],
        [
         "88bc749c-07dd-4c54-86dd-ba0ff6805bea",
         "2"
        ],
        [
         "8e5115a8-aee4-403a-a33a-81a9dc677d0c",
         "4"
        ],
        [
         "912f4714-a42b-4b58-ab9d-5fc5f1ab7a99",
         "2"
        ],
        [
         "94cb0ad6-df69-4c3a-9df6-0d737a7c8add",
         "4"
        ],
        [
         "99a9b0db-5c2f-474a-b623-73b252e9ca1f",
         "4"
        ],
        [
         "9c0919a4-762f-44b8-9c74-fbab1bb4e609",
         "3"
        ],
        [
         "9c577360-04b1-483a-a984-a02a2a2c4689",
         "5"
        ],
        [
         "9f2a10e2-edf4-4443-9d3c-531d9030edb7",
         "2"
        ],
        [
         "9f65a904-8847-4f78-ac85-ac54c14fd138",
         "2"
        ],
        [
         "b433b19b-b184-4bfa-ba9c-90c6329313ac",
         "2"
        ],
        [
         "b4d1204b-42cf-4a56-b0f7-6813795a2923",
         "4"
        ],
        [
         "b7d90b39-7606-47bf-8552-d8670e7e015a",
         "3"
        ],
        [
         "bc9cb0c4-fd45-47d8-a975-5333691e2f9f",
         "4"
        ],
        [
         "c6b8f3a6-e89d-40c7-9d65-e58bd693d299",
         "2"
        ],
        [
         "ce768b16-47b8-4ab1-b423-5e465434e5a5",
         "3"
        ],
        [
         "d119bb66-0100-4517-8d68-0eb4a95b5a60",
         "2"
        ],
        [
         "d37720ea-fab8-4302-8674-808017d7bf1e",
         "4"
        ],
        [
         "dc9db4df-d42a-42cd-879a-e678a69ed5c7",
         "4"
        ],
        [
         "e22a42d5-fd97-4040-b6ef-292b90521125",
         "3"
        ],
        [
         "e77947ce-1a03-4c88-a3b0-85067b7f6fcc",
         "3"
        ],
        [
         "ee8986ab-7ee0-4349-b578-710a33058958",
         "2"
        ]
       ],
       "shape": {
        "columns": 1,
        "rows": 55
       }
      },
      "text/plain": [
       "ID\n",
       "0903e4d7-0117-43ac-9ba1-67a34ee4f584    3\n",
       "16497ee9-9f63-4ac3-8cba-ca821cd434cc    4\n",
       "1670be4a-56a4-401b-a64a-ea8490643f1d    3\n",
       "199a272e-eb22-4ae2-95fb-dd14c4fa208e    2\n",
       "1cdedd0e-ada1-4901-9443-b9fe73ee4eaf    5\n",
       "1cf52f56-d06f-4f56-9b6c-3894edeb795b    4\n",
       "26bbc9a9-86bb-4974-a1b5-6601b511ba4d    4\n",
       "2763ffe6-f1c6-4021-b053-e1323d9d0989    2\n",
       "277ace42-bf8e-4af7-82a2-f2a98ffdad95    3\n",
       "282ef334-b2de-4873-b8c0-e6e94b9777e2    4\n",
       "2d7fa883-3b29-4bd3-b592-54fc656a68bc    3\n",
       "2fff537b-f60f-4762-a300-e651a85c83e7    3\n",
       "330036ae-330c-4fff-b455-ff819ae8adec    1\n",
       "33db9956-4b5b-47ab-b3d1-6f76c42384f7    2\n",
       "37080dca-b8d4-432b-8577-ee2966dfa206    3\n",
       "3887e896-3fa0-477d-be09-af967ba31f91    2\n",
       "38cdc324-2d9a-42c4-b2f3-44448d149cc4    1\n",
       "3cdae0e0-3b22-46f3-a286-f502d2115f80    3\n",
       "4221f534-a566-4fe1-af3b-2e73067a521c    4\n",
       "42aab9b2-db24-421f-ace6-4564397942ae    4\n",
       "4d1107a0-b627-4a84-a05c-f80b4132fb32    5\n",
       "4d5557e0-f952-47ac-9592-ee5d08ea8ff1    3\n",
       "537542f2-31b4-4ab6-a6ef-25fed9d64258    3\n",
       "5efdbde1-5292-492b-b951-b97cb2c150f6    3\n",
       "6ac132c1-3b8a-4a65-bdcb-8a509c051b5e    3\n",
       "73154f98-a5ae-4b38-9202-e688a0a86e28    4\n",
       "751c5e42-c91a-4d97-994b-54c021c0accb    3\n",
       "7d6d6774-c7b1-49c4-b4e4-c62bfd4588d1    3\n",
       "8865717f-1ee0-4efb-a09b-e1173e28cf04    4\n",
       "88bc749c-07dd-4c54-86dd-ba0ff6805bea    2\n",
       "8e5115a8-aee4-403a-a33a-81a9dc677d0c    4\n",
       "912f4714-a42b-4b58-ab9d-5fc5f1ab7a99    2\n",
       "94cb0ad6-df69-4c3a-9df6-0d737a7c8add    4\n",
       "99a9b0db-5c2f-474a-b623-73b252e9ca1f    4\n",
       "9c0919a4-762f-44b8-9c74-fbab1bb4e609    3\n",
       "9c577360-04b1-483a-a984-a02a2a2c4689    5\n",
       "9f2a10e2-edf4-4443-9d3c-531d9030edb7    2\n",
       "9f65a904-8847-4f78-ac85-ac54c14fd138    2\n",
       "b433b19b-b184-4bfa-ba9c-90c6329313ac    2\n",
       "b4d1204b-42cf-4a56-b0f7-6813795a2923    4\n",
       "b7d90b39-7606-47bf-8552-d8670e7e015a    3\n",
       "bc9cb0c4-fd45-47d8-a975-5333691e2f9f    4\n",
       "c6b8f3a6-e89d-40c7-9d65-e58bd693d299    2\n",
       "ce768b16-47b8-4ab1-b423-5e465434e5a5    3\n",
       "d119bb66-0100-4517-8d68-0eb4a95b5a60    2\n",
       "d37720ea-fab8-4302-8674-808017d7bf1e    4\n",
       "dc9db4df-d42a-42cd-879a-e678a69ed5c7    4\n",
       "e22a42d5-fd97-4040-b6ef-292b90521125    3\n",
       "e77947ce-1a03-4c88-a3b0-85067b7f6fcc    3\n",
       "ee8986ab-7ee0-4349-b578-710a33058958    2\n",
       "eedfb2b0-6fa8-434b-90d8-43f9db8f0b5f    2\n",
       "efc098b3-f010-4de5-8770-6e7381874f5b    3\n",
       "f3e38d6e-4c4e-4007-b66b-79db1dad2716    3\n",
       "f8c3b30f-e66f-413a-83c6-9fc39c366a77    3\n",
       "fb63a3e6-6944-4b0c-8cd1-64513f81f0ea    4\n",
       "Name: movie_id, dtype: int64"
      ]
     },
     "execution_count": 55,
     "metadata": {},
     "output_type": "execute_result"
    }
   ],
   "source": [
    "end_expl_count_final = end_expl_count_final['movie_id']\n",
    "end_expl_count_final"
   ]
  },
  {
   "cell_type": "code",
   "execution_count": 56,
   "id": "d330d0a9",
   "metadata": {},
   "outputs": [
    {
     "data": {
      "application/vnd.microsoft.datawrangler.viewer.v0+json": {
       "columns": [
        {
         "name": "ID",
         "rawType": "object",
         "type": "string"
        },
        {
         "name": "movie_id",
         "rawType": "int64",
         "type": "integer"
        }
       ],
       "ref": "7d61e80c-4cfe-4f06-8590-f6d343f7b8ca",
       "rows": [
        [
         "0903e4d7-0117-43ac-9ba1-67a34ee4f584",
         "5"
        ],
        [
         "16497ee9-9f63-4ac3-8cba-ca821cd434cc",
         "5"
        ],
        [
         "1670be4a-56a4-401b-a64a-ea8490643f1d",
         "5"
        ],
        [
         "199a272e-eb22-4ae2-95fb-dd14c4fa208e",
         "4"
        ],
        [
         "1cdedd0e-ada1-4901-9443-b9fe73ee4eaf",
         "5"
        ],
        [
         "1cf52f56-d06f-4f56-9b6c-3894edeb795b",
         "5"
        ],
        [
         "26bbc9a9-86bb-4974-a1b5-6601b511ba4d",
         "5"
        ],
        [
         "2763ffe6-f1c6-4021-b053-e1323d9d0989",
         "5"
        ],
        [
         "277ace42-bf8e-4af7-82a2-f2a98ffdad95",
         "5"
        ],
        [
         "282ef334-b2de-4873-b8c0-e6e94b9777e2",
         "5"
        ],
        [
         "2d7fa883-3b29-4bd3-b592-54fc656a68bc",
         "5"
        ],
        [
         "2fff537b-f60f-4762-a300-e651a85c83e7",
         "4"
        ],
        [
         "330036ae-330c-4fff-b455-ff819ae8adec",
         "4"
        ],
        [
         "33db9956-4b5b-47ab-b3d1-6f76c42384f7",
         "5"
        ],
        [
         "37080dca-b8d4-432b-8577-ee2966dfa206",
         "5"
        ],
        [
         "3887e896-3fa0-477d-be09-af967ba31f91",
         "5"
        ],
        [
         "38cdc324-2d9a-42c4-b2f3-44448d149cc4",
         "5"
        ],
        [
         "3cdae0e0-3b22-46f3-a286-f502d2115f80",
         "4"
        ],
        [
         "4221f534-a566-4fe1-af3b-2e73067a521c",
         "5"
        ],
        [
         "42aab9b2-db24-421f-ace6-4564397942ae",
         "5"
        ],
        [
         "4d1107a0-b627-4a84-a05c-f80b4132fb32",
         "5"
        ],
        [
         "4d5557e0-f952-47ac-9592-ee5d08ea8ff1",
         "5"
        ],
        [
         "537542f2-31b4-4ab6-a6ef-25fed9d64258",
         "4"
        ],
        [
         "5efdbde1-5292-492b-b951-b97cb2c150f6",
         "4"
        ],
        [
         "6ac132c1-3b8a-4a65-bdcb-8a509c051b5e",
         "5"
        ],
        [
         "73154f98-a5ae-4b38-9202-e688a0a86e28",
         "5"
        ],
        [
         "751c5e42-c91a-4d97-994b-54c021c0accb",
         "5"
        ],
        [
         "7d6d6774-c7b1-49c4-b4e4-c62bfd4588d1",
         "5"
        ],
        [
         "8865717f-1ee0-4efb-a09b-e1173e28cf04",
         "4"
        ],
        [
         "88bc749c-07dd-4c54-86dd-ba0ff6805bea",
         "5"
        ],
        [
         "8e5115a8-aee4-403a-a33a-81a9dc677d0c",
         "5"
        ],
        [
         "912f4714-a42b-4b58-ab9d-5fc5f1ab7a99",
         "5"
        ],
        [
         "94cb0ad6-df69-4c3a-9df6-0d737a7c8add",
         "5"
        ],
        [
         "99a9b0db-5c2f-474a-b623-73b252e9ca1f",
         "4"
        ],
        [
         "9c0919a4-762f-44b8-9c74-fbab1bb4e609",
         "5"
        ],
        [
         "9c577360-04b1-483a-a984-a02a2a2c4689",
         "5"
        ],
        [
         "9f2a10e2-edf4-4443-9d3c-531d9030edb7",
         "5"
        ],
        [
         "9f65a904-8847-4f78-ac85-ac54c14fd138",
         "5"
        ],
        [
         "b433b19b-b184-4bfa-ba9c-90c6329313ac",
         "4"
        ],
        [
         "b4d1204b-42cf-4a56-b0f7-6813795a2923",
         "5"
        ],
        [
         "b7d90b39-7606-47bf-8552-d8670e7e015a",
         "5"
        ],
        [
         "bc9cb0c4-fd45-47d8-a975-5333691e2f9f",
         "5"
        ],
        [
         "c6b8f3a6-e89d-40c7-9d65-e58bd693d299",
         "5"
        ],
        [
         "ce768b16-47b8-4ab1-b423-5e465434e5a5",
         "5"
        ],
        [
         "d119bb66-0100-4517-8d68-0eb4a95b5a60",
         "4"
        ],
        [
         "d37720ea-fab8-4302-8674-808017d7bf1e",
         "5"
        ],
        [
         "dc9db4df-d42a-42cd-879a-e678a69ed5c7",
         "5"
        ],
        [
         "e22a42d5-fd97-4040-b6ef-292b90521125",
         "5"
        ],
        [
         "e77947ce-1a03-4c88-a3b0-85067b7f6fcc",
         "5"
        ],
        [
         "ee8986ab-7ee0-4349-b578-710a33058958",
         "5"
        ]
       ],
       "shape": {
        "columns": 1,
        "rows": 55
       }
      },
      "text/plain": [
       "ID\n",
       "0903e4d7-0117-43ac-9ba1-67a34ee4f584    5\n",
       "16497ee9-9f63-4ac3-8cba-ca821cd434cc    5\n",
       "1670be4a-56a4-401b-a64a-ea8490643f1d    5\n",
       "199a272e-eb22-4ae2-95fb-dd14c4fa208e    4\n",
       "1cdedd0e-ada1-4901-9443-b9fe73ee4eaf    5\n",
       "1cf52f56-d06f-4f56-9b6c-3894edeb795b    5\n",
       "26bbc9a9-86bb-4974-a1b5-6601b511ba4d    5\n",
       "2763ffe6-f1c6-4021-b053-e1323d9d0989    5\n",
       "277ace42-bf8e-4af7-82a2-f2a98ffdad95    5\n",
       "282ef334-b2de-4873-b8c0-e6e94b9777e2    5\n",
       "2d7fa883-3b29-4bd3-b592-54fc656a68bc    5\n",
       "2fff537b-f60f-4762-a300-e651a85c83e7    4\n",
       "330036ae-330c-4fff-b455-ff819ae8adec    4\n",
       "33db9956-4b5b-47ab-b3d1-6f76c42384f7    5\n",
       "37080dca-b8d4-432b-8577-ee2966dfa206    5\n",
       "3887e896-3fa0-477d-be09-af967ba31f91    5\n",
       "38cdc324-2d9a-42c4-b2f3-44448d149cc4    5\n",
       "3cdae0e0-3b22-46f3-a286-f502d2115f80    4\n",
       "4221f534-a566-4fe1-af3b-2e73067a521c    5\n",
       "42aab9b2-db24-421f-ace6-4564397942ae    5\n",
       "4d1107a0-b627-4a84-a05c-f80b4132fb32    5\n",
       "4d5557e0-f952-47ac-9592-ee5d08ea8ff1    5\n",
       "537542f2-31b4-4ab6-a6ef-25fed9d64258    4\n",
       "5efdbde1-5292-492b-b951-b97cb2c150f6    4\n",
       "6ac132c1-3b8a-4a65-bdcb-8a509c051b5e    5\n",
       "73154f98-a5ae-4b38-9202-e688a0a86e28    5\n",
       "751c5e42-c91a-4d97-994b-54c021c0accb    5\n",
       "7d6d6774-c7b1-49c4-b4e4-c62bfd4588d1    5\n",
       "8865717f-1ee0-4efb-a09b-e1173e28cf04    4\n",
       "88bc749c-07dd-4c54-86dd-ba0ff6805bea    5\n",
       "8e5115a8-aee4-403a-a33a-81a9dc677d0c    5\n",
       "912f4714-a42b-4b58-ab9d-5fc5f1ab7a99    5\n",
       "94cb0ad6-df69-4c3a-9df6-0d737a7c8add    5\n",
       "99a9b0db-5c2f-474a-b623-73b252e9ca1f    4\n",
       "9c0919a4-762f-44b8-9c74-fbab1bb4e609    5\n",
       "9c577360-04b1-483a-a984-a02a2a2c4689    5\n",
       "9f2a10e2-edf4-4443-9d3c-531d9030edb7    5\n",
       "9f65a904-8847-4f78-ac85-ac54c14fd138    5\n",
       "b433b19b-b184-4bfa-ba9c-90c6329313ac    4\n",
       "b4d1204b-42cf-4a56-b0f7-6813795a2923    5\n",
       "b7d90b39-7606-47bf-8552-d8670e7e015a    5\n",
       "bc9cb0c4-fd45-47d8-a975-5333691e2f9f    5\n",
       "c6b8f3a6-e89d-40c7-9d65-e58bd693d299    5\n",
       "ce768b16-47b8-4ab1-b423-5e465434e5a5    5\n",
       "d119bb66-0100-4517-8d68-0eb4a95b5a60    4\n",
       "d37720ea-fab8-4302-8674-808017d7bf1e    5\n",
       "dc9db4df-d42a-42cd-879a-e678a69ed5c7    5\n",
       "e22a42d5-fd97-4040-b6ef-292b90521125    5\n",
       "e77947ce-1a03-4c88-a3b0-85067b7f6fcc    5\n",
       "ee8986ab-7ee0-4349-b578-710a33058958    5\n",
       "eedfb2b0-6fa8-434b-90d8-43f9db8f0b5f    5\n",
       "efc098b3-f010-4de5-8770-6e7381874f5b    4\n",
       "f3e38d6e-4c4e-4007-b66b-79db1dad2716    5\n",
       "f8c3b30f-e66f-413a-83c6-9fc39c366a77    5\n",
       "fb63a3e6-6944-4b0c-8cd1-64513f81f0ea    5\n",
       "Name: movie_id, dtype: int64"
      ]
     },
     "execution_count": 56,
     "metadata": {},
     "output_type": "execute_result"
    }
   ],
   "source": [
    "end_pem_count = end_expl.reset_index().groupby(['ID', 'pem_prop']).count()\n",
    "end_pem_count_final = end_pem_count.groupby('ID').count()\n",
    "end_pem_count_final = end_pem_count_final['movie_id']\n",
    "end_pem_count_final"
   ]
  },
  {
   "cell_type": "code",
   "execution_count": 57,
   "id": "e82dd5be",
   "metadata": {},
   "outputs": [
    {
     "data": {
      "application/vnd.microsoft.datawrangler.viewer.v0+json": {
       "columns": [
        {
         "name": "ID",
         "rawType": "object",
         "type": "string"
        },
        {
         "name": "movie_id",
         "rawType": "int64",
         "type": "integer"
        }
       ],
       "ref": "15ec8c0b-ca22-45cc-8f4f-33c507ef68a2",
       "rows": [
        [
         "0903e4d7-0117-43ac-9ba1-67a34ee4f584",
         "2"
        ],
        [
         "16497ee9-9f63-4ac3-8cba-ca821cd434cc",
         "1"
        ],
        [
         "1670be4a-56a4-401b-a64a-ea8490643f1d",
         "2"
        ],
        [
         "199a272e-eb22-4ae2-95fb-dd14c4fa208e",
         "2"
        ],
        [
         "1cdedd0e-ada1-4901-9443-b9fe73ee4eaf",
         "0"
        ],
        [
         "1cf52f56-d06f-4f56-9b6c-3894edeb795b",
         "1"
        ],
        [
         "26bbc9a9-86bb-4974-a1b5-6601b511ba4d",
         "1"
        ],
        [
         "2763ffe6-f1c6-4021-b053-e1323d9d0989",
         "3"
        ],
        [
         "277ace42-bf8e-4af7-82a2-f2a98ffdad95",
         "2"
        ],
        [
         "282ef334-b2de-4873-b8c0-e6e94b9777e2",
         "1"
        ],
        [
         "2d7fa883-3b29-4bd3-b592-54fc656a68bc",
         "2"
        ],
        [
         "2fff537b-f60f-4762-a300-e651a85c83e7",
         "1"
        ],
        [
         "330036ae-330c-4fff-b455-ff819ae8adec",
         "3"
        ],
        [
         "33db9956-4b5b-47ab-b3d1-6f76c42384f7",
         "3"
        ],
        [
         "37080dca-b8d4-432b-8577-ee2966dfa206",
         "2"
        ],
        [
         "3887e896-3fa0-477d-be09-af967ba31f91",
         "3"
        ],
        [
         "38cdc324-2d9a-42c4-b2f3-44448d149cc4",
         "4"
        ],
        [
         "3cdae0e0-3b22-46f3-a286-f502d2115f80",
         "1"
        ],
        [
         "4221f534-a566-4fe1-af3b-2e73067a521c",
         "1"
        ],
        [
         "42aab9b2-db24-421f-ace6-4564397942ae",
         "1"
        ],
        [
         "4d1107a0-b627-4a84-a05c-f80b4132fb32",
         "0"
        ],
        [
         "4d5557e0-f952-47ac-9592-ee5d08ea8ff1",
         "2"
        ],
        [
         "537542f2-31b4-4ab6-a6ef-25fed9d64258",
         "1"
        ],
        [
         "5efdbde1-5292-492b-b951-b97cb2c150f6",
         "1"
        ],
        [
         "6ac132c1-3b8a-4a65-bdcb-8a509c051b5e",
         "2"
        ],
        [
         "73154f98-a5ae-4b38-9202-e688a0a86e28",
         "1"
        ],
        [
         "751c5e42-c91a-4d97-994b-54c021c0accb",
         "2"
        ],
        [
         "7d6d6774-c7b1-49c4-b4e4-c62bfd4588d1",
         "2"
        ],
        [
         "8865717f-1ee0-4efb-a09b-e1173e28cf04",
         "0"
        ],
        [
         "88bc749c-07dd-4c54-86dd-ba0ff6805bea",
         "3"
        ],
        [
         "8e5115a8-aee4-403a-a33a-81a9dc677d0c",
         "1"
        ],
        [
         "912f4714-a42b-4b58-ab9d-5fc5f1ab7a99",
         "3"
        ],
        [
         "94cb0ad6-df69-4c3a-9df6-0d737a7c8add",
         "1"
        ],
        [
         "99a9b0db-5c2f-474a-b623-73b252e9ca1f",
         "0"
        ],
        [
         "9c0919a4-762f-44b8-9c74-fbab1bb4e609",
         "2"
        ],
        [
         "9c577360-04b1-483a-a984-a02a2a2c4689",
         "0"
        ],
        [
         "9f2a10e2-edf4-4443-9d3c-531d9030edb7",
         "3"
        ],
        [
         "9f65a904-8847-4f78-ac85-ac54c14fd138",
         "3"
        ],
        [
         "b433b19b-b184-4bfa-ba9c-90c6329313ac",
         "2"
        ],
        [
         "b4d1204b-42cf-4a56-b0f7-6813795a2923",
         "1"
        ],
        [
         "b7d90b39-7606-47bf-8552-d8670e7e015a",
         "2"
        ],
        [
         "bc9cb0c4-fd45-47d8-a975-5333691e2f9f",
         "1"
        ],
        [
         "c6b8f3a6-e89d-40c7-9d65-e58bd693d299",
         "3"
        ],
        [
         "ce768b16-47b8-4ab1-b423-5e465434e5a5",
         "2"
        ],
        [
         "d119bb66-0100-4517-8d68-0eb4a95b5a60",
         "2"
        ],
        [
         "d37720ea-fab8-4302-8674-808017d7bf1e",
         "1"
        ],
        [
         "dc9db4df-d42a-42cd-879a-e678a69ed5c7",
         "1"
        ],
        [
         "e22a42d5-fd97-4040-b6ef-292b90521125",
         "2"
        ],
        [
         "e77947ce-1a03-4c88-a3b0-85067b7f6fcc",
         "2"
        ],
        [
         "ee8986ab-7ee0-4349-b578-710a33058958",
         "3"
        ]
       ],
       "shape": {
        "columns": 1,
        "rows": 55
       }
      },
      "text/plain": [
       "ID\n",
       "0903e4d7-0117-43ac-9ba1-67a34ee4f584    2\n",
       "16497ee9-9f63-4ac3-8cba-ca821cd434cc    1\n",
       "1670be4a-56a4-401b-a64a-ea8490643f1d    2\n",
       "199a272e-eb22-4ae2-95fb-dd14c4fa208e    2\n",
       "1cdedd0e-ada1-4901-9443-b9fe73ee4eaf    0\n",
       "1cf52f56-d06f-4f56-9b6c-3894edeb795b    1\n",
       "26bbc9a9-86bb-4974-a1b5-6601b511ba4d    1\n",
       "2763ffe6-f1c6-4021-b053-e1323d9d0989    3\n",
       "277ace42-bf8e-4af7-82a2-f2a98ffdad95    2\n",
       "282ef334-b2de-4873-b8c0-e6e94b9777e2    1\n",
       "2d7fa883-3b29-4bd3-b592-54fc656a68bc    2\n",
       "2fff537b-f60f-4762-a300-e651a85c83e7    1\n",
       "330036ae-330c-4fff-b455-ff819ae8adec    3\n",
       "33db9956-4b5b-47ab-b3d1-6f76c42384f7    3\n",
       "37080dca-b8d4-432b-8577-ee2966dfa206    2\n",
       "3887e896-3fa0-477d-be09-af967ba31f91    3\n",
       "38cdc324-2d9a-42c4-b2f3-44448d149cc4    4\n",
       "3cdae0e0-3b22-46f3-a286-f502d2115f80    1\n",
       "4221f534-a566-4fe1-af3b-2e73067a521c    1\n",
       "42aab9b2-db24-421f-ace6-4564397942ae    1\n",
       "4d1107a0-b627-4a84-a05c-f80b4132fb32    0\n",
       "4d5557e0-f952-47ac-9592-ee5d08ea8ff1    2\n",
       "537542f2-31b4-4ab6-a6ef-25fed9d64258    1\n",
       "5efdbde1-5292-492b-b951-b97cb2c150f6    1\n",
       "6ac132c1-3b8a-4a65-bdcb-8a509c051b5e    2\n",
       "73154f98-a5ae-4b38-9202-e688a0a86e28    1\n",
       "751c5e42-c91a-4d97-994b-54c021c0accb    2\n",
       "7d6d6774-c7b1-49c4-b4e4-c62bfd4588d1    2\n",
       "8865717f-1ee0-4efb-a09b-e1173e28cf04    0\n",
       "88bc749c-07dd-4c54-86dd-ba0ff6805bea    3\n",
       "8e5115a8-aee4-403a-a33a-81a9dc677d0c    1\n",
       "912f4714-a42b-4b58-ab9d-5fc5f1ab7a99    3\n",
       "94cb0ad6-df69-4c3a-9df6-0d737a7c8add    1\n",
       "99a9b0db-5c2f-474a-b623-73b252e9ca1f    0\n",
       "9c0919a4-762f-44b8-9c74-fbab1bb4e609    2\n",
       "9c577360-04b1-483a-a984-a02a2a2c4689    0\n",
       "9f2a10e2-edf4-4443-9d3c-531d9030edb7    3\n",
       "9f65a904-8847-4f78-ac85-ac54c14fd138    3\n",
       "b433b19b-b184-4bfa-ba9c-90c6329313ac    2\n",
       "b4d1204b-42cf-4a56-b0f7-6813795a2923    1\n",
       "b7d90b39-7606-47bf-8552-d8670e7e015a    2\n",
       "bc9cb0c4-fd45-47d8-a975-5333691e2f9f    1\n",
       "c6b8f3a6-e89d-40c7-9d65-e58bd693d299    3\n",
       "ce768b16-47b8-4ab1-b423-5e465434e5a5    2\n",
       "d119bb66-0100-4517-8d68-0eb4a95b5a60    2\n",
       "d37720ea-fab8-4302-8674-808017d7bf1e    1\n",
       "dc9db4df-d42a-42cd-879a-e678a69ed5c7    1\n",
       "e22a42d5-fd97-4040-b6ef-292b90521125    2\n",
       "e77947ce-1a03-4c88-a3b0-85067b7f6fcc    2\n",
       "ee8986ab-7ee0-4349-b578-710a33058958    3\n",
       "eedfb2b0-6fa8-434b-90d8-43f9db8f0b5f    3\n",
       "efc098b3-f010-4de5-8770-6e7381874f5b    1\n",
       "f3e38d6e-4c4e-4007-b66b-79db1dad2716    2\n",
       "f8c3b30f-e66f-413a-83c6-9fc39c366a77    2\n",
       "fb63a3e6-6944-4b0c-8cd1-64513f81f0ea    1\n",
       "Name: movie_id, dtype: int64"
      ]
     },
     "execution_count": 57,
     "metadata": {},
     "output_type": "execute_result"
    }
   ],
   "source": [
    "end_diff = end_pem_count_final - end_expl_count_final\n",
    "end_diff"
   ]
  },
  {
   "cell_type": "code",
   "execution_count": 58,
   "id": "6abd9df1",
   "metadata": {},
   "outputs": [
    {
     "data": {
      "application/vnd.microsoft.datawrangler.viewer.v0+json": {
       "columns": [
        {
         "name": "ID",
         "rawType": "object",
         "type": "string"
        },
        {
         "name": "convincing",
         "rawType": "object",
         "type": "string"
        },
        {
         "name": "discover",
         "rawType": "object",
         "type": "string"
        },
        {
         "name": "diversity",
         "rawType": "object",
         "type": "string"
        },
        {
         "name": "popularity",
         "rawType": "object",
         "type": "string"
        },
        {
         "name": "trust",
         "rawType": "object",
         "type": "string"
        },
        {
         "name": "understood",
         "rawType": "object",
         "type": "string"
        }
       ],
       "ref": "39790b18-8d2d-4aac-a8fb-a0f349cd876c",
       "rows": [
        [
         "8865717f-1ee0-4efb-a09b-e1173e28cf04",
         "Equal",
         "Equal",
         "Equal",
         "Equal",
         "Equal",
         "Equal"
        ],
        [
         "b4d1204b-42cf-4a56-b0f7-6813795a2923",
         "Equal",
         "Much More ExpLOD",
         "More PEM",
         "More PEM",
         "More ExpLOD",
         "More ExpLOD"
        ],
        [
         "42aab9b2-db24-421f-ace6-4564397942ae",
         "More ExpLOD",
         "More PEM",
         "Equal",
         "More PEM",
         "More ExpLOD",
         "More ExpLOD"
        ],
        [
         "1cf52f56-d06f-4f56-9b6c-3894edeb795b",
         "More PEM",
         "Equal",
         "More PEM",
         "More ExpLOD",
         "More PEM",
         "More PEM"
        ],
        [
         "26bbc9a9-86bb-4974-a1b5-6601b511ba4d",
         "More ExpLOD",
         "Equal",
         "Equal",
         "More ExpLOD",
         "More ExpLOD",
         "More ExpLOD"
        ],
        [
         "99a9b0db-5c2f-474a-b623-73b252e9ca1f",
         "More PEM",
         "Equal",
         "More PEM",
         "Equal",
         "More PEM",
         "Much More PEM"
        ],
        [
         "94cb0ad6-df69-4c3a-9df6-0d737a7c8add",
         "More ExpLOD",
         "More ExpLOD",
         "More ExpLOD",
         "More ExpLOD",
         "More ExpLOD",
         "More ExpLOD"
        ],
        [
         "bc9cb0c4-fd45-47d8-a975-5333691e2f9f",
         "Much More ExpLOD",
         "More PEM",
         "More PEM",
         "Much More ExpLOD",
         "More ExpLOD",
         "More ExpLOD"
        ],
        [
         "16497ee9-9f63-4ac3-8cba-ca821cd434cc",
         "More PEM",
         "More ExpLOD",
         "More PEM",
         "Equal",
         "More ExpLOD",
         "Much More PEM"
        ],
        [
         "8e5115a8-aee4-403a-a33a-81a9dc677d0c",
         "Much More PEM",
         "Equal",
         "Much More PEM",
         "Much More PEM",
         "Much More PEM",
         "Much More PEM"
        ],
        [
         "4d1107a0-b627-4a84-a05c-f80b4132fb32",
         "More ExpLOD",
         "More ExpLOD",
         "More ExpLOD",
         "More ExpLOD",
         "More ExpLOD",
         "More ExpLOD"
        ],
        [
         "4221f534-a566-4fe1-af3b-2e73067a521c",
         "More PEM",
         "Much More PEM",
         "More ExpLOD",
         "More PEM",
         "More PEM",
         "More PEM"
        ],
        [
         "73154f98-a5ae-4b38-9202-e688a0a86e28",
         "More ExpLOD",
         "More PEM",
         "More ExpLOD",
         "More ExpLOD",
         "More ExpLOD",
         "More ExpLOD"
        ],
        [
         "282ef334-b2de-4873-b8c0-e6e94b9777e2",
         "Equal",
         "Equal",
         "Equal",
         "Equal",
         "Equal",
         "Equal"
        ],
        [
         "1cdedd0e-ada1-4901-9443-b9fe73ee4eaf",
         "More ExpLOD",
         "More PEM",
         "More PEM",
         "More ExpLOD",
         "More ExpLOD",
         "More ExpLOD"
        ],
        [
         "dc9db4df-d42a-42cd-879a-e678a69ed5c7",
         "More ExpLOD",
         "More ExpLOD",
         "More ExpLOD",
         "More ExpLOD",
         "More ExpLOD",
         "More ExpLOD"
        ],
        [
         "9c577360-04b1-483a-a984-a02a2a2c4689",
         "Equal",
         "More PEM",
         "More PEM",
         "More PEM",
         "More PEM",
         "More PEM"
        ],
        [
         "d37720ea-fab8-4302-8674-808017d7bf1e",
         "Much More ExpLOD",
         "Equal",
         "More ExpLOD",
         "Much More ExpLOD",
         "Much More ExpLOD",
         "More ExpLOD"
        ],
        [
         "fb63a3e6-6944-4b0c-8cd1-64513f81f0ea",
         "Equal",
         "Equal",
         "Equal",
         "Equal",
         "Equal",
         "Equal"
        ]
       ],
       "shape": {
        "columns": 6,
        "rows": 19
       }
      },
      "text/html": [
       "<div>\n",
       "<style scoped>\n",
       "    .dataframe tbody tr th:only-of-type {\n",
       "        vertical-align: middle;\n",
       "    }\n",
       "\n",
       "    .dataframe tbody tr th {\n",
       "        vertical-align: top;\n",
       "    }\n",
       "\n",
       "    .dataframe thead th {\n",
       "        text-align: right;\n",
       "    }\n",
       "</style>\n",
       "<table border=\"1\" class=\"dataframe\">\n",
       "  <thead>\n",
       "    <tr style=\"text-align: right;\">\n",
       "      <th></th>\n",
       "      <th>convincing</th>\n",
       "      <th>discover</th>\n",
       "      <th>diversity</th>\n",
       "      <th>popularity</th>\n",
       "      <th>trust</th>\n",
       "      <th>understood</th>\n",
       "    </tr>\n",
       "    <tr>\n",
       "      <th>ID</th>\n",
       "      <th></th>\n",
       "      <th></th>\n",
       "      <th></th>\n",
       "      <th></th>\n",
       "      <th></th>\n",
       "      <th></th>\n",
       "    </tr>\n",
       "  </thead>\n",
       "  <tbody>\n",
       "    <tr>\n",
       "      <th>8865717f-1ee0-4efb-a09b-e1173e28cf04</th>\n",
       "      <td>Equal</td>\n",
       "      <td>Equal</td>\n",
       "      <td>Equal</td>\n",
       "      <td>Equal</td>\n",
       "      <td>Equal</td>\n",
       "      <td>Equal</td>\n",
       "    </tr>\n",
       "    <tr>\n",
       "      <th>b4d1204b-42cf-4a56-b0f7-6813795a2923</th>\n",
       "      <td>Equal</td>\n",
       "      <td>Much More ExpLOD</td>\n",
       "      <td>More PEM</td>\n",
       "      <td>More PEM</td>\n",
       "      <td>More ExpLOD</td>\n",
       "      <td>More ExpLOD</td>\n",
       "    </tr>\n",
       "    <tr>\n",
       "      <th>42aab9b2-db24-421f-ace6-4564397942ae</th>\n",
       "      <td>More ExpLOD</td>\n",
       "      <td>More PEM</td>\n",
       "      <td>Equal</td>\n",
       "      <td>More PEM</td>\n",
       "      <td>More ExpLOD</td>\n",
       "      <td>More ExpLOD</td>\n",
       "    </tr>\n",
       "    <tr>\n",
       "      <th>1cf52f56-d06f-4f56-9b6c-3894edeb795b</th>\n",
       "      <td>More PEM</td>\n",
       "      <td>Equal</td>\n",
       "      <td>More PEM</td>\n",
       "      <td>More ExpLOD</td>\n",
       "      <td>More PEM</td>\n",
       "      <td>More PEM</td>\n",
       "    </tr>\n",
       "    <tr>\n",
       "      <th>26bbc9a9-86bb-4974-a1b5-6601b511ba4d</th>\n",
       "      <td>More ExpLOD</td>\n",
       "      <td>Equal</td>\n",
       "      <td>Equal</td>\n",
       "      <td>More ExpLOD</td>\n",
       "      <td>More ExpLOD</td>\n",
       "      <td>More ExpLOD</td>\n",
       "    </tr>\n",
       "    <tr>\n",
       "      <th>99a9b0db-5c2f-474a-b623-73b252e9ca1f</th>\n",
       "      <td>More PEM</td>\n",
       "      <td>Equal</td>\n",
       "      <td>More PEM</td>\n",
       "      <td>Equal</td>\n",
       "      <td>More PEM</td>\n",
       "      <td>Much More PEM</td>\n",
       "    </tr>\n",
       "    <tr>\n",
       "      <th>94cb0ad6-df69-4c3a-9df6-0d737a7c8add</th>\n",
       "      <td>More ExpLOD</td>\n",
       "      <td>More ExpLOD</td>\n",
       "      <td>More ExpLOD</td>\n",
       "      <td>More ExpLOD</td>\n",
       "      <td>More ExpLOD</td>\n",
       "      <td>More ExpLOD</td>\n",
       "    </tr>\n",
       "    <tr>\n",
       "      <th>bc9cb0c4-fd45-47d8-a975-5333691e2f9f</th>\n",
       "      <td>Much More ExpLOD</td>\n",
       "      <td>More PEM</td>\n",
       "      <td>More PEM</td>\n",
       "      <td>Much More ExpLOD</td>\n",
       "      <td>More ExpLOD</td>\n",
       "      <td>More ExpLOD</td>\n",
       "    </tr>\n",
       "    <tr>\n",
       "      <th>16497ee9-9f63-4ac3-8cba-ca821cd434cc</th>\n",
       "      <td>More PEM</td>\n",
       "      <td>More ExpLOD</td>\n",
       "      <td>More PEM</td>\n",
       "      <td>Equal</td>\n",
       "      <td>More ExpLOD</td>\n",
       "      <td>Much More PEM</td>\n",
       "    </tr>\n",
       "    <tr>\n",
       "      <th>8e5115a8-aee4-403a-a33a-81a9dc677d0c</th>\n",
       "      <td>Much More PEM</td>\n",
       "      <td>Equal</td>\n",
       "      <td>Much More PEM</td>\n",
       "      <td>Much More PEM</td>\n",
       "      <td>Much More PEM</td>\n",
       "      <td>Much More PEM</td>\n",
       "    </tr>\n",
       "    <tr>\n",
       "      <th>4d1107a0-b627-4a84-a05c-f80b4132fb32</th>\n",
       "      <td>More ExpLOD</td>\n",
       "      <td>More ExpLOD</td>\n",
       "      <td>More ExpLOD</td>\n",
       "      <td>More ExpLOD</td>\n",
       "      <td>More ExpLOD</td>\n",
       "      <td>More ExpLOD</td>\n",
       "    </tr>\n",
       "    <tr>\n",
       "      <th>4221f534-a566-4fe1-af3b-2e73067a521c</th>\n",
       "      <td>More PEM</td>\n",
       "      <td>Much More PEM</td>\n",
       "      <td>More ExpLOD</td>\n",
       "      <td>More PEM</td>\n",
       "      <td>More PEM</td>\n",
       "      <td>More PEM</td>\n",
       "    </tr>\n",
       "    <tr>\n",
       "      <th>73154f98-a5ae-4b38-9202-e688a0a86e28</th>\n",
       "      <td>More ExpLOD</td>\n",
       "      <td>More PEM</td>\n",
       "      <td>More ExpLOD</td>\n",
       "      <td>More ExpLOD</td>\n",
       "      <td>More ExpLOD</td>\n",
       "      <td>More ExpLOD</td>\n",
       "    </tr>\n",
       "    <tr>\n",
       "      <th>282ef334-b2de-4873-b8c0-e6e94b9777e2</th>\n",
       "      <td>Equal</td>\n",
       "      <td>Equal</td>\n",
       "      <td>Equal</td>\n",
       "      <td>Equal</td>\n",
       "      <td>Equal</td>\n",
       "      <td>Equal</td>\n",
       "    </tr>\n",
       "    <tr>\n",
       "      <th>1cdedd0e-ada1-4901-9443-b9fe73ee4eaf</th>\n",
       "      <td>More ExpLOD</td>\n",
       "      <td>More PEM</td>\n",
       "      <td>More PEM</td>\n",
       "      <td>More ExpLOD</td>\n",
       "      <td>More ExpLOD</td>\n",
       "      <td>More ExpLOD</td>\n",
       "    </tr>\n",
       "    <tr>\n",
       "      <th>dc9db4df-d42a-42cd-879a-e678a69ed5c7</th>\n",
       "      <td>More ExpLOD</td>\n",
       "      <td>More ExpLOD</td>\n",
       "      <td>More ExpLOD</td>\n",
       "      <td>More ExpLOD</td>\n",
       "      <td>More ExpLOD</td>\n",
       "      <td>More ExpLOD</td>\n",
       "    </tr>\n",
       "    <tr>\n",
       "      <th>9c577360-04b1-483a-a984-a02a2a2c4689</th>\n",
       "      <td>Equal</td>\n",
       "      <td>More PEM</td>\n",
       "      <td>More PEM</td>\n",
       "      <td>More PEM</td>\n",
       "      <td>More PEM</td>\n",
       "      <td>More PEM</td>\n",
       "    </tr>\n",
       "    <tr>\n",
       "      <th>d37720ea-fab8-4302-8674-808017d7bf1e</th>\n",
       "      <td>Much More ExpLOD</td>\n",
       "      <td>Equal</td>\n",
       "      <td>More ExpLOD</td>\n",
       "      <td>Much More ExpLOD</td>\n",
       "      <td>Much More ExpLOD</td>\n",
       "      <td>More ExpLOD</td>\n",
       "    </tr>\n",
       "    <tr>\n",
       "      <th>fb63a3e6-6944-4b0c-8cd1-64513f81f0ea</th>\n",
       "      <td>Equal</td>\n",
       "      <td>Equal</td>\n",
       "      <td>Equal</td>\n",
       "      <td>Equal</td>\n",
       "      <td>Equal</td>\n",
       "      <td>Equal</td>\n",
       "    </tr>\n",
       "  </tbody>\n",
       "</table>\n",
       "</div>"
      ],
      "text/plain": [
       "                                            convincing          discover  \\\n",
       "ID                                                                         \n",
       "8865717f-1ee0-4efb-a09b-e1173e28cf04             Equal             Equal   \n",
       "b4d1204b-42cf-4a56-b0f7-6813795a2923             Equal  Much More ExpLOD   \n",
       "42aab9b2-db24-421f-ace6-4564397942ae       More ExpLOD          More PEM   \n",
       "1cf52f56-d06f-4f56-9b6c-3894edeb795b          More PEM             Equal   \n",
       "26bbc9a9-86bb-4974-a1b5-6601b511ba4d       More ExpLOD             Equal   \n",
       "99a9b0db-5c2f-474a-b623-73b252e9ca1f          More PEM             Equal   \n",
       "94cb0ad6-df69-4c3a-9df6-0d737a7c8add       More ExpLOD       More ExpLOD   \n",
       "bc9cb0c4-fd45-47d8-a975-5333691e2f9f  Much More ExpLOD          More PEM   \n",
       "16497ee9-9f63-4ac3-8cba-ca821cd434cc          More PEM       More ExpLOD   \n",
       "8e5115a8-aee4-403a-a33a-81a9dc677d0c     Much More PEM             Equal   \n",
       "4d1107a0-b627-4a84-a05c-f80b4132fb32       More ExpLOD       More ExpLOD   \n",
       "4221f534-a566-4fe1-af3b-2e73067a521c          More PEM     Much More PEM   \n",
       "73154f98-a5ae-4b38-9202-e688a0a86e28       More ExpLOD          More PEM   \n",
       "282ef334-b2de-4873-b8c0-e6e94b9777e2             Equal             Equal   \n",
       "1cdedd0e-ada1-4901-9443-b9fe73ee4eaf       More ExpLOD          More PEM   \n",
       "dc9db4df-d42a-42cd-879a-e678a69ed5c7       More ExpLOD       More ExpLOD   \n",
       "9c577360-04b1-483a-a984-a02a2a2c4689             Equal          More PEM   \n",
       "d37720ea-fab8-4302-8674-808017d7bf1e  Much More ExpLOD             Equal   \n",
       "fb63a3e6-6944-4b0c-8cd1-64513f81f0ea             Equal             Equal   \n",
       "\n",
       "                                          diversity        popularity  \\\n",
       "ID                                                                      \n",
       "8865717f-1ee0-4efb-a09b-e1173e28cf04          Equal             Equal   \n",
       "b4d1204b-42cf-4a56-b0f7-6813795a2923       More PEM          More PEM   \n",
       "42aab9b2-db24-421f-ace6-4564397942ae          Equal          More PEM   \n",
       "1cf52f56-d06f-4f56-9b6c-3894edeb795b       More PEM       More ExpLOD   \n",
       "26bbc9a9-86bb-4974-a1b5-6601b511ba4d          Equal       More ExpLOD   \n",
       "99a9b0db-5c2f-474a-b623-73b252e9ca1f       More PEM             Equal   \n",
       "94cb0ad6-df69-4c3a-9df6-0d737a7c8add    More ExpLOD       More ExpLOD   \n",
       "bc9cb0c4-fd45-47d8-a975-5333691e2f9f       More PEM  Much More ExpLOD   \n",
       "16497ee9-9f63-4ac3-8cba-ca821cd434cc       More PEM             Equal   \n",
       "8e5115a8-aee4-403a-a33a-81a9dc677d0c  Much More PEM     Much More PEM   \n",
       "4d1107a0-b627-4a84-a05c-f80b4132fb32    More ExpLOD       More ExpLOD   \n",
       "4221f534-a566-4fe1-af3b-2e73067a521c    More ExpLOD          More PEM   \n",
       "73154f98-a5ae-4b38-9202-e688a0a86e28    More ExpLOD       More ExpLOD   \n",
       "282ef334-b2de-4873-b8c0-e6e94b9777e2          Equal             Equal   \n",
       "1cdedd0e-ada1-4901-9443-b9fe73ee4eaf       More PEM       More ExpLOD   \n",
       "dc9db4df-d42a-42cd-879a-e678a69ed5c7    More ExpLOD       More ExpLOD   \n",
       "9c577360-04b1-483a-a984-a02a2a2c4689       More PEM          More PEM   \n",
       "d37720ea-fab8-4302-8674-808017d7bf1e    More ExpLOD  Much More ExpLOD   \n",
       "fb63a3e6-6944-4b0c-8cd1-64513f81f0ea          Equal             Equal   \n",
       "\n",
       "                                                 trust     understood  \n",
       "ID                                                                     \n",
       "8865717f-1ee0-4efb-a09b-e1173e28cf04             Equal          Equal  \n",
       "b4d1204b-42cf-4a56-b0f7-6813795a2923       More ExpLOD    More ExpLOD  \n",
       "42aab9b2-db24-421f-ace6-4564397942ae       More ExpLOD    More ExpLOD  \n",
       "1cf52f56-d06f-4f56-9b6c-3894edeb795b          More PEM       More PEM  \n",
       "26bbc9a9-86bb-4974-a1b5-6601b511ba4d       More ExpLOD    More ExpLOD  \n",
       "99a9b0db-5c2f-474a-b623-73b252e9ca1f          More PEM  Much More PEM  \n",
       "94cb0ad6-df69-4c3a-9df6-0d737a7c8add       More ExpLOD    More ExpLOD  \n",
       "bc9cb0c4-fd45-47d8-a975-5333691e2f9f       More ExpLOD    More ExpLOD  \n",
       "16497ee9-9f63-4ac3-8cba-ca821cd434cc       More ExpLOD  Much More PEM  \n",
       "8e5115a8-aee4-403a-a33a-81a9dc677d0c     Much More PEM  Much More PEM  \n",
       "4d1107a0-b627-4a84-a05c-f80b4132fb32       More ExpLOD    More ExpLOD  \n",
       "4221f534-a566-4fe1-af3b-2e73067a521c          More PEM       More PEM  \n",
       "73154f98-a5ae-4b38-9202-e688a0a86e28       More ExpLOD    More ExpLOD  \n",
       "282ef334-b2de-4873-b8c0-e6e94b9777e2             Equal          Equal  \n",
       "1cdedd0e-ada1-4901-9443-b9fe73ee4eaf       More ExpLOD    More ExpLOD  \n",
       "dc9db4df-d42a-42cd-879a-e678a69ed5c7       More ExpLOD    More ExpLOD  \n",
       "9c577360-04b1-483a-a984-a02a2a2c4689          More PEM       More PEM  \n",
       "d37720ea-fab8-4302-8674-808017d7bf1e  Much More ExpLOD    More ExpLOD  \n",
       "fb63a3e6-6944-4b0c-8cd1-64513f81f0ea             Equal          Equal  "
      ]
     },
     "execution_count": 58,
     "metadata": {},
     "output_type": "execute_result"
    }
   ],
   "source": [
    "results_all = pd.concat([results_repla, results_replb])\n",
    "results_all"
   ]
  },
  {
   "cell_type": "code",
   "execution_count": 59,
   "id": "23c0c566",
   "metadata": {},
   "outputs": [
    {
     "data": {
      "application/vnd.microsoft.datawrangler.viewer.v0+json": {
       "columns": [
        {
         "name": "ID",
         "rawType": "object",
         "type": "string"
        },
        {
         "name": "convincing",
         "rawType": "object",
         "type": "string"
        },
        {
         "name": "discover",
         "rawType": "object",
         "type": "string"
        },
        {
         "name": "diversity",
         "rawType": "object",
         "type": "string"
        },
        {
         "name": "popularity",
         "rawType": "object",
         "type": "string"
        },
        {
         "name": "trust",
         "rawType": "object",
         "type": "string"
        },
        {
         "name": "understood",
         "rawType": "object",
         "type": "string"
        },
        {
         "name": "end_diff",
         "rawType": "int64",
         "type": "integer"
        }
       ],
       "ref": "209b1530-4432-4ed8-b4fa-945ce3452bd7",
       "rows": [
        [
         "8865717f-1ee0-4efb-a09b-e1173e28cf04",
         "Equal",
         "Equal",
         "Equal",
         "Equal",
         "Equal",
         "Equal",
         "0"
        ],
        [
         "b4d1204b-42cf-4a56-b0f7-6813795a2923",
         "Equal",
         "Much More ExpLOD",
         "More PEM",
         "More PEM",
         "More ExpLOD",
         "More ExpLOD",
         "1"
        ],
        [
         "42aab9b2-db24-421f-ace6-4564397942ae",
         "More ExpLOD",
         "More PEM",
         "Equal",
         "More PEM",
         "More ExpLOD",
         "More ExpLOD",
         "1"
        ],
        [
         "1cf52f56-d06f-4f56-9b6c-3894edeb795b",
         "More PEM",
         "Equal",
         "More PEM",
         "More ExpLOD",
         "More PEM",
         "More PEM",
         "1"
        ],
        [
         "26bbc9a9-86bb-4974-a1b5-6601b511ba4d",
         "More ExpLOD",
         "Equal",
         "Equal",
         "More ExpLOD",
         "More ExpLOD",
         "More ExpLOD",
         "1"
        ],
        [
         "99a9b0db-5c2f-474a-b623-73b252e9ca1f",
         "More PEM",
         "Equal",
         "More PEM",
         "Equal",
         "More PEM",
         "Much More PEM",
         "0"
        ],
        [
         "94cb0ad6-df69-4c3a-9df6-0d737a7c8add",
         "More ExpLOD",
         "More ExpLOD",
         "More ExpLOD",
         "More ExpLOD",
         "More ExpLOD",
         "More ExpLOD",
         "1"
        ],
        [
         "bc9cb0c4-fd45-47d8-a975-5333691e2f9f",
         "Much More ExpLOD",
         "More PEM",
         "More PEM",
         "Much More ExpLOD",
         "More ExpLOD",
         "More ExpLOD",
         "1"
        ],
        [
         "16497ee9-9f63-4ac3-8cba-ca821cd434cc",
         "More PEM",
         "More ExpLOD",
         "More PEM",
         "Equal",
         "More ExpLOD",
         "Much More PEM",
         "1"
        ],
        [
         "8e5115a8-aee4-403a-a33a-81a9dc677d0c",
         "Much More PEM",
         "Equal",
         "Much More PEM",
         "Much More PEM",
         "Much More PEM",
         "Much More PEM",
         "1"
        ],
        [
         "4d1107a0-b627-4a84-a05c-f80b4132fb32",
         "More ExpLOD",
         "More ExpLOD",
         "More ExpLOD",
         "More ExpLOD",
         "More ExpLOD",
         "More ExpLOD",
         "0"
        ],
        [
         "4221f534-a566-4fe1-af3b-2e73067a521c",
         "More PEM",
         "Much More PEM",
         "More ExpLOD",
         "More PEM",
         "More PEM",
         "More PEM",
         "1"
        ],
        [
         "73154f98-a5ae-4b38-9202-e688a0a86e28",
         "More ExpLOD",
         "More PEM",
         "More ExpLOD",
         "More ExpLOD",
         "More ExpLOD",
         "More ExpLOD",
         "1"
        ],
        [
         "282ef334-b2de-4873-b8c0-e6e94b9777e2",
         "Equal",
         "Equal",
         "Equal",
         "Equal",
         "Equal",
         "Equal",
         "1"
        ],
        [
         "1cdedd0e-ada1-4901-9443-b9fe73ee4eaf",
         "More ExpLOD",
         "More PEM",
         "More PEM",
         "More ExpLOD",
         "More ExpLOD",
         "More ExpLOD",
         "0"
        ],
        [
         "dc9db4df-d42a-42cd-879a-e678a69ed5c7",
         "More ExpLOD",
         "More ExpLOD",
         "More ExpLOD",
         "More ExpLOD",
         "More ExpLOD",
         "More ExpLOD",
         "1"
        ],
        [
         "9c577360-04b1-483a-a984-a02a2a2c4689",
         "Equal",
         "More PEM",
         "More PEM",
         "More PEM",
         "More PEM",
         "More PEM",
         "0"
        ],
        [
         "d37720ea-fab8-4302-8674-808017d7bf1e",
         "Much More ExpLOD",
         "Equal",
         "More ExpLOD",
         "Much More ExpLOD",
         "Much More ExpLOD",
         "More ExpLOD",
         "1"
        ],
        [
         "fb63a3e6-6944-4b0c-8cd1-64513f81f0ea",
         "Equal",
         "Equal",
         "Equal",
         "Equal",
         "Equal",
         "Equal",
         "1"
        ]
       ],
       "shape": {
        "columns": 7,
        "rows": 19
       }
      },
      "text/html": [
       "<div>\n",
       "<style scoped>\n",
       "    .dataframe tbody tr th:only-of-type {\n",
       "        vertical-align: middle;\n",
       "    }\n",
       "\n",
       "    .dataframe tbody tr th {\n",
       "        vertical-align: top;\n",
       "    }\n",
       "\n",
       "    .dataframe thead th {\n",
       "        text-align: right;\n",
       "    }\n",
       "</style>\n",
       "<table border=\"1\" class=\"dataframe\">\n",
       "  <thead>\n",
       "    <tr style=\"text-align: right;\">\n",
       "      <th></th>\n",
       "      <th>convincing</th>\n",
       "      <th>discover</th>\n",
       "      <th>diversity</th>\n",
       "      <th>popularity</th>\n",
       "      <th>trust</th>\n",
       "      <th>understood</th>\n",
       "      <th>end_diff</th>\n",
       "    </tr>\n",
       "    <tr>\n",
       "      <th>ID</th>\n",
       "      <th></th>\n",
       "      <th></th>\n",
       "      <th></th>\n",
       "      <th></th>\n",
       "      <th></th>\n",
       "      <th></th>\n",
       "      <th></th>\n",
       "    </tr>\n",
       "  </thead>\n",
       "  <tbody>\n",
       "    <tr>\n",
       "      <th>8865717f-1ee0-4efb-a09b-e1173e28cf04</th>\n",
       "      <td>Equal</td>\n",
       "      <td>Equal</td>\n",
       "      <td>Equal</td>\n",
       "      <td>Equal</td>\n",
       "      <td>Equal</td>\n",
       "      <td>Equal</td>\n",
       "      <td>0</td>\n",
       "    </tr>\n",
       "    <tr>\n",
       "      <th>b4d1204b-42cf-4a56-b0f7-6813795a2923</th>\n",
       "      <td>Equal</td>\n",
       "      <td>Much More ExpLOD</td>\n",
       "      <td>More PEM</td>\n",
       "      <td>More PEM</td>\n",
       "      <td>More ExpLOD</td>\n",
       "      <td>More ExpLOD</td>\n",
       "      <td>1</td>\n",
       "    </tr>\n",
       "    <tr>\n",
       "      <th>42aab9b2-db24-421f-ace6-4564397942ae</th>\n",
       "      <td>More ExpLOD</td>\n",
       "      <td>More PEM</td>\n",
       "      <td>Equal</td>\n",
       "      <td>More PEM</td>\n",
       "      <td>More ExpLOD</td>\n",
       "      <td>More ExpLOD</td>\n",
       "      <td>1</td>\n",
       "    </tr>\n",
       "    <tr>\n",
       "      <th>1cf52f56-d06f-4f56-9b6c-3894edeb795b</th>\n",
       "      <td>More PEM</td>\n",
       "      <td>Equal</td>\n",
       "      <td>More PEM</td>\n",
       "      <td>More ExpLOD</td>\n",
       "      <td>More PEM</td>\n",
       "      <td>More PEM</td>\n",
       "      <td>1</td>\n",
       "    </tr>\n",
       "    <tr>\n",
       "      <th>26bbc9a9-86bb-4974-a1b5-6601b511ba4d</th>\n",
       "      <td>More ExpLOD</td>\n",
       "      <td>Equal</td>\n",
       "      <td>Equal</td>\n",
       "      <td>More ExpLOD</td>\n",
       "      <td>More ExpLOD</td>\n",
       "      <td>More ExpLOD</td>\n",
       "      <td>1</td>\n",
       "    </tr>\n",
       "    <tr>\n",
       "      <th>99a9b0db-5c2f-474a-b623-73b252e9ca1f</th>\n",
       "      <td>More PEM</td>\n",
       "      <td>Equal</td>\n",
       "      <td>More PEM</td>\n",
       "      <td>Equal</td>\n",
       "      <td>More PEM</td>\n",
       "      <td>Much More PEM</td>\n",
       "      <td>0</td>\n",
       "    </tr>\n",
       "    <tr>\n",
       "      <th>94cb0ad6-df69-4c3a-9df6-0d737a7c8add</th>\n",
       "      <td>More ExpLOD</td>\n",
       "      <td>More ExpLOD</td>\n",
       "      <td>More ExpLOD</td>\n",
       "      <td>More ExpLOD</td>\n",
       "      <td>More ExpLOD</td>\n",
       "      <td>More ExpLOD</td>\n",
       "      <td>1</td>\n",
       "    </tr>\n",
       "    <tr>\n",
       "      <th>bc9cb0c4-fd45-47d8-a975-5333691e2f9f</th>\n",
       "      <td>Much More ExpLOD</td>\n",
       "      <td>More PEM</td>\n",
       "      <td>More PEM</td>\n",
       "      <td>Much More ExpLOD</td>\n",
       "      <td>More ExpLOD</td>\n",
       "      <td>More ExpLOD</td>\n",
       "      <td>1</td>\n",
       "    </tr>\n",
       "    <tr>\n",
       "      <th>16497ee9-9f63-4ac3-8cba-ca821cd434cc</th>\n",
       "      <td>More PEM</td>\n",
       "      <td>More ExpLOD</td>\n",
       "      <td>More PEM</td>\n",
       "      <td>Equal</td>\n",
       "      <td>More ExpLOD</td>\n",
       "      <td>Much More PEM</td>\n",
       "      <td>1</td>\n",
       "    </tr>\n",
       "    <tr>\n",
       "      <th>8e5115a8-aee4-403a-a33a-81a9dc677d0c</th>\n",
       "      <td>Much More PEM</td>\n",
       "      <td>Equal</td>\n",
       "      <td>Much More PEM</td>\n",
       "      <td>Much More PEM</td>\n",
       "      <td>Much More PEM</td>\n",
       "      <td>Much More PEM</td>\n",
       "      <td>1</td>\n",
       "    </tr>\n",
       "    <tr>\n",
       "      <th>4d1107a0-b627-4a84-a05c-f80b4132fb32</th>\n",
       "      <td>More ExpLOD</td>\n",
       "      <td>More ExpLOD</td>\n",
       "      <td>More ExpLOD</td>\n",
       "      <td>More ExpLOD</td>\n",
       "      <td>More ExpLOD</td>\n",
       "      <td>More ExpLOD</td>\n",
       "      <td>0</td>\n",
       "    </tr>\n",
       "    <tr>\n",
       "      <th>4221f534-a566-4fe1-af3b-2e73067a521c</th>\n",
       "      <td>More PEM</td>\n",
       "      <td>Much More PEM</td>\n",
       "      <td>More ExpLOD</td>\n",
       "      <td>More PEM</td>\n",
       "      <td>More PEM</td>\n",
       "      <td>More PEM</td>\n",
       "      <td>1</td>\n",
       "    </tr>\n",
       "    <tr>\n",
       "      <th>73154f98-a5ae-4b38-9202-e688a0a86e28</th>\n",
       "      <td>More ExpLOD</td>\n",
       "      <td>More PEM</td>\n",
       "      <td>More ExpLOD</td>\n",
       "      <td>More ExpLOD</td>\n",
       "      <td>More ExpLOD</td>\n",
       "      <td>More ExpLOD</td>\n",
       "      <td>1</td>\n",
       "    </tr>\n",
       "    <tr>\n",
       "      <th>282ef334-b2de-4873-b8c0-e6e94b9777e2</th>\n",
       "      <td>Equal</td>\n",
       "      <td>Equal</td>\n",
       "      <td>Equal</td>\n",
       "      <td>Equal</td>\n",
       "      <td>Equal</td>\n",
       "      <td>Equal</td>\n",
       "      <td>1</td>\n",
       "    </tr>\n",
       "    <tr>\n",
       "      <th>1cdedd0e-ada1-4901-9443-b9fe73ee4eaf</th>\n",
       "      <td>More ExpLOD</td>\n",
       "      <td>More PEM</td>\n",
       "      <td>More PEM</td>\n",
       "      <td>More ExpLOD</td>\n",
       "      <td>More ExpLOD</td>\n",
       "      <td>More ExpLOD</td>\n",
       "      <td>0</td>\n",
       "    </tr>\n",
       "    <tr>\n",
       "      <th>dc9db4df-d42a-42cd-879a-e678a69ed5c7</th>\n",
       "      <td>More ExpLOD</td>\n",
       "      <td>More ExpLOD</td>\n",
       "      <td>More ExpLOD</td>\n",
       "      <td>More ExpLOD</td>\n",
       "      <td>More ExpLOD</td>\n",
       "      <td>More ExpLOD</td>\n",
       "      <td>1</td>\n",
       "    </tr>\n",
       "    <tr>\n",
       "      <th>9c577360-04b1-483a-a984-a02a2a2c4689</th>\n",
       "      <td>Equal</td>\n",
       "      <td>More PEM</td>\n",
       "      <td>More PEM</td>\n",
       "      <td>More PEM</td>\n",
       "      <td>More PEM</td>\n",
       "      <td>More PEM</td>\n",
       "      <td>0</td>\n",
       "    </tr>\n",
       "    <tr>\n",
       "      <th>d37720ea-fab8-4302-8674-808017d7bf1e</th>\n",
       "      <td>Much More ExpLOD</td>\n",
       "      <td>Equal</td>\n",
       "      <td>More ExpLOD</td>\n",
       "      <td>Much More ExpLOD</td>\n",
       "      <td>Much More ExpLOD</td>\n",
       "      <td>More ExpLOD</td>\n",
       "      <td>1</td>\n",
       "    </tr>\n",
       "    <tr>\n",
       "      <th>fb63a3e6-6944-4b0c-8cd1-64513f81f0ea</th>\n",
       "      <td>Equal</td>\n",
       "      <td>Equal</td>\n",
       "      <td>Equal</td>\n",
       "      <td>Equal</td>\n",
       "      <td>Equal</td>\n",
       "      <td>Equal</td>\n",
       "      <td>1</td>\n",
       "    </tr>\n",
       "  </tbody>\n",
       "</table>\n",
       "</div>"
      ],
      "text/plain": [
       "                                            convincing          discover  \\\n",
       "ID                                                                         \n",
       "8865717f-1ee0-4efb-a09b-e1173e28cf04             Equal             Equal   \n",
       "b4d1204b-42cf-4a56-b0f7-6813795a2923             Equal  Much More ExpLOD   \n",
       "42aab9b2-db24-421f-ace6-4564397942ae       More ExpLOD          More PEM   \n",
       "1cf52f56-d06f-4f56-9b6c-3894edeb795b          More PEM             Equal   \n",
       "26bbc9a9-86bb-4974-a1b5-6601b511ba4d       More ExpLOD             Equal   \n",
       "99a9b0db-5c2f-474a-b623-73b252e9ca1f          More PEM             Equal   \n",
       "94cb0ad6-df69-4c3a-9df6-0d737a7c8add       More ExpLOD       More ExpLOD   \n",
       "bc9cb0c4-fd45-47d8-a975-5333691e2f9f  Much More ExpLOD          More PEM   \n",
       "16497ee9-9f63-4ac3-8cba-ca821cd434cc          More PEM       More ExpLOD   \n",
       "8e5115a8-aee4-403a-a33a-81a9dc677d0c     Much More PEM             Equal   \n",
       "4d1107a0-b627-4a84-a05c-f80b4132fb32       More ExpLOD       More ExpLOD   \n",
       "4221f534-a566-4fe1-af3b-2e73067a521c          More PEM     Much More PEM   \n",
       "73154f98-a5ae-4b38-9202-e688a0a86e28       More ExpLOD          More PEM   \n",
       "282ef334-b2de-4873-b8c0-e6e94b9777e2             Equal             Equal   \n",
       "1cdedd0e-ada1-4901-9443-b9fe73ee4eaf       More ExpLOD          More PEM   \n",
       "dc9db4df-d42a-42cd-879a-e678a69ed5c7       More ExpLOD       More ExpLOD   \n",
       "9c577360-04b1-483a-a984-a02a2a2c4689             Equal          More PEM   \n",
       "d37720ea-fab8-4302-8674-808017d7bf1e  Much More ExpLOD             Equal   \n",
       "fb63a3e6-6944-4b0c-8cd1-64513f81f0ea             Equal             Equal   \n",
       "\n",
       "                                          diversity        popularity  \\\n",
       "ID                                                                      \n",
       "8865717f-1ee0-4efb-a09b-e1173e28cf04          Equal             Equal   \n",
       "b4d1204b-42cf-4a56-b0f7-6813795a2923       More PEM          More PEM   \n",
       "42aab9b2-db24-421f-ace6-4564397942ae          Equal          More PEM   \n",
       "1cf52f56-d06f-4f56-9b6c-3894edeb795b       More PEM       More ExpLOD   \n",
       "26bbc9a9-86bb-4974-a1b5-6601b511ba4d          Equal       More ExpLOD   \n",
       "99a9b0db-5c2f-474a-b623-73b252e9ca1f       More PEM             Equal   \n",
       "94cb0ad6-df69-4c3a-9df6-0d737a7c8add    More ExpLOD       More ExpLOD   \n",
       "bc9cb0c4-fd45-47d8-a975-5333691e2f9f       More PEM  Much More ExpLOD   \n",
       "16497ee9-9f63-4ac3-8cba-ca821cd434cc       More PEM             Equal   \n",
       "8e5115a8-aee4-403a-a33a-81a9dc677d0c  Much More PEM     Much More PEM   \n",
       "4d1107a0-b627-4a84-a05c-f80b4132fb32    More ExpLOD       More ExpLOD   \n",
       "4221f534-a566-4fe1-af3b-2e73067a521c    More ExpLOD          More PEM   \n",
       "73154f98-a5ae-4b38-9202-e688a0a86e28    More ExpLOD       More ExpLOD   \n",
       "282ef334-b2de-4873-b8c0-e6e94b9777e2          Equal             Equal   \n",
       "1cdedd0e-ada1-4901-9443-b9fe73ee4eaf       More PEM       More ExpLOD   \n",
       "dc9db4df-d42a-42cd-879a-e678a69ed5c7    More ExpLOD       More ExpLOD   \n",
       "9c577360-04b1-483a-a984-a02a2a2c4689       More PEM          More PEM   \n",
       "d37720ea-fab8-4302-8674-808017d7bf1e    More ExpLOD  Much More ExpLOD   \n",
       "fb63a3e6-6944-4b0c-8cd1-64513f81f0ea          Equal             Equal   \n",
       "\n",
       "                                                 trust     understood  \\\n",
       "ID                                                                      \n",
       "8865717f-1ee0-4efb-a09b-e1173e28cf04             Equal          Equal   \n",
       "b4d1204b-42cf-4a56-b0f7-6813795a2923       More ExpLOD    More ExpLOD   \n",
       "42aab9b2-db24-421f-ace6-4564397942ae       More ExpLOD    More ExpLOD   \n",
       "1cf52f56-d06f-4f56-9b6c-3894edeb795b          More PEM       More PEM   \n",
       "26bbc9a9-86bb-4974-a1b5-6601b511ba4d       More ExpLOD    More ExpLOD   \n",
       "99a9b0db-5c2f-474a-b623-73b252e9ca1f          More PEM  Much More PEM   \n",
       "94cb0ad6-df69-4c3a-9df6-0d737a7c8add       More ExpLOD    More ExpLOD   \n",
       "bc9cb0c4-fd45-47d8-a975-5333691e2f9f       More ExpLOD    More ExpLOD   \n",
       "16497ee9-9f63-4ac3-8cba-ca821cd434cc       More ExpLOD  Much More PEM   \n",
       "8e5115a8-aee4-403a-a33a-81a9dc677d0c     Much More PEM  Much More PEM   \n",
       "4d1107a0-b627-4a84-a05c-f80b4132fb32       More ExpLOD    More ExpLOD   \n",
       "4221f534-a566-4fe1-af3b-2e73067a521c          More PEM       More PEM   \n",
       "73154f98-a5ae-4b38-9202-e688a0a86e28       More ExpLOD    More ExpLOD   \n",
       "282ef334-b2de-4873-b8c0-e6e94b9777e2             Equal          Equal   \n",
       "1cdedd0e-ada1-4901-9443-b9fe73ee4eaf       More ExpLOD    More ExpLOD   \n",
       "dc9db4df-d42a-42cd-879a-e678a69ed5c7       More ExpLOD    More ExpLOD   \n",
       "9c577360-04b1-483a-a984-a02a2a2c4689          More PEM       More PEM   \n",
       "d37720ea-fab8-4302-8674-808017d7bf1e  Much More ExpLOD    More ExpLOD   \n",
       "fb63a3e6-6944-4b0c-8cd1-64513f81f0ea             Equal          Equal   \n",
       "\n",
       "                                      end_diff  \n",
       "ID                                              \n",
       "8865717f-1ee0-4efb-a09b-e1173e28cf04         0  \n",
       "b4d1204b-42cf-4a56-b0f7-6813795a2923         1  \n",
       "42aab9b2-db24-421f-ace6-4564397942ae         1  \n",
       "1cf52f56-d06f-4f56-9b6c-3894edeb795b         1  \n",
       "26bbc9a9-86bb-4974-a1b5-6601b511ba4d         1  \n",
       "99a9b0db-5c2f-474a-b623-73b252e9ca1f         0  \n",
       "94cb0ad6-df69-4c3a-9df6-0d737a7c8add         1  \n",
       "bc9cb0c4-fd45-47d8-a975-5333691e2f9f         1  \n",
       "16497ee9-9f63-4ac3-8cba-ca821cd434cc         1  \n",
       "8e5115a8-aee4-403a-a33a-81a9dc677d0c         1  \n",
       "4d1107a0-b627-4a84-a05c-f80b4132fb32         0  \n",
       "4221f534-a566-4fe1-af3b-2e73067a521c         1  \n",
       "73154f98-a5ae-4b38-9202-e688a0a86e28         1  \n",
       "282ef334-b2de-4873-b8c0-e6e94b9777e2         1  \n",
       "1cdedd0e-ada1-4901-9443-b9fe73ee4eaf         0  \n",
       "dc9db4df-d42a-42cd-879a-e678a69ed5c7         1  \n",
       "9c577360-04b1-483a-a984-a02a2a2c4689         0  \n",
       "d37720ea-fab8-4302-8674-808017d7bf1e         1  \n",
       "fb63a3e6-6944-4b0c-8cd1-64513f81f0ea         1  "
      ]
     },
     "execution_count": 59,
     "metadata": {},
     "output_type": "execute_result"
    }
   ],
   "source": [
    "results_all[\"end_diff\"] = end_diff\n",
    "results_all"
   ]
  },
  {
   "cell_type": "code",
   "execution_count": 60,
   "id": "50e32fcf",
   "metadata": {},
   "outputs": [
    {
     "name": "stderr",
     "output_type": "stream",
     "text": [
      "C:\\Users\\andre\\AppData\\Local\\Temp\\ipykernel_19904\\1206496527.py:18: SettingWithCopyWarning: \n",
      "A value is trying to be set on a copy of a slice from a DataFrame.\n",
      "Try using .loc[row_indexer,col_indexer] = value instead\n",
      "\n",
      "See the caveats in the documentation: https://pandas.pydata.org/pandas-docs/stable/user_guide/indexing.html#returning-a-view-versus-a-copy\n",
      "  results_all[col] = results_all.apply(lambda row: replace_values(row, col), axis=1)\n"
     ]
    },
    {
     "data": {
      "application/vnd.microsoft.datawrangler.viewer.v0+json": {
       "columns": [
        {
         "name": "ID",
         "rawType": "object",
         "type": "string"
        },
        {
         "name": "convincing",
         "rawType": "int64",
         "type": "integer"
        },
        {
         "name": "discover",
         "rawType": "int64",
         "type": "integer"
        },
        {
         "name": "diversity",
         "rawType": "int64",
         "type": "integer"
        },
        {
         "name": "popularity",
         "rawType": "int64",
         "type": "integer"
        },
        {
         "name": "trust",
         "rawType": "int64",
         "type": "integer"
        },
        {
         "name": "understood",
         "rawType": "int64",
         "type": "integer"
        },
        {
         "name": "end_diff",
         "rawType": "int64",
         "type": "integer"
        }
       ],
       "ref": "4dfa8c30-4cc4-4f06-9ca0-b756b7579824",
       "rows": [
        [
         "b4d1204b-42cf-4a56-b0f7-6813795a2923",
         "0",
         "-2",
         "1",
         "1",
         "-1",
         "-1",
         "1"
        ],
        [
         "42aab9b2-db24-421f-ace6-4564397942ae",
         "-1",
         "1",
         "0",
         "1",
         "-1",
         "-1",
         "1"
        ],
        [
         "1cf52f56-d06f-4f56-9b6c-3894edeb795b",
         "1",
         "0",
         "1",
         "-1",
         "1",
         "1",
         "1"
        ],
        [
         "26bbc9a9-86bb-4974-a1b5-6601b511ba4d",
         "-1",
         "0",
         "0",
         "-1",
         "-1",
         "-1",
         "1"
        ],
        [
         "94cb0ad6-df69-4c3a-9df6-0d737a7c8add",
         "-1",
         "-1",
         "-1",
         "-1",
         "-1",
         "-1",
         "1"
        ],
        [
         "bc9cb0c4-fd45-47d8-a975-5333691e2f9f",
         "-2",
         "1",
         "1",
         "-2",
         "-1",
         "-1",
         "1"
        ],
        [
         "16497ee9-9f63-4ac3-8cba-ca821cd434cc",
         "1",
         "-1",
         "1",
         "0",
         "-1",
         "2",
         "1"
        ],
        [
         "8e5115a8-aee4-403a-a33a-81a9dc677d0c",
         "2",
         "0",
         "2",
         "2",
         "2",
         "2",
         "1"
        ],
        [
         "4221f534-a566-4fe1-af3b-2e73067a521c",
         "1",
         "2",
         "-1",
         "1",
         "1",
         "1",
         "1"
        ],
        [
         "73154f98-a5ae-4b38-9202-e688a0a86e28",
         "-1",
         "1",
         "-1",
         "-1",
         "-1",
         "-1",
         "1"
        ],
        [
         "282ef334-b2de-4873-b8c0-e6e94b9777e2",
         "0",
         "0",
         "0",
         "0",
         "0",
         "0",
         "1"
        ],
        [
         "dc9db4df-d42a-42cd-879a-e678a69ed5c7",
         "-1",
         "-1",
         "-1",
         "-1",
         "-1",
         "-1",
         "1"
        ],
        [
         "d37720ea-fab8-4302-8674-808017d7bf1e",
         "-2",
         "0",
         "-1",
         "-2",
         "-2",
         "-1",
         "1"
        ],
        [
         "fb63a3e6-6944-4b0c-8cd1-64513f81f0ea",
         "0",
         "0",
         "0",
         "0",
         "0",
         "0",
         "1"
        ]
       ],
       "shape": {
        "columns": 7,
        "rows": 14
       }
      },
      "text/html": [
       "<div>\n",
       "<style scoped>\n",
       "    .dataframe tbody tr th:only-of-type {\n",
       "        vertical-align: middle;\n",
       "    }\n",
       "\n",
       "    .dataframe tbody tr th {\n",
       "        vertical-align: top;\n",
       "    }\n",
       "\n",
       "    .dataframe thead th {\n",
       "        text-align: right;\n",
       "    }\n",
       "</style>\n",
       "<table border=\"1\" class=\"dataframe\">\n",
       "  <thead>\n",
       "    <tr style=\"text-align: right;\">\n",
       "      <th></th>\n",
       "      <th>convincing</th>\n",
       "      <th>discover</th>\n",
       "      <th>diversity</th>\n",
       "      <th>popularity</th>\n",
       "      <th>trust</th>\n",
       "      <th>understood</th>\n",
       "      <th>end_diff</th>\n",
       "    </tr>\n",
       "    <tr>\n",
       "      <th>ID</th>\n",
       "      <th></th>\n",
       "      <th></th>\n",
       "      <th></th>\n",
       "      <th></th>\n",
       "      <th></th>\n",
       "      <th></th>\n",
       "      <th></th>\n",
       "    </tr>\n",
       "  </thead>\n",
       "  <tbody>\n",
       "    <tr>\n",
       "      <th>b4d1204b-42cf-4a56-b0f7-6813795a2923</th>\n",
       "      <td>0</td>\n",
       "      <td>-2</td>\n",
       "      <td>1</td>\n",
       "      <td>1</td>\n",
       "      <td>-1</td>\n",
       "      <td>-1</td>\n",
       "      <td>1</td>\n",
       "    </tr>\n",
       "    <tr>\n",
       "      <th>42aab9b2-db24-421f-ace6-4564397942ae</th>\n",
       "      <td>-1</td>\n",
       "      <td>1</td>\n",
       "      <td>0</td>\n",
       "      <td>1</td>\n",
       "      <td>-1</td>\n",
       "      <td>-1</td>\n",
       "      <td>1</td>\n",
       "    </tr>\n",
       "    <tr>\n",
       "      <th>1cf52f56-d06f-4f56-9b6c-3894edeb795b</th>\n",
       "      <td>1</td>\n",
       "      <td>0</td>\n",
       "      <td>1</td>\n",
       "      <td>-1</td>\n",
       "      <td>1</td>\n",
       "      <td>1</td>\n",
       "      <td>1</td>\n",
       "    </tr>\n",
       "    <tr>\n",
       "      <th>26bbc9a9-86bb-4974-a1b5-6601b511ba4d</th>\n",
       "      <td>-1</td>\n",
       "      <td>0</td>\n",
       "      <td>0</td>\n",
       "      <td>-1</td>\n",
       "      <td>-1</td>\n",
       "      <td>-1</td>\n",
       "      <td>1</td>\n",
       "    </tr>\n",
       "    <tr>\n",
       "      <th>94cb0ad6-df69-4c3a-9df6-0d737a7c8add</th>\n",
       "      <td>-1</td>\n",
       "      <td>-1</td>\n",
       "      <td>-1</td>\n",
       "      <td>-1</td>\n",
       "      <td>-1</td>\n",
       "      <td>-1</td>\n",
       "      <td>1</td>\n",
       "    </tr>\n",
       "    <tr>\n",
       "      <th>bc9cb0c4-fd45-47d8-a975-5333691e2f9f</th>\n",
       "      <td>-2</td>\n",
       "      <td>1</td>\n",
       "      <td>1</td>\n",
       "      <td>-2</td>\n",
       "      <td>-1</td>\n",
       "      <td>-1</td>\n",
       "      <td>1</td>\n",
       "    </tr>\n",
       "    <tr>\n",
       "      <th>16497ee9-9f63-4ac3-8cba-ca821cd434cc</th>\n",
       "      <td>1</td>\n",
       "      <td>-1</td>\n",
       "      <td>1</td>\n",
       "      <td>0</td>\n",
       "      <td>-1</td>\n",
       "      <td>2</td>\n",
       "      <td>1</td>\n",
       "    </tr>\n",
       "    <tr>\n",
       "      <th>8e5115a8-aee4-403a-a33a-81a9dc677d0c</th>\n",
       "      <td>2</td>\n",
       "      <td>0</td>\n",
       "      <td>2</td>\n",
       "      <td>2</td>\n",
       "      <td>2</td>\n",
       "      <td>2</td>\n",
       "      <td>1</td>\n",
       "    </tr>\n",
       "    <tr>\n",
       "      <th>4221f534-a566-4fe1-af3b-2e73067a521c</th>\n",
       "      <td>1</td>\n",
       "      <td>2</td>\n",
       "      <td>-1</td>\n",
       "      <td>1</td>\n",
       "      <td>1</td>\n",
       "      <td>1</td>\n",
       "      <td>1</td>\n",
       "    </tr>\n",
       "    <tr>\n",
       "      <th>73154f98-a5ae-4b38-9202-e688a0a86e28</th>\n",
       "      <td>-1</td>\n",
       "      <td>1</td>\n",
       "      <td>-1</td>\n",
       "      <td>-1</td>\n",
       "      <td>-1</td>\n",
       "      <td>-1</td>\n",
       "      <td>1</td>\n",
       "    </tr>\n",
       "    <tr>\n",
       "      <th>282ef334-b2de-4873-b8c0-e6e94b9777e2</th>\n",
       "      <td>0</td>\n",
       "      <td>0</td>\n",
       "      <td>0</td>\n",
       "      <td>0</td>\n",
       "      <td>0</td>\n",
       "      <td>0</td>\n",
       "      <td>1</td>\n",
       "    </tr>\n",
       "    <tr>\n",
       "      <th>dc9db4df-d42a-42cd-879a-e678a69ed5c7</th>\n",
       "      <td>-1</td>\n",
       "      <td>-1</td>\n",
       "      <td>-1</td>\n",
       "      <td>-1</td>\n",
       "      <td>-1</td>\n",
       "      <td>-1</td>\n",
       "      <td>1</td>\n",
       "    </tr>\n",
       "    <tr>\n",
       "      <th>d37720ea-fab8-4302-8674-808017d7bf1e</th>\n",
       "      <td>-2</td>\n",
       "      <td>0</td>\n",
       "      <td>-1</td>\n",
       "      <td>-2</td>\n",
       "      <td>-2</td>\n",
       "      <td>-1</td>\n",
       "      <td>1</td>\n",
       "    </tr>\n",
       "    <tr>\n",
       "      <th>fb63a3e6-6944-4b0c-8cd1-64513f81f0ea</th>\n",
       "      <td>0</td>\n",
       "      <td>0</td>\n",
       "      <td>0</td>\n",
       "      <td>0</td>\n",
       "      <td>0</td>\n",
       "      <td>0</td>\n",
       "      <td>1</td>\n",
       "    </tr>\n",
       "  </tbody>\n",
       "</table>\n",
       "</div>"
      ],
      "text/plain": [
       "                                      convincing  discover  diversity  \\\n",
       "ID                                                                      \n",
       "b4d1204b-42cf-4a56-b0f7-6813795a2923           0        -2          1   \n",
       "42aab9b2-db24-421f-ace6-4564397942ae          -1         1          0   \n",
       "1cf52f56-d06f-4f56-9b6c-3894edeb795b           1         0          1   \n",
       "26bbc9a9-86bb-4974-a1b5-6601b511ba4d          -1         0          0   \n",
       "94cb0ad6-df69-4c3a-9df6-0d737a7c8add          -1        -1         -1   \n",
       "bc9cb0c4-fd45-47d8-a975-5333691e2f9f          -2         1          1   \n",
       "16497ee9-9f63-4ac3-8cba-ca821cd434cc           1        -1          1   \n",
       "8e5115a8-aee4-403a-a33a-81a9dc677d0c           2         0          2   \n",
       "4221f534-a566-4fe1-af3b-2e73067a521c           1         2         -1   \n",
       "73154f98-a5ae-4b38-9202-e688a0a86e28          -1         1         -1   \n",
       "282ef334-b2de-4873-b8c0-e6e94b9777e2           0         0          0   \n",
       "dc9db4df-d42a-42cd-879a-e678a69ed5c7          -1        -1         -1   \n",
       "d37720ea-fab8-4302-8674-808017d7bf1e          -2         0         -1   \n",
       "fb63a3e6-6944-4b0c-8cd1-64513f81f0ea           0         0          0   \n",
       "\n",
       "                                      popularity  trust  understood  end_diff  \n",
       "ID                                                                             \n",
       "b4d1204b-42cf-4a56-b0f7-6813795a2923           1     -1          -1         1  \n",
       "42aab9b2-db24-421f-ace6-4564397942ae           1     -1          -1         1  \n",
       "1cf52f56-d06f-4f56-9b6c-3894edeb795b          -1      1           1         1  \n",
       "26bbc9a9-86bb-4974-a1b5-6601b511ba4d          -1     -1          -1         1  \n",
       "94cb0ad6-df69-4c3a-9df6-0d737a7c8add          -1     -1          -1         1  \n",
       "bc9cb0c4-fd45-47d8-a975-5333691e2f9f          -2     -1          -1         1  \n",
       "16497ee9-9f63-4ac3-8cba-ca821cd434cc           0     -1           2         1  \n",
       "8e5115a8-aee4-403a-a33a-81a9dc677d0c           2      2           2         1  \n",
       "4221f534-a566-4fe1-af3b-2e73067a521c           1      1           1         1  \n",
       "73154f98-a5ae-4b38-9202-e688a0a86e28          -1     -1          -1         1  \n",
       "282ef334-b2de-4873-b8c0-e6e94b9777e2           0      0           0         1  \n",
       "dc9db4df-d42a-42cd-879a-e678a69ed5c7          -1     -1          -1         1  \n",
       "d37720ea-fab8-4302-8674-808017d7bf1e          -2     -2          -1         1  \n",
       "fb63a3e6-6944-4b0c-8cd1-64513f81f0ea           0      0           0         1  "
      ]
     },
     "execution_count": 60,
     "metadata": {},
     "output_type": "execute_result"
    }
   ],
   "source": [
    "results_all = results_all.loc[results_all['end_diff'] != 0] \n",
    "\n",
    "replace_e = {'Much More PEM': 2, 'More PEM': 1, 'Equal': 0, 'More ExpLOD': -1, 'Much More ExpLOD': -2}\n",
    "replace_p = {'Much More PEM': -2, 'More PEM': -1, 'Equal': 0, 'More ExpLOD': 1, 'Much More ExpLOD': 2}\n",
    "replace_eq = {'Much More PEM': 0, 'More PEM': 0, 'Equal': 0, 'More ExpLOD': 0, 'Much More ExpLOD': 0}\n",
    "\n",
    "def replace_values(row, col):\n",
    "    if row['end_diff'] > 0:\n",
    "        return replace_e.get(row[col], row[col])  \n",
    "    elif row['end_diff'] < 0:\n",
    "        return replace_p.get(row[col], row[col])  \n",
    "    else:\n",
    "        return replace_eq.get(row[col], row[col])  \n",
    "\n",
    "# Apply the function to all columns except 'end_diff'\n",
    "for col in results_all.columns:\n",
    "    if col != 'end_diff':  # Avoid modifying 'end_diff' itself\n",
    "        results_all[col] = results_all.apply(lambda row: replace_values(row, col), axis=1)\n",
    "results_all"
   ]
  },
  {
   "cell_type": "code",
   "execution_count": 61,
   "id": "d2572247",
   "metadata": {},
   "outputs": [
    {
     "data": {
      "text/plain": [
       "<Axes: >"
      ]
     },
     "execution_count": 61,
     "metadata": {},
     "output_type": "execute_result"
    },
    {
     "data": {
      "image/png": "[encoded data removed]",
      "text/plain": [
       "<Figure size 640x480 with 2 Axes>"
      ]
     },
     "metadata": {},
     "output_type": "display_data"
    }
   ],
   "source": [
    "import seaborn as sns\n",
    "sns.heatmap(results_all.corr(), annot=True, cmap='coolwarm', fmt=\".2f\", linewidths=0.5) "
   ]
  },
  {
   "cell_type": "code",
   "execution_count": null,
   "id": "8ddc033a",
   "metadata": {},
   "outputs": [],
   "source": []
  }
 ],
 "metadata": {
  "kernelspec": {
   "display_name": "recsys",
   "language": "python",
   "name": "python3"
  },
  "language_info": {
   "codemirror_mode": {
    "name": "ipython",
    "version": 3
   },
   "file_extension": ".py",
   "mimetype": "text/x-python",
   "name": "python",
   "nbconvert_exporter": "python",
   "pygments_lexer": "ipython3",
   "version": "3.12.3"
  }
 },
 "nbformat": 4,
 "nbformat_minor": 5
}
